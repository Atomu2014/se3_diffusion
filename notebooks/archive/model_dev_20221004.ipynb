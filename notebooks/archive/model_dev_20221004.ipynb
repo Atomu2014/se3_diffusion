{
 "cells": [
  {
   "cell_type": "code",
   "execution_count": 2,
   "metadata": {
    "tags": []
   },
   "outputs": [
    {
     "name": "stderr",
     "output_type": "stream",
     "text": [
      "INFO: Using numpy backend\n",
      "INFO: Note: detected 80 virtual cores but NumExpr set to maximum of 64, check \"NUMEXPR_MAX_THREADS\" environment variable.\n",
      "INFO: Note: NumExpr detected 80 cores but \"NUMEXPR_MAX_THREADS\" not set, so enforcing safe limit of 8.\n",
      "INFO: NumExpr defaulting to 8 threads.\n",
      "WARNING: Warning: importing 'simtk.openmm' is deprecated.  Import 'openmm' instead.\n"
     ]
    }
   ],
   "source": [
    "import torch\n",
    "import os\n",
    "import numpy as np\n",
    "import matplotlib.pyplot as plt\n",
    "import copy\n",
    "import GPUtil\n",
    "from collections import defaultdict\n",
    "from analysis import utils as au\n",
    "from analysis import plotting\n",
    "from data import utils as du\n",
    "from data import se3_diffuser\n",
    "from data import r3_diffuser\n",
    "from data import so3_diffuser\n",
    "from model import loss\n",
    "from model import reverse_se3_diffusion\n",
    "import seaborn as sns\n",
    "import omegafold as of\n",
    "import random\n",
    "\n",
    "import tree\n",
    "import sympy as sym\n",
    "from data import rosetta_data_loader\n",
    "from data import digs_data_loader\n",
    "from experiments import train_se3_diffusion\n",
    "from experiments import inference_se3_diffusion\n",
    "from openfold.utils import rigid_utils as ru\n",
    "from data import all_atom\n",
    "from scipy.spatial.transform import Rotation\n",
    "from model import basis_utils\n",
    "from scipy.special import gamma\n",
    "import pandas as pd\n",
    "\n",
    "from omegaconf import OmegaConf\n",
    "import importlib\n",
    "\n",
    "Rigid = ru.Rigid\n",
    "Rotation = ru.Rotation\n",
    "\n",
    "# Enable logging\n",
    "import logging\n",
    "import sys\n",
    "date_strftime_format = \"%Y-%m-%y %H:%M:%S\"\n",
    "logging.basicConfig(stream=sys.stdout, level=logging.INFO, format=\"%(asctime)s %(message)s\", datefmt=date_strftime_format)"
   ]
  },
  {
   "cell_type": "code",
   "execution_count": 3,
   "metadata": {},
   "outputs": [],
   "source": [
    "from scipy.spatial.transform import Rotation"
   ]
  },
  {
   "cell_type": "code",
   "execution_count": 4,
   "metadata": {},
   "outputs": [
    {
     "data": {
      "text/plain": [
       "<module 'experiments.train_se3_diffusion' from '/data/rsg/chemistry/jyim/projects/protein_diffusion/experiments/train_se3_diffusion.py'>"
      ]
     },
     "execution_count": 4,
     "metadata": {},
     "output_type": "execute_result"
    }
   ],
   "source": [
    "# Reloads any code changes to \n",
    "importlib.reload(rosetta_data_loader)\n",
    "importlib.reload(digs_data_loader)\n",
    "importlib.reload(se3_diffuser)\n",
    "importlib.reload(so3_diffuser)\n",
    "importlib.reload(r3_diffuser)\n",
    "importlib.reload(du)\n",
    "importlib.reload(reverse_se3_diffusion)\n",
    "importlib.reload(train_se3_diffusion)"
   ]
  },
  {
   "cell_type": "code",
   "execution_count": 5,
   "metadata": {},
   "outputs": [],
   "source": [
    "# Load config.\n",
    "conf = OmegaConf.load('../config/base.yaml')\n",
    "\n",
    "# Redirect cache from notebook directory.\n",
    "exp_conf = conf.experiment\n",
    "exp_conf.data_location = 'rosetta'\n",
    "exp_conf.ckpt_dir = None\n",
    "exp_conf.num_loader_workers = 0\n",
    "exp_conf.dist_mode = 'single'\n",
    "exp_conf.use_wandb = False\n",
    "\n",
    "# Data settings\n",
    "data_conf = conf.data\n",
    "data_conf.rosetta.filtering.subset = 1\n",
    "data_conf.rosetta.filtering.max_len = 80\n",
    "\n",
    "# Diffusion settings\n",
    "diff_conf = conf.diffuser\n",
    "diff_conf.diffuse_trans = True  # whether to diffuse translations\n",
    "diff_conf.diffuse_rot = True  # whether to diffuse rotations\n",
    "# Noise schedules\n",
    "diff_conf.rot_schedule = 'linear'\n",
    "diff_conf.trans_schedule = 'exponential'\n",
    "\n",
    "diff_conf.trans_align_t = True\n",
    "\n",
    "# print(OmegaConf.to_yaml(conf))"
   ]
  },
  {
   "cell_type": "markdown",
   "metadata": {
    "tags": []
   },
   "source": [
    "### Load data"
   ]
  },
  {
   "cell_type": "code",
   "execution_count": 6,
   "metadata": {},
   "outputs": [
    {
     "name": "stderr",
     "output_type": "stream",
     "text": [
      "INFO: Number of model parameters 14353879\n",
      "INFO: Using cached IGSO3.\n",
      "INFO: Checkpoint not being saved.\n",
      "INFO: Evaluation saved to: ./results/baseline/04D_10M_2022Y_10h_51m_32s\n",
      "INFO: Training: 1 examples\n",
      "INFO: Validation: 4 examples with lengths [64 64 64 64 64 64 64 64 64 64]\n"
     ]
    }
   ],
   "source": [
    "# Figure out data loading for PDB on rosetta\n",
    "exp = train_se3_diffusion.Experiment(conf=conf)\n",
    "train_loader, valid_loader = exp.create_rosetta_dataset(0, 1)\n",
    "device = 'cuda' if torch.cuda.is_available() else 'cpu'\n",
    "exp._model = exp._model.to(device)"
   ]
  },
  {
   "cell_type": "code",
   "execution_count": 7,
   "metadata": {},
   "outputs": [],
   "source": [
    "train_iter = iter(train_loader)\n",
    "next_item = next(train_iter)\n",
    "# next_item = tree.map_structure(lambda x: x[0], next_item)"
   ]
  },
  {
   "cell_type": "code",
   "execution_count": null,
   "metadata": {},
   "outputs": [],
   "source": []
  },
  {
   "cell_type": "markdown",
   "metadata": {
    "jp-MarkdownHeadingCollapsed": true,
    "tags": []
   },
   "source": [
    "## Cath"
   ]
  },
  {
   "cell_type": "code",
   "execution_count": 8,
   "metadata": {},
   "outputs": [],
   "source": [
    "cath_csv = '/data/rsg/chemistry/jyim/large_data/cath/metadata.csv'"
   ]
  },
  {
   "cell_type": "code",
   "execution_count": 9,
   "metadata": {},
   "outputs": [],
   "source": [
    "csv_df = pd.read_csv(cath_csv)"
   ]
  },
  {
   "cell_type": "code",
   "execution_count": 11,
   "metadata": {},
   "outputs": [
    {
     "data": {
      "text/html": [
       "<div>\n",
       "<style scoped>\n",
       "    .dataframe tbody tr th:only-of-type {\n",
       "        vertical-align: middle;\n",
       "    }\n",
       "\n",
       "    .dataframe tbody tr th {\n",
       "        vertical-align: top;\n",
       "    }\n",
       "\n",
       "    .dataframe thead th {\n",
       "        text-align: right;\n",
       "    }\n",
       "</style>\n",
       "<table border=\"1\" class=\"dataframe\">\n",
       "  <thead>\n",
       "    <tr style=\"text-align: right;\">\n",
       "      <th></th>\n",
       "      <th>chain_name</th>\n",
       "      <th>cath_code</th>\n",
       "      <th>cath_split</th>\n",
       "      <th>processed_path</th>\n",
       "      <th>raw_path</th>\n",
       "      <th>oligomeric_count</th>\n",
       "      <th>oligomeric_detail</th>\n",
       "      <th>resolution</th>\n",
       "      <th>structure_method</th>\n",
       "      <th>num_chains</th>\n",
       "      <th>seq_len</th>\n",
       "      <th>modeled_seq_len</th>\n",
       "      <th>coil_percent</th>\n",
       "      <th>helix_percent</th>\n",
       "      <th>strand_percent</th>\n",
       "      <th>radius_gyration</th>\n",
       "    </tr>\n",
       "  </thead>\n",
       "  <tbody>\n",
       "    <tr>\n",
       "      <th>0</th>\n",
       "      <td>3fkf.A</td>\n",
       "      <td>['3.40.30']</td>\n",
       "      <td>test</td>\n",
       "      <td>/data/rsg/chemistry/jyim/large_data/cath/fk/3f...</td>\n",
       "      <td>/data/rsg/chemistry/jyim/large_data/pdb/30_08_...</td>\n",
       "      <td>4</td>\n",
       "      <td>tetrameric</td>\n",
       "      <td>2.20</td>\n",
       "      <td>x-ray diffraction</td>\n",
       "      <td>4</td>\n",
       "      <td>220</td>\n",
       "      <td>141</td>\n",
       "      <td>0.446809</td>\n",
       "      <td>0.319149</td>\n",
       "      <td>0.234043</td>\n",
       "      <td>[1.41676082]</td>\n",
       "    </tr>\n",
       "    <tr>\n",
       "      <th>1</th>\n",
       "      <td>2d9e.A</td>\n",
       "      <td>['1.20.920']</td>\n",
       "      <td>test</td>\n",
       "      <td>/data/rsg/chemistry/jyim/large_data/cath/d9/2d...</td>\n",
       "      <td>/data/rsg/chemistry/jyim/large_data/pdb/30_08_...</td>\n",
       "      <td>NaN</td>\n",
       "      <td>NaN</td>\n",
       "      <td>0.00</td>\n",
       "      <td>solution nmr</td>\n",
       "      <td>1</td>\n",
       "      <td>121</td>\n",
       "      <td>121</td>\n",
       "      <td>0.380165</td>\n",
       "      <td>0.603306</td>\n",
       "      <td>0.016529</td>\n",
       "      <td>[1.53328454]</td>\n",
       "    </tr>\n",
       "    <tr>\n",
       "      <th>2</th>\n",
       "      <td>2lkl.A</td>\n",
       "      <td>['1.10.1900']</td>\n",
       "      <td>test</td>\n",
       "      <td>/data/rsg/chemistry/jyim/large_data/cath/lk/2l...</td>\n",
       "      <td>/data/rsg/chemistry/jyim/large_data/pdb/30_08_...</td>\n",
       "      <td>1</td>\n",
       "      <td>monomeric</td>\n",
       "      <td>0.00</td>\n",
       "      <td>solution nmr</td>\n",
       "      <td>1</td>\n",
       "      <td>81</td>\n",
       "      <td>81</td>\n",
       "      <td>0.345679</td>\n",
       "      <td>0.654321</td>\n",
       "      <td>0.000000</td>\n",
       "      <td>[1.33674072]</td>\n",
       "    </tr>\n",
       "    <tr>\n",
       "      <th>3</th>\n",
       "      <td>1ud9.A</td>\n",
       "      <td>['3.70.10']</td>\n",
       "      <td>test</td>\n",
       "      <td>/data/rsg/chemistry/jyim/large_data/cath/ud/1u...</td>\n",
       "      <td>/data/rsg/chemistry/jyim/large_data/pdb/30_08_...</td>\n",
       "      <td>1,1,1,1,3</td>\n",
       "      <td>monomeric,monomeric,monomeric,monomeric,trimeric</td>\n",
       "      <td>1.68</td>\n",
       "      <td>x-ray diffraction</td>\n",
       "      <td>4</td>\n",
       "      <td>333</td>\n",
       "      <td>242</td>\n",
       "      <td>0.322314</td>\n",
       "      <td>0.235537</td>\n",
       "      <td>0.442149</td>\n",
       "      <td>[1.91501391]</td>\n",
       "    </tr>\n",
       "    <tr>\n",
       "      <th>4</th>\n",
       "      <td>2rem.B</td>\n",
       "      <td>['3.40.30']</td>\n",
       "      <td>test</td>\n",
       "      <td>/data/rsg/chemistry/jyim/large_data/cath/re/2r...</td>\n",
       "      <td>/data/rsg/chemistry/jyim/large_data/pdb/30_08_...</td>\n",
       "      <td>1,1,2</td>\n",
       "      <td>monomeric,monomeric,dimeric</td>\n",
       "      <td>1.90</td>\n",
       "      <td>x-ray diffraction</td>\n",
       "      <td>4</td>\n",
       "      <td>317</td>\n",
       "      <td>187</td>\n",
       "      <td>0.363636</td>\n",
       "      <td>0.502674</td>\n",
       "      <td>0.133690</td>\n",
       "      <td>[1.64780367]</td>\n",
       "    </tr>\n",
       "  </tbody>\n",
       "</table>\n",
       "</div>"
      ],
      "text/plain": [
       "  chain_name      cath_code cath_split  \\\n",
       "0     3fkf.A    ['3.40.30']       test   \n",
       "1     2d9e.A   ['1.20.920']       test   \n",
       "2     2lkl.A  ['1.10.1900']       test   \n",
       "3     1ud9.A    ['3.70.10']       test   \n",
       "4     2rem.B    ['3.40.30']       test   \n",
       "\n",
       "                                      processed_path  \\\n",
       "0  /data/rsg/chemistry/jyim/large_data/cath/fk/3f...   \n",
       "1  /data/rsg/chemistry/jyim/large_data/cath/d9/2d...   \n",
       "2  /data/rsg/chemistry/jyim/large_data/cath/lk/2l...   \n",
       "3  /data/rsg/chemistry/jyim/large_data/cath/ud/1u...   \n",
       "4  /data/rsg/chemistry/jyim/large_data/cath/re/2r...   \n",
       "\n",
       "                                            raw_path oligomeric_count  \\\n",
       "0  /data/rsg/chemistry/jyim/large_data/pdb/30_08_...                4   \n",
       "1  /data/rsg/chemistry/jyim/large_data/pdb/30_08_...              NaN   \n",
       "2  /data/rsg/chemistry/jyim/large_data/pdb/30_08_...                1   \n",
       "3  /data/rsg/chemistry/jyim/large_data/pdb/30_08_...        1,1,1,1,3   \n",
       "4  /data/rsg/chemistry/jyim/large_data/pdb/30_08_...            1,1,2   \n",
       "\n",
       "                                  oligomeric_detail  resolution  \\\n",
       "0                                        tetrameric        2.20   \n",
       "1                                               NaN        0.00   \n",
       "2                                         monomeric        0.00   \n",
       "3  monomeric,monomeric,monomeric,monomeric,trimeric        1.68   \n",
       "4                       monomeric,monomeric,dimeric        1.90   \n",
       "\n",
       "    structure_method  num_chains  seq_len  modeled_seq_len  coil_percent  \\\n",
       "0  x-ray diffraction           4      220              141      0.446809   \n",
       "1       solution nmr           1      121              121      0.380165   \n",
       "2       solution nmr           1       81               81      0.345679   \n",
       "3  x-ray diffraction           4      333              242      0.322314   \n",
       "4  x-ray diffraction           4      317              187      0.363636   \n",
       "\n",
       "   helix_percent  strand_percent radius_gyration  \n",
       "0       0.319149        0.234043    [1.41676082]  \n",
       "1       0.603306        0.016529    [1.53328454]  \n",
       "2       0.654321        0.000000    [1.33674072]  \n",
       "3       0.235537        0.442149    [1.91501391]  \n",
       "4       0.502674        0.133690    [1.64780367]  "
      ]
     },
     "execution_count": 11,
     "metadata": {},
     "output_type": "execute_result"
    }
   ],
   "source": [
    "csv_df.head()"
   ]
  },
  {
   "cell_type": "code",
   "execution_count": null,
   "metadata": {},
   "outputs": [],
   "source": [
    "monomer_df = csv_df[csv_df['oligomeric_detail'].map(lambda x: True if 'monomeric' in x else False)]"
   ]
  },
  {
   "cell_type": "code",
   "execution_count": null,
   "metadata": {},
   "outputs": [],
   "source": [
    "monomer_df.shape"
   ]
  },
  {
   "cell_type": "code",
   "execution_count": null,
   "metadata": {},
   "outputs": [],
   "source": []
  },
  {
   "cell_type": "markdown",
   "metadata": {
    "jp-MarkdownHeadingCollapsed": true,
    "tags": []
   },
   "source": [
    "## Omegafold"
   ]
  },
  {
   "cell_type": "code",
   "execution_count": 8,
   "metadata": {},
   "outputs": [],
   "source": [
    "aatype = next_item['aatype']\n",
    "res_mask = next_item['res_mask'].long()\n",
    "seq = du.aatype_to_seq(du.move_to_np(aatype[0][torch.where(res_mask[0])]))"
   ]
  },
  {
   "cell_type": "code",
   "execution_count": 9,
   "metadata": {},
   "outputs": [],
   "source": [
    "fasta_seqs = {\n",
    "    'test': seq\n",
    "}"
   ]
  },
  {
   "cell_type": "code",
   "execution_count": 10,
   "metadata": {},
   "outputs": [],
   "source": [
    "with open('test.fasta', 'w') as f:\n",
    "    for k,v in fasta_seqs.items():\n",
    "        f.write(f'> {k}\\n{v}')"
   ]
  },
  {
   "cell_type": "code",
   "execution_count": null,
   "metadata": {},
   "outputs": [],
   "source": []
  },
  {
   "cell_type": "markdown",
   "metadata": {},
   "source": [
    "## Spatial cropping"
   ]
  },
  {
   "cell_type": "code",
   "execution_count": 8,
   "metadata": {},
   "outputs": [],
   "source": [
    "bb_pos = next_item['atom37_pos'][0, :60, 1]"
   ]
  },
  {
   "cell_type": "code",
   "execution_count": 9,
   "metadata": {},
   "outputs": [],
   "source": [
    "dist2d = torch.linalg.norm(bb_pos[:, None, :] - bb_pos[None, :, :], dim=-1)"
   ]
  },
  {
   "cell_type": "code",
   "execution_count": 11,
   "metadata": {},
   "outputs": [],
   "source": [
    "# Randomly select residue then sample a distance cutoff\n",
    "crop_seed = random.randrange(dist2d.shape[0])\n",
    "seed_dists = dist2d[crop_seed]\n",
    "max_dist = torch.max(seed_dists)\n",
    "min_dist = torch.min(seed_dists)\n",
    "dist_cutoff = (max_dist - min_dist)*random.uniform(0.05, 0.95)"
   ]
  },
  {
   "cell_type": "code",
   "execution_count": 13,
   "metadata": {},
   "outputs": [],
   "source": [
    "condition_mask = seed_dists <= dist_cutoff"
   ]
  },
  {
   "cell_type": "code",
   "execution_count": 18,
   "metadata": {},
   "outputs": [
    {
     "data": {
      "text/plain": [
       "tensor([False, False, False, False,  True, False, False, False, False, False,\n",
       "        False, False,  True,  True,  True,  True,  True,  True,  True, False,\n",
       "        False,  True, False, False, False, False, False, False, False, False,\n",
       "        False, False, False, False,  True,  True,  True,  True,  True,  True,\n",
       "         True,  True,  True,  True,  True,  True,  True, False, False, False,\n",
       "        False, False, False, False, False, False, False, False, False, False])"
      ]
     },
     "execution_count": 18,
     "metadata": {},
     "output_type": "execute_result"
    }
   ],
   "source": [
    "condition_mask"
   ]
  },
  {
   "cell_type": "code",
   "execution_count": 17,
   "metadata": {},
   "outputs": [
    {
     "data": {
      "text/plain": [
       "tensor(True)"
      ]
     },
     "execution_count": 17,
     "metadata": {},
     "output_type": "execute_result"
    }
   ],
   "source": [
    "condition_mask[43]"
   ]
  },
  {
   "cell_type": "code",
   "execution_count": null,
   "metadata": {},
   "outputs": [],
   "source": []
  },
  {
   "cell_type": "code",
   "execution_count": null,
   "metadata": {},
   "outputs": [],
   "source": []
  },
  {
   "cell_type": "code",
   "execution_count": null,
   "metadata": {},
   "outputs": [],
   "source": []
  },
  {
   "cell_type": "code",
   "execution_count": null,
   "metadata": {},
   "outputs": [],
   "source": [
    "args, state_dict, forward_config = pipeline.get_args()\n",
    "# create the output directory\n",
    "os.makedirs(args.output_dir, exist_ok=True)\n",
    "# get the model\n",
    "logging.info(f\"Constructing OmegaFold\")\n",
    "model = of.OmegaFold(of.make_config())\n",
    "if state_dict is None:\n",
    "    logging.warning(\"Inferencing without loading weight\")\n",
    "else:\n",
    "    if \"model\" in state_dict:\n",
    "        state_dict = state_dict.pop(\"model\")\n",
    "    model.load_state_dict(state_dict)\n",
    "model.eval()\n",
    "model.to(args.device)"
   ]
  },
  {
   "cell_type": "code",
   "execution_count": null,
   "metadata": {},
   "outputs": [],
   "source": []
  },
  {
   "cell_type": "code",
   "execution_count": null,
   "metadata": {},
   "outputs": [],
   "source": []
  },
  {
   "cell_type": "code",
   "execution_count": null,
   "metadata": {},
   "outputs": [],
   "source": [
    "unpad_gt_ca_pos = gt_atom37_pos[..., CA_IDX, :][bb_mask]\n",
    "seq = du.aatype_to_seq(gt_aatype)\n",
    "_, tm_score = calc_tm_score(ca_pos, unpad_gt_ca_pos, seq, seq)"
   ]
  },
  {
   "cell_type": "code",
   "execution_count": null,
   "metadata": {},
   "outputs": [],
   "source": []
  },
  {
   "cell_type": "code",
   "execution_count": null,
   "metadata": {},
   "outputs": [],
   "source": []
  }
 ],
 "metadata": {
  "kernelspec": {
   "display_name": "Python 3 (ipykernel)",
   "language": "python",
   "name": "python3"
  },
  "language_info": {
   "codemirror_mode": {
    "name": "ipython",
    "version": 3
   },
   "file_extension": ".py",
   "mimetype": "text/x-python",
   "name": "python",
   "nbconvert_exporter": "python",
   "pygments_lexer": "ipython3",
   "version": "3.8.12"
  }
 },
 "nbformat": 4,
 "nbformat_minor": 4
}
