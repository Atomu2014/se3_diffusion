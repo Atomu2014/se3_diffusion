{
 "cells": [
  {
   "cell_type": "code",
   "execution_count": 4,
   "metadata": {},
   "outputs": [],
   "source": [
    "import numpy as np\n",
    "import math\n",
    "import torch\n",
    "from scipy.special import logit\n",
    "from scipy.special import expit as logistic\n",
    "from scipy.stats import multivariate_normal\n",
    "from matplotlib.animation import FuncAnimation\n",
    "from matplotlib import animation\n",
    "import ternary"
   ]
  },
  {
   "cell_type": "code",
   "execution_count": null,
   "metadata": {},
   "outputs": [],
   "source": [
    "min_b = 0.1\n",
    "max_b = 20.0\n",
    "def b(t):\n",
    "    return t*min_b + (1/2)*(t**2)*(max_b-min_b)\n",
    "\n",
    "t = 0.9\n",
    "x_0 = np.eye(3)[0]\n",
    "mu = np.exp(-1/2*b(t)) * x_0\n",
    "var = 1 - np.exp(-b(t))\n",
    "plot_simplex(mu, var)"
   ]
  },
  {
   "cell_type": "code",
   "execution_count": null,
   "metadata": {},
   "outputs": [],
   "source": [
    "def plot_simplex(mu, var):\n",
    "    mvn = multivariate_normal(mu, var)\n",
    "    def logit_normal_pdf(p):\n",
    "        # Transform into multivariate gaussian\n",
    "        p = np.array(p)\n",
    "        x = logistic(p)\n",
    "        return mvn.pdf(x)\n",
    "    scale = 30\n",
    "    figure, tax = ternary.figure(scale=scale)\n",
    "    tax.heatmapf(logit_normal_pdf, boundary=False, style=\"triangular\")\n",
    "    tax.boundary(linewidth=2.0)\n",
    "    tax.set_title(\"Logits-normal\")\n",
    "    tax.show()"
   ]
  },
  {
   "cell_type": "code",
   "execution_count": null,
   "metadata": {},
   "outputs": [],
   "source": [
    "plot_simplex(1)"
   ]
  },
  {
   "cell_type": "code",
   "execution_count": 68,
   "metadata": {},
   "outputs": [],
   "source": [
    "restypes = [\n",
    "    'A', 'R', 'N', 'D', 'C', 'Q', 'E', 'G', 'H', 'I', 'L', 'K', 'M', 'F', 'P',\n",
    "    'S', 'T', 'W', 'Y', 'V'\n",
    "]"
   ]
  },
  {
   "cell_type": "code",
   "execution_count": 69,
   "metadata": {},
   "outputs": [
    {
     "data": {
      "text/plain": [
       "20"
      ]
     },
     "execution_count": 69,
     "metadata": {},
     "output_type": "execute_result"
    }
   ],
   "source": [
    "len(restypes)"
   ]
  },
  {
   "cell_type": "code",
   "execution_count": 70,
   "metadata": {},
   "outputs": [
    {
     "data": {
      "text/plain": [
       "'V'"
      ]
     },
     "execution_count": 70,
     "metadata": {},
     "output_type": "execute_result"
    }
   ],
   "source": [
    "restypes[19]"
   ]
  },
  {
   "cell_type": "code",
   "execution_count": 7,
   "metadata": {},
   "outputs": [],
   "source": [
    "min_b = 0.1\n",
    "max_b = 15.0\n",
    "def b(t):\n",
    "    return t*min_b + (1/2)*(t**2)*(max_b-min_b)\n",
    "\n",
    "scale = 30\n",
    "fig, tax = ternary.figure(scale=scale)\n",
    "num_t = 100\n",
    "ts = np.linspace(1e-3, 1.0, num_t)\n",
    "\n",
    "def plot_simplex(i):\n",
    "    t = ts[i]\n",
    "    x_0 = np.eye(3)[0]\n",
    "    mu = np.exp(-1/2*b(t)) * x_0\n",
    "    var = 1 - np.exp(-b(t))\n",
    "    mvn = multivariate_normal(mu, var)\n",
    "    def logit_normal_pdf(p):\n",
    "        # Transform into multivariate gaussian\n",
    "        p = np.array(p)\n",
    "        x = logistic(p)\n",
    "        return mvn.pdf(x)\n",
    "    tax.heatmapf(\n",
    "        logit_normal_pdf,\n",
    "        boundary=True,\n",
    "        style=\"triangular\",\n",
    "        colorbar=False)\n",
    "    tax.boundary(linewidth=2.0)\n",
    "    tax.set_title(f'Simplex diffusion t={t:.4f}')\n",
    "\n",
    "def update(frame):\n",
    "    tax.close()\n",
    "    _ =  plot_simplex(frame)\n",
    "\n",
    "plot_simplex(0)\n",
    "anim = FuncAnimation(\n",
    "    fig,\n",
    "    update,\n",
    "    frames=list(range(1, num_t)),\n",
    "    interval=10,\n",
    "    blit=False)\n",
    "writergif = animation.PillowWriter(fps=30)\n",
    "save_path = f'simplex_diffusion_linear_minb_{min_b}_maxb_{max_b}.gif'\n",
    "anim.save(save_path, writer=writergif)"
   ]
  },
  {
   "cell_type": "code",
   "execution_count": null,
   "metadata": {},
   "outputs": [],
   "source": []
  },
  {
   "cell_type": "code",
   "execution_count": null,
   "metadata": {},
   "outputs": [],
   "source": []
  },
  {
   "cell_type": "markdown",
   "metadata": {},
   "source": [
    "### Simplex diffuser class"
   ]
  },
  {
   "cell_type": "code",
   "execution_count": 56,
   "metadata": {},
   "outputs": [],
   "source": [
    "x_0 = np.eye(20)[0]\n",
    "# x_0 = np.zeros_like(x_0)"
   ]
  },
  {
   "cell_type": "code",
   "execution_count": 59,
   "metadata": {},
   "outputs": [
    {
     "data": {
      "text/plain": [
       "array([1., 0., 0., 0., 0., 0., 0., 0., 0., 0., 0., 0., 0., 0., 0., 0., 0.,\n",
       "       0., 0., 0.])"
      ]
     },
     "execution_count": 59,
     "metadata": {},
     "output_type": "execute_result"
    }
   ],
   "source": [
    "x_0"
   ]
  },
  {
   "cell_type": "code",
   "execution_count": 65,
   "metadata": {},
   "outputs": [
    {
     "data": {
      "text/plain": [
       "array([0.02066836, 0.01662281, 0.01078764, 0.05670665, 0.14920168,\n",
       "       0.01738793, 0.07572645, 0.05901159, 0.01951077, 0.08604732,\n",
       "       0.01008881, 0.04045653, 0.02898527, 0.01607936, 0.18563185,\n",
       "       0.04814904, 0.06741189, 0.02365585, 0.01553152, 0.02339176,\n",
       "       0.02894691])"
      ]
     },
     "execution_count": 65,
     "metadata": {},
     "output_type": "execute_result"
    }
   ],
   "source": [
    "min_b = 0.1\n",
    "max_b = 20.0\n",
    "def b(t):\n",
    "    return t*min_b + (1/2)*(t**2)*(max_b-min_b)\n",
    "\n",
    "t = 1.0\n",
    "x_t = np.random.normal(\n",
    "    loc=np.exp(-1/2*b(t)) * x_0,\n",
    "    scale=np.sqrt(1 - np.exp(-b(t)))\n",
    ")\n",
    "exp_x_t = np.concatenate([np.exp(x_t), np.array([1.0])]) / (1 + np.sum(np.exp(x_t)))\n",
    "exp_x_t"
   ]
  },
  {
   "cell_type": "code",
   "execution_count": 66,
   "metadata": {},
   "outputs": [],
   "source": [
    "exp_x_t = np.concatenate([np.exp(x_t), np.array([1.0])]) / (1 + np.sum(np.exp(x_t)))"
   ]
  },
  {
   "cell_type": "code",
   "execution_count": 22,
   "metadata": {},
   "outputs": [
    {
     "data": {
      "text/plain": [
       "array([0.50675705, 0.18315034, 0.14362313, 0.16646947])"
      ]
     },
     "execution_count": 22,
     "metadata": {},
     "output_type": "execute_result"
    }
   ],
   "source": [
    "exp_x_t"
   ]
  },
  {
   "cell_type": "code",
   "execution_count": 54,
   "metadata": {},
   "outputs": [
    {
     "data": {
      "text/plain": [
       "(3, 21)"
      ]
     },
     "execution_count": 54,
     "metadata": {},
     "output_type": "execute_result"
    }
   ],
   "source": [
    "np.eye(21)[np.array([1, 4, 2])].shape"
   ]
  },
  {
   "cell_type": "code",
   "execution_count": null,
   "metadata": {},
   "outputs": [],
   "source": []
  }
 ],
 "metadata": {
  "kernelspec": {
   "display_name": "Python 3 (ipykernel)",
   "language": "python",
   "name": "python3"
  },
  "language_info": {
   "codemirror_mode": {
    "name": "ipython",
    "version": 3
   },
   "file_extension": ".py",
   "mimetype": "text/x-python",
   "name": "python",
   "nbconvert_exporter": "python",
   "pygments_lexer": "ipython3",
   "version": "3.8.12"
  }
 },
 "nbformat": 4,
 "nbformat_minor": 4
}
