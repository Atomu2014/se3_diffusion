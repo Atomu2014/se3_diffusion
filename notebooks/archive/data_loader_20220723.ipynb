{
 "cells": [
  {
   "cell_type": "code",
   "execution_count": 1,
   "metadata": {},
   "outputs": [],
   "source": [
    "from data import data_loader\n",
    "from data import utils as du\n",
    "from data import se3_diffuser\n",
    "from data import so3_diffuser\n",
    "from experiments import train_se3_diffusion\n",
    "\n",
    "from omegaconf import OmegaConf\n",
    "import importlib\n",
    "\n",
    "# Enable logging\n",
    "import logging\n",
    "import sys\n",
    "date_strftime_format = \"%Y-%m-%y %H:%M:%S\"\n",
    "logging.basicConfig(stream=sys.stdout, level=logging.INFO, format=\"%(asctime)s %(message)s\", datefmt=date_strftime_format)"
   ]
  },
  {
   "cell_type": "code",
   "execution_count": 2,
   "metadata": {},
   "outputs": [
    {
     "data": {
      "text/plain": [
       "<module 'experiments.train_se3_diffusion' from '/home/jyim/Projects/BFF/protein_diffusion/experiments/train_se3_diffusion.py'>"
      ]
     },
     "execution_count": 2,
     "metadata": {},
     "output_type": "execute_result"
    }
   ],
   "source": [
    "importlib.reload(data_loader)\n",
    "importlib.reload(se3_diffuser)\n",
    "importlib.reload(so3_diffuser)\n",
    "importlib.reload(du)\n",
    "importlib.reload(train_se3_diffusion)"
   ]
  },
  {
   "cell_type": "code",
   "execution_count": 3,
   "metadata": {},
   "outputs": [
    {
     "name": "stdout",
     "output_type": "stream",
     "text": [
      "data:\n",
      "  server_dir: /projects/ml/TrRosetta\n",
      "  base_pdb_dir: ${data.server_dir}/PDB-2021AUG02\n",
      "  base_fb_dir: ${data.server_dir}/fb_af\n",
      "  pdb_csv: ${data.base_pdb_dir}/list_v02.csv\n",
      "  pdb_dir: ${data.base_pdb_dir}/torch/pdb\n",
      "  fb_dir: ${data.base_fb_dir}/pdb\n",
      "  fb_msa_dir: ${data.base_fb_dir}/a3m\n",
      "  valid_clusters: ${data.base_pdb_dir}/val/xaa\n",
      "  fb_csv: ${data.base_fb_dir}/list_b1-3.csv\n",
      "  resolution_cutoff: 5.0\n",
      "  max_len: 100\n",
      "  min_len: 60\n",
      "  date_cutoff: 2020-Apr-30\n",
      "  min_plddt: 80.0\n",
      "  min_fb_len: 100\n",
      "  cache_path: ../pkl_jar/debug_dataset.pkl\n",
      "  subset: 1000\n",
      "  epoch_size: 50\n",
      "  fraction_fb: 0.5\n",
      "diffuser:\n",
      "  num_t: 500\n",
      "  rot_min_sigma: 0.1\n",
      "  rot_max_sigma: 1.5\n",
      "  trans_min_sigma: 0.1\n",
      "  trans_max_sigma: 0.1\n",
      "  trans_b_0: 0.0001\n",
      "  trans_b_T: 0.02\n",
      "  diffuse_trans: true\n",
      "  diffuse_rots: true\n",
      "  trans_sde: vp\n",
      "  igso3_cache_dir: ../pkl_jar/\n",
      "model:\n",
      "  index_embed_size: 64\n",
      "  node_embed_size: 256\n",
      "  edge_embed_size: 128\n",
      "  num_blocks: 3\n",
      "  use_res_idx_encoding: true\n",
      "  use_rel_idx_encoding: true\n",
      "  dropout: 0.0\n",
      "  ipa:\n",
      "    embed_size: 128\n",
      "    num_heads: 4\n",
      "    qk_points: 4\n",
      "    v_points: 8\n",
      "experiment:\n",
      "  name: baseline\n",
      "  wandb_dir: ./wandb\n",
      "  log_freq: 10\n",
      "  batch_size: 2\n",
      "  num_loader_workers: 4\n",
      "  num_epoch: 200\n",
      "  learning_rate: 0.0001\n",
      "  ckpt_dir: ../pkl_jar/ckpt/\n",
      "\n"
     ]
    }
   ],
   "source": [
    "# Load config.\n",
    "conf = OmegaConf.load('../config/default.yaml')\n",
    "debug_conf = OmegaConf.load('../config/debug.yaml')\n",
    "conf = OmegaConf.merge(conf, debug_conf)\n",
    "\n",
    "# Redirect cache from notebook directory.\n",
    "data_conf = conf.data\n",
    "data_conf.cache_path = '../pkl_jar/debug_dataset.pkl'\n",
    "\n",
    "diff_conf = conf.diffuser\n",
    "diff_conf.igso3_cache_dir = '../pkl_jar/'\n",
    "\n",
    "exp_conf = conf.experiment\n",
    "exp_conf.ckpt_dir = '../pkl_jar/ckpt/'\n",
    "\n",
    "print(OmegaConf.to_yaml(conf))"
   ]
  },
  {
   "cell_type": "code",
   "execution_count": null,
   "metadata": {},
   "outputs": [
    {
     "name": "stdout",
     "output_type": "stream",
     "text": [
      "Number of model parameters 3488030\n",
      "Using cached IGSO3.\n",
      "Using R^3 VP-SDE\n",
      "2022-07-22 00:53:54 Training single process.\n",
      "2022-07-22 00:53:55 Loaded data at ../pkl_jar/debug_dataset.pkl\n",
      "2022-07-22 00:53:55 Loaded data at ../pkl_jar/debug_dataset.pkl\n",
      "2022-07-22 00:53:57 [1]: loss=6.15518, steps/sec=5.04393\n",
      "2022-07-22 00:54:16 [10]: loss=6.16431, steps/sec=0.52130\n"
     ]
    }
   ],
   "source": [
    "exp = train_se3_diffusion.Experiment(\n",
    "    conf=conf,\n",
    "    dist_mode='single',\n",
    "    use_wandb=False\n",
    ")\n",
    "exp.start_training()"
   ]
  },
  {
   "cell_type": "code",
   "execution_count": null,
   "metadata": {},
   "outputs": [],
   "source": []
  }
 ],
 "metadata": {
  "kernelspec": {
   "display_name": "Python 3 (ipykernel)",
   "language": "python",
   "name": "python3"
  },
  "language_info": {
   "codemirror_mode": {
    "name": "ipython",
    "version": 3
   },
   "file_extension": ".py",
   "mimetype": "text/x-python",
   "name": "python",
   "nbconvert_exporter": "python",
   "pygments_lexer": "ipython3",
   "version": "3.8.12"
  }
 },
 "nbformat": 4,
 "nbformat_minor": 4
}
