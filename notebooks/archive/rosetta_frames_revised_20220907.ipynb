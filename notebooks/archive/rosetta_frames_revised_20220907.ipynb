{
 "cells": [
  {
   "cell_type": "code",
   "execution_count": 1,
   "metadata": {
    "tags": []
   },
   "outputs": [
    {
     "name": "stderr",
     "output_type": "stream",
     "text": [
      "INFO: Using numpy backend\n"
     ]
    },
    {
     "name": "stdout",
     "output_type": "stream",
     "text": [
      "Using GPU: \n"
     ]
    }
   ],
   "source": [
    "import torch\n",
    "import os\n",
    "import numpy as np\n",
    "import matplotlib.pyplot as plt\n",
    "import copy\n",
    "import GPUtil\n",
    "from collections import defaultdict\n",
    "from analysis import utils as au\n",
    "from analysis import plotting\n",
    "from data import utils as du\n",
    "from data import se3_diffuser\n",
    "from data import r3_diffuser\n",
    "from data import so3_diffuser\n",
    "import seaborn as sns\n",
    "from model import loss\n",
    "import tree\n",
    "from model import reverse_se3_diffusion\n",
    "from data import rosetta_data_loader\n",
    "from data import digs_data_loader\n",
    "from data import all_atom\n",
    "from openfold.data import data_transforms\n",
    "from experiments import train_se3_diffusion\n",
    "from experiments import inference_se3_diffusion\n",
    "from openfold.utils import rigid_utils as ru\n",
    "from scipy.spatial.transform import Rotation\n",
    "from openfold.np import residue_constants\n",
    "\n",
    "from omegaconf import DictConfig, OmegaConf\n",
    "import importlib\n",
    "\n",
    "# Enable logging\n",
    "import logging\n",
    "import sys\n",
    "date_strftime_format = \"%Y-%m-%y %H:%M:%S\"\n",
    "logging.basicConfig(stream=sys.stdout, level=logging.INFO, format=\"%(asctime)s %(message)s\", datefmt=date_strftime_format)\n",
    "\n",
    "# Set environment variables for which GPUs to use.\n",
    "os.environ[\"CUDA_DEVICE_ORDER\"] = \"PCI_BUS_ID\"\n",
    "chosen_gpu = ''.join(\n",
    "    [str(x) for x in GPUtil.getAvailable(order='memory')])\n",
    "os.environ[\"CUDA_VISIBLE_DEVICES\"] = chosen_gpu\n",
    "print(f\"Using GPU: {chosen_gpu}\")"
   ]
  },
  {
   "cell_type": "code",
   "execution_count": 2,
   "metadata": {},
   "outputs": [
    {
     "data": {
      "text/plain": [
       "<module 'experiments.train_se3_diffusion' from '/data/rsg/chemistry/jyim/projects/protein_diffusion/experiments/train_se3_diffusion.py'>"
      ]
     },
     "execution_count": 2,
     "metadata": {},
     "output_type": "execute_result"
    }
   ],
   "source": [
    "importlib.reload(rosetta_data_loader)\n",
    "importlib.reload(digs_data_loader)\n",
    "importlib.reload(se3_diffuser)\n",
    "importlib.reload(so3_diffuser)\n",
    "importlib.reload(r3_diffuser)\n",
    "importlib.reload(du)\n",
    "importlib.reload(au)\n",
    "importlib.reload(loss)\n",
    "importlib.reload(reverse_se3_diffusion)\n",
    "importlib.reload(train_se3_diffusion)"
   ]
  },
  {
   "cell_type": "code",
   "execution_count": 3,
   "metadata": {},
   "outputs": [],
   "source": [
    "# Load config.\n",
    "conf = OmegaConf.load('../config/base.yaml')\n",
    "\n",
    "# Redirect cache from notebook directory.\n",
    "exp_conf = conf.experiment\n",
    "exp_conf.data_location = 'rosetta'\n",
    "exp_conf.ckpt_dir = None\n",
    "exp_conf.num_loader_workers = 1\n",
    "exp_conf.dist_mode = 'single'\n",
    "exp_conf.use_wandb = False\n",
    "exp_conf.normalize_pred_score = True\n",
    "\n",
    "data_conf = conf.data\n",
    "data_conf.digs.filtering.subset = 1\n",
    "data_conf.digs.fraction_fb = 0.0\n",
    "data_conf.digs.crop_len = None\n",
    "data_conf.digs.filtering.subset = 1\n",
    "data_conf.digs.fraction_fb = 0.0\n",
    "data_conf.digs.crop_len = None\n",
    "\n",
    "diff_conf = conf.diffuser\n",
    "diff_conf.diffuse_trans = True\n",
    "diff_conf.diffuse_rot = True\n",
    "\n",
    "diff_conf.rot_schedule = 'linear'\n",
    "diff_conf.trans_schedule = 'exponential'\n",
    "\n",
    "# print(OmegaConf.to_yaml(conf))"
   ]
  },
  {
   "cell_type": "code",
   "execution_count": 4,
   "metadata": {},
   "outputs": [
    {
     "name": "stderr",
     "output_type": "stream",
     "text": [
      "INFO: Number of model parameters 3488030\n",
      "INFO: Using cached IGSO3.\n",
      "INFO: Checkpoint not being saved.\n",
      "INFO: Training: 18769 examples\n",
      "INFO: Validation: 18769 examples\n"
     ]
    }
   ],
   "source": [
    "# Figure out data loading for PDB on rosetta\n",
    "exp = train_se3_diffusion.Experiment(conf=conf)\n",
    "train_loader, valid_loader = exp.create_rosetta_dataset(0, 1)\n",
    "device = 'cuda' if torch.cuda.is_available() else 'cpu'\n",
    "exp._model = exp._model.to(device)"
   ]
  },
  {
   "cell_type": "code",
   "execution_count": 5,
   "metadata": {},
   "outputs": [],
   "source": [
    "train_iter = iter(train_loader)\n",
    "next_item = next(train_iter)"
   ]
  },
  {
   "cell_type": "code",
   "execution_count": 6,
   "metadata": {},
   "outputs": [],
   "source": [
    "# Extract features\n",
    "b_idx = 0\n",
    "batch_item = tree.map_structure(lambda x: x[b_idx], next_item)\n",
    "res_mask = batch_item['res_mask'].bool()\n",
    "\n",
    "gt_rigids = ru.Rigid.from_tensor_7(batch_item['rigids_0'][res_mask])\n",
    "gt_atom_pos37 = batch_item['atom_positions'][res_mask]\n",
    "gt_aatype = batch_item['aatype'][res_mask]\n",
    "gt_atom37_mask = batch_item['atom_mask'][res_mask]\n",
    "gt_rigids = gt_rigids.apply_trans_fn(\n",
    "    lambda x: x*exp._data_conf.scale_factor)"
   ]
  },
  {
   "cell_type": "code",
   "execution_count": null,
   "metadata": {},
   "outputs": [],
   "source": []
  },
  {
   "cell_type": "markdown",
   "metadata": {
    "jp-MarkdownHeadingCollapsed": true,
    "tags": []
   },
   "source": [
    "## Extract base atoms"
   ]
  },
  {
   "cell_type": "code",
   "execution_count": 9,
   "metadata": {},
   "outputs": [],
   "source": [
    "# Compute idealized frames and inverted ideal positions\n",
    "idealized_pos = torch.tensor(residue_constants.restype_atom14_rigid_group_positions)\n",
    "idealized_frames = ru.Rigid.from_3_points(\n",
    "    idealized_pos[:, 0],\n",
    "    idealized_pos[:, 1],\n",
    "    idealized_pos[:, 2]\n",
    ")\n",
    "idealized_rots = idealized_frames.get_rots()\n",
    "inverted_idealized_pos = idealized_rots[:, None].invert_apply(idealized_pos)\n",
    "inverted_idealized_bb_pos = torch.stack([\n",
    "    inverted_idealized_pos[:, 0],  # N\n",
    "    inverted_idealized_pos[:, 1],  # Ca\n",
    "    inverted_idealized_pos[:, 2],  # C\n",
    "    inverted_idealized_pos[:, 4],  # Cb\n",
    "], dim=1)"
   ]
  },
  {
   "cell_type": "code",
   "execution_count": 10,
   "metadata": {},
   "outputs": [],
   "source": [
    "def bb_rigids_to_ideal_pos(bb_rigids, aatype):\n",
    "    ideal_bb_pos = inverted_idealized_bb_pos[aatype]\n",
    "    bb_atoms = bb_rigids[:, None].apply(ideal_bb_pos)\n",
    "    bb_atoms37 = torch.zeros(aatype.shape + (37, 3))\n",
    "    bb_atoms37[..., :4, :] = bb_atoms\n",
    "    return bb_atoms37"
   ]
  },
  {
   "cell_type": "code",
   "execution_count": 85,
   "metadata": {},
   "outputs": [],
   "source": [
    "pred_pos37 = bb_rigids_to_ideal_pos(gt_rigids, aatype)"
   ]
  },
  {
   "cell_type": "code",
   "execution_count": 91,
   "metadata": {},
   "outputs": [
    {
     "name": "stdout",
     "output_type": "stream",
     "text": [
      "1.4201452\n"
     ]
    }
   ],
   "source": [
    "n_atoms = pred_pos37[:, 0]\n",
    "c_atoms = pred_pos37[:, 2]\n",
    "n_1_atoms = torch.roll(n_atoms, -1, dims=0)\n",
    "print(np.mean(np.linalg.norm(c_atoms - n_1_atoms, axis=-1)[1:]))"
   ]
  },
  {
   "cell_type": "code",
   "execution_count": null,
   "metadata": {},
   "outputs": [],
   "source": [
    "# Plotly\n",
    "all_bb_3d = []\n",
    "for i in range(4):\n",
    "    sample_bb_3d = plotting.create_scatter(\n",
    "        pred_bb_atom[:, i], mode='markers', marker_size=3, opacity=1.0, name=str(i))\n",
    "    all_bb_3d.append(sample_bb_3d)\n",
    "plotting.plot_traces(all_bb_3d)"
   ]
  },
  {
   "cell_type": "code",
   "execution_count": 90,
   "metadata": {},
   "outputs": [
    {
     "data": {
      "text/plain": [
       "'./test_1.pdb'"
      ]
     },
     "execution_count": 90,
     "metadata": {},
     "output_type": "execute_result"
    }
   ],
   "source": [
    "au.write_prot_to_pdb(\n",
    "    pred_pos37,\n",
    "    './test.pdb'\n",
    ")"
   ]
  },
  {
   "cell_type": "markdown",
   "metadata": {
    "jp-MarkdownHeadingCollapsed": true,
    "tags": []
   },
   "source": [
    "## Calculate null all-atoms"
   ]
  },
  {
   "cell_type": "code",
   "execution_count": 7,
   "metadata": {},
   "outputs": [],
   "source": [
    "def torsion_angles_to_frames(\n",
    "    r,\n",
    "    alpha: torch.Tensor,\n",
    "    aatype: torch.Tensor,\n",
    "    rrgdf: torch.Tensor,\n",
    "):\n",
    "    # [*, N, 8, 4, 4]\n",
    "    default_4x4 = rrgdf[aatype, ...]\n",
    "\n",
    "    # [*, N, 8] transformations, i.e.\n",
    "    #   One [*, N, 8, 3, 3] rotation matrix and\n",
    "    #   One [*, N, 8, 3]    translation matrix\n",
    "    default_r = r.from_tensor_4x4(default_4x4)\n",
    "\n",
    "    bb_rot = alpha.new_zeros((*((1,) * len(alpha.shape[:-1])), 2))\n",
    "    bb_rot[..., 1] = 1\n",
    "\n",
    "    # [*, N, 8, 2]\n",
    "    alpha = torch.cat(\n",
    "        [bb_rot.expand(*alpha.shape[:-2], -1, -1), alpha], dim=-2\n",
    "    )\n",
    "\n",
    "    # [*, N, 8, 3, 3]\n",
    "    # Produces rotation matrices of the form:\n",
    "    # [\n",
    "    #   [1, 0  , 0  ],\n",
    "    #   [0, a_2,-a_1],\n",
    "    #   [0, a_1, a_2]\n",
    "    # ]\n",
    "    # This follows the original code rather than the supplement, which uses\n",
    "    # different indices.\n",
    "    all_rots = alpha.new_zeros(default_r.get_rots().get_rot_mats().shape)\n",
    "    all_rots[..., 0, 0] = 1\n",
    "    all_rots[..., 1, 1] = alpha[..., 1]\n",
    "    all_rots[..., 1, 2] = -alpha[..., 0]\n",
    "    all_rots[..., 2, 1:] = alpha\n",
    "\n",
    "    all_rots = ru.Rigid(ru.Rotation(rot_mats=all_rots), None)\n",
    "\n",
    "    all_frames = default_r.compose(all_rots)\n",
    "\n",
    "    chi2_frame_to_frame = all_frames[..., 5]\n",
    "    chi3_frame_to_frame = all_frames[..., 6]\n",
    "    chi4_frame_to_frame = all_frames[..., 7]\n",
    "\n",
    "    chi1_frame_to_bb = all_frames[..., 4]\n",
    "    chi2_frame_to_bb = chi1_frame_to_bb.compose(chi2_frame_to_frame)\n",
    "    chi3_frame_to_bb = chi2_frame_to_bb.compose(chi3_frame_to_frame)\n",
    "    chi4_frame_to_bb = chi3_frame_to_bb.compose(chi4_frame_to_frame)\n",
    "\n",
    "    all_frames_to_bb = ru.Rigid.cat(\n",
    "        [\n",
    "            all_frames[..., :5],\n",
    "            chi2_frame_to_bb.unsqueeze(-1),\n",
    "            chi3_frame_to_bb.unsqueeze(-1),\n",
    "            chi4_frame_to_bb.unsqueeze(-1),\n",
    "        ],\n",
    "        dim=-1,\n",
    "    )\n",
    "\n",
    "    all_frames_to_global = r[..., None].compose(all_frames_to_bb)\n",
    "\n",
    "    return all_frames_to_global"
   ]
  },
  {
   "cell_type": "code",
   "execution_count": 8,
   "metadata": {},
   "outputs": [],
   "source": [
    "# Constants\n",
    "idealized_pos14 = torch.tensor(residue_constants.restype_atom14_rigid_group_positions)\n",
    "idealized_pos37 = torch.tensor(residue_constants.restype_atom37_rigid_group_positions)\n",
    "idealized_pos37_mask = (torch.sum(idealized_pos37, axis=-1) > 1e-5).bool()\n",
    "default_frames = torch.tensor(residue_constants.restype_rigid_group_default_frame)\n",
    "atom_mask = torch.tensor(residue_constants.restype_atom14_mask)\n",
    "group_idx = torch.tensor(residue_constants.restype_atom14_to_rigid_group)"
   ]
  },
  {
   "cell_type": "code",
   "execution_count": 9,
   "metadata": {},
   "outputs": [],
   "source": [
    "# Compute null rigid all atoms.\n",
    "ideal_bb_frames = ru.Rigid.from_3_points(\n",
    "    idealized_pos14[:, 0],\n",
    "    idealized_pos14[:, 1],\n",
    "    idealized_pos14[:, 2]\n",
    ")\n",
    "ideal_bb_rots = ideal_bb_frames.get_rots()\n",
    "\n",
    "null_bb_pos = ideal_bb_rots[:, None].invert_apply(idealized_pos14)\n",
    "null_torsions = torch.zeros((21, 7, 2))\n",
    "null_aatype = torch.arange(21)\n",
    "\n",
    "prot_feats = {\n",
    "    'aatype': null_aatype,\n",
    "    'all_atom_positions': idealized_pos37,\n",
    "    'all_atom_mask': idealized_pos37_mask,\n",
    "}\n",
    "ideal_torsions = data_transforms.atom37_to_torsion_angles()(prot_feats)['torsion_angles_sin_cos']\n",
    "\n",
    "ideal_frames = torsion_angles_to_frames(\n",
    "    ideal_bb_frames,\n",
    "    ideal_torsions,\n",
    "    #torch.zeros_like(idealized_torsions),  # This needs to be idealized torsions\n",
    "    null_aatype,\n",
    "    default_frames)\n",
    "ideal_rots = ideal_frames.get_rots()\n"
   ]
  },
  {
   "cell_type": "code",
   "execution_count": 10,
   "metadata": {},
   "outputs": [],
   "source": [
    "# [21, 14, 4, 4]\n",
    "null_default_4x4 = default_frames[null_aatype, ...]\n",
    "# [21, 14]\n",
    "null_group_mask = group_idx[null_aatype, ...]\n",
    "# [21, 14, 8]\n",
    "null_group_mask = torch.nn.functional.one_hot(\n",
    "    null_group_mask,\n",
    "    num_classes=null_default_4x4.shape[-3],\n",
    ")\n",
    "\n",
    "# [21, 14, 8]\n",
    "null_rot_to_global = ideal_rots[..., None, :] * null_group_mask\n",
    "# [21, 14]\n",
    "null_rot_to_global = null_rot_to_global.map_tensor_fn(\n",
    "    lambda x: torch.sum(x, dim=-1)\n",
    ")\n",
    "# [21, 14, 1]\n",
    "null_atom_mask = atom_mask[null_aatype, ...].unsqueeze(-1)\n",
    "# [21, 14, 3]\n",
    "null_global_pos = null_rot_to_global.invert_apply(idealized_pos14)\n",
    "null_global_pos = null_global_pos * null_atom_mask"
   ]
  },
  {
   "cell_type": "code",
   "execution_count": 11,
   "metadata": {},
   "outputs": [],
   "source": [
    "def frames_to_atom14_pos(\n",
    "    r,\n",
    "    aatype,\n",
    "):\n",
    "    # [*, N, 14, 4, 4]\n",
    "    default_4x4 = default_frames[aatype, ...]\n",
    "\n",
    "    # [*, N, 14]\n",
    "    group_mask = group_idx[aatype, ...]\n",
    "\n",
    "    # [*, N, 14, 8]\n",
    "    group_mask = torch.nn.functional.one_hot(\n",
    "        group_mask,\n",
    "        num_classes=default_frames.shape[-3],\n",
    "    )\n",
    "\n",
    "    # [*, N, 14, 8]\n",
    "    t_atoms_to_global = r[..., None, :] * group_mask\n",
    "\n",
    "    # [*, N, 14]\n",
    "    t_atoms_to_global = t_atoms_to_global.map_tensor_fn(\n",
    "        lambda x: torch.sum(x, dim=-1)\n",
    "    )\n",
    "\n",
    "    # [*, N, 14, 1]\n",
    "    frame_atom_mask = atom_mask[aatype, ...].unsqueeze(-1)\n",
    "\n",
    "    # [*, N, 14, 3]\n",
    "    frame_null_pos = null_global_pos[aatype, ...]\n",
    "    pred_positions = t_atoms_to_global.apply(frame_null_pos)\n",
    "    pred_positions = pred_positions * frame_atom_mask\n",
    "\n",
    "    return pred_positions"
   ]
  },
  {
   "cell_type": "code",
   "execution_count": 13,
   "metadata": {},
   "outputs": [],
   "source": [
    "# Test we can recover the idealized positions\n",
    "pred_frames = ru.Rigid.from_3_points(\n",
    "    null_global_pos[:, 0],\n",
    "    null_global_pos[:, 1],\n",
    "    null_global_pos[:, 2]\n",
    ")\n",
    "\n",
    "pred_all_frames = torsion_angles_to_frames(\n",
    "    pred_frames,\n",
    "    ideal_torsions,\n",
    "    null_aatype,\n",
    "    default_frames\n",
    ")\n",
    "\n",
    "pred_atom14 = frames_to_atom14_pos(\n",
    "    pred_all_frames,\n",
    "    null_aatype,\n",
    ")\n"
   ]
  },
  {
   "cell_type": "code",
   "execution_count": 14,
   "metadata": {},
   "outputs": [
    {
     "data": {
      "text/plain": [
       "tensor([[-1.4606e+00,  5.9605e-08,  0.0000e+00],\n",
       "        [ 0.0000e+00,  0.0000e+00,  0.0000e+00],\n",
       "        [ 5.4850e-01,  1.4240e+00,  0.0000e+00],\n",
       "        [ 7.6034e-01,  9.6682e-01,  0.0000e+00],\n",
       "        [ 5.3213e-01, -7.7185e-01, -1.2050e+00],\n",
       "        [ 0.0000e+00,  0.0000e+00,  0.0000e+00],\n",
       "        [ 0.0000e+00,  0.0000e+00,  0.0000e+00],\n",
       "        [ 0.0000e+00,  0.0000e+00,  0.0000e+00],\n",
       "        [ 0.0000e+00,  0.0000e+00,  0.0000e+00],\n",
       "        [ 0.0000e+00,  0.0000e+00,  0.0000e+00],\n",
       "        [ 0.0000e+00,  0.0000e+00,  0.0000e+00],\n",
       "        [ 0.0000e+00,  0.0000e+00,  0.0000e+00],\n",
       "        [ 0.0000e+00,  0.0000e+00,  0.0000e+00],\n",
       "        [ 0.0000e+00,  0.0000e+00,  0.0000e+00]])"
      ]
     },
     "execution_count": 14,
     "metadata": {},
     "output_type": "execute_result"
    }
   ],
   "source": [
    "pred_atom14[0]"
   ]
  },
  {
   "cell_type": "code",
   "execution_count": 15,
   "metadata": {},
   "outputs": [
    {
     "data": {
      "text/plain": [
       "tensor([[-0.5250,  1.3630,  0.0000],\n",
       "        [ 0.0000,  0.0000,  0.0000],\n",
       "        [ 1.5260, -0.0000, -0.0000],\n",
       "        [ 0.6270,  1.0620,  0.0000],\n",
       "        [-0.5290, -0.7740, -1.2050],\n",
       "        [ 0.0000,  0.0000,  0.0000],\n",
       "        [ 0.0000,  0.0000,  0.0000],\n",
       "        [ 0.0000,  0.0000,  0.0000],\n",
       "        [ 0.0000,  0.0000,  0.0000],\n",
       "        [ 0.0000,  0.0000,  0.0000],\n",
       "        [ 0.0000,  0.0000,  0.0000],\n",
       "        [ 0.0000,  0.0000,  0.0000],\n",
       "        [ 0.0000,  0.0000,  0.0000],\n",
       "        [ 0.0000,  0.0000,  0.0000]])"
      ]
     },
     "execution_count": 15,
     "metadata": {},
     "output_type": "execute_result"
    }
   ],
   "source": [
    "idealized_pos14[0]"
   ]
  },
  {
   "cell_type": "code",
   "execution_count": null,
   "metadata": {},
   "outputs": [],
   "source": []
  },
  {
   "cell_type": "code",
   "execution_count": null,
   "metadata": {},
   "outputs": [],
   "source": []
  },
  {
   "cell_type": "code",
   "execution_count": null,
   "metadata": {},
   "outputs": [],
   "source": []
  },
  {
   "cell_type": "code",
   "execution_count": null,
   "metadata": {},
   "outputs": [],
   "source": []
  },
  {
   "cell_type": "code",
   "execution_count": null,
   "metadata": {},
   "outputs": [],
   "source": []
  },
  {
   "cell_type": "code",
   "execution_count": null,
   "metadata": {},
   "outputs": [],
   "source": []
  },
  {
   "cell_type": "code",
   "execution_count": 48,
   "metadata": {},
   "outputs": [],
   "source": [
    "# Test that this returns close to GT atoms\n",
    "\n",
    "# Extract torsion angles\n",
    "prot_feats = {\n",
    "    'aatype': gt_aatype,\n",
    "    'all_atom_positions': gt_atom_pos37,\n",
    "    'all_atom_mask': gt_atom37_mask,\n",
    "}\n",
    "torsion_angles_feats = data_transforms.atom37_to_torsion_angles()(prot_feats)"
   ]
  },
  {
   "cell_type": "code",
   "execution_count": 49,
   "metadata": {
    "tags": []
   },
   "outputs": [],
   "source": [
    "gt_torsions = torsion_angles_feats['torsion_angles_sin_cos']\n",
    "gt_torsion_mask = torsion_angles_feats['torsion_angles_mask']\n",
    "\n",
    "# Calculate GT frames\n",
    "gt_all_frames = torsion_angles_to_frames(\n",
    "    gt_rigids,\n",
    "    gt_torsions, # * gt_torsion_mask[..., None],\n",
    "    gt_aatype,\n",
    "    default_frames\n",
    ")\n",
    "\n",
    "pred_atom14 = frames_to_atom14_pos(\n",
    "    gt_all_frames,\n",
    "    gt_aatype,\n",
    ")"
   ]
  },
  {
   "cell_type": "code",
   "execution_count": 50,
   "metadata": {},
   "outputs": [
    {
     "data": {
      "text/plain": [
       "tensor([[ -9.5079,  -2.0346, -17.5646],\n",
       "        [ -6.1304,  -0.3544, -17.3110],\n",
       "        [ -5.2293,   3.2029, -16.4705]])"
      ]
     },
     "execution_count": 50,
     "metadata": {},
     "output_type": "execute_result"
    }
   ],
   "source": [
    "pred_bb_atom = pred_atom14[:, :5]\n",
    "pred_bb_atom[:3, 3]\n",
    "# pred_bb_atom[1, 0]"
   ]
  },
  {
   "cell_type": "code",
   "execution_count": 45,
   "metadata": {},
   "outputs": [
    {
     "data": {
      "text/plain": [
       "tensor([[ -6.2136,  -1.8817, -16.8926],\n",
       "        [ -6.5666,   2.9463, -18.1516],\n",
       "        [ -2.9506,   3.7953, -18.9126]], dtype=torch.float64)"
      ]
     },
     "execution_count": 45,
     "metadata": {},
     "output_type": "execute_result"
    }
   ],
   "source": [
    "gt_bb_atom = gt_atom_pos37[:, :5]\n",
    "gt_bb_atom[:3, 4]\n",
    "# gt_bb_atom[1, 0]"
   ]
  },
  {
   "cell_type": "code",
   "execution_count": null,
   "metadata": {},
   "outputs": [],
   "source": []
  },
  {
   "cell_type": "code",
   "execution_count": null,
   "metadata": {},
   "outputs": [],
   "source": []
  },
  {
   "cell_type": "code",
   "execution_count": 23,
   "metadata": {},
   "outputs": [],
   "source": [
    "# gt_torsions = torch.zeros_like(gt_torsions)\n",
    "# gt_torsion_mask = torsion_angles_feats['torsion_angles_mask']\n",
    "\n",
    "# # Calculate GT frames\n",
    "# gt_all_frames = torsion_angles_to_frames(\n",
    "#     gt_rigids,\n",
    "#     gt_torsions, # * gt_torsion_mask[..., None],\n",
    "#     gt_aatype,\n",
    "#     default_frames\n",
    "# )\n",
    "# gt_all_frames[0, 3].to_tensor_7()"
   ]
  },
  {
   "cell_type": "code",
   "execution_count": 24,
   "metadata": {},
   "outputs": [],
   "source": [
    "pred_atom14 = frames_to_atom14_pos(\n",
    "    gt_all_frames,\n",
    "    gt_aatype,\n",
    ")"
   ]
  },
  {
   "cell_type": "code",
   "execution_count": 25,
   "metadata": {},
   "outputs": [
    {
     "data": {
      "text/plain": [
       "tensor([[ -8.4762,  -1.1279, -16.3958],\n",
       "        [ -5.2776,   0.9152, -18.2565],\n",
       "        [ -4.1482,   4.6078, -16.8023]])"
      ]
     },
     "execution_count": 25,
     "metadata": {},
     "output_type": "execute_result"
    }
   ],
   "source": [
    "pred_bb_atom = pred_atom14[:, :5]\n",
    "pred_bb_atom[:3, 3]\n",
    "# pred_bb_atom[1, 0]"
   ]
  },
  {
   "cell_type": "code",
   "execution_count": 26,
   "metadata": {},
   "outputs": [
    {
     "data": {
      "text/plain": [
       "tensor([[ -6.2136,  -1.8817, -16.8926],\n",
       "        [ -6.5666,   2.9463, -18.1516],\n",
       "        [ -2.9506,   3.7953, -18.9126]], dtype=torch.float64)"
      ]
     },
     "execution_count": 26,
     "metadata": {},
     "output_type": "execute_result"
    }
   ],
   "source": [
    "gt_bb_atom = gt_atom_pos37[:, :5]\n",
    "gt_bb_atom[:3, 4]\n",
    "# gt_bb_atom[1, 0]"
   ]
  },
  {
   "cell_type": "code",
   "execution_count": null,
   "metadata": {},
   "outputs": [],
   "source": [
    "# bb_atom14 = ['N', 'CA', 'C', 'O', 'CB']\n",
    "# bb_atom37 = ['N', 'CA', 'C', 'CB', 'O']"
   ]
  },
  {
   "cell_type": "code",
   "execution_count": null,
   "metadata": {},
   "outputs": [],
   "source": []
  },
  {
   "cell_type": "markdown",
   "metadata": {},
   "source": [
    "## Test library"
   ]
  },
  {
   "cell_type": "code",
   "execution_count": 43,
   "metadata": {},
   "outputs": [
    {
     "data": {
      "text/plain": [
       "<module 'data.all_atom' from '/data/rsg/chemistry/jyim/projects/protein_diffusion/data/all_atom.py'>"
      ]
     },
     "execution_count": 43,
     "metadata": {},
     "output_type": "execute_result"
    }
   ],
   "source": [
    "importlib.reload(all_atom)"
   ]
  },
  {
   "cell_type": "code",
   "execution_count": 44,
   "metadata": {
    "tags": []
   },
   "outputs": [],
   "source": [
    "# Test we can recover the idealized positions\n",
    "pred_all_frames = all_atom.torsion_angles_to_frames(\n",
    "    all_atom.IDEALIZED_FRAMES,\n",
    "    all_atom.IDEALIZED_TORSION,\n",
    "    all_atom.ALL_AATYPE,\n",
    ")\n",
    "\n",
    "pred_atom14 = all_atom.frames_to_atom14_pos(\n",
    "    pred_all_frames,\n",
    "    all_atom.ALL_AATYPE,\n",
    ")\n"
   ]
  },
  {
   "cell_type": "code",
   "execution_count": 47,
   "metadata": {},
   "outputs": [
    {
     "data": {
      "text/plain": [
       "tensor([[-5.2400e-01,  1.3620e+00,  0.0000e+00],\n",
       "        [ 0.0000e+00,  0.0000e+00,  0.0000e+00],\n",
       "        [ 1.5250e+00, -5.9605e-08,  0.0000e+00],\n",
       "        [ 6.2600e-01,  1.0620e+00,  0.0000e+00],\n",
       "        [-5.2400e-01, -7.7800e-01, -1.2090e+00],\n",
       "        [ 6.1600e-01,  1.3900e+00,  0.0000e+00],\n",
       "        [ 5.6400e-01,  1.4140e+00, -3.5763e-06],\n",
       "        [ 5.3899e-01,  1.3570e+00, -1.0014e-05],\n",
       "        [ 7.5799e-01,  1.0930e+00, -5.4836e-06],\n",
       "        [ 2.0600e-01,  2.3010e+00, -5.7220e-06],\n",
       "        [ 2.0780e+00,  9.7800e-01, -7.2718e-06],\n",
       "        [ 0.0000e+00,  0.0000e+00,  0.0000e+00],\n",
       "        [ 0.0000e+00,  0.0000e+00,  0.0000e+00],\n",
       "        [ 0.0000e+00,  0.0000e+00,  0.0000e+00]])"
      ]
     },
     "execution_count": 47,
     "metadata": {},
     "output_type": "execute_result"
    }
   ],
   "source": [
    "pred_atom14[1]"
   ]
  },
  {
   "cell_type": "code",
   "execution_count": 48,
   "metadata": {},
   "outputs": [
    {
     "data": {
      "text/plain": [
       "tensor([[-0.5240,  1.3620, -0.0000],\n",
       "        [ 0.0000,  0.0000,  0.0000],\n",
       "        [ 1.5250, -0.0000, -0.0000],\n",
       "        [ 0.6260,  1.0620,  0.0000],\n",
       "        [-0.5240, -0.7780, -1.2090],\n",
       "        [ 0.6160,  1.3900, -0.0000],\n",
       "        [ 0.5640,  1.4140,  0.0000],\n",
       "        [ 0.5390,  1.3570, -0.0000],\n",
       "        [ 0.7580,  1.0930, -0.0000],\n",
       "        [ 0.2060,  2.3010,  0.0000],\n",
       "        [ 2.0780,  0.9780, -0.0000],\n",
       "        [ 0.0000,  0.0000,  0.0000],\n",
       "        [ 0.0000,  0.0000,  0.0000],\n",
       "        [ 0.0000,  0.0000,  0.0000]])"
      ]
     },
     "execution_count": 48,
     "metadata": {},
     "output_type": "execute_result"
    }
   ],
   "source": [
    "all_atom.IDEALIZED_POS[1]"
   ]
  },
  {
   "cell_type": "code",
   "execution_count": null,
   "metadata": {},
   "outputs": [],
   "source": []
  },
  {
   "cell_type": "code",
   "execution_count": null,
   "metadata": {},
   "outputs": [],
   "source": []
  },
  {
   "cell_type": "code",
   "execution_count": null,
   "metadata": {},
   "outputs": [],
   "source": []
  },
  {
   "cell_type": "code",
   "execution_count": null,
   "metadata": {},
   "outputs": [],
   "source": []
  },
  {
   "cell_type": "code",
   "execution_count": null,
   "metadata": {},
   "outputs": [],
   "source": []
  },
  {
   "cell_type": "code",
   "execution_count": null,
   "metadata": {},
   "outputs": [],
   "source": []
  },
  {
   "cell_type": "code",
   "execution_count": 7,
   "metadata": {},
   "outputs": [],
   "source": [
    "# Test that this returns close to GT atoms\n",
    "\n",
    "# Extract torsion angles\n",
    "prot_feats = {\n",
    "    'aatype': gt_aatype,\n",
    "    'all_atom_positions': gt_atom_pos37,\n",
    "    'all_atom_mask': gt_atom37_mask,\n",
    "}\n",
    "torsion_angles_feats = data_transforms.atom37_to_torsion_angles()(prot_feats)\n",
    "gt_torsions = torsion_angles_feats['torsion_angles_sin_cos']\n",
    "# gt_torsions = torch.tile(gt_torsions[:, 4][:, None], (1, 7, 1))\n",
    "gt_torsion_mask = torsion_angles_feats['torsion_angles_mask']\n",
    "\n",
    "# Calculate GT frames\n",
    "gt_all_frames = all_atom.torsion_angles_to_frames(\n",
    "    gt_rigids,\n",
    "    gt_torsions,\n",
    "    gt_aatype\n",
    ")"
   ]
  },
  {
   "cell_type": "code",
   "execution_count": 8,
   "metadata": {},
   "outputs": [],
   "source": [
    "pred_atom14 = all_atom.frames_to_atom14_pos(\n",
    "    gt_all_frames,\n",
    "    gt_aatype,\n",
    ")"
   ]
  },
  {
   "cell_type": "code",
   "execution_count": 17,
   "metadata": {},
   "outputs": [
    {
     "data": {
      "text/plain": [
       "tensor([18.6683,  2.7105, -6.8771])"
      ]
     },
     "execution_count": 17,
     "metadata": {},
     "output_type": "execute_result"
    }
   ],
   "source": [
    "pred_bb_atom = pred_atom14[:, :5]\n",
    "pred_bb_atom[0, 3]\n",
    "# pred_bb_atom[0, 4]"
   ]
  },
  {
   "cell_type": "code",
   "execution_count": 16,
   "metadata": {},
   "outputs": [
    {
     "data": {
      "text/plain": [
       "tensor([19.3551,  0.2003, -6.5447], dtype=torch.float64)"
      ]
     },
     "execution_count": 16,
     "metadata": {},
     "output_type": "execute_result"
    }
   ],
   "source": [
    "gt_bb_atom = gt_atom_pos37[:, :5]\n",
    "gt_bb_atom[0, 4]\n",
    "# gt_bb_atom[0, 3]"
   ]
  },
  {
   "cell_type": "code",
   "execution_count": null,
   "metadata": {},
   "outputs": [],
   "source": [
    "# bb_atom14 = ['N', 'CA', 'C', 'O', 'CB']\n",
    "# bb_atom37 = ['N', 'CA', 'C', 'CB', 'O']"
   ]
  },
  {
   "cell_type": "code",
   "execution_count": null,
   "metadata": {},
   "outputs": [],
   "source": []
  },
  {
   "cell_type": "markdown",
   "metadata": {
    "tags": []
   },
   "source": [
    "## Working"
   ]
  },
  {
   "cell_type": "code",
   "execution_count": null,
   "metadata": {},
   "outputs": [],
   "source": [
    "# Compute idealized frames and inverted ideal positions\n",
    "idealized_pos = torch.tensor(residue_constants.restype_atom14_rigid_group_positions)\n",
    "idealized_frames = ru.Rigid.from_3_points(\n",
    "    idealized_pos[:, 0],\n",
    "    idealized_pos[:, 1],\n",
    "    idealized_pos[:, 2]\n",
    ")\n",
    "idealized_rots = idealized_frames.get_rots()\n",
    "inverted_idealized_pos = idealized_rots[:, None].invert_apply(idealized_pos)\n",
    "inverted_idealized_bb_pos = torch.stack([\n",
    "    inverted_idealized_pos[:, 0],  # N\n",
    "    inverted_idealized_pos[:, 1],  # Ca\n",
    "    inverted_idealized_pos[:, 2],  # C\n",
    "    inverted_idealized_pos[:, 4],  # Cb\n",
    "    inverted_idealized_pos[:, 3],  # O\n",
    "], dim=1)"
   ]
  },
  {
   "cell_type": "code",
   "execution_count": null,
   "metadata": {},
   "outputs": [],
   "source": []
  },
  {
   "cell_type": "code",
   "execution_count": null,
   "metadata": {},
   "outputs": [],
   "source": []
  },
  {
   "cell_type": "code",
   "execution_count": null,
   "metadata": {},
   "outputs": [],
   "source": []
  },
  {
   "cell_type": "code",
   "execution_count": null,
   "metadata": {},
   "outputs": [],
   "source": []
  },
  {
   "cell_type": "code",
   "execution_count": null,
   "metadata": {},
   "outputs": [],
   "source": []
  },
  {
   "cell_type": "code",
   "execution_count": null,
   "metadata": {},
   "outputs": [],
   "source": [
    "# [*, N, 14, 8]\n",
    "null_rot_to_global = null_rots * null_group_mask"
   ]
  },
  {
   "cell_type": "code",
   "execution_count": null,
   "metadata": {},
   "outputs": [],
   "source": [
    "inverted_idealized_pos = idealized_rots[:, None].invert_apply(idealized_pos)"
   ]
  },
  {
   "cell_type": "code",
   "execution_count": null,
   "metadata": {},
   "outputs": [],
   "source": [
    "# [*, N, 14, 4, 4]\n",
    "default_4x4 = default_frames[aatype, ...]\n",
    "# [*, N, 14]\n",
    "group_mask = group_idx[aatype, ...]\n",
    "# [*, N, 14, 8]\n",
    "group_mask = nn.functional.one_hot(\n",
    "    group_mask,\n",
    "    num_classes=default_frames.shape[-3],\n",
    ")\n",
    "# [*, N, 14, 8]\n",
    "t_atoms_to_global = r[..., None, :] * group_mask\n",
    "\n",
    "# [*, N, 14]\n",
    "t_atoms_to_global = t_atoms_to_global.map_tensor_fn(\n",
    "    lambda x: torch.sum(x, dim=-1)\n",
    ")\n",
    "\n",
    "# [*, N, 14, 1]\n",
    "atom_mask = atom_mask[aatype, ...].unsqueeze(-1)\n",
    "\n",
    "# [*, N, 14, 3]\n",
    "lit_positions = lit_positions[aatype, ...]\n",
    "pred_positions = t_atoms_to_global.apply(lit_positions)\n",
    "pred_positions = pred_positions * atom_mask"
   ]
  },
  {
   "cell_type": "code",
   "execution_count": null,
   "metadata": {},
   "outputs": [],
   "source": []
  },
  {
   "cell_type": "code",
   "execution_count": null,
   "metadata": {},
   "outputs": [],
   "source": []
  },
  {
   "cell_type": "code",
   "execution_count": null,
   "metadata": {},
   "outputs": [],
   "source": [
    "atom_mask = torch.tensor(residue_constants.restype_atom14_mask)\n",
    "group_idx = torch.tensor(residue_constants.restype_atom14_to_rigid_group)\n",
    "null_pos = frames_and_literature_positions_to_atom14_pos(\n",
    "    null_frames,\n",
    "    torch.arange(21),\n",
    "    group_idx,\n",
    "    atom_mask,\n",
    "    default_frames,\n",
    "    idealized_pos\n",
    ")"
   ]
  },
  {
   "cell_type": "code",
   "execution_count": null,
   "metadata": {},
   "outputs": [],
   "source": []
  },
  {
   "cell_type": "code",
   "execution_count": null,
   "metadata": {},
   "outputs": [],
   "source": []
  },
  {
   "cell_type": "code",
   "execution_count": 27,
   "metadata": {},
   "outputs": [],
   "source": [
    "def frames_and_literature_positions_to_atom14_pos(\n",
    "    r,\n",
    "    aatype,\n",
    "    default_frames,\n",
    "    group_idx,\n",
    "    atom_mask,\n",
    "    lit_positions,\n",
    "):\n",
    "    # [*, N, 14, 4, 4]\n",
    "    default_4x4 = default_frames[aatype, ...]\n",
    "\n",
    "    # [*, N, 14]\n",
    "    group_mask = group_idx[aatype, ...]\n",
    "\n",
    "    # [*, N, 14, 8]\n",
    "    group_mask = nn.functional.one_hot(\n",
    "        group_mask,\n",
    "        num_classes=default_frames.shape[-3],\n",
    "    )\n",
    "\n",
    "    # [*, N, 14, 8]\n",
    "    t_atoms_to_global = r[..., None, :] * group_mask\n",
    "\n",
    "    # [*, N, 14]\n",
    "    t_atoms_to_global = t_atoms_to_global.map_tensor_fn(\n",
    "        lambda x: torch.sum(x, dim=-1)\n",
    "    )\n",
    "\n",
    "    # [*, N, 14, 1]\n",
    "    atom_mask = atom_mask[aatype, ...].unsqueeze(-1)\n",
    "\n",
    "    # [*, N, 14, 3]\n",
    "    lit_positions = lit_positions[aatype, ...]\n",
    "    pred_positions = t_atoms_to_global.apply(lit_positions)\n",
    "    pred_positions = pred_positions * atom_mask\n",
    "\n",
    "    return pred_positions"
   ]
  },
  {
   "cell_type": "code",
   "execution_count": null,
   "metadata": {},
   "outputs": [],
   "source": []
  },
  {
   "cell_type": "code",
   "execution_count": null,
   "metadata": {},
   "outputs": [],
   "source": []
  },
  {
   "cell_type": "code",
   "execution_count": null,
   "metadata": {},
   "outputs": [],
   "source": []
  },
  {
   "cell_type": "code",
   "execution_count": null,
   "metadata": {},
   "outputs": [],
   "source": [
    "inverted_idealized_bb_pos = torch.stack([\n",
    "    inverted_idealized_pos[:, 0],  # N\n",
    "    inverted_idealized_pos[:, 1],  # Ca\n",
    "    inverted_idealized_pos[:, 2],  # C\n",
    "    inverted_idealized_pos[:, 4],  # Cb\n",
    "    inverted_idealized_pos[:, 3],  # O\n",
    "], dim=1)"
   ]
  },
  {
   "cell_type": "code",
   "execution_count": null,
   "metadata": {},
   "outputs": [],
   "source": []
  },
  {
   "cell_type": "code",
   "execution_count": null,
   "metadata": {},
   "outputs": [],
   "source": []
  },
  {
   "cell_type": "code",
   "execution_count": null,
   "metadata": {},
   "outputs": [],
   "source": []
  },
  {
   "cell_type": "code",
   "execution_count": 11,
   "metadata": {},
   "outputs": [],
   "source": [
    "# Calculate all frames\n",
    "all_frames = torsion_angles_to_frames(\n",
    "    gt_rigids,\n",
    "    gt_torsions, # * torsion_mask[..., None],\n",
    "    aatype,\n",
    "    rrgdf\n",
    ")"
   ]
  },
  {
   "cell_type": "code",
   "execution_count": 74,
   "metadata": {},
   "outputs": [],
   "source": [
    "# Compute idealized frames and inverted ideal positions\n",
    "idealized_pos = torch.tensor(residue_constants.restype_atom14_rigid_group_positions)\n",
    "idealized_frames = ru.Rigid.from_3_points(\n",
    "    idealized_pos[:, 0],\n",
    "    idealized_pos[:, 1],\n",
    "    idealized_pos[:, 2]\n",
    ")\n",
    "idealized_rots = idealized_frames.get_rots()\n",
    "inverted_idealized_pos = idealized_rots[:, None].invert_apply(idealized_pos)\n",
    "inverted_idealized_bb_pos = torch.stack([\n",
    "    inverted_idealized_pos[:, 0],  # N\n",
    "    inverted_idealized_pos[:, 1],  # Ca\n",
    "    inverted_idealized_pos[:, 2],  # C\n",
    "    inverted_idealized_pos[:, 4],  # Cb\n",
    "    inverted_idealized_pos[:, 3],  # O\n",
    "], dim=1)"
   ]
  },
  {
   "cell_type": "code",
   "execution_count": 84,
   "metadata": {},
   "outputs": [
    {
     "data": {
      "text/plain": [
       "tensor([[ 1.0000e+00,  0.0000e+00,  0.0000e+00],\n",
       "        [-2.0404e-08,  1.0000e+00,  0.0000e+00],\n",
       "        [ 0.0000e+00,  0.0000e+00,  1.0000e+00]])"
      ]
     },
     "execution_count": 84,
     "metadata": {},
     "output_type": "execute_result"
    }
   ],
   "source": [
    "null_rots[0, 0].get_rot_mats()"
   ]
  },
  {
   "cell_type": "code",
   "execution_count": 82,
   "metadata": {},
   "outputs": [
    {
     "data": {
      "text/plain": [
       "torch.Size([21])"
      ]
     },
     "execution_count": 82,
     "metadata": {},
     "output_type": "execute_result"
    }
   ],
   "source": [
    "idealized_rots.shape"
   ]
  },
  {
   "cell_type": "code",
   "execution_count": 81,
   "metadata": {},
   "outputs": [
    {
     "data": {
      "text/plain": [
       "tensor([[ 0.3594,  0.9332,  0.0000],\n",
       "        [-0.9332,  0.3594,  0.0000],\n",
       "        [ 0.0000, -0.0000,  1.0000]])"
      ]
     },
     "execution_count": 81,
     "metadata": {},
     "output_type": "execute_result"
    }
   ],
   "source": [
    "idealized_rots[0].get_rot_mats()"
   ]
  },
  {
   "cell_type": "code",
   "execution_count": null,
   "metadata": {},
   "outputs": [],
   "source": []
  },
  {
   "cell_type": "code",
   "execution_count": 15,
   "metadata": {},
   "outputs": [],
   "source": [
    "inverted_ideal_bb_pos = inverted_idealized_bb_pos[aatype]\n",
    "base_atoms = all_frames[:, :1].apply(inverted_ideal_bb_pos)[:, :4]\n",
    "omega_atoms = all_frames[:, 3:4].apply(inverted_ideal_bb_pos)[:, 4][:, None]\n",
    "bb_atoms = torch.concat([base_atoms, omega_atoms], axis=1)"
   ]
  },
  {
   "cell_type": "code",
   "execution_count": 18,
   "metadata": {},
   "outputs": [
    {
     "data": {
      "text/plain": [
       "tensor([[  3.9245, -21.6924,   1.5472],\n",
       "        [  3.0134, -20.9740,   2.4336],\n",
       "        [  3.2171, -19.4671,   2.3180],\n",
       "        [  3.2110, -21.4187,   3.8838],\n",
       "        [  3.1344, -19.8433,   2.8867]])"
      ]
     },
     "execution_count": 18,
     "metadata": {},
     "output_type": "execute_result"
    }
   ],
   "source": [
    "bb_atoms[0]"
   ]
  },
  {
   "cell_type": "code",
   "execution_count": 17,
   "metadata": {},
   "outputs": [
    {
     "data": {
      "text/plain": [
       "tensor([[  3.9238, -21.6919,   1.5479],\n",
       "        [  3.0134, -20.9740,   2.4336],\n",
       "        [  3.1910, -19.4599,   2.3427],\n",
       "        [  3.2129, -21.4335,   3.8828],\n",
       "        [  4.2413, -18.9740,   1.9429]], dtype=torch.float64)"
      ]
     },
     "execution_count": 17,
     "metadata": {},
     "output_type": "execute_result"
    }
   ],
   "source": [
    "gt_atom_pos37[0, :5]"
   ]
  },
  {
   "cell_type": "code",
   "execution_count": 292,
   "metadata": {},
   "outputs": [
    {
     "data": {
      "text/plain": [
       "torch.Size([99, 5, 3])"
      ]
     },
     "execution_count": 292,
     "metadata": {},
     "output_type": "execute_result"
    }
   ],
   "source": [
    "# ideal_bb_pos = idealized_pos[aatype]\n",
    "inverted_ideal_bb_pos = inverted_idealized_bb_pos[aatype]\n",
    "inverted_ideal_bb_pos.shape"
   ]
  },
  {
   "cell_type": "code",
   "execution_count": null,
   "metadata": {},
   "outputs": [],
   "source": []
  },
  {
   "cell_type": "code",
   "execution_count": null,
   "metadata": {},
   "outputs": [],
   "source": []
  },
  {
   "cell_type": "code",
   "execution_count": 255,
   "metadata": {},
   "outputs": [],
   "source": [
    "base_atoms = all_frames[:, :1].apply(inverted_ideal_bb_pos)[:, :4]\n",
    "omega_atoms = all_frames[:, 3:4].apply(inverted_ideal_bb_pos)[:, 4][:, None]\n",
    "bb_atoms = torch.concat([base_atoms, omega_atoms], axis=1)"
   ]
  },
  {
   "cell_type": "code",
   "execution_count": 256,
   "metadata": {},
   "outputs": [],
   "source": [
    "# all_frames[:, 3].apply(inverted_ideal_bb_pos[:, 4])[1]\n",
    "# all_frames[:, 3].apply(ideal_bb_pos[:, 3])[1]"
   ]
  },
  {
   "cell_type": "code",
   "execution_count": 288,
   "metadata": {},
   "outputs": [],
   "source": [
    "ideal_pos = idealized_pos[aatype][0][:5]\n",
    "gt_pos = gt_atom_pos37[0, :5]\n",
    "tmp = torch.clone(gt_pos[4])\n",
    "gt_pos[4] = gt_pos[3]\n",
    "gt_pos[3] = tmp"
   ]
  },
  {
   "cell_type": "code",
   "execution_count": 289,
   "metadata": {},
   "outputs": [
    {
     "data": {
      "text/plain": [
       "tensor([[-1.4655, 10.2809,  5.6884],\n",
       "        [-1.5245,  9.2079,  6.7284],\n",
       "        [-0.3435,  8.2599,  6.5054],\n",
       "        [-2.8765,  8.4229,  6.6644],\n",
       "        [-2.8765,  8.4229,  6.6644]], dtype=torch.float64)"
      ]
     },
     "execution_count": 289,
     "metadata": {},
     "output_type": "execute_result"
    }
   ],
   "source": [
    "gt_pos[:5]"
   ]
  },
  {
   "cell_type": "code",
   "execution_count": null,
   "metadata": {},
   "outputs": [],
   "source": [
    "gt_atom_pos37[:5]"
   ]
  },
  {
   "cell_type": "code",
   "execution_count": 281,
   "metadata": {},
   "outputs": [
    {
     "data": {
      "text/plain": [
       "torch.Size([5, 3])"
      ]
     },
     "execution_count": 281,
     "metadata": {},
     "output_type": "execute_result"
    }
   ],
   "source": [
    "gt_pos.shape"
   ]
  },
  {
   "cell_type": "code",
   "execution_count": null,
   "metadata": {},
   "outputs": [],
   "source": []
  },
  {
   "cell_type": "code",
   "execution_count": null,
   "metadata": {},
   "outputs": [],
   "source": []
  },
  {
   "cell_type": "code",
   "execution_count": null,
   "metadata": {},
   "outputs": [],
   "source": []
  },
  {
   "cell_type": "code",
   "execution_count": null,
   "metadata": {},
   "outputs": [],
   "source": []
  },
  {
   "cell_type": "code",
   "execution_count": null,
   "metadata": {},
   "outputs": [],
   "source": []
  },
  {
   "cell_type": "code",
   "execution_count": null,
   "metadata": {},
   "outputs": [],
   "source": []
  },
  {
   "cell_type": "code",
   "execution_count": 263,
   "metadata": {},
   "outputs": [
    {
     "data": {
      "text/plain": [
       "torch.Size([99, 5, 3])"
      ]
     },
     "execution_count": 263,
     "metadata": {},
     "output_type": "execute_result"
    }
   ],
   "source": [
    "bb_atoms.shape"
   ]
  },
  {
   "cell_type": "code",
   "execution_count": 266,
   "metadata": {},
   "outputs": [],
   "source": [
    "placeholder = torch.zeros((99, 37, 3))\n",
    "placeholder[:, :5] = bb_atoms"
   ]
  },
  {
   "cell_type": "code",
   "execution_count": 268,
   "metadata": {},
   "outputs": [
    {
     "data": {
      "text/plain": [
       "'./test_4.pdb'"
      ]
     },
     "execution_count": 268,
     "metadata": {},
     "output_type": "execute_result"
    }
   ],
   "source": [
    "au.write_prot_to_pdb(\n",
    "    du.move_to_np(placeholder),\n",
    "    './test.pdb'\n",
    ")"
   ]
  },
  {
   "cell_type": "code",
   "execution_count": 270,
   "metadata": {},
   "outputs": [
    {
     "data": {
      "text/plain": [
       "'./test_6.pdb'"
      ]
     },
     "execution_count": 270,
     "metadata": {},
     "output_type": "execute_result"
    }
   ],
   "source": [
    "au.write_prot_to_pdb(\n",
    "    du.move_to_np(gt_atom_pos37),\n",
    "    './test.pdb'\n",
    ")"
   ]
  },
  {
   "cell_type": "code",
   "execution_count": null,
   "metadata": {},
   "outputs": [],
   "source": []
  },
  {
   "cell_type": "code",
   "execution_count": 261,
   "metadata": {},
   "outputs": [
    {
     "data": {
      "text/plain": [
       "tensor([[-1.4669, 10.2549,  5.7136],\n",
       "        [-1.5245,  9.2079,  6.7284],\n",
       "        [-0.3592,  8.2395,  6.5387],\n",
       "        [-2.8663,  8.4433,  6.6796],\n",
       "        [-1.2833,  8.0359,  6.5969]])"
      ]
     },
     "execution_count": 261,
     "metadata": {},
     "output_type": "execute_result"
    }
   ],
   "source": [
    "bb_atoms[0]"
   ]
  },
  {
   "cell_type": "code",
   "execution_count": 262,
   "metadata": {},
   "outputs": [
    {
     "data": {
      "text/plain": [
       "tensor([[-1.4655, 10.2809,  5.6884],\n",
       "        [-1.5245,  9.2079,  6.7284],\n",
       "        [-0.3435,  8.2599,  6.5054],\n",
       "        [-2.8765,  8.4229,  6.6644],\n",
       "        [-0.0265,  7.9779,  5.3724]], dtype=torch.float64)"
      ]
     },
     "execution_count": 262,
     "metadata": {},
     "output_type": "execute_result"
    }
   ],
   "source": [
    "gt_atom_pos37[0, :5]"
   ]
  },
  {
   "cell_type": "code",
   "execution_count": null,
   "metadata": {},
   "outputs": [],
   "source": [
    "# bb_atom14 = ['N', 'CA', 'C', 'O', 'CB']\n",
    "# bb_atom37 = ['N', 'CA', 'C', 'CB', 'O']"
   ]
  },
  {
   "cell_type": "code",
   "execution_count": null,
   "metadata": {},
   "outputs": [],
   "source": []
  },
  {
   "cell_type": "code",
   "execution_count": null,
   "metadata": {},
   "outputs": [],
   "source": []
  },
  {
   "cell_type": "code",
   "execution_count": null,
   "metadata": {},
   "outputs": [],
   "source": []
  },
  {
   "cell_type": "code",
   "execution_count": null,
   "metadata": {},
   "outputs": [],
   "source": []
  },
  {
   "cell_type": "code",
   "execution_count": null,
   "metadata": {},
   "outputs": [],
   "source": []
  },
  {
   "cell_type": "code",
   "execution_count": null,
   "metadata": {},
   "outputs": [],
   "source": []
  },
  {
   "cell_type": "code",
   "execution_count": null,
   "metadata": {},
   "outputs": [],
   "source": []
  },
  {
   "cell_type": "code",
   "execution_count": null,
   "metadata": {},
   "outputs": [],
   "source": []
  },
  {
   "cell_type": "code",
   "execution_count": null,
   "metadata": {},
   "outputs": [],
   "source": []
  },
  {
   "cell_type": "code",
   "execution_count": null,
   "metadata": {},
   "outputs": [],
   "source": []
  },
  {
   "cell_type": "code",
   "execution_count": null,
   "metadata": {},
   "outputs": [],
   "source": [
    "def bb_rigids_to_ideal_pos(bb_rigids, aatype):\n",
    "    ideal_bb_pos = inverted_idealized_bb_pos[aatype]\n",
    "    bb_atoms = bb_rigids[:, None].apply(ideal_bb_pos)\n",
    "    bb_atoms37 = torch.zeros(aatype.shape + (37, 3))\n",
    "    bb_atoms37[..., :4, :] = bb_atoms\n",
    "    return bb_atoms37"
   ]
  },
  {
   "cell_type": "code",
   "execution_count": null,
   "metadata": {},
   "outputs": [],
   "source": []
  },
  {
   "cell_type": "code",
   "execution_count": null,
   "metadata": {},
   "outputs": [],
   "source": []
  },
  {
   "cell_type": "code",
   "execution_count": null,
   "metadata": {},
   "outputs": [],
   "source": []
  },
  {
   "cell_type": "code",
   "execution_count": 132,
   "metadata": {},
   "outputs": [
    {
     "data": {
      "text/plain": [
       "torch.Size([99, 8])"
      ]
     },
     "execution_count": 132,
     "metadata": {},
     "output_type": "execute_result"
    }
   ],
   "source": [
    "def frames_and_literature_positions_to_atom14_pos(\n",
    "    r: Rigid,\n",
    "    aatype: torch.Tensor,\n",
    "    default_frames,\n",
    "    group_idx,\n",
    "    atom_mask,\n",
    "    lit_positions,\n",
    "):\n",
    "    # [*, N, 14, 4, 4]\n",
    "    default_4x4 = default_frames[aatype, ...]\n",
    "\n",
    "    # [*, N, 14]\n",
    "    group_mask = group_idx[aatype, ...]\n",
    "\n",
    "    # [*, N, 14, 8]\n",
    "    group_mask = nn.functional.one_hot(\n",
    "        group_mask,\n",
    "        num_classes=default_frames.shape[-3],\n",
    "    )\n",
    "\n",
    "    # [*, N, 14, 8]\n",
    "    t_atoms_to_global = r[..., None, :] * group_mask\n",
    "\n",
    "    # [*, N, 14]\n",
    "    t_atoms_to_global = t_atoms_to_global.map_tensor_fn(\n",
    "        lambda x: torch.sum(x, dim=-1)\n",
    "    )\n",
    "\n",
    "    # [*, N, 14, 1]\n",
    "    atom_mask = atom_mask[aatype, ...].unsqueeze(-1)\n",
    "\n",
    "    # [*, N, 14, 3]\n",
    "    lit_positions = lit_positions[aatype, ...]\n",
    "    pred_positions = t_atoms_to_global.apply(lit_positions)\n",
    "    pred_positions = pred_positions * atom_mask\n",
    "\n",
    "    return pred_positions"
   ]
  },
  {
   "cell_type": "code",
   "execution_count": null,
   "metadata": {},
   "outputs": [],
   "source": []
  },
  {
   "cell_type": "code",
   "execution_count": null,
   "metadata": {},
   "outputs": [],
   "source": []
  },
  {
   "cell_type": "code",
   "execution_count": null,
   "metadata": {},
   "outputs": [],
   "source": []
  },
  {
   "cell_type": "code",
   "execution_count": null,
   "metadata": {},
   "outputs": [],
   "source": []
  },
  {
   "cell_type": "code",
   "execution_count": null,
   "metadata": {},
   "outputs": [],
   "source": [
    "# Compute idealized frames and inverted ideal positions\n",
    "idealized_pos = torch.tensor(residue_constants.restype_atom14_rigid_group_positions)\n",
    "idealized_frames = ru.Rigid.from_3_points(\n",
    "    idealized_pos[:, 0],\n",
    "    idealized_pos[:, 1],\n",
    "    idealized_pos[:, 2]\n",
    ")\n",
    "idealized_rots = idealized_frames.get_rots()\n",
    "inverted_idealized_pos = idealized_rots[:, None].invert_apply(idealized_pos)\n",
    "inverted_idealized_bb_pos = torch.stack([\n",
    "    inverted_idealized_pos[:, 0],  # N\n",
    "    inverted_idealized_pos[:, 1],  # Ca\n",
    "    inverted_idealized_pos[:, 2],  # C\n",
    "    inverted_idealized_pos[:, 4],  # Cb\n",
    "], dim=1)"
   ]
  },
  {
   "cell_type": "code",
   "execution_count": null,
   "metadata": {},
   "outputs": [],
   "source": []
  },
  {
   "cell_type": "code",
   "execution_count": null,
   "metadata": {},
   "outputs": [],
   "source": []
  },
  {
   "cell_type": "code",
   "execution_count": null,
   "metadata": {},
   "outputs": [],
   "source": []
  },
  {
   "cell_type": "code",
   "execution_count": null,
   "metadata": {},
   "outputs": [],
   "source": [
    "pred_pos37.shape"
   ]
  },
  {
   "cell_type": "code",
   "execution_count": 57,
   "metadata": {},
   "outputs": [
    {
     "name": "stdout",
     "output_type": "stream",
     "text": [
      "1.4201452\n"
     ]
    }
   ],
   "source": [
    "n_atoms = pred_pos37[:, 0]\n",
    "c_atoms = pred_pos37[:, 2]\n",
    "n_1_atoms = torch.roll(n_atoms, -1, dims=0)\n",
    "print(np.mean(np.linalg.norm(c_atoms - n_1_atoms, axis=-1)[1:]))"
   ]
  },
  {
   "cell_type": "code",
   "execution_count": null,
   "metadata": {},
   "outputs": [],
   "source": []
  },
  {
   "cell_type": "code",
   "execution_count": null,
   "metadata": {},
   "outputs": [],
   "source": []
  },
  {
   "cell_type": "code",
   "execution_count": null,
   "metadata": {},
   "outputs": [],
   "source": []
  },
  {
   "cell_type": "code",
   "execution_count": 47,
   "metadata": {},
   "outputs": [
    {
     "data": {
      "text/plain": [
       "torch.Size([99, 4, 3])"
      ]
     },
     "execution_count": 47,
     "metadata": {},
     "output_type": "execute_result"
    }
   ],
   "source": [
    "pred_bb_atom.shape"
   ]
  },
  {
   "cell_type": "code",
   "execution_count": null,
   "metadata": {},
   "outputs": [],
   "source": [
    "# Plotly\n",
    "all_bb_3d = []\n",
    "for i in range(4):\n",
    "    sample_bb_3d = plotting.create_scatter(\n",
    "        pred_bb_atom[:, i], mode='markers', marker_size=3, opacity=1.0, name=str(i))\n",
    "    all_bb_3d.append(sample_bb_3d)\n",
    "plotting.plot_traces(all_bb_3d)"
   ]
  },
  {
   "cell_type": "code",
   "execution_count": null,
   "metadata": {},
   "outputs": [],
   "source": [
    "n_atoms = bb_atom14[:, 0]\n",
    "c_atoms = bb_atom14[:, 2]\n",
    "n_1_atoms = torch.roll(n_atoms, -1, dims=0)\n",
    "print(np.mean(np.linalg.norm(c_atoms - n_1_atoms, axis=-1)[1:]))"
   ]
  },
  {
   "cell_type": "code",
   "execution_count": null,
   "metadata": {},
   "outputs": [],
   "source": []
  },
  {
   "cell_type": "code",
   "execution_count": null,
   "metadata": {},
   "outputs": [],
   "source": []
  },
  {
   "cell_type": "code",
   "execution_count": null,
   "metadata": {},
   "outputs": [],
   "source": []
  },
  {
   "cell_type": "code",
   "execution_count": null,
   "metadata": {},
   "outputs": [],
   "source": []
  },
  {
   "cell_type": "code",
   "execution_count": null,
   "metadata": {},
   "outputs": [],
   "source": []
  },
  {
   "cell_type": "code",
   "execution_count": null,
   "metadata": {},
   "outputs": [],
   "source": []
  },
  {
   "cell_type": "code",
   "execution_count": 108,
   "metadata": {},
   "outputs": [],
   "source": [
    "restype_atom14_rigid_group_positions = residue_constants.restype_atom14_rigid_group_positions\n",
    "rigid_to_atom = restype_atom14_rigid_group_positions[aatype]\n",
    "# restype_atom37_rigid_group_positions = residue_constants.restype_atom37_rigid_group_positions\n",
    "# rigid_to_atom = restype_atom37_rigid_group_positions[aatype]\n",
    "bb_atom14 = gt_rigids[..., None].apply(rigid_to_atom)"
   ]
  },
  {
   "cell_type": "code",
   "execution_count": 110,
   "metadata": {},
   "outputs": [
    {
     "data": {
      "text/plain": [
       "(21, 14, 3)"
      ]
     },
     "execution_count": 110,
     "metadata": {},
     "output_type": "execute_result"
    }
   ],
   "source": [
    "restype_atom14_rigid_group_positions.shape"
   ]
  },
  {
   "cell_type": "code",
   "execution_count": 95,
   "metadata": {},
   "outputs": [
    {
     "name": "stdout",
     "output_type": "stream",
     "text": [
      "[[-0.529  1.36  -0.   ]\n",
      " [ 0.     0.     0.   ]\n",
      " [ 1.525 -0.    -0.   ]]\n"
     ]
    }
   ],
   "source": [
    "lit_heavy_atoms = np.array(rigid_to_atom[0][:3])\n",
    "print(lit_heavy_atoms)"
   ]
  },
  {
   "cell_type": "code",
   "execution_count": 96,
   "metadata": {},
   "outputs": [
    {
     "data": {
      "text/plain": [
       "array([[-0.29199982,  1.46199989, -0.04099989],\n",
       "       [ 0.        ,  0.        ,  0.        ],\n",
       "       [-0.58399963, -0.60300064, -1.25299978]])"
      ]
     },
     "execution_count": 96,
     "metadata": {},
     "output_type": "execute_result"
    }
   ],
   "source": [
    "gt_heavy_atoms = du.move_to_np(gt_atom_pos37[0][:3])\n",
    "gt_heavy_atoms = gt_heavy_atoms - gt_heavy_atoms[1, :][None]\n",
    "gt_heavy_atoms"
   ]
  },
  {
   "cell_type": "code",
   "execution_count": null,
   "metadata": {},
   "outputs": [],
   "source": [
    "# Plotly\n",
    "lit_bb_3d = plotting.create_scatter(\n",
    "    lit_heavy_atoms, mode='lines+markers', marker_size=3, opacity=1.0, name='lit')\n",
    "gt_bb_3d = plotting.create_scatter(\n",
    "    gt_heavy_atoms, mode='lines+markers', marker_size=3, opacity=1.0, name='gt')\n",
    "plotting.plot_traces([lit_bb_3d, gt_bb_3d])"
   ]
  },
  {
   "cell_type": "code",
   "execution_count": 107,
   "metadata": {},
   "outputs": [
    {
     "name": "stdout",
     "output_type": "stream",
     "text": [
      "det(R) < R, reflection detected!, correcting for it ...\n"
     ]
    }
   ],
   "source": [
    "transformed_lit, R, t, reflection = du.rigid_transform_3D(lit_heavy_atoms, gt_heavy_atoms)"
   ]
  },
  {
   "cell_type": "code",
   "execution_count": null,
   "metadata": {},
   "outputs": [],
   "source": [
    "# Plotly\n",
    "lit_bb_3d = plotting.create_scatter(\n",
    "    transformed_lit, mode='lines+markers', marker_size=3, opacity=1.0, name='lit')\n",
    "gt_bb_3d = plotting.create_scatter(\n",
    "    gt_heavy_atoms, mode='lines+markers', marker_size=3, opacity=1.0, name='gt')\n",
    "plotting.plot_traces([lit_bb_3d, gt_bb_3d])"
   ]
  },
  {
   "cell_type": "code",
   "execution_count": 100,
   "metadata": {},
   "outputs": [
    {
     "data": {
      "text/plain": [
       "array([[-0.37313182, -0.33971679,  0.86334532],\n",
       "       [-0.43777149,  0.88491489,  0.1590024 ],\n",
       "       [-0.81800292, -0.31861911, -0.47890823]])"
      ]
     },
     "execution_count": 100,
     "metadata": {},
     "output_type": "execute_result"
    }
   ],
   "source": [
    "R"
   ]
  },
  {
   "cell_type": "code",
   "execution_count": 103,
   "metadata": {},
   "outputs": [
    {
     "data": {
      "text/plain": [
       "tensor([[ 0.1958, -0.4651,  0.8633],\n",
       "        [-0.9803, -0.1175,  0.1590],\n",
       "        [ 0.0275, -0.8774, -0.4789]])"
      ]
     },
     "execution_count": 103,
     "metadata": {},
     "output_type": "execute_result"
    }
   ],
   "source": [
    "gt_rigids[0].get_rots().get_rot_mats()"
   ]
  },
  {
   "cell_type": "code",
   "execution_count": null,
   "metadata": {},
   "outputs": [],
   "source": []
  },
  {
   "cell_type": "code",
   "execution_count": null,
   "metadata": {},
   "outputs": [],
   "source": []
  },
  {
   "cell_type": "code",
   "execution_count": 64,
   "metadata": {},
   "outputs": [
    {
     "name": "stdout",
     "output_type": "stream",
     "text": [
      "3.841561\n"
     ]
    }
   ],
   "source": [
    "n_atoms = bb_atom14[:, 0]\n",
    "c_atoms = bb_atom14[:, 2]\n",
    "n_1_atoms = torch.roll(n_atoms, -1, dims=0)\n",
    "print(np.mean(np.linalg.norm(c_atoms - n_1_atoms, axis=-1)[1:]))"
   ]
  },
  {
   "cell_type": "code",
   "execution_count": 65,
   "metadata": {},
   "outputs": [
    {
     "data": {
      "text/plain": [
       "array([2.303036 , 2.537033 , 2.5263135, 2.6694305, 2.6375859, 2.6579049,\n",
       "       2.6360335, 4.517839 , 2.938303 , 2.6434772, 3.8515635, 3.8697674,\n",
       "       2.5956886, 2.690506 , 2.5799239, 2.3969874, 2.8545103, 2.7437387,\n",
       "       3.7561011, 3.733092 , 3.7100108, 3.8364956, 3.7235909, 3.9176397,\n",
       "       3.8161192, 4.2673903, 3.8324435, 3.7432697, 3.7386093, 3.8305194,\n",
       "       3.7787533, 3.703727 , 3.9786668, 3.575627 , 2.7652764, 4.1343117,\n",
       "       3.460295 , 3.4982934, 3.6722872, 4.284494 , 3.792689 , 4.5985665,\n",
       "       2.7605398, 2.566919 , 2.541701 , 2.8478298, 3.768873 , 3.7931235,\n",
       "       4.017823 , 3.2341104, 3.6581414, 2.9235253, 3.9820669, 3.3788455,\n",
       "       4.096928 , 3.7435472, 4.218811 , 4.2955384, 2.7516804, 4.358937 ,\n",
       "       2.8214056, 2.6767964, 2.6672158, 2.8475096, 3.5333436, 3.8337595,\n",
       "       3.8000667, 3.7174163, 3.8218966, 3.7367868, 3.8695939, 3.7776365,\n",
       "       4.25324  , 3.4950237, 3.1412287, 4.0663056, 2.3218095, 4.5305333,\n",
       "       2.7677681, 3.7359962, 3.6842716, 3.882018 , 3.732323 , 3.731394 ,\n",
       "       3.6962032, 3.7190983, 3.7073529, 3.7041545, 3.639527 , 3.7684252,\n",
       "       3.7541203, 3.6395953, 3.7272987, 3.8894646, 3.8686147, 3.890545 ,\n",
       "       4.134859 , 2.65667  , 2.561996 , 3.3741074, 3.284858 , 2.7941108,\n",
       "       3.7224536, 3.8913186, 3.6787903, 3.7870955, 3.7205215, 3.7587364,\n",
       "       3.7797387, 3.8202403, 3.7526026, 3.712341 , 3.8191502, 3.7490015,\n",
       "       3.771635 , 3.6131725, 3.8853393, 3.7827837, 3.698959 , 4.178809 ,\n",
       "       3.2490556, 2.7240818, 2.568635 , 2.5606694, 2.4583497],\n",
       "      dtype=float32)"
      ]
     },
     "execution_count": 65,
     "metadata": {},
     "output_type": "execute_result"
    }
   ],
   "source": [
    "np.linalg.norm(c_atoms - n_1_atoms, axis=-1)[1:-1]"
   ]
  },
  {
   "cell_type": "code",
   "execution_count": 66,
   "metadata": {},
   "outputs": [
    {
     "name": "stdout",
     "output_type": "stream",
     "text": [
      "1.3307208180809065\n"
     ]
    }
   ],
   "source": [
    "n_atoms = gt_atom_pos37[:, 0]\n",
    "c_atoms = gt_atom_pos37[:, 2]\n",
    "n_1_atoms = torch.roll(n_atoms, -1, dims=0)\n",
    "print(np.mean(np.linalg.norm(c_atoms - n_1_atoms, axis=-1)[1:-1]))"
   ]
  },
  {
   "cell_type": "code",
   "execution_count": 67,
   "metadata": {},
   "outputs": [
    {
     "data": {
      "text/plain": [
       "array([ 1.32151265,  1.33748459,  1.33471837,  1.33920363,  1.33643749,\n",
       "        1.32075676,  1.3367944 ,  1.33206787,  1.33052013,  1.33005009,\n",
       "        1.33174588,  1.33061239,  1.34885817,  1.32090349,  1.32437685,\n",
       "        1.33014583,  1.33062543,  1.33118571,  1.32702487,  1.33098456,\n",
       "        1.33449034,  1.33377554,  1.3229761 ,  1.32714233,  1.32885368,\n",
       "        1.32790549,  1.33135059,  1.32667468,  1.33174963,  1.33024435,\n",
       "        1.32585857,  1.33112575,  1.3298382 ,  1.33737689,  1.33182014,\n",
       "        1.33244677,  1.33023697,  1.33871029,  1.35298296,  1.3294137 ,\n",
       "        1.3317526 ,  1.32828509,  1.34271884,  1.32132517,  1.32988132,\n",
       "        1.32622204,  1.3260111 ,  1.33236772,  1.32474246,  1.32484023,\n",
       "        1.32510264,  1.34367534,  1.32751265,  1.33328362,  1.33342396,\n",
       "        1.33133035,  1.329336  ,  1.33292872,  1.32065684,  1.33504028,\n",
       "        1.33541407,  1.31798448,  1.3269817 ,  1.3353239 ,  1.32377379,\n",
       "        1.32434745,  1.32504702,  1.33519223,  1.33044426,  1.33057902,\n",
       "        1.32420057,  1.32905157,  1.32473066,  1.33626581,  1.33304467,\n",
       "        1.32490375,  1.3411861 ,  1.33951278,  1.33327854,  1.33137326,\n",
       "        1.33831079,  1.3280286 ,  1.33452952,  1.33434132,  1.33240298,\n",
       "        1.33409824,  1.32635825,  1.32127867,  1.32595591,  1.33549869,\n",
       "        1.32537272,  1.32967931,  1.32328968,  1.33062775,  1.33401851,\n",
       "        1.32914418,  1.32402217,  1.3267937 ,  1.35574897,  1.32758843,\n",
       "        1.34057579,  1.32584972,  1.33759075,  1.33234252,  1.33037396,\n",
       "        1.33260885,  1.33144027,  1.32849408,  1.32938992,  1.32841752,\n",
       "        1.32974419,  1.33658298,  1.3261669 ,  1.33075963,  1.32053811,\n",
       "        1.32343861,  1.32144433,  1.32993666,  1.33393581,  1.33292193,\n",
       "        1.32856819,  1.34556825,  1.32800351,  1.32908472,  1.32518192,\n",
       "       48.8873669 ])"
      ]
     },
     "execution_count": 67,
     "metadata": {},
     "output_type": "execute_result"
    }
   ],
   "source": [
    "np.linalg.norm(c_atoms - n_1_atoms, axis=-1)[1:]"
   ]
  },
  {
   "cell_type": "code",
   "execution_count": 47,
   "metadata": {},
   "outputs": [
    {
     "ename": "RuntimeError",
     "evalue": "The size of tensor a (14) must match the size of tensor b (37) at non-singleton dimension 0",
     "output_type": "error",
     "traceback": [
      "\u001b[0;31m---------------------------------------------------------------------------\u001b[0m",
      "\u001b[0;31mRuntimeError\u001b[0m                              Traceback (most recent call last)",
      "Input \u001b[0;32mIn [47]\u001b[0m, in \u001b[0;36m<module>\u001b[0;34m\u001b[0m\n\u001b[0;32m----> 1\u001b[0m np\u001b[38;5;241m.\u001b[39mmean(np\u001b[38;5;241m.\u001b[39mlinalg\u001b[38;5;241m.\u001b[39mnorm(\u001b[43mbb_atom14\u001b[49m\u001b[43m[\u001b[49m\u001b[38;5;241;43m0\u001b[39;49m\u001b[43m,\u001b[49m\u001b[43m \u001b[49m\u001b[43m:\u001b[49m\u001b[43m,\u001b[49m\u001b[43m \u001b[49m\u001b[43m:\u001b[49m\u001b[38;5;241;43m3\u001b[39;49m\u001b[43m]\u001b[49m\u001b[43m \u001b[49m\u001b[38;5;241;43m-\u001b[39;49m\u001b[43m \u001b[49m\u001b[43mgt_atom_pos37\u001b[49m\u001b[43m[\u001b[49m\u001b[38;5;241;43m0\u001b[39;49m\u001b[43m,\u001b[49m\u001b[43m \u001b[49m\u001b[43m:\u001b[49m\u001b[43m,\u001b[49m\u001b[43m \u001b[49m\u001b[43m:\u001b[49m\u001b[38;5;241;43m3\u001b[39;49m\u001b[43m]\u001b[49m, axis\u001b[38;5;241m=\u001b[39m\u001b[38;5;241m-\u001b[39m\u001b[38;5;241m1\u001b[39m))\n",
      "\u001b[0;31mRuntimeError\u001b[0m: The size of tensor a (14) must match the size of tensor b (37) at non-singleton dimension 0"
     ]
    }
   ],
   "source": [
    "np.mean(np.linalg.norm(bb_atom14[0, :, :3] - gt_atom_pos37[0, :, :3], axis=-1))"
   ]
  },
  {
   "cell_type": "code",
   "execution_count": null,
   "metadata": {},
   "outputs": [],
   "source": []
  },
  {
   "cell_type": "code",
   "execution_count": null,
   "metadata": {},
   "outputs": [],
   "source": []
  },
  {
   "cell_type": "code",
   "execution_count": null,
   "metadata": {},
   "outputs": [],
   "source": []
  },
  {
   "cell_type": "code",
   "execution_count": 23,
   "metadata": {},
   "outputs": [],
   "source": [
    "# bb_atom14 = ['N', 'CA', 'C', 'O', 'CB']\n",
    "# bb_atom37 = ['N', 'CA', 'C', 'CB', 'O']"
   ]
  },
  {
   "cell_type": "code",
   "execution_count": 9,
   "metadata": {},
   "outputs": [
    {
     "data": {
      "text/plain": [
       "torch.Size([16, 260, 5, 3])"
      ]
     },
     "execution_count": 9,
     "metadata": {},
     "output_type": "execute_result"
    }
   ],
   "source": [
    "bb_atom14"
   ]
  },
  {
   "cell_type": "code",
   "execution_count": 11,
   "metadata": {},
   "outputs": [
    {
     "data": {
      "text/plain": [
       "0.7515541097534891"
      ]
     },
     "execution_count": 11,
     "metadata": {},
     "output_type": "execute_result"
    }
   ],
   "source": [
    "np.mean(np.linalg.norm(bb_atom14[0, :, :3] - gt_atom_pos37[0, :, :3], axis=-1))"
   ]
  },
  {
   "cell_type": "code",
   "execution_count": 36,
   "metadata": {},
   "outputs": [
    {
     "data": {
      "text/plain": [
       "tensor([[  1.4630, -16.0782,   1.7241],\n",
       "        [  1.6010, -17.1642,   2.6851],\n",
       "        [  3.0240, -17.5712,   3.0661]], dtype=torch.float64)"
      ]
     },
     "execution_count": 36,
     "metadata": {},
     "output_type": "execute_result"
    }
   ],
   "source": [
    "gt_atom_pos37[0, 50, :3]"
   ]
  },
  {
   "cell_type": "code",
   "execution_count": null,
   "metadata": {},
   "outputs": [],
   "source": []
  },
  {
   "cell_type": "code",
   "execution_count": null,
   "metadata": {},
   "outputs": [],
   "source": []
  },
  {
   "cell_type": "code",
   "execution_count": null,
   "metadata": {},
   "outputs": [],
   "source": []
  },
  {
   "cell_type": "code",
   "execution_count": null,
   "metadata": {},
   "outputs": [],
   "source": []
  },
  {
   "cell_type": "code",
   "execution_count": null,
   "metadata": {},
   "outputs": [],
   "source": []
  },
  {
   "cell_type": "code",
   "execution_count": 55,
   "metadata": {},
   "outputs": [
    {
     "data": {
      "text/plain": [
       "torch.Size([16, 260, 37, 3])"
      ]
     },
     "execution_count": 55,
     "metadata": {},
     "output_type": "execute_result"
    }
   ],
   "source": [
    "gt_atom_pos37.shape"
   ]
  },
  {
   "cell_type": "code",
   "execution_count": null,
   "metadata": {},
   "outputs": [],
   "source": []
  },
  {
   "cell_type": "code",
   "execution_count": 44,
   "metadata": {},
   "outputs": [],
   "source": [
    "bb_atoms = gt_rigids[..., None].apply(rigid_to_atom)[..., :5, :]"
   ]
  },
  {
   "cell_type": "code",
   "execution_count": 45,
   "metadata": {},
   "outputs": [
    {
     "data": {
      "text/plain": [
       "torch.Size([16, 260, 5, 3])"
      ]
     },
     "execution_count": 45,
     "metadata": {},
     "output_type": "execute_result"
    }
   ],
   "source": [
    "bb_atoms.shape"
   ]
  },
  {
   "cell_type": "code",
   "execution_count": null,
   "metadata": {},
   "outputs": [],
   "source": []
  },
  {
   "cell_type": "code",
   "execution_count": 30,
   "metadata": {},
   "outputs": [
    {
     "data": {
      "text/plain": [
       "torch.Size([16, 260])"
      ]
     },
     "execution_count": 30,
     "metadata": {},
     "output_type": "execute_result"
    }
   ],
   "source": [
    "aatype.shape"
   ]
  },
  {
   "cell_type": "code",
   "execution_count": null,
   "metadata": {},
   "outputs": [],
   "source": []
  },
  {
   "cell_type": "code",
   "execution_count": null,
   "metadata": {},
   "outputs": [],
   "source": []
  },
  {
   "cell_type": "code",
   "execution_count": 19,
   "metadata": {},
   "outputs": [
    {
     "name": "stdout",
     "output_type": "stream",
     "text": [
      "ckpt_dir: ../pkl_jar/ckpt/subset_100_05D_09M_2022Y_20h_17m_53s\n",
      "output_dir: ../results\n",
      "default_conf_path: ../config/base.yaml\n",
      "samples_per_length: 10\n",
      "sequence_length_range:\n",
      "- 80\n",
      "- 120\n",
      "- 200\n",
      "add_noise: true\n",
      "\n"
     ]
    }
   ],
   "source": [
    "# Load model\n",
    "inference_conf_path = '../config/inference.yaml'\n",
    "inference_conf = OmegaConf.load(inference_conf_path)\n",
    "inference_conf.ckpt_dir = '../pkl_jar/ckpt/subset_100_05D_09M_2022Y_20h_17m_53s'\n",
    "inference_conf.default_conf_path = '../config/base.yaml'\n",
    "inference_conf.output_dir = '../results'\n",
    "\n",
    "print(OmegaConf.to_yaml(inference_conf))\n",
    "\n",
    "# Set up sampler\n",
    "sampler = inference_se3_diffusion.Sampler(inference_conf)"
   ]
  },
  {
   "cell_type": "code",
   "execution_count": 21,
   "metadata": {},
   "outputs": [],
   "source": [
    "# Run sampler\n",
    "batch_size = 16\n",
    "num_res = 100\n",
    "save = True\n",
    "samples_traj = sampler.sample(batch_size, num_res, save=save)"
   ]
  },
  {
   "cell_type": "code",
   "execution_count": 34,
   "metadata": {},
   "outputs": [],
   "source": [
    "# Calculate Ca-Ca bond stats for each sample\n",
    "b_idx = 0\n",
    "final_sample = samples_traj[b_idx, -1]\n",
    "final_sample_ca_pos = du.move_to_np(final_sample[:, 4:]) * sampler.scale_factor\n",
    "ca_bond_dists = np.linalg.norm(final_sample_ca_pos - np.roll(final_sample_ca_pos, 1, axis=0), axis=-1)[1:]\n",
    "ca_bond_dist_mean = np.mean(ca_bond_dists)\n",
    "ca_bond_dist_std = np.std(ca_bond_dists)\n",
    "ca_bond_dist_div = np.mean(ca_bond_dists - 3.8)"
   ]
  },
  {
   "cell_type": "code",
   "execution_count": null,
   "metadata": {},
   "outputs": [],
   "source": []
  },
  {
   "cell_type": "code",
   "execution_count": null,
   "metadata": {},
   "outputs": [],
   "source": []
  },
  {
   "cell_type": "code",
   "execution_count": null,
   "metadata": {},
   "outputs": [],
   "source": []
  },
  {
   "cell_type": "code",
   "execution_count": null,
   "metadata": {},
   "outputs": [],
   "source": []
  },
  {
   "cell_type": "code",
   "execution_count": 27,
   "metadata": {},
   "outputs": [
    {
     "data": {
      "image/png": "[encoded data removed]",
      "text/plain": [
       "<Figure size 432x288 with 2 Axes>"
      ]
     },
     "metadata": {
      "needs_background": "light"
     },
     "output_type": "display_data"
    }
   ],
   "source": [
    "dist_mat = np.linalg.norm(final_sample_ca_pos[None] - final_sample_ca_pos[:, None], axis=-1)\n",
    "ax = sns.heatmap(dist_mat)"
   ]
  },
  {
   "cell_type": "code",
   "execution_count": 28,
   "metadata": {},
   "outputs": [
    {
     "data": {
      "image/png": "[encoded data removed]",
      "text/plain": [
       "<Figure size 432x288 with 1 Axes>"
      ]
     },
     "metadata": {
      "needs_background": "light"
     },
     "output_type": "display_data"
    }
   ],
   "source": [
    "bins = np.linspace(1, 7, 40)\n",
    "_ = plt.hist(bond_dists, bins=bins)"
   ]
  },
  {
   "cell_type": "code",
   "execution_count": null,
   "metadata": {},
   "outputs": [],
   "source": []
  },
  {
   "cell_type": "code",
   "execution_count": null,
   "metadata": {},
   "outputs": [],
   "source": []
  },
  {
   "cell_type": "code",
   "execution_count": 23,
   "metadata": {},
   "outputs": [
    {
     "data": {
      "image/png": "[encoded data removed]",
      "text/plain": [
       "<Figure size 720x720 with 1 Axes>"
      ]
     },
     "metadata": {
      "needs_background": "light"
     },
     "output_type": "display_data"
    }
   ],
   "source": [
    "# Visualize aligned Ca structures\n",
    "fig = plt.figure(figsize=(10, 10))\n",
    "ax = plt.axes(projection='3d')\n",
    "\n",
    "plotting.plt_3d(final_sample_ca_pos, ax, color='r', s=100, mode='scatter')\n",
    "plotting.plt_3d(final_sample_ca_pos, ax, color='r', mode='line')\n",
    "# plotting.plt_3d(gt_ca, ax, color='b', s=100, mode='scatter')\n",
    "# plotting.plt_3d(gt_ca, ax, color='b', mode='line')"
   ]
  },
  {
   "cell_type": "code",
   "execution_count": null,
   "metadata": {},
   "outputs": [],
   "source": []
  },
  {
   "cell_type": "code",
   "execution_count": null,
   "metadata": {},
   "outputs": [],
   "source": []
  },
  {
   "cell_type": "code",
   "execution_count": null,
   "metadata": {},
   "outputs": [],
   "source": []
  },
  {
   "cell_type": "code",
   "execution_count": null,
   "metadata": {},
   "outputs": [],
   "source": []
  }
 ],
 "metadata": {
  "kernelspec": {
   "display_name": "Python 3 (ipykernel)",
   "language": "python",
   "name": "python3"
  },
  "language_info": {
   "codemirror_mode": {
    "name": "ipython",
    "version": 3
   },
   "file_extension": ".py",
   "mimetype": "text/x-python",
   "name": "python",
   "nbconvert_exporter": "python",
   "pygments_lexer": "ipython3",
   "version": "3.8.12"
  }
 },
 "nbformat": 4,
 "nbformat_minor": 4
}
