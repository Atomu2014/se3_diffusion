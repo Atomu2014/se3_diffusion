{
 "cells": [
  {
   "cell_type": "code",
   "execution_count": 2,
   "metadata": {
    "tags": []
   },
   "outputs": [
    {
     "name": "stderr",
     "output_type": "stream",
     "text": [
      "/data/rsg/chemistry/jyim/miniconda3/envs/dev/lib/python3.8/site-packages/scipy/__init__.py:146: UserWarning: A NumPy version >=1.16.5 and <1.23.0 is required for this version of SciPy (detected version 1.23.1\n",
      "  warnings.warn(f\"A NumPy version >={np_minversion} and <{np_maxversion}\"\n",
      "INFO: Using numpy backend\n",
      "WARNING: Warning: importing 'simtk.openmm' is deprecated.  Import 'openmm' instead.\n"
     ]
    },
    {
     "ename": "SyntaxError",
     "evalue": "invalid syntax (train_se3_diffusion.py, line 400)",
     "output_type": "error",
     "traceback": [
      "Traceback \u001b[0;36m(most recent call last)\u001b[0m:\n",
      "  File \u001b[1;32m/data/rsg/chemistry/jyim/miniconda3/envs/dev/lib/python3.8/site-packages/IPython/core/interactiveshell.py:3251\u001b[0m in \u001b[1;35mrun_code\u001b[0m\n    exec(code_obj, self.user_global_ns, self.user_ns)\n",
      "\u001b[0;36m  Input \u001b[0;32mIn [2]\u001b[0;36m in \u001b[0;35m<module>\u001b[0;36m\u001b[0m\n\u001b[0;31m    from experiments import train_se3_diffusion\u001b[0m\n",
      "\u001b[0;36m  File \u001b[0;32m/data/rsg/chemistry/jyim/projects/protein_diffusion/experiments/train_se3_diffusion.py:400\u001b[0;36m\u001b[0m\n\u001b[0;31m    }\u001b[0m\n\u001b[0m    ^\u001b[0m\n\u001b[0;31mSyntaxError\u001b[0m\u001b[0;31m:\u001b[0m invalid syntax\n"
     ]
    }
   ],
   "source": [
    "import torch\n",
    "import os\n",
    "import numpy as np\n",
    "import matplotlib.pyplot as plt\n",
    "import copy\n",
    "import pickle\n",
    "import GPUtil\n",
    "from collections import defaultdict\n",
    "from analysis import utils as au\n",
    "from analysis import plotting\n",
    "from data import utils as du\n",
    "from data import se3_diffuser\n",
    "from data import r3_diffuser\n",
    "from data import so3_diffuser\n",
    "import seaborn as sns\n",
    "from model import loss\n",
    "from model import reverse_se3_diffusion\n",
    "import tree\n",
    "import mdtraj as md\n",
    "from openfold.np.relax import amber_minimize\n",
    "from data import rosetta_data_loader\n",
    "from data import digs_data_loader\n",
    "from data import all_atom\n",
    "from experiments import train_se3_diffusion\n",
    "from experiments import inference_se3_diffusion\n",
    "from openfold.utils import rigid_utils as ru\n",
    "from openfold.np import residue_constants\n",
    "from scipy.spatial.transform import Rotation\n",
    "\n",
    "from omegaconf import DictConfig, OmegaConf\n",
    "import importlib\n",
    "\n",
    "# Enable logging\n",
    "import logging\n",
    "import sys\n",
    "date_strftime_format = \"%Y-%m-%y %H:%M:%S\"\n",
    "logging.basicConfig(stream=sys.stdout, level=logging.INFO, format=\"%(asctime)s %(message)s\", datefmt=date_strftime_format)"
   ]
  },
  {
   "cell_type": "code",
   "execution_count": null,
   "metadata": {},
   "outputs": [],
   "source": [
    "# Set environment variables for which GPUs to use.\n",
    "os.environ[\"CUDA_DEVICE_ORDER\"] = \"PCI_BUS_ID\"\n",
    "chosen_gpu = ''.join(\n",
    "    [str(x) for x in GPUtil.getAvailable(order='memory')])\n",
    "os.environ[\"CUDA_VISIBLE_DEVICES\"] = chosen_gpu\n",
    "print(f\"Using GPU: {chosen_gpu}\")"
   ]
  },
  {
   "cell_type": "code",
   "execution_count": null,
   "metadata": {
    "tags": []
   },
   "outputs": [],
   "source": [
    "importlib.reload(rosetta_data_loader)\n",
    "importlib.reload(digs_data_loader)\n",
    "importlib.reload(se3_diffuser)\n",
    "importlib.reload(so3_diffuser)\n",
    "importlib.reload(r3_diffuser)\n",
    "importlib.reload(du)\n",
    "importlib.reload(au)\n",
    "importlib.reload(all_atom)\n",
    "importlib.reload(plotting)\n",
    "importlib.reload(loss)\n",
    "importlib.reload(reverse_se3_diffusion)\n",
    "importlib.reload(inference_se3_diffusion)\n",
    "importlib.reload(train_se3_diffusion)"
   ]
  },
  {
   "cell_type": "markdown",
   "metadata": {
    "tags": []
   },
   "source": [
    "## Trial different metrics"
   ]
  },
  {
   "cell_type": "code",
   "execution_count": null,
   "metadata": {},
   "outputs": [],
   "source": [
    "# Load model\n",
    "inference_conf_path = '../config/inference.yaml'\n",
    "inference_conf = OmegaConf.load(inference_conf_path)\n",
    "# inference_conf.ckpt_dir = '../pkl_jar/ckpt/subset_100_psi_joint_09D_09M_2022Y_05h_36m_56s'\n",
    "inference_conf.ckpt_dir = '../pkl_jar/ckpt/subset_1_psi_stop_exp_lin_09D_09M_2022Y_05h_43m_26s'\n",
    "inference_conf.default_conf_path = '../config/base.yaml'\n",
    "inference_conf.output_dir = '../results'\n",
    "\n",
    "print(OmegaConf.to_yaml(inference_conf))\n",
    "\n",
    "# Set up sampler\n",
    "sampler = inference_se3_diffusion.Sampler(inference_conf)"
   ]
  },
  {
   "cell_type": "code",
   "execution_count": null,
   "metadata": {},
   "outputs": [],
   "source": [
    "train_loader, valid_loader = sampler.exp.create_rosetta_dataset(0, 1)\n",
    "train_csv = train_loader.dataset.csv"
   ]
  },
  {
   "cell_type": "code",
   "execution_count": null,
   "metadata": {},
   "outputs": [],
   "source": [
    "train_csv.head()"
   ]
  },
  {
   "cell_type": "code",
   "execution_count": null,
   "metadata": {
    "tags": []
   },
   "outputs": [],
   "source": [
    "# Run sampler\n",
    "batch_size = 1\n",
    "num_res = 207\n",
    "save = True\n",
    "samples_traj = sampler.sample(batch_size, num_res, save=save)"
   ]
  },
  {
   "cell_type": "code",
   "execution_count": null,
   "metadata": {},
   "outputs": [],
   "source": [
    "# Set up MDTraj\n",
    "pdb_path = '../results/test_data/1qys.pdb'\n",
    "pdb_path = '../results/subset_1_psi_stop_exp_lin_09D_09M_2022Y_05h_43m_26s/len_207_bb_3.pdb'\n",
    "# pdb_path = '../results/subset_100_psi_joint_09D_09M_2022Y_05h_36m_56s/len_152_bb_4.pdb'\n",
    "traj = md.load(pdb_path)\n",
    "# SS percentage\n",
    "pdb_ss = md.compute_dssp(traj, simplified=True)\n",
    "pdb_ss_percent = np.mean(pdb_ss != 'C')\n",
    "# Radius of gyration\n",
    "pdb_rg = md.compute_rg(traj)"
   ]
  },
  {
   "cell_type": "code",
   "execution_count": null,
   "metadata": {},
   "outputs": [],
   "source": [
    "prot_traj = samples_traj[1]\n",
    "atom37_pos = du.move_to_np(prot_traj[0, -1])\n",
    "atom37_mask = np.any(atom37_pos, axis=-1)"
   ]
  },
  {
   "cell_type": "code",
   "execution_count": null,
   "metadata": {},
   "outputs": [],
   "source": [
    "# TODO: Create protein object then violation metrics.\n",
    "prot = au.create_full_prot(atom37_pos, atom37_mask)\n",
    "violation_metrics = amber_minimize.get_violation_metrics(prot)"
   ]
  },
  {
   "cell_type": "code",
   "execution_count": null,
   "metadata": {},
   "outputs": [],
   "source": [
    "struct_violations = violation_metrics['structural_violations']\n",
    "inter_violations = struct_violations['between_residues']\n",
    "intra_violations = struct_violations['within_residues']"
   ]
  },
  {
   "cell_type": "code",
   "execution_count": 63,
   "metadata": {},
   "outputs": [],
   "source": [
    "inter_violation_metrics = [\n",
    "    'bonds_c_n_loss_mean',\n",
    "    'angles_ca_c_n_loss_mean',\n",
    "    'angles_c_n_ca_loss_mean',\n",
    "    'clashes_mean_loss',\n",
    "]\n",
    "\n",
    "intra_violation_metrics = [\n",
    "    'per_atom_loss_sum',\n",
    "    'per_atom_violations',\n",
    "]"
   ]
  },
  {
   "cell_type": "code",
   "execution_count": 1,
   "metadata": {},
   "outputs": [
    {
     "ename": "NameError",
     "evalue": "name 'inter_violation_metrics' is not defined",
     "output_type": "error",
     "traceback": [
      "\u001b[0;31m---------------------------------------------------------------------------\u001b[0m",
      "\u001b[0;31mNameError\u001b[0m                                 Traceback (most recent call last)",
      "Input \u001b[0;32mIn [1]\u001b[0m, in \u001b[0;36m<module>\u001b[0;34m\u001b[0m\n\u001b[0;32m----> 1\u001b[0m \u001b[43minter_violation_metrics\u001b[49m\n",
      "\u001b[0;31mNameError\u001b[0m: name 'inter_violation_metrics' is not defined"
     ]
    }
   ],
   "source": [
    "inter_violation_metrics"
   ]
  },
  {
   "cell_type": "code",
   "execution_count": null,
   "metadata": {},
   "outputs": [],
   "source": []
  },
  {
   "cell_type": "markdown",
   "metadata": {},
   "source": [
    "## Set-up validation set"
   ]
  },
  {
   "cell_type": "code",
   "execution_count": 76,
   "metadata": {},
   "outputs": [],
   "source": [
    "# Load config.\n",
    "conf = OmegaConf.load('../config/base.yaml')\n",
    "\n",
    "# Redirect cache from notebook directory.\n",
    "exp_conf = conf.experiment\n",
    "exp_conf.data_location = 'rosetta'\n",
    "exp_conf.ckpt_dir = None\n",
    "exp_conf.num_loader_workers = 1\n",
    "exp_conf.dist_mode = 'single'\n",
    "exp_conf.use_wandb = False\n",
    "exp_conf.normalize_pred_score = True\n",
    "\n",
    "data_conf = conf.data\n",
    "\n",
    "diff_conf = conf.diffuser\n",
    "diff_conf.diffuse_trans = True\n",
    "diff_conf.diffuse_rot = True\n",
    "\n",
    "diff_conf.rot_schedule = 'linear'\n",
    "diff_conf.trans_schedule = 'exponential'\n",
    "\n",
    "# print(OmegaConf.to_yaml(conf))"
   ]
  },
  {
   "cell_type": "code",
   "execution_count": 77,
   "metadata": {},
   "outputs": [
    {
     "name": "stderr",
     "output_type": "stream",
     "text": [
      "INFO: Number of model parameters 3685920\n",
      "INFO: Using cached IGSO3.\n",
      "INFO: Checkpoint not being saved.\n",
      "INFO: Training: 18769 examples\n",
      "INFO: Validation: 18769 examples\n"
     ]
    }
   ],
   "source": [
    "# Figure out data loading for PDB on rosetta\n",
    "exp = train_se3_diffusion.Experiment(conf=conf)\n",
    "train_loader, valid_loader = exp.create_rosetta_dataset(0, 1)"
   ]
  },
  {
   "cell_type": "code",
   "execution_count": 83,
   "metadata": {},
   "outputs": [
    {
     "data": {
      "text/plain": [
       "129    961\n",
       "257    617\n",
       "223    524\n",
       "162    406\n",
       "258    395\n",
       "      ... \n",
       "72      14\n",
       "68      13\n",
       "78      12\n",
       "63      11\n",
       "70       8\n",
       "Name: modeled_seq_len, Length: 201, dtype: int64"
      ]
     },
     "execution_count": 83,
     "metadata": {},
     "output_type": "execute_result"
    }
   ],
   "source": [
    "train_loader.dataset.csv.modeled_seq_len.value_counts()"
   ]
  },
  {
   "cell_type": "code",
   "execution_count": 93,
   "metadata": {},
   "outputs": [
    {
     "data": {
      "text/plain": [
       "25       964\n",
       "18       949\n",
       "6        853\n",
       "98       539\n",
       "146      412\n",
       "        ... \n",
       "33867      1\n",
       "30895      1\n",
       "25461      1\n",
       "32204      1\n",
       "19740      1\n",
       "Name: mmseqs_cluster, Length: 4106, dtype: int64"
      ]
     },
     "execution_count": 93,
     "metadata": {},
     "output_type": "execute_result"
    }
   ],
   "source": [
    "train_loader.dataset.csv.mmseqs_cluster.value_counts()"
   ]
  },
  {
   "cell_type": "code",
   "execution_count": 100,
   "metadata": {},
   "outputs": [
    {
     "data": {
      "text/plain": [
       "0          555\n",
       "8         9751\n",
       "15         174\n",
       "22         768\n",
       "28         105\n",
       "          ... \n",
       "144703     118\n",
       "144731      98\n",
       "144733      98\n",
       "144734      98\n",
       "144735     146\n",
       "Name: mmseqs_cluster, Length: 18769, dtype: object"
      ]
     },
     "execution_count": 100,
     "metadata": {},
     "output_type": "execute_result"
    }
   ],
   "source": [
    "train_loader.dataset.csv.mmseqs_cluster.fillna(-1)"
   ]
  },
  {
   "cell_type": "code",
   "execution_count": 102,
   "metadata": {},
   "outputs": [
    {
     "data": {
      "text/plain": [
       "<AxesSubplot:>"
      ]
     },
     "execution_count": 102,
     "metadata": {},
     "output_type": "execute_result"
    },
    {
     "data": {
      "image/png": "[encoded data removed]",
      "text/plain": [
       "<Figure size 640x480 with 1 Axes>"
      ]
     },
     "metadata": {},
     "output_type": "display_data"
    }
   ],
   "source": [
    "train_loader.dataset.csv.mmseqs_cluster.fillna(-1).map(int).hist(bins=100)"
   ]
  },
  {
   "cell_type": "code",
   "execution_count": null,
   "metadata": {},
   "outputs": [],
   "source": [
    "train_loader.dataset.csv.mmseqs_cluster.fillna(-1)."
   ]
  },
  {
   "cell_type": "code",
   "execution_count": 85,
   "metadata": {},
   "outputs": [
    {
     "data": {
      "text/plain": [
       "<AxesSubplot:>"
      ]
     },
     "execution_count": 85,
     "metadata": {},
     "output_type": "execute_result"
    },
    {
     "data": {
      "image/png": "[encoded data removed]",
      "text/plain": [
       "<Figure size 640x480 with 1 Axes>"
      ]
     },
     "metadata": {},
     "output_type": "display_data"
    }
   ],
   "source": [
    "train_loader.dataset.csv.modeled_seq_len.hist(bins=100)"
   ]
  },
  {
   "cell_type": "code",
   "execution_count": 3,
   "metadata": {},
   "outputs": [],
   "source": [
    "base_dir = '/data/rsg/chemistry/jyim/projects/protein_diffusion/data/cath'\n",
    "cath_domain_file = os.path.join(base_dir, 'cath-domain-list.txt')\n",
    "cath_nr40_file = os.path.join(base_dir, 'cath-dataset-nonredundant-S40.list')"
   ]
  },
  {
   "cell_type": "code",
   "execution_count": 4,
   "metadata": {},
   "outputs": [],
   "source": [
    "with open(cath_nr40_file) as f:\n",
    "    cath_nr40_ids = f.read().split('\\n')[:-1]\n",
    "cath_nr40_chains = list(set(cath_id[:5] for cath_id in cath_nr40_ids))\n",
    "chain_set = sorted([(name[:4], name[4]) for name in  cath_nr40_chains])\n",
    "\n",
    "cath_nodes = defaultdict(list)\n",
    "with open(cath_domain_file,'r') as f:\n",
    "    lines = [line.strip() for line in f if not line.startswith('#')]\n",
    "    for line in lines:\n",
    "        entries = line.split()\n",
    "        cath_id, cath_node = entries[0], '.'.join(entries[1:4])\n",
    "        chain_name = cath_id[:4] + '.' + cath_id[4]\n",
    "        cath_nodes[chain_name].append(cath_node)\n",
    "cath_nodes = {key:list(set(val)) for key,val in cath_nodes.items()}"
   ]
  },
  {
   "cell_type": "code",
   "execution_count": null,
   "metadata": {},
   "outputs": [],
   "source": []
  },
  {
   "cell_type": "code",
   "execution_count": null,
   "metadata": {},
   "outputs": [],
   "source": []
  },
  {
   "cell_type": "code",
   "execution_count": 8,
   "metadata": {},
   "outputs": [],
   "source": [
    "import pandas as pd"
   ]
  },
  {
   "cell_type": "code",
   "execution_count": 11,
   "metadata": {},
   "outputs": [],
   "source": [
    "cath_dir = '/data/rsg/chemistry/jyim/large_data/cath'\n",
    "cath_csv_path = os.path.join(cath_dir, 'metadata.csv')"
   ]
  },
  {
   "cell_type": "code",
   "execution_count": 26,
   "metadata": {},
   "outputs": [],
   "source": [
    "cath_csv = pd.read_csv(cath_csv_path)"
   ]
  },
  {
   "cell_type": "code",
   "execution_count": 29,
   "metadata": {},
   "outputs": [
    {
     "data": {
      "text/html": [
       "<div>\n",
       "<style scoped>\n",
       "    .dataframe tbody tr th:only-of-type {\n",
       "        vertical-align: middle;\n",
       "    }\n",
       "\n",
       "    .dataframe tbody tr th {\n",
       "        vertical-align: top;\n",
       "    }\n",
       "\n",
       "    .dataframe thead th {\n",
       "        text-align: right;\n",
       "    }\n",
       "</style>\n",
       "<table border=\"1\" class=\"dataframe\">\n",
       "  <thead>\n",
       "    <tr style=\"text-align: right;\">\n",
       "      <th></th>\n",
       "      <th>chain_name</th>\n",
       "      <th>cath_code</th>\n",
       "      <th>cath_split</th>\n",
       "      <th>processed_path</th>\n",
       "      <th>raw_path</th>\n",
       "      <th>oligomeric_count</th>\n",
       "      <th>oligomeric_detail</th>\n",
       "      <th>resolution</th>\n",
       "      <th>structure_method</th>\n",
       "      <th>num_chains</th>\n",
       "      <th>seq_len</th>\n",
       "      <th>modeled_seq_len</th>\n",
       "      <th>coil_percent</th>\n",
       "      <th>helix_percent</th>\n",
       "      <th>strand_percent</th>\n",
       "      <th>radius_gyration</th>\n",
       "    </tr>\n",
       "  </thead>\n",
       "  <tbody>\n",
       "    <tr>\n",
       "      <th>1105</th>\n",
       "      <td>4nav.A</td>\n",
       "      <td>['3.40.50']</td>\n",
       "      <td>train</td>\n",
       "      <td>/data/rsg/chemistry/jyim/large_data/cath/na/4n...</td>\n",
       "      <td>/data/rsg/chemistry/jyim/large_data/pdb/30_08_...</td>\n",
       "      <td>4,4</td>\n",
       "      <td>tetrameric,tetrameric</td>\n",
       "      <td>2.69</td>\n",
       "      <td>x-ray diffraction</td>\n",
       "      <td>4</td>\n",
       "      <td>190</td>\n",
       "      <td>181</td>\n",
       "      <td>0.453039</td>\n",
       "      <td>0.408840</td>\n",
       "      <td>0.138122</td>\n",
       "      <td>[1.56458876]</td>\n",
       "    </tr>\n",
       "    <tr>\n",
       "      <th>1107</th>\n",
       "      <td>4uhc.A</td>\n",
       "      <td>['3.40.50']</td>\n",
       "      <td>train</td>\n",
       "      <td>/data/rsg/chemistry/jyim/large_data/cath/uh/4u...</td>\n",
       "      <td>/data/rsg/chemistry/jyim/large_data/pdb/30_08_...</td>\n",
       "      <td>1</td>\n",
       "      <td>monomeric</td>\n",
       "      <td>1.03</td>\n",
       "      <td>x-ray diffraction</td>\n",
       "      <td>1</td>\n",
       "      <td>716</td>\n",
       "      <td>278</td>\n",
       "      <td>0.323741</td>\n",
       "      <td>0.496403</td>\n",
       "      <td>0.179856</td>\n",
       "      <td>[1.81761436]</td>\n",
       "    </tr>\n",
       "    <tr>\n",
       "      <th>1110</th>\n",
       "      <td>3m2p.A</td>\n",
       "      <td>['3.40.50']</td>\n",
       "      <td>train</td>\n",
       "      <td>/data/rsg/chemistry/jyim/large_data/cath/m2/3m...</td>\n",
       "      <td>/data/rsg/chemistry/jyim/large_data/pdb/30_08_...</td>\n",
       "      <td>2,2,2</td>\n",
       "      <td>dimeric,dimeric,dimeric</td>\n",
       "      <td>2.95</td>\n",
       "      <td>x-ray diffraction</td>\n",
       "      <td>6</td>\n",
       "      <td>314</td>\n",
       "      <td>287</td>\n",
       "      <td>0.400697</td>\n",
       "      <td>0.393728</td>\n",
       "      <td>0.205575</td>\n",
       "      <td>[1.95616136]</td>\n",
       "    </tr>\n",
       "    <tr>\n",
       "      <th>1112</th>\n",
       "      <td>3bje.A</td>\n",
       "      <td>['3.40.50']</td>\n",
       "      <td>train</td>\n",
       "      <td>/data/rsg/chemistry/jyim/large_data/cath/bj/3b...</td>\n",
       "      <td>/data/rsg/chemistry/jyim/large_data/pdb/30_08_...</td>\n",
       "      <td>2</td>\n",
       "      <td>dimeric</td>\n",
       "      <td>1.44</td>\n",
       "      <td>x-ray diffraction</td>\n",
       "      <td>2</td>\n",
       "      <td>563</td>\n",
       "      <td>327</td>\n",
       "      <td>0.382263</td>\n",
       "      <td>0.354740</td>\n",
       "      <td>0.262997</td>\n",
       "      <td>[2.01599164]</td>\n",
       "    </tr>\n",
       "    <tr>\n",
       "      <th>1114</th>\n",
       "      <td>3lp5.A</td>\n",
       "      <td>['3.40.50']</td>\n",
       "      <td>train</td>\n",
       "      <td>/data/rsg/chemistry/jyim/large_data/cath/lp/3l...</td>\n",
       "      <td>/data/rsg/chemistry/jyim/large_data/pdb/30_08_...</td>\n",
       "      <td>1</td>\n",
       "      <td>monomeric</td>\n",
       "      <td>2.00</td>\n",
       "      <td>x-ray diffraction</td>\n",
       "      <td>1</td>\n",
       "      <td>406</td>\n",
       "      <td>250</td>\n",
       "      <td>0.420000</td>\n",
       "      <td>0.376000</td>\n",
       "      <td>0.204000</td>\n",
       "      <td>[1.72581546]</td>\n",
       "    </tr>\n",
       "    <tr>\n",
       "      <th>...</th>\n",
       "      <td>...</td>\n",
       "      <td>...</td>\n",
       "      <td>...</td>\n",
       "      <td>...</td>\n",
       "      <td>...</td>\n",
       "      <td>...</td>\n",
       "      <td>...</td>\n",
       "      <td>...</td>\n",
       "      <td>...</td>\n",
       "      <td>...</td>\n",
       "      <td>...</td>\n",
       "      <td>...</td>\n",
       "      <td>...</td>\n",
       "      <td>...</td>\n",
       "      <td>...</td>\n",
       "      <td>...</td>\n",
       "    </tr>\n",
       "    <tr>\n",
       "      <th>18968</th>\n",
       "      <td>1shu.X</td>\n",
       "      <td>['3.40.50']</td>\n",
       "      <td>train</td>\n",
       "      <td>/data/rsg/chemistry/jyim/large_data/cath/sh/1s...</td>\n",
       "      <td>/data/rsg/chemistry/jyim/large_data/pdb/30_08_...</td>\n",
       "      <td>1</td>\n",
       "      <td>monomeric</td>\n",
       "      <td>1.50</td>\n",
       "      <td>x-ray diffraction</td>\n",
       "      <td>1</td>\n",
       "      <td>336</td>\n",
       "      <td>181</td>\n",
       "      <td>0.292818</td>\n",
       "      <td>0.475138</td>\n",
       "      <td>0.232044</td>\n",
       "      <td>[1.53445842]</td>\n",
       "    </tr>\n",
       "    <tr>\n",
       "      <th>18970</th>\n",
       "      <td>1r1d.A</td>\n",
       "      <td>['3.40.50']</td>\n",
       "      <td>train</td>\n",
       "      <td>/data/rsg/chemistry/jyim/large_data/cath/r1/1r...</td>\n",
       "      <td>/data/rsg/chemistry/jyim/large_data/pdb/30_08_...</td>\n",
       "      <td>2</td>\n",
       "      <td>dimeric</td>\n",
       "      <td>1.90</td>\n",
       "      <td>x-ray diffraction</td>\n",
       "      <td>2</td>\n",
       "      <td>549</td>\n",
       "      <td>242</td>\n",
       "      <td>0.396694</td>\n",
       "      <td>0.462810</td>\n",
       "      <td>0.140496</td>\n",
       "      <td>[1.83645909]</td>\n",
       "    </tr>\n",
       "    <tr>\n",
       "      <th>18982</th>\n",
       "      <td>2yfk.A</td>\n",
       "      <td>['3.40.50']</td>\n",
       "      <td>train</td>\n",
       "      <td>/data/rsg/chemistry/jyim/large_data/cath/yf/2y...</td>\n",
       "      <td>/data/rsg/chemistry/jyim/large_data/pdb/30_08_...</td>\n",
       "      <td>3,3</td>\n",
       "      <td>trimeric,trimeric</td>\n",
       "      <td>2.55</td>\n",
       "      <td>x-ray diffraction</td>\n",
       "      <td>2</td>\n",
       "      <td>413</td>\n",
       "      <td>385</td>\n",
       "      <td>0.329870</td>\n",
       "      <td>0.524675</td>\n",
       "      <td>0.145455</td>\n",
       "      <td>[2.1336157]</td>\n",
       "    </tr>\n",
       "    <tr>\n",
       "      <th>18985</th>\n",
       "      <td>3n74.A</td>\n",
       "      <td>['3.40.50']</td>\n",
       "      <td>train</td>\n",
       "      <td>/data/rsg/chemistry/jyim/large_data/cath/n7/3n...</td>\n",
       "      <td>/data/rsg/chemistry/jyim/large_data/pdb/30_08_...</td>\n",
       "      <td>4</td>\n",
       "      <td>tetrameric</td>\n",
       "      <td>2.20</td>\n",
       "      <td>x-ray diffraction</td>\n",
       "      <td>4</td>\n",
       "      <td>377</td>\n",
       "      <td>227</td>\n",
       "      <td>0.348018</td>\n",
       "      <td>0.484581</td>\n",
       "      <td>0.167401</td>\n",
       "      <td>[1.72441555]</td>\n",
       "    </tr>\n",
       "    <tr>\n",
       "      <th>18987</th>\n",
       "      <td>1jw9.B</td>\n",
       "      <td>['3.40.50']</td>\n",
       "      <td>train</td>\n",
       "      <td>/data/rsg/chemistry/jyim/large_data/cath/jw/1j...</td>\n",
       "      <td>/data/rsg/chemistry/jyim/large_data/pdb/30_08_...</td>\n",
       "      <td>4</td>\n",
       "      <td>tetrameric</td>\n",
       "      <td>1.70</td>\n",
       "      <td>x-ray diffraction</td>\n",
       "      <td>2</td>\n",
       "      <td>408</td>\n",
       "      <td>240</td>\n",
       "      <td>0.370833</td>\n",
       "      <td>0.420833</td>\n",
       "      <td>0.208333</td>\n",
       "      <td>[1.78310634]</td>\n",
       "    </tr>\n",
       "  </tbody>\n",
       "</table>\n",
       "<p>2226 rows × 16 columns</p>\n",
       "</div>"
      ],
      "text/plain": [
       "      chain_name    cath_code cath_split  \\\n",
       "1105      4nav.A  ['3.40.50']      train   \n",
       "1107      4uhc.A  ['3.40.50']      train   \n",
       "1110      3m2p.A  ['3.40.50']      train   \n",
       "1112      3bje.A  ['3.40.50']      train   \n",
       "1114      3lp5.A  ['3.40.50']      train   \n",
       "...          ...          ...        ...   \n",
       "18968     1shu.X  ['3.40.50']      train   \n",
       "18970     1r1d.A  ['3.40.50']      train   \n",
       "18982     2yfk.A  ['3.40.50']      train   \n",
       "18985     3n74.A  ['3.40.50']      train   \n",
       "18987     1jw9.B  ['3.40.50']      train   \n",
       "\n",
       "                                          processed_path  \\\n",
       "1105   /data/rsg/chemistry/jyim/large_data/cath/na/4n...   \n",
       "1107   /data/rsg/chemistry/jyim/large_data/cath/uh/4u...   \n",
       "1110   /data/rsg/chemistry/jyim/large_data/cath/m2/3m...   \n",
       "1112   /data/rsg/chemistry/jyim/large_data/cath/bj/3b...   \n",
       "1114   /data/rsg/chemistry/jyim/large_data/cath/lp/3l...   \n",
       "...                                                  ...   \n",
       "18968  /data/rsg/chemistry/jyim/large_data/cath/sh/1s...   \n",
       "18970  /data/rsg/chemistry/jyim/large_data/cath/r1/1r...   \n",
       "18982  /data/rsg/chemistry/jyim/large_data/cath/yf/2y...   \n",
       "18985  /data/rsg/chemistry/jyim/large_data/cath/n7/3n...   \n",
       "18987  /data/rsg/chemistry/jyim/large_data/cath/jw/1j...   \n",
       "\n",
       "                                                raw_path oligomeric_count  \\\n",
       "1105   /data/rsg/chemistry/jyim/large_data/pdb/30_08_...              4,4   \n",
       "1107   /data/rsg/chemistry/jyim/large_data/pdb/30_08_...                1   \n",
       "1110   /data/rsg/chemistry/jyim/large_data/pdb/30_08_...            2,2,2   \n",
       "1112   /data/rsg/chemistry/jyim/large_data/pdb/30_08_...                2   \n",
       "1114   /data/rsg/chemistry/jyim/large_data/pdb/30_08_...                1   \n",
       "...                                                  ...              ...   \n",
       "18968  /data/rsg/chemistry/jyim/large_data/pdb/30_08_...                1   \n",
       "18970  /data/rsg/chemistry/jyim/large_data/pdb/30_08_...                2   \n",
       "18982  /data/rsg/chemistry/jyim/large_data/pdb/30_08_...              3,3   \n",
       "18985  /data/rsg/chemistry/jyim/large_data/pdb/30_08_...                4   \n",
       "18987  /data/rsg/chemistry/jyim/large_data/pdb/30_08_...                4   \n",
       "\n",
       "             oligomeric_detail  resolution   structure_method  num_chains  \\\n",
       "1105     tetrameric,tetrameric        2.69  x-ray diffraction           4   \n",
       "1107                 monomeric        1.03  x-ray diffraction           1   \n",
       "1110   dimeric,dimeric,dimeric        2.95  x-ray diffraction           6   \n",
       "1112                   dimeric        1.44  x-ray diffraction           2   \n",
       "1114                 monomeric        2.00  x-ray diffraction           1   \n",
       "...                        ...         ...                ...         ...   \n",
       "18968                monomeric        1.50  x-ray diffraction           1   \n",
       "18970                  dimeric        1.90  x-ray diffraction           2   \n",
       "18982        trimeric,trimeric        2.55  x-ray diffraction           2   \n",
       "18985               tetrameric        2.20  x-ray diffraction           4   \n",
       "18987               tetrameric        1.70  x-ray diffraction           2   \n",
       "\n",
       "       seq_len  modeled_seq_len  coil_percent  helix_percent  strand_percent  \\\n",
       "1105       190              181      0.453039       0.408840        0.138122   \n",
       "1107       716              278      0.323741       0.496403        0.179856   \n",
       "1110       314              287      0.400697       0.393728        0.205575   \n",
       "1112       563              327      0.382263       0.354740        0.262997   \n",
       "1114       406              250      0.420000       0.376000        0.204000   \n",
       "...        ...              ...           ...            ...             ...   \n",
       "18968      336              181      0.292818       0.475138        0.232044   \n",
       "18970      549              242      0.396694       0.462810        0.140496   \n",
       "18982      413              385      0.329870       0.524675        0.145455   \n",
       "18985      377              227      0.348018       0.484581        0.167401   \n",
       "18987      408              240      0.370833       0.420833        0.208333   \n",
       "\n",
       "      radius_gyration  \n",
       "1105     [1.56458876]  \n",
       "1107     [1.81761436]  \n",
       "1110     [1.95616136]  \n",
       "1112     [2.01599164]  \n",
       "1114     [1.72581546]  \n",
       "...               ...  \n",
       "18968    [1.53445842]  \n",
       "18970    [1.83645909]  \n",
       "18982     [2.1336157]  \n",
       "18985    [1.72441555]  \n",
       "18987    [1.78310634]  \n",
       "\n",
       "[2226 rows x 16 columns]"
      ]
     },
     "execution_count": 29,
     "metadata": {},
     "output_type": "execute_result"
    }
   ],
   "source": [
    "cath_csv[cath_csv.cath_code == \"['3.40.50']\"]"
   ]
  },
  {
   "cell_type": "code",
   "execution_count": 28,
   "metadata": {},
   "outputs": [
    {
     "data": {
      "text/plain": [
       "['3.40.50']                          2226\n",
       "['2.60.40']                           944\n",
       "['3.20.20']                           537\n",
       "['2.60.120']                          515\n",
       "['3.30.70']                           503\n",
       "                                     ... \n",
       "['2.30.30', '3.40.50', '2.30.42']       1\n",
       "['4.10.1050']                           1\n",
       "['6.10.30', '3.90.226']                 1\n",
       "['2.30.30', '3.40.630']                 1\n",
       "['3.30.499']                            1\n",
       "Name: cath_code, Length: 2140, dtype: int64"
      ]
     },
     "execution_count": 28,
     "metadata": {},
     "output_type": "execute_result"
    }
   ],
   "source": [
    "cath_csv.cath_code.value_counts()"
   ]
  },
  {
   "cell_type": "code",
   "execution_count": null,
   "metadata": {},
   "outputs": [],
   "source": []
  },
  {
   "cell_type": "code",
   "execution_count": null,
   "metadata": {},
   "outputs": [],
   "source": []
  },
  {
   "cell_type": "code",
   "execution_count": null,
   "metadata": {},
   "outputs": [],
   "source": []
  },
  {
   "cell_type": "code",
   "execution_count": null,
   "metadata": {},
   "outputs": [],
   "source": []
  }
 ],
 "metadata": {
  "kernelspec": {
   "display_name": "Python 3 (ipykernel)",
   "language": "python",
   "name": "python3"
  },
  "language_info": {
   "codemirror_mode": {
    "name": "ipython",
    "version": 3
   },
   "file_extension": ".py",
   "mimetype": "text/x-python",
   "name": "python",
   "nbconvert_exporter": "python",
   "pygments_lexer": "ipython3",
   "version": "3.8.12"
  }
 },
 "nbformat": 4,
 "nbformat_minor": 4
}
