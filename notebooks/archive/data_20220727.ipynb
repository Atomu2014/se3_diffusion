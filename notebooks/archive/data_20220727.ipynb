{
 "cells": [
  {
   "cell_type": "code",
   "execution_count": 1,
   "metadata": {},
   "outputs": [],
   "source": [
    "import torch\n",
    "import os\n",
    "\n",
    "from data import data_loader\n",
    "from data import utils as du\n",
    "from data import se3_diffuser\n",
    "from data import so3_diffuser\n",
    "from experiments import train_se3_diffusion\n",
    "\n",
    "from omegaconf import OmegaConf\n",
    "import importlib\n",
    "\n",
    "# Enable logging\n",
    "import logging\n",
    "import sys\n",
    "date_strftime_format = \"%Y-%m-%y %H:%M:%S\"\n",
    "logging.basicConfig(stream=sys.stdout, level=logging.INFO, format=\"%(asctime)s %(message)s\", datefmt=date_strftime_format)"
   ]
  },
  {
   "cell_type": "code",
   "execution_count": 2,
   "metadata": {},
   "outputs": [
    {
     "data": {
      "text/plain": [
       "<module 'experiments.train_se3_diffusion' from '/home/jyim/Projects/BFF/protein_diffusion/experiments/train_se3_diffusion.py'>"
      ]
     },
     "execution_count": 2,
     "metadata": {},
     "output_type": "execute_result"
    }
   ],
   "source": [
    "importlib.reload(data_loader)\n",
    "importlib.reload(se3_diffuser)\n",
    "importlib.reload(so3_diffuser)\n",
    "importlib.reload(du)\n",
    "importlib.reload(train_se3_diffusion)"
   ]
  },
  {
   "cell_type": "code",
   "execution_count": 4,
   "metadata": {},
   "outputs": [],
   "source": [
    "cache_path = './pkl_jar/dataset_5.0_260_60_80.0_100_2020-Apr-30_1.pkl'\n",
    "(\n",
    "    loaded_data_conf,\n",
    "    train_csv,\n",
    "    pdb_clusters,\n",
    "    fb_clusters,\n",
    "    valid_pdb_csv,\n",
    ") = du.read_pkl(cache_path)"
   ]
  },
  {
   "cell_type": "code",
   "execution_count": 6,
   "metadata": {},
   "outputs": [
    {
     "data": {
      "text/html": [
       "<div>\n",
       "<style scoped>\n",
       "    .dataframe tbody tr th:only-of-type {\n",
       "        vertical-align: middle;\n",
       "    }\n",
       "\n",
       "    .dataframe tbody tr th {\n",
       "        vertical-align: top;\n",
       "    }\n",
       "\n",
       "    .dataframe thead th {\n",
       "        text-align: right;\n",
       "    }\n",
       "</style>\n",
       "<table border=\"1\" class=\"dataframe\">\n",
       "  <thead>\n",
       "    <tr style=\"text-align: right;\">\n",
       "      <th></th>\n",
       "      <th>CHAINID</th>\n",
       "      <th>DEPOSITION</th>\n",
       "      <th>RESOLUTION</th>\n",
       "      <th>HASH</th>\n",
       "      <th>CLUSTER</th>\n",
       "      <th>SEQUENCE</th>\n",
       "      <th>LEN_EXIST</th>\n",
       "      <th>seq_len</th>\n",
       "      <th>resolution</th>\n",
       "      <th>date</th>\n",
       "      <th>source</th>\n",
       "      <th>split</th>\n",
       "      <th>plDDT</th>\n",
       "    </tr>\n",
       "  </thead>\n",
       "  <tbody>\n",
       "    <tr>\n",
       "      <th>9</th>\n",
       "      <td>5naj_A</td>\n",
       "      <td>2017-02-28</td>\n",
       "      <td>1.46</td>\n",
       "      <td>30830</td>\n",
       "      <td>22021</td>\n",
       "      <td>GSMSEQSICQARAAVMVYDDANKKWVPAGGSTGFSRVHIYHHTGNN...</td>\n",
       "      <td>110.0</td>\n",
       "      <td>113</td>\n",
       "      <td>1.46</td>\n",
       "      <td>2017-02-28</td>\n",
       "      <td>pdb</td>\n",
       "      <td>train</td>\n",
       "      <td>NaN</td>\n",
       "    </tr>\n",
       "    <tr>\n",
       "      <th>0</th>\n",
       "      <td>UniRef50_A0A352D9P0</td>\n",
       "      <td>NaN</td>\n",
       "      <td>NaN</td>\n",
       "      <td>8e1b</td>\n",
       "      <td>0</td>\n",
       "      <td>MRHRPAPARKLLLIIDMQNGFFDMFKKLYPAREKVVRNINALREIF...</td>\n",
       "      <td>NaN</td>\n",
       "      <td>221</td>\n",
       "      <td>NaN</td>\n",
       "      <td>NaT</td>\n",
       "      <td>fb</td>\n",
       "      <td>train</td>\n",
       "      <td>90.574</td>\n",
       "    </tr>\n",
       "  </tbody>\n",
       "</table>\n",
       "</div>"
      ],
      "text/plain": [
       "               CHAINID  DEPOSITION  RESOLUTION   HASH  CLUSTER  \\\n",
       "9               5naj_A  2017-02-28        1.46  30830    22021   \n",
       "0  UniRef50_A0A352D9P0         NaN         NaN   8e1b        0   \n",
       "\n",
       "                                            SEQUENCE  LEN_EXIST  seq_len  \\\n",
       "9  GSMSEQSICQARAAVMVYDDANKKWVPAGGSTGFSRVHIYHHTGNN...      110.0      113   \n",
       "0  MRHRPAPARKLLLIIDMQNGFFDMFKKLYPAREKVVRNINALREIF...        NaN      221   \n",
       "\n",
       "   resolution       date source  split   plDDT  \n",
       "9        1.46 2017-02-28    pdb  train     NaN  \n",
       "0         NaN        NaT     fb  train  90.574  "
      ]
     },
     "execution_count": 6,
     "metadata": {},
     "output_type": "execute_result"
    }
   ],
   "source": [
    "train_csv"
   ]
  },
  {
   "cell_type": "code",
   "execution_count": null,
   "metadata": {},
   "outputs": [],
   "source": [
    "\n",
    "\n",
    "\n"
   ]
  }
 ],
 "metadata": {
  "kernelspec": {
   "display_name": "protdiff",
   "language": "python",
   "name": "protdiff"
  },
  "language_info": {
   "codemirror_mode": {
    "name": "ipython",
    "version": 3
   },
   "file_extension": ".py",
   "mimetype": "text/x-python",
   "name": "python",
   "nbconvert_exporter": "python",
   "pygments_lexer": "ipython3",
   "version": "3.9.6"
  }
 },
 "nbformat": 4,
 "nbformat_minor": 4
}
