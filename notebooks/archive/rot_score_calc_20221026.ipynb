{
 "cells": [
  {
   "cell_type": "code",
   "execution_count": 44,
   "metadata": {
    "tags": []
   },
   "outputs": [],
   "source": [
    "import torch\n",
    "import os\n",
    "import numpy as np\n",
    "import matplotlib.pyplot as plt\n",
    "import copy\n",
    "import GPUtil\n",
    "import tree\n",
    "from openfold.utils import rigid_utils as ru\n",
    "from scipy.spatial.transform import Rotation\n",
    "from omegaconf import OmegaConf\n",
    "import importlib\n",
    "import logging\n",
    "import sys\n",
    "from collections import defaultdict\n",
    "import matplotlib.cm as cm\n",
    "\n",
    "\n",
    "from analysis import utils as au\n",
    "from analysis import plotting\n",
    "from data import utils as du\n",
    "from data import se3_diffuser\n",
    "from data import so3_diffuser\n",
    "from data import r3_diffuser\n",
    "from data import digs_data_loader\n",
    "from model import loss\n",
    "from experiments import train_se3_diffusion\n",
    "\n",
    "# Enable logging\n",
    "date_strftime_format = \"%Y-%m-%y %H:%M:%S\"\n",
    "logging.basicConfig(stream=sys.stdout, level=logging.INFO, format=\"%(asctime)s %(message)s\", datefmt=date_strftime_format)"
   ]
  },
  {
   "cell_type": "code",
   "execution_count": 45,
   "metadata": {},
   "outputs": [
    {
     "data": {
      "text/plain": [
       "<module 'experiments.train_se3_diffusion' from '/data/rsg/chemistry/jyim/projects/protein_diffusion/experiments/train_se3_diffusion.py'>"
      ]
     },
     "execution_count": 45,
     "metadata": {},
     "output_type": "execute_result"
    }
   ],
   "source": [
    "# Reloads any code changes in the source file.\n",
    "importlib.reload(digs_data_loader)\n",
    "importlib.reload(se3_diffuser)\n",
    "importlib.reload(so3_diffuser)\n",
    "importlib.reload(r3_diffuser)\n",
    "importlib.reload(du)\n",
    "importlib.reload(plotting)\n",
    "importlib.reload(train_se3_diffusion)"
   ]
  },
  {
   "cell_type": "code",
   "execution_count": 46,
   "metadata": {},
   "outputs": [
    {
     "name": "stderr",
     "output_type": "stream",
     "text": [
      "INFO: Using cached IGSO3.\n",
      "INFO: Number of model parameters 15402858\n",
      "INFO: Checkpoint not being saved.\n",
      "INFO: Evaluation saved to: ./results/baseline/26D_10M_2022Y_13h_57m_08s\n",
      "INFO: Training: 10172 examples\n",
      "INFO: Validation: 40 examples with lengths [ 60  82 104 126 148 171 193 215 237 260]\n"
     ]
    }
   ],
   "source": [
    "# Load config.\n",
    "conf = OmegaConf.load('../config/base.yaml')\n",
    "\n",
    "# Redirect cache from notebook directory.\n",
    "exp_conf = conf.experiment\n",
    "exp_conf.data_location = 'rosetta'\n",
    "exp_conf.ckpt_dir = None\n",
    "exp_conf.num_loader_workers = 0\n",
    "exp_conf.dist_mode = 'single'\n",
    "exp_conf.use_wandb = False\n",
    "\n",
    "# Data settings\n",
    "data_conf = conf.data\n",
    "# data_conf.rosetta.filtering.subset = 1\n",
    "\n",
    "diff_conf = conf.diffuser\n",
    "diff_conf.se3.r3.min_b = 4.0\n",
    "diff_conf.se3.r3.max_b = 10.0\n",
    "\n",
    "# Figure out data loading for PDB on rosetta\n",
    "exp = train_se3_diffusion.Experiment(conf=conf)\n",
    "train_loader, valid_loader = exp.create_rosetta_dataset(0, 1)\n",
    "device = 'cuda' if torch.cuda.is_available() else 'cpu'\n",
    "exp._model = exp._model.to(device)"
   ]
  },
  {
   "cell_type": "code",
   "execution_count": 47,
   "metadata": {},
   "outputs": [
    {
     "name": "stderr",
     "output_type": "stream",
     "text": [
      "INFO: Training: 10172 examples\n",
      "INFO: Validation: 40 examples with lengths [ 60  82 104 126 148 171 193 215 237 260]\n"
     ]
    },
    {
     "name": "stdout",
     "output_type": "stream",
     "text": [
      "tensor([0.0558, 0.1348, 0.2841, 0.0569, 0.6498, 0.5951, 0.6113, 0.4394, 0.7901,\n",
      "        0.5515, 0.6680])\n"
     ]
    }
   ],
   "source": [
    "so3_diff = exp.diffuser.se3_diffuser._so3_diffuser\n",
    "train_loader, valid_loader = exp.create_rosetta_dataset(0, 1)\n",
    "data_iter = iter(train_loader)\n",
    "next_item = next(data_iter)\n",
    "rigids_0 = next_item['rigids_0']\n",
    "rigids_t = next_item['rigids_t']\n",
    "gt_score_t = next_item['rot_score']\n",
    "t = next_item['t']\n",
    "print(t)"
   ]
  },
  {
   "cell_type": "code",
   "execution_count": 48,
   "metadata": {},
   "outputs": [],
   "source": [
    "extract_rots = lambda r: ru.Rigid.from_tensor_7(r).get_rots()\n",
    "rots_0 = extract_rots(rigids_0)\n",
    "rots_t = extract_rots(rigids_t)"
   ]
  },
  {
   "cell_type": "code",
   "execution_count": 49,
   "metadata": {},
   "outputs": [],
   "source": [
    "# R_t = R_0 * R_{0t}\n",
    "# R_{0t} = inv(R_0) * R_t\n",
    "rots_0_inv = rots_0.invert()\n",
    "rots_0t = rots_0_inv.compose_r(rots_t)\n",
    "# rots_0t = rots_t.compose_r(rots_0_inv)"
   ]
  },
  {
   "cell_type": "code",
   "execution_count": 50,
   "metadata": {},
   "outputs": [],
   "source": [
    "quats_0t = rots_0t.get_quats()\n",
    "mats_0t = rots_0t.get_rot_mats()\n",
    "rotvec_0t = rots_0t.get_rotvec()"
   ]
  },
  {
   "cell_type": "code",
   "execution_count": 51,
   "metadata": {},
   "outputs": [],
   "source": [
    "np_quats_0t = du.move_to_np(quats_0t)\n",
    "np_mats_0t = du.move_to_np(mats_0t)\n",
    "np_rotvec_0t = du.move_to_np(rotvec_0t)"
   ]
  },
  {
   "cell_type": "code",
   "execution_count": null,
   "metadata": {},
   "outputs": [],
   "source": []
  },
  {
   "cell_type": "markdown",
   "metadata": {
    "jp-MarkdownHeadingCollapsed": true,
    "tags": []
   },
   "source": [
    "### Sandbox"
   ]
  },
  {
   "cell_type": "code",
   "execution_count": 127,
   "metadata": {},
   "outputs": [
    {
     "name": "stdout",
     "output_type": "stream",
     "text": [
      "[ 1.0000000e+00  8.1956372e-08 -1.0430810e-07 -1.4901158e-08]\n",
      "[ 8.19563719e-08 -1.04308110e-07 -1.49011585e-08  1.00000000e+00]\n",
      "[ 1.63912744e-07 -2.08616219e-07 -2.98023171e-08]\n"
     ]
    }
   ],
   "source": [
    "# Note that scipy switches the first and last indices.\n",
    "# print(mats_0t[0, 0])\n",
    "print(quats_0t[0, 0])\n",
    "print(Rotation.from_matrix(mats_0t[0, 0]).as_quat())\n",
    "print(Rotation.from_matrix(mats_0t[0, 0]).as_rotvec())"
   ]
  },
  {
   "cell_type": "code",
   "execution_count": null,
   "metadata": {},
   "outputs": [],
   "source": [
    "# # Check that torch implementation matches scipy.\n",
    "# quat = quats_0t[0, 0]\n",
    "\n",
    "# # Formula for quat to rotvec\n",
    "# angle = 2 * torch.atan2(\n",
    "#     torch.linalg.norm(quat[1:]),\n",
    "#     quat[:1]\n",
    "# )\n",
    "# angle2 = angle * angle\n",
    "# scale = 2 + angle2 / 12 + 7 * angle2 * angle2 / 2880\n",
    "# rotvec = scale * quat[1:]\n",
    "# print(rotvec)"
   ]
  },
  {
   "cell_type": "code",
   "execution_count": 129,
   "metadata": {},
   "outputs": [
    {
     "name": "stdout",
     "output_type": "stream",
     "text": [
      "tensor(False)\n"
     ]
    },
    {
     "data": {
      "text/plain": [
       "tensor([ 1.6391e-07, -2.0862e-07, -2.9802e-08])"
      ]
     },
     "execution_count": 129,
     "metadata": {},
     "output_type": "execute_result"
    }
   ],
   "source": [
    "# Vectorized version\n",
    "def quat_to_rotvec(quat, eps=1e-10):\n",
    "    # w > 0 to ensure 0 <= angle <= pi\n",
    "    flip = (quat[..., :1] < 0).float()\n",
    "    quat = (-1 * quat) * flip + (1 - flip) * quat\n",
    "\n",
    "    angle = 2 * torch.atan2(\n",
    "        torch.linalg.norm(quat[..., 1:], dim=-1),\n",
    "        quat[..., 0]\n",
    "    )\n",
    "    \n",
    "    angle2 = angle * angle\n",
    "    small_angle_scales = 2 + angle2 / 12 + 7 * angle2 * angle2 / 2880\n",
    "    large_angle_scales = angle / torch.sin(angle / 2 + eps)\n",
    "    \n",
    "    small_angles = (angle <= 1e-3).float()\n",
    "    rot_vec_scale = small_angle_scales * small_angles + (1 - small_angles) * large_angle_scales\n",
    "    rot_vec = rot_vec_scale[..., None] * quat[..., 1:]\n",
    "    return rot_vec\n",
    "\n",
    "quats_0t = rots_0t.get_quats()\n",
    "rotvec_0t = quat_to_rotvec(quats_0t)\n",
    "rotvec_0t[0, 0]"
   ]
  },
  {
   "cell_type": "code",
   "execution_count": 130,
   "metadata": {},
   "outputs": [],
   "source": [
    "# Use so3_diff to calculate score for rotvec_0t, check that it matches the original score\n",
    "score_t = so3_diff.score(\n",
    "    du.move_to_np(rotvec_0t)[0], \n",
    "    du.move_to_np(t)[0])\n",
    "print(score_t[3])\n",
    "print(next_item['rot_score'][0, 3])"
   ]
  },
  {
   "cell_type": "code",
   "execution_count": null,
   "metadata": {},
   "outputs": [],
   "source": [
    "so3_diff.discrete_omega"
   ]
  },
  {
   "cell_type": "code",
   "execution_count": null,
   "metadata": {},
   "outputs": [],
   "source": [
    "# vectoried write torch method for calculating the score\n",
    "omega = torch.linalg.norm(rotvec_0t, dim=-1)\n",
    "leading_dims = omega.shape\n",
    "score_norms_t = so3_diff._score_norms[so3_diff.t_to_idx(du.move_to_np(t))]\n",
    "omega_idx = torch.bucketize(omega, torch.tensor(so3_diff.discrete_omega))\n",
    "omega_score_t = torch.gather(\n",
    "    torch.tensor(score_norms_t), 1, omega_idx\n",
    ")"
   ]
  },
  {
   "cell_type": "code",
   "execution_count": null,
   "metadata": {},
   "outputs": [],
   "source": []
  },
  {
   "cell_type": "markdown",
   "metadata": {},
   "source": [
    "### Test out the implemented functions"
   ]
  },
  {
   "cell_type": "code",
   "execution_count": 62,
   "metadata": {},
   "outputs": [],
   "source": [
    "fixed_idx = torch.where(next_item['fixed_mask'])[1][:3]\n",
    "diff_idx = torch.where(1 - next_item['fixed_mask'])[1][:3]"
   ]
  },
  {
   "cell_type": "code",
   "execution_count": 64,
   "metadata": {},
   "outputs": [
    {
     "name": "stdout",
     "output_type": "stream",
     "text": [
      "[[ 0.23573646  0.16851528 -1.20901483]\n",
      " [ 0.15440957 -0.1131293   0.17023815]\n",
      " [ 0.64081511  0.20005367 -0.31668331]]\n",
      "[[ 0.23573615  0.16851501 -1.2090131 ]\n",
      " [ 0.1544084  -0.11312843  0.17023686]\n",
      " [ 0.64081335  0.20005314 -0.31668246]]\n",
      "[[-8.94069658e-08  2.32830640e-08 -3.72529024e-09]\n",
      " [ 8.75443220e-08  2.60770321e-08  2.98023224e-08]\n",
      " [-5.96046448e-08  2.32830644e-10  1.67638063e-08]]\n",
      "[[-8.9406953e-08  2.3283063e-08 -3.7252899e-09]\n",
      " [ 8.7544315e-08  2.6077036e-08  2.9802326e-08]\n",
      " [-5.9604645e-08  2.3283064e-10  1.6763806e-08]]\n"
     ]
    }
   ],
   "source": [
    "# Check that the numpy and pytorch conversions work.\n",
    "print(Rotation.from_matrix(np_mats_0t[0, diff_idx]).as_rotvec())\n",
    "print(np_rotvec_0t[0, diff_idx])\n",
    "print(Rotation.from_matrix(np_mats_0t[0, fixed_idx]).as_rotvec())\n",
    "print(np_rotvec_0t[0, fixed_idx])"
   ]
  },
  {
   "cell_type": "code",
   "execution_count": 63,
   "metadata": {},
   "outputs": [
    {
     "name": "stdout",
     "output_type": "stream",
     "text": [
      "tensor([[-0.6566, -0.4694,  3.3674],\n",
      "        [-0.4325,  0.3169, -0.4769],\n",
      "        [-1.7901, -0.5588,  0.8846]], dtype=torch.float64)\n",
      "tensor([[-0.6561, -0.4690,  3.3652],\n",
      "        [-0.4301,  0.3151, -0.4742],\n",
      "        [-1.7846, -0.5571,  0.8819]], dtype=torch.float64)\n",
      "tensor([[ 7.1620e-04, -1.8651e-04,  2.9842e-05],\n",
      "        [-6.9897e-04, -2.0820e-04, -2.3795e-04],\n",
      "        [ 4.9120e-04, -1.9188e-06, -1.3815e-04]], dtype=torch.float64)\n",
      "tensor([[0., 0., 0.],\n",
      "        [0., 0., 0.],\n",
      "        [0., 0., 0.]], dtype=torch.float64)\n"
     ]
    }
   ],
   "source": [
    "# Check the score calculation is accurate\n",
    "rot_score_t = so3_diff.torch_score(rotvec_0t, t)\n",
    "print(rot_score_t[0, diff_idx])\n",
    "print(gt_score_t[0, diff_idx])\n",
    "print(rot_score_t[0, fixed_idx])\n",
    "print(gt_score_t[0, fixed_idx])"
   ]
  },
  {
   "cell_type": "code",
   "execution_count": null,
   "metadata": {},
   "outputs": [],
   "source": []
  },
  {
   "cell_type": "code",
   "execution_count": null,
   "metadata": {},
   "outputs": [],
   "source": []
  },
  {
   "cell_type": "code",
   "execution_count": null,
   "metadata": {},
   "outputs": [],
   "source": []
  },
  {
   "cell_type": "code",
   "execution_count": null,
   "metadata": {},
   "outputs": [],
   "source": []
  },
  {
   "cell_type": "code",
   "execution_count": null,
   "metadata": {},
   "outputs": [],
   "source": []
  },
  {
   "cell_type": "code",
   "execution_count": null,
   "metadata": {},
   "outputs": [],
   "source": []
  },
  {
   "cell_type": "code",
   "execution_count": null,
   "metadata": {},
   "outputs": [],
   "source": []
  },
  {
   "cell_type": "code",
   "execution_count": null,
   "metadata": {},
   "outputs": [],
   "source": []
  },
  {
   "cell_type": "code",
   "execution_count": null,
   "metadata": {},
   "outputs": [],
   "source": []
  }
 ],
 "metadata": {
  "kernelspec": {
   "display_name": "Python 3 (ipykernel)",
   "language": "python",
   "name": "python3"
  },
  "language_info": {
   "codemirror_mode": {
    "name": "ipython",
    "version": 3
   },
   "file_extension": ".py",
   "mimetype": "text/x-python",
   "name": "python",
   "nbconvert_exporter": "python",
   "pygments_lexer": "ipython3",
   "version": "3.8.12"
  }
 },
 "nbformat": 4,
 "nbformat_minor": 4
}
