{
 "cells": [
  {
   "cell_type": "code",
   "execution_count": 15,
   "id": "17b8f120-3a46-45cf-9efa-07be8c26d298",
   "metadata": {},
   "outputs": [],
   "source": [
    "import torch\n",
    "import os\n",
    "import numpy as np\n",
    "import matplotlib.pyplot as plt\n",
    "import copy\n",
    "\n",
    "from collections import defaultdict\n",
    "from analysis import utils as au\n",
    "from analysis import plotting\n",
    "from data import utils as du\n",
    "from data import se3_diffuser\n",
    "from data import r3_diffuser\n",
    "from data import so3_diffuser\n",
    "from model import loss\n",
    "from model import reverse_se3_diffusion\n",
    "import tree\n",
    "from data import rosetta_data_loader\n",
    "from data import digs_data_loader\n",
    "from experiments import train_se3_diffusion\n",
    "from openfold.utils import rigid_utils as ru\n",
    "from scipy.spatial.transform import Rotation\n",
    "\n",
    "from omegaconf import OmegaConf\n",
    "import importlib\n",
    "\n",
    "# Enable logging\n",
    "import logging\n",
    "import sys\n",
    "date_strftime_format = \"%Y-%m-%y %H:%M:%S\"\n",
    "logging.basicConfig(stream=sys.stdout, level=logging.INFO, format=\"%(asctime)s %(message)s\", datefmt=date_strftime_format)"
   ]
  },
  {
   "cell_type": "code",
   "execution_count": 16,
   "id": "1db62970-316e-4fb8-b36e-de07c18c660b",
   "metadata": {},
   "outputs": [
    {
     "data": {
      "text/plain": [
       "<module 'experiments.train_se3_diffusion' from '/home/jyim/Projects/protein_diffusion_v2/experiments/train_se3_diffusion.py'>"
      ]
     },
     "execution_count": 16,
     "metadata": {},
     "output_type": "execute_result"
    }
   ],
   "source": [
    "importlib.reload(digs_data_loader)\n",
    "importlib.reload(se3_diffuser)\n",
    "importlib.reload(so3_diffuser)\n",
    "importlib.reload(r3_diffuser)\n",
    "importlib.reload(du)\n",
    "importlib.reload(train_se3_diffusion)"
   ]
  },
  {
   "cell_type": "code",
   "execution_count": 17,
   "id": "5bbaa6ff-f628-43ff-8f62-6a06df4ce210",
   "metadata": {},
   "outputs": [],
   "source": [
    "# Load config.\n",
    "conf = OmegaConf.load('../config/base.yaml')\n",
    "\n",
    "# Redirect cache from notebook directory.\n",
    "exp_conf = conf.experiment\n",
    "exp_conf.data_location = 'digs'\n",
    "\n",
    "data_conf = conf.data\n",
    "data_conf.digs.filtering.subset = 1\n",
    "data_conf.digs.fraction_fb = 0.0\n",
    "\n",
    "diff_conf = conf.diffuser\n",
    "diff_conf.rot_schedule = 'logarithmic'\n",
    "diff_conf.trans_schedule = 'linear'"
   ]
  },
  {
   "cell_type": "code",
   "execution_count": 18,
   "id": "9cec7842-1855-42db-9d36-f72c7e31b844",
   "metadata": {},
   "outputs": [
    {
     "name": "stderr",
     "output_type": "stream",
     "text": [
      "INFO: Number of model parameters 3488030\n",
      "INFO: Using cached IGSO3.\n",
      "INFO: Loaded data at ./pkl_jar/dataset_5.0_260_60_80.0_100_2020-Apr-30_1.pkl\n",
      "INFO: Loaded data at ./pkl_jar/dataset_5.0_260_60_80.0_100_2020-Apr-30_1.pkl\n"
     ]
    }
   ],
   "source": [
    "exp = train_se3_diffusion.Experiment(conf=conf)\n",
    "train_loader, train_sampler, valid_loader, valid_sampler = exp.create_digs_dataset(0, 1)\n",
    "se3_diff = exp.diffuser\n",
    "r3_diff = se3_diff._r3_diffuser\n",
    "so3_diff = se3_diff._so3_diffuser\n",
    "\n",
    "# SDE time parameters\n",
    "num_t = 100\n",
    "forward_t = np.linspace(1e-3, 1, num_t)\n",
    "reverse_t = forward_t[::-1]\n",
    "dt = 1 / num_t"
   ]
  },
  {
   "cell_type": "code",
   "execution_count": 19,
   "id": "52166ee7-6e2a-4785-82f4-cbd8a0704a0f",
   "metadata": {},
   "outputs": [],
   "source": [
    "pdb_name = 'len_125_sample_2_sctm_sctm_90'\n",
    "pdb_data = du.parse_pdb(\n",
    "    f'{pdb_name}.pdb'\n",
    ")\n",
    "ca_pos = pdb_data[0][:, 1] / 10.0"
   ]
  },
  {
   "cell_type": "code",
   "execution_count": 30,
   "id": "8cbc779d-fad4-42ee-afab-5a15f5c2eae0",
   "metadata": {},
   "outputs": [],
   "source": [
    "beta_schedule = np.linspace(0.0001, 0.02, num_t)\n",
    "\n",
    "def forward(\n",
    "        x_t: np.ndarray,\n",
    "        t: int):\n",
    "    beta_t = beta_schedule[t]\n",
    "    z = np.random.normal(size=x_t.shape)\n",
    "    return x_t * np.sqrt(1 - beta_t) + z * np.sqrt(beta_t)\n"
   ]
  },
  {
   "cell_type": "code",
   "execution_count": 31,
   "id": "7675cf05-e13a-45bf-b644-5ac1bfee8a97",
   "metadata": {},
   "outputs": [],
   "source": [
    "# Forward diffusion\n",
    "x_0 = np.copy(ca_pos)\n",
    "forward_diffusion = [ca_pos]\n",
    "# for t in forward_t:\n",
    "for t in range(num_t):\n",
    "    forward_diffusion.append(\n",
    "        forward(np.copy(forward_diffusion[-1]), t))\n",
    "#         r3_diff.forward_marginal(forward_diffusion[-1], t)[0]\n",
    "#         r3_diff.forward(np.copy(forward_diffusion[-1]), t)\n",
    "forward_diffusion = np.stack(forward_diffusion)\n",
    "reverse_diffusion = np.flip(forward_diffusion, 0)"
   ]
  },
  {
   "cell_type": "code",
   "execution_count": 43,
   "id": "0aa3f642-088c-43f1-ad79-72344fda3216",
   "metadata": {},
   "outputs": [],
   "source": [
    "ca_traj = reverse_diffusion * 10.0\n",
    "final_state = np.tile(ca_traj[-1][None], (80, 1, 1))\n",
    "save_traj = np.concatenate([ca_traj, final_state], 0)"
   ]
  },
  {
   "cell_type": "code",
   "execution_count": 44,
   "id": "2af8094f-76f6-446d-8b06-dec4630f1cb3",
   "metadata": {},
   "outputs": [
    {
     "name": "stdout",
     "output_type": "stream",
     "text": [
      "Written to ./len_125_sample_2_sctm_sctm_90_traj_8.pdb\n"
     ]
    }
   ],
   "source": [
    "# Save final design as PDB.\n",
    "file_path = f'./{pdb_name}_traj.pdb'\n",
    "save_path = au.write_prot_to_pdb(\n",
    "    save_traj,\n",
    "    file_path\n",
    ")\n",
    "print(f'Written to {save_path}')"
   ]
  },
  {
   "cell_type": "code",
   "execution_count": null,
   "id": "0be938f5-f392-4db3-8696-6a2df275e521",
   "metadata": {},
   "outputs": [],
   "source": []
  },
  {
   "cell_type": "code",
   "execution_count": null,
   "id": "4ef425f3-b1b2-42be-9488-fd03511d50f9",
   "metadata": {},
   "outputs": [],
   "source": []
  },
  {
   "cell_type": "code",
   "execution_count": null,
   "id": "2dacd1f5-b9cb-40db-8f92-b62aadb4a4b9",
   "metadata": {},
   "outputs": [],
   "source": []
  },
  {
   "cell_type": "code",
   "execution_count": null,
   "id": "b199fe86-7921-4d1f-90cc-e6d39c3d98e9",
   "metadata": {},
   "outputs": [],
   "source": []
  },
  {
   "cell_type": "code",
   "execution_count": null,
   "id": "ca1b3181-d836-49a7-b821-f95d0b48a3a9",
   "metadata": {},
   "outputs": [],
   "source": []
  }
 ],
 "metadata": {
  "kernelspec": {
   "display_name": "protdiff",
   "language": "python",
   "name": "protdiff"
  },
  "language_info": {
   "codemirror_mode": {
    "name": "ipython",
    "version": 3
   },
   "file_extension": ".py",
   "mimetype": "text/x-python",
   "name": "python",
   "nbconvert_exporter": "python",
   "pygments_lexer": "ipython3",
   "version": "3.9.6"
  }
 },
 "nbformat": 4,
 "nbformat_minor": 5
}
