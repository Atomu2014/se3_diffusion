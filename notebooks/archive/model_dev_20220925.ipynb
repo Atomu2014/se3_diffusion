{
 "cells": [
  {
   "cell_type": "code",
   "execution_count": 1,
   "metadata": {
    "tags": []
   },
   "outputs": [
    {
     "name": "stderr",
     "output_type": "stream",
     "text": [
      "INFO: Using numpy backend\n",
      "WARNING: Warning: importing 'simtk.openmm' is deprecated.  Import 'openmm' instead.\n"
     ]
    }
   ],
   "source": [
    "import torch\n",
    "import os\n",
    "import numpy as np\n",
    "import matplotlib.pyplot as plt\n",
    "import copy\n",
    "import GPUtil\n",
    "from collections import defaultdict\n",
    "from analysis import utils as au\n",
    "from analysis import plotting\n",
    "from data import utils as du\n",
    "from data import se3_diffuser\n",
    "from data import r3_diffuser\n",
    "from data import so3_diffuser\n",
    "from model import loss\n",
    "from model import reverse_se3_diffusion\n",
    "\n",
    "import tree\n",
    "import sympy as sym\n",
    "from data import rosetta_data_loader\n",
    "from data import digs_data_loader\n",
    "from experiments import train_se3_diffusion\n",
    "from experiments import inference_se3_diffusion\n",
    "from openfold.utils import rigid_utils as ru\n",
    "from data import all_atom\n",
    "from scipy.spatial.transform import Rotation\n",
    "from model import basis_utils\n",
    "\n",
    "from omegaconf import OmegaConf\n",
    "import importlib\n",
    "\n",
    "Rigid = ru.Rigid\n",
    "Rotation = ru.Rotation\n",
    "\n",
    "# Enable logging\n",
    "import logging\n",
    "import sys\n",
    "date_strftime_format = \"%Y-%m-%y %H:%M:%S\"\n",
    "logging.basicConfig(stream=sys.stdout, level=logging.INFO, format=\"%(asctime)s %(message)s\", datefmt=date_strftime_format)"
   ]
  },
  {
   "cell_type": "code",
   "execution_count": 24,
   "metadata": {},
   "outputs": [],
   "source": [
    "from scipy.spatial.transform import Rotation"
   ]
  },
  {
   "cell_type": "code",
   "execution_count": 2,
   "metadata": {},
   "outputs": [
    {
     "data": {
      "text/plain": [
       "<module 'experiments.train_se3_diffusion' from '/data/rsg/chemistry/jyim/projects/protein_diffusion/experiments/train_se3_diffusion.py'>"
      ]
     },
     "execution_count": 2,
     "metadata": {},
     "output_type": "execute_result"
    }
   ],
   "source": [
    "# Reloads any code changes to \n",
    "importlib.reload(rosetta_data_loader)\n",
    "importlib.reload(digs_data_loader)\n",
    "importlib.reload(se3_diffuser)\n",
    "importlib.reload(so3_diffuser)\n",
    "importlib.reload(r3_diffuser)\n",
    "importlib.reload(du)\n",
    "importlib.reload(reverse_se3_diffusion)\n",
    "importlib.reload(train_se3_diffusion)"
   ]
  },
  {
   "cell_type": "code",
   "execution_count": 3,
   "metadata": {},
   "outputs": [],
   "source": [
    "# Load config.\n",
    "conf = OmegaConf.load('../config/base.yaml')\n",
    "\n",
    "# Redirect cache from notebook directory.\n",
    "exp_conf = conf.experiment\n",
    "exp_conf.data_location = 'rosetta'\n",
    "exp_conf.ckpt_dir = None\n",
    "exp_conf.num_loader_workers = 0\n",
    "exp_conf.dist_mode = 'single'\n",
    "exp_conf.use_wandb = False\n",
    "\n",
    "# Data settings\n",
    "data_conf = conf.data\n",
    "data_conf.rosetta.filtering.subset = 1\n",
    "data_conf.rosetta.filtering.max_len = 80\n",
    "\n",
    "# Diffusion settings\n",
    "diff_conf = conf.diffuser\n",
    "diff_conf.diffuse_trans = True  # whether to diffuse translations\n",
    "diff_conf.diffuse_rot = True  # whether to diffuse rotations\n",
    "# Noise schedules\n",
    "diff_conf.rot_schedule = 'linear'\n",
    "diff_conf.trans_schedule = 'exponential'\n",
    "\n",
    "diff_conf.trans_align_t = True\n",
    "\n",
    "# print(OmegaConf.to_yaml(conf))"
   ]
  },
  {
   "cell_type": "markdown",
   "metadata": {
    "tags": []
   },
   "source": [
    "### Load data"
   ]
  },
  {
   "cell_type": "code",
   "execution_count": 4,
   "metadata": {},
   "outputs": [
    {
     "name": "stderr",
     "output_type": "stream",
     "text": [
      "INFO: Number of model parameters 368794\n",
      "INFO: Using cached IGSO3.\n",
      "INFO: Checkpoint not being saved.\n",
      "INFO: Evaluation saved to: ./results/baseline/25D_09M_2022Y_22h_58m_13s\n",
      "INFO: Training: 1 examples\n",
      "INFO: Validation: 4 examples with lengths [64 64 64 64 64 64 64 64 64 64]\n"
     ]
    }
   ],
   "source": [
    "# Figure out data loading for PDB on rosetta\n",
    "exp = train_se3_diffusion.Experiment(conf=conf)\n",
    "train_loader, valid_loader = exp.create_rosetta_dataset(0, 1)\n",
    "device = 'cuda' if torch.cuda.is_available() else 'cpu'\n",
    "exp._model = exp._model.to(device)"
   ]
  },
  {
   "cell_type": "code",
   "execution_count": 5,
   "metadata": {},
   "outputs": [],
   "source": [
    "train_iter = iter(train_loader)\n",
    "next_item = next(train_iter)\n",
    "# next_item = tree.map_structure(lambda x: x[0], next_item)"
   ]
  },
  {
   "cell_type": "code",
   "execution_count": 8,
   "metadata": {},
   "outputs": [],
   "source": [
    "node_mask = next_item['res_mask']\n",
    "edge_mask = node_mask[..., None] * node_mask[..., None, :]\n",
    "rigids_tensor = next_item['rigids_t']\n",
    "rigids = ru.Rigid.from_tensor_7(rigids_tensor)\n",
    "atom_pos = all_atom.compute_backbone(\n",
    "    rigids,\n",
    "    torch.zeros(node_mask.shape + (2,))\n",
    ")[0].to(node_mask.device)\n",
    "bb_pos = atom_pos[..., :4, :]"
   ]
  },
  {
   "cell_type": "code",
   "execution_count": 11,
   "metadata": {},
   "outputs": [],
   "source": [
    "num_neighbors = 2"
   ]
  },
  {
   "cell_type": "code",
   "execution_count": 12,
   "metadata": {},
   "outputs": [],
   "source": [
    "batch_size, num_res = node_mask.shape\n",
    "ca_pos = bb_pos[..., 1, :]\n",
    "dists_2d = torch.linalg.norm(\n",
    "    ca_pos[:, :, None, :] - ca_pos[:, None, :, :], axis=-1)\n",
    "\n",
    "# Add bias to self-edges and masked residues.\n",
    "dists_2d += torch.eye(num_res).to(node_mask.device)[None]*1e5\n",
    "dists_2d += (1 - edge_mask)*1e5\n",
    "\n",
    "# Calculate local graph features\n",
    "_, local_graph = torch.topk(\n",
    "    dists_2d, k=num_neighbors, dim=-1, largest=False)\n",
    "# TODO: Add local in sequence order.\n",
    "local_edge_mask = torch.gather(\n",
    "    edge_mask * (1 - torch.eye(num_res))[None].to(edge_mask.device),\n",
    "    -1,\n",
    "    local_graph,\n",
    "    sparse_grad=True\n",
    ")\n",
    "\n",
    "# Gather local features.\n",
    "flat_local_graph = local_graph.view(batch_size, -1)\n",
    "_, res_per_batch = flat_local_graph.shape\n",
    "i_idx = torch.repeat_interleave(torch.arange(batch_size), res_per_batch)\n",
    "j_idx = flat_local_graph.view(-1)\n",
    "local_bb_pos = bb_pos[(i_idx, j_idx)].reshape(\n",
    "    batch_size, num_res, num_neighbors, 4, 3)"
   ]
  },
  {
   "cell_type": "code",
   "execution_count": null,
   "metadata": {},
   "outputs": [],
   "source": []
  },
  {
   "cell_type": "code",
   "execution_count": 26,
   "metadata": {},
   "outputs": [
    {
     "data": {
      "text/plain": [
       "array([[ 0.26947431,  0.83576753,  0.4784101 ],\n",
       "       [-0.61263013,  0.53207762, -0.58444651],\n",
       "       [-0.74301273, -0.13559512,  0.65539762]])"
      ]
     },
     "execution_count": 26,
     "metadata": {},
     "output_type": "execute_result"
    }
   ],
   "source": [
    "rot = Rotation.random()"
   ]
  },
  {
   "cell_type": "code",
   "execution_count": 43,
   "metadata": {},
   "outputs": [],
   "source": [
    "ca_pos = torch.zeros((1, 3))\n",
    "local_ca_pos = torch.eye(3)\n"
   ]
  },
  {
   "cell_type": "code",
   "execution_count": 37,
   "metadata": {},
   "outputs": [],
   "source": [
    "rot = Rotation.random()\n",
    "non_ca_pos = torch.tensor(rot.apply(np.eye(3)), dtype=ca_pos.dtype)"
   ]
  },
  {
   "cell_type": "code",
   "execution_count": 46,
   "metadata": {},
   "outputs": [],
   "source": [
    "all_angles = []\n",
    "for _ in range(100):\n",
    "    rot = Rotation.random()\n",
    "    non_ca_pos = torch.tensor(rot.apply(np.eye(3)), dtype=ca_pos.dtype)\n",
    "    angles = all_atom.calculate_neighbor_angles(\n",
    "        local_ca_pos - ca_pos,\n",
    "        non_ca_pos\n",
    "    )\n",
    "    all_angles.append(angles)"
   ]
  },
  {
   "cell_type": "code",
   "execution_count": 47,
   "metadata": {},
   "outputs": [
    {
     "data": {
      "text/plain": [
       "[tensor([2.1080, 2.1759, 0.9881]),\n",
       " tensor([1.5339, 1.4103, 1.3371]),\n",
       " tensor([1.3015, 2.0319, 2.0888]),\n",
       " tensor([1.1987, 1.4209, 1.9978]),\n",
       " tensor([1.9246, 1.4072, 1.1110]),\n",
       " tensor([2.8265, 0.5530, 2.5862]),\n",
       " tensor([2.2077, 0.7317, 2.3139]),\n",
       " tensor([1.4374, 1.9595, 1.7130]),\n",
       " tensor([1.9166, 1.7212, 1.6997]),\n",
       " tensor([1.3246, 1.6180, 2.1148]),\n",
       " tensor([2.2281, 0.8401, 2.2068]),\n",
       " tensor([1.9460, 1.0537, 1.5786]),\n",
       " tensor([2.1601, 1.9491, 1.3871]),\n",
       " tensor([0.6643, 0.6963, 0.7676]),\n",
       " tensor([1.4151, 1.0375, 1.7539]),\n",
       " tensor([1.9553, 1.7792, 1.8447]),\n",
       " tensor([1.1949, 2.1404, 1.6981]),\n",
       " tensor([0.0948, 0.2681, 0.3385]),\n",
       " tensor([0.0848, 0.3690, 0.2149]),\n",
       " tensor([2.1685, 1.0748, 1.9541]),\n",
       " tensor([0.6630, 2.7835, 2.3514]),\n",
       " tensor([0.1990, 2.3432, 2.7169]),\n",
       " tensor([2.0089, 1.4033, 2.0392]),\n",
       " tensor([1.8517, 0.9888, 1.6133]),\n",
       " tensor([2.0523, 1.0379, 2.0530]),\n",
       " tensor([1.5351, 1.0360, 1.5653]),\n",
       " tensor([0.8921, 0.9531, 0.8987]),\n",
       " tensor([1.4561, 1.0845, 1.8785]),\n",
       " tensor([1.4919, 1.0330, 1.8655]),\n",
       " tensor([1.8006, 1.2934, 2.0882]),\n",
       " tensor([0.0960, 3.1100, 2.5616]),\n",
       " tensor([0.6898, 2.6114, 2.7095]),\n",
       " tensor([0.8836, 0.4085, 0.4012]),\n",
       " tensor([1.9350, 1.5727, 1.8434]),\n",
       " tensor([0.6410, 2.3964, 2.5160]),\n",
       " tensor([1.3935, 1.7270, 1.4329]),\n",
       " tensor([1.8792, 1.0746, 2.0925]),\n",
       " tensor([2.9069, 0.4501, 2.3528]),\n",
       " tensor([1.8678, 1.8617, 1.2489]),\n",
       " tensor([1.9826, 2.0531, 1.2257]),\n",
       " tensor([0.4612, 2.4137, 2.5981]),\n",
       " tensor([2.4468, 0.8761, 2.5109]),\n",
       " tensor([0.9931, 1.2364, 1.3178]),\n",
       " tensor([0.7964, 2.4086, 2.1934]),\n",
       " tensor([0.9838, 1.5518, 1.5136]),\n",
       " tensor([2.0308, 1.6723, 1.1100]),\n",
       " tensor([2.4552, 0.8505, 2.4045]),\n",
       " tensor([2.1454, 2.1471, 1.0003]),\n",
       " tensor([1.6928, 1.1259, 2.0441]),\n",
       " tensor([0.8934, 0.8272, 0.8307]),\n",
       " tensor([1.5765, 1.7223, 1.2003]),\n",
       " tensor([1.8239, 1.3832, 1.0728]),\n",
       " tensor([0.9775, 2.1624, 2.1156]),\n",
       " tensor([0.3214, 0.6898, 0.5729]),\n",
       " tensor([0.9433, 0.8843, 0.8463]),\n",
       " tensor([1.4155, 1.2337, 0.9920]),\n",
       " tensor([3.0240, 0.7297, 2.8712]),\n",
       " tensor([0.7383, 0.8941, 0.8324]),\n",
       " tensor([0.7167, 2.2287, 2.5959]),\n",
       " tensor([1.8493, 1.9446, 1.0662]),\n",
       " tensor([1.0026, 1.0085, 1.1633]),\n",
       " tensor([0.7872, 0.9367, 0.8742]),\n",
       " tensor([0.4766, 2.3221, 2.4789]),\n",
       " tensor([1.8620, 1.8521, 1.1159]),\n",
       " tensor([2.1767, 1.6966, 1.5753]),\n",
       " tensor([0.8555, 2.1982, 2.3458]),\n",
       " tensor([1.0227, 1.3418, 1.2942]),\n",
       " tensor([1.5949, 1.1831, 1.1599]),\n",
       " tensor([1.9716, 1.9049, 1.6378]),\n",
       " tensor([1.2095, 1.2078, 1.6333]),\n",
       " tensor([2.3622, 0.9391, 2.2892]),\n",
       " tensor([2.4733, 0.6692, 2.5801]),\n",
       " tensor([2.1982, 0.9299, 2.2225]),\n",
       " tensor([0.9698, 0.9857, 0.9582]),\n",
       " tensor([1.3826, 1.1834, 1.8487]),\n",
       " tensor([1.2217, 1.5217, 1.5120]),\n",
       " tensor([1.7477, 1.6120, 1.9225]),\n",
       " tensor([1.3778, 2.0618, 1.8366]),\n",
       " tensor([1.0886, 2.0750, 2.1774]),\n",
       " tensor([2.4146, 0.8684, 2.3124]),\n",
       " tensor([2.1086, 2.1259, 1.1012]),\n",
       " tensor([0.2586, 0.2164, 0.4425]),\n",
       " tensor([1.1362, 1.0806, 1.1787]),\n",
       " tensor([0.9893, 1.5912, 1.4896]),\n",
       " tensor([2.0840, 0.9617, 2.1209]),\n",
       " tensor([0.3368, 0.1469, 0.1292]),\n",
       " tensor([0.7560, 2.6906, 2.3456]),\n",
       " tensor([1.7712, 0.9998, 1.7042]),\n",
       " tensor([1.2958, 1.0396, 1.2442]),\n",
       " tensor([1.4680, 2.1165, 1.3644]),\n",
       " tensor([2.1549, 1.0667, 2.0145]),\n",
       " tensor([1.9504, 1.7914, 1.3415]),\n",
       " tensor([2.0192, 1.0736, 1.7524]),\n",
       " tensor([1.6491, 1.0199, 1.8339]),\n",
       " tensor([1.0053, 1.0004, 0.9604]),\n",
       " tensor([1.3150, 1.2641, 1.1977]),\n",
       " tensor([2.4387, 2.6294, 0.2937]),\n",
       " tensor([2.2613, 0.9350, 2.2208]),\n",
       " tensor([2.1690, 0.9648, 2.1472]),\n",
       " tensor([1.2969, 2.0966, 1.6481])]"
      ]
     },
     "execution_count": 47,
     "metadata": {},
     "output_type": "execute_result"
    }
   ],
   "source": [
    "all_angles"
   ]
  },
  {
   "cell_type": "code",
   "execution_count": 23,
   "metadata": {},
   "outputs": [
    {
     "data": {
      "text/plain": [
       "tensor([1.5708])"
      ]
     },
     "execution_count": 23,
     "metadata": {},
     "output_type": "execute_result"
    }
   ],
   "source": [
    "all_atom.calculate_neighbor_angles(\n",
    "    local_ca_pos - ca_pos,\n",
    "    non_ca_pos[-1][None]\n",
    ")"
   ]
  },
  {
   "cell_type": "code",
   "execution_count": null,
   "metadata": {},
   "outputs": [],
   "source": []
  },
  {
   "cell_type": "code",
   "execution_count": null,
   "metadata": {},
   "outputs": [],
   "source": []
  },
  {
   "cell_type": "code",
   "execution_count": null,
   "metadata": {},
   "outputs": [],
   "source": [
    "calpha_vecs = (ca_pos[..., None, :] - local_ca_pos) + 1e-10\n",
    "# Backbone pairwise displacements: [B, N, K, 3, 3]\n",
    "bb_vecs = (non_ca_pos[..., None, :, :] - local_non_ca_pos) + 1e-10\n",
    "\n",
    "# Calculate phi angles: [B, N, N, 3]\n",
    "# where 3 is the number of non-Ca atoms per residue.\n",
    "# phi_angles[a, b, c] is angle:\n",
    "# c\n",
    "# ^\n",
    "# |\n",
    "# |\n",
    "# a ----> b\n",
    "batch_size, num_res, num_neighbors, num_non_ca, _ = bb_vecs.shape\n",
    "tiled_calpha_vecs = torch.tile(calpha_vecs[..., None, :], (1, 1, 1, num_non_ca, 1))\n",
    "phi_angles = all_atom.calculate_neighbor_angles(\n",
    "    tiled_calpha_vecs.reshape(-1, 3),\n",
    "    bb_vecs.reshape(-1, 3)\n",
    ").reshape(batch_size, num_res, num_neighbors, num_non_ca) "
   ]
  }
 ],
 "metadata": {
  "kernelspec": {
   "display_name": "Python 3 (ipykernel)",
   "language": "python",
   "name": "python3"
  },
  "language_info": {
   "codemirror_mode": {
    "name": "ipython",
    "version": 3
   },
   "file_extension": ".py",
   "mimetype": "text/x-python",
   "name": "python",
   "nbconvert_exporter": "python",
   "pygments_lexer": "ipython3",
   "version": "3.8.12"
  }
 },
 "nbformat": 4,
 "nbformat_minor": 4
}
