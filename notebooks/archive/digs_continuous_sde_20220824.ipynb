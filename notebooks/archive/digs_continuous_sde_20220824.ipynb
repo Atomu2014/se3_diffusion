{
 "cells": [
  {
   "cell_type": "code",
   "execution_count": 122,
   "metadata": {
    "tags": []
   },
   "outputs": [],
   "source": [
    "import torch\n",
    "import os\n",
    "import numpy as np\n",
    "import matplotlib.pyplot as plt\n",
    "import copy\n",
    "import GPUtil\n",
    "from collections import defaultdict\n",
    "from analysis import utils as au\n",
    "from analysis import plotting\n",
    "from data import utils as du\n",
    "from data import se3_diffuser\n",
    "from data import so3_diffuser\n",
    "from data import r3_diffuser\n",
    "from model import loss\n",
    "import tree\n",
    "from data import rosetta_data_loader\n",
    "from data import digs_data_loader\n",
    "from experiments import train_se3_diffusion\n",
    "from openfold.utils import rigid_utils as ru\n",
    "from scipy.spatial.transform import Rotation\n",
    "\n",
    "from omegaconf import OmegaConf\n",
    "import importlib\n",
    "\n",
    "# Enable logging\n",
    "import logging\n",
    "import sys\n",
    "date_strftime_format = \"%Y-%m-%y %H:%M:%S\"\n",
    "logging.basicConfig(stream=sys.stdout, level=logging.INFO, format=\"%(asctime)s %(message)s\", datefmt=date_strftime_format)"
   ]
  },
  {
   "cell_type": "code",
   "execution_count": 123,
   "metadata": {},
   "outputs": [
    {
     "data": {
      "text/plain": [
       "<module 'experiments.train_se3_diffusion' from '/home/jyim/Projects/protein_diffusion_v2/experiments/train_se3_diffusion.py'>"
      ]
     },
     "execution_count": 123,
     "metadata": {},
     "output_type": "execute_result"
    }
   ],
   "source": [
    "importlib.reload(rosetta_data_loader)\n",
    "importlib.reload(digs_data_loader)\n",
    "importlib.reload(se3_diffuser)\n",
    "importlib.reload(so3_diffuser)\n",
    "importlib.reload(du)\n",
    "importlib.reload(train_se3_diffusion)"
   ]
  },
  {
   "cell_type": "code",
   "execution_count": 124,
   "metadata": {},
   "outputs": [],
   "source": [
    "# Load config.\n",
    "conf = OmegaConf.load('../config/base.yaml')\n",
    "\n",
    "# Redirect cache from notebook directory.\n",
    "exp_conf = conf.experiment\n",
    "exp_conf.data_location = 'digs'\n",
    "\n",
    "data_conf = conf.data\n",
    "data_conf.digs.filtering.subset = 1\n",
    "data_conf.digs.fraction_fb = 0.0"
   ]
  },
  {
   "cell_type": "code",
   "execution_count": null,
   "metadata": {},
   "outputs": [],
   "source": [
    "exp = train_se3_diffusion.Experiment(conf=conf)\n",
    "train_loader, train_sampler, valid_loader, valid_sampler = exp.create_digs_dataset(0, 1)"
   ]
  },
  {
   "cell_type": "code",
   "execution_count": null,
   "metadata": {},
   "outputs": [],
   "source": [
    "# Extract a protein backbone.\n",
    "train_iter = iter(train_loader)\n",
    "next_item = next(train_iter)\n",
    "res_mask = next_item['res_mask'][0, :]\n",
    "ca_pos = next_item['xyz'][0, :, 1, :][res_mask.bool()]"
   ]
  },
  {
   "cell_type": "markdown",
   "metadata": {
    "tags": []
   },
   "source": [
    "# Translations"
   ]
  },
  {
   "cell_type": "code",
   "execution_count": null,
   "metadata": {},
   "outputs": [],
   "source": [
    "class Diffuser:\n",
    "    \"\"\"SDE diffuser class for translations.\"\"\"\n",
    "\n",
    "    def __init__(\n",
    "            self,\n",
    "            min_b,\n",
    "            max_b,\n",
    "            sde='vp',\n",
    "        ):\n",
    "        \"\"\"\n",
    "        Args:\n",
    "            min_b: starting value in variance schedule.\n",
    "            max_b: ending value in variance schedule.\n",
    "        \"\"\"\n",
    "        self.min_b = min_b\n",
    "        self.max_b = max_b\n",
    "        self.sde = sde\n",
    "\n",
    "    def b_t(self, t):\n",
    "        return torch.tensor(self.min_b + t*(self.max_b - self.min_b))\n",
    "    \n",
    "    def g_t(self, t):\n",
    "        return torch.sqrt(self.b_t(t))\n",
    "\n",
    "    def f(self, x, t):\n",
    "        \"\"\"f is the time-dependent drift coefficient\n",
    "        \n",
    "        Args:\n",
    "            VP: set True for variance preserving, otherwise variance exploding\n",
    "        \"\"\"\n",
    "        if self.sde == 'vp':\n",
    "            return -1/2 * self.g_t(t)**2\n",
    "        else:\n",
    "            return 0.0\n",
    "        \n",
    "    def bar_alpha(self, t):\n",
    "        \"\"\"bar_alpha returns the weighting factor on x_0 for the VP SDE\n",
    "        \n",
    "        \"\"\"\n",
    "        return torch.exp(-(1/2)*(t**2)*(self.max_b-self.min_b) - t*self.min_b)\n",
    "    \n",
    "    def sigma_t_sqr(self, t):\n",
    "        \"\"\"sigma_t_sqr is the variance of p(x(t) | x(0)) for VE SDE\n",
    "        \"\"\"\n",
    "        return t*self.min_b + (1/2)*(t**2)*(self.max_b-self.min_b)\n",
    "        \n",
    "    def weighting_factor_and_variance(self, t, VP=True):\n",
    "        \"\"\"weighting_factor_and_variance returns a and b such that\n",
    "        p(x(t) | x(0)) = N(a*x(0), b)\n",
    "        \"\"\"\n",
    "        \n",
    "        if self.sde == 'vp':\n",
    "            return torch.sqrt(self.bar_alpha(t)), 1 - self.bar_alpha(t)\n",
    "        else:\n",
    "            return 1., self.sigma_t_sqr(t)\n",
    "    \n",
    "    \n",
    "    def forward_diffusion(self, t, dt, xt):\n",
    "        d_trans = torch.normal(\n",
    "            mean=self.f(xt, t) * xt * dt,\n",
    "            std=self.g_t(t) * torch.sqrt(dt)\n",
    "        )\n",
    "        xt_1 = xt + d_trans\n",
    "        return xt_1\n",
    "    \n",
    "    def forward_diffusion_marginal(self, t, x0):\n",
    "        a_trans, b_trans = self.weighting_factor_and_variance(t)\n",
    "        trans_t = torch.normal(\n",
    "            mean=a_trans * x0,\n",
    "            std=torch.sqrt(b_trans)\n",
    "        )\n",
    "        return trans_t\n",
    "        \n",
    "    def reverse_diffusion(self, t, dt, xt, s_theta):\n",
    "        gt = self.g_t(t)\n",
    "        ft_trans = self.f(xt, t)*xt\n",
    "        d_trans = torch.normal(\n",
    "            mean=(ft_trans - gt**2 * s_theta)*dt,\n",
    "            std=gt*torch.sqrt(dt)\n",
    "        )\n",
    "        return xt - d_trans\n",
    " \n",
    "    def score(self, xt, x0, t):\n",
    "        return -(xt - torch.sqrt(self.bar_alpha(t)) * x0) / (1-self.bar_alpha(t))\n"
   ]
  },
  {
   "cell_type": "markdown",
   "metadata": {
    "tags": []
   },
   "source": [
    "## Simulating reverse diffusion"
   ]
  },
  {
   "cell_type": "code",
   "execution_count": 24,
   "metadata": {},
   "outputs": [],
   "source": [
    "min_b = 0.1\n",
    "max_b = 20\n",
    "num_t = 100\n",
    "dt = torch.tensor(1 / num_t)\n",
    "r3_diffuser = Diffuser(min_b = min_b, max_b = max_b)"
   ]
  },
  {
   "cell_type": "code",
   "execution_count": 36,
   "metadata": {},
   "outputs": [
    {
     "name": "stderr",
     "output_type": "stream",
     "text": [
      "/scratch/jyim/52212185/ipykernel_2186702/3645239646.py:20: UserWarning: To copy construct from a tensor, it is recommended to use sourceTensor.clone().detach() or sourceTensor.clone().detach().requires_grad_(True), rather than torch.tensor(sourceTensor).\n",
      "  return torch.tensor(self.min_b + t*(self.max_b - self.min_b))\n"
     ]
    }
   ],
   "source": [
    "x0 = torch.clone(ca_pos)\n",
    "x1 = torch.normal(mean=0, std=1.0, size=x0.shape)\n",
    "reverse_t = np.linspace(0, 1, num_t)[::-1]\n",
    "all_steps = [x1]\n",
    "all_scores = []\n",
    "for i in range(num_t-1):\n",
    "    t = torch.tensor(reverse_t[i])\n",
    "    xt = all_steps[-1]\n",
    "    score_t = r3_diffuser.score(xt, x0, t)\n",
    "    all_scores.append(score_t)\n",
    "    x_t_1 = r3_diffuser.reverse_diffusion(t, dt, x_t, score_t)\n",
    "    all_steps.append(x_t_1)"
   ]
  },
  {
   "cell_type": "code",
   "execution_count": null,
   "metadata": {},
   "outputs": [],
   "source": [
    "# Plot out SE(3)\n",
    "f, axes = plt.subplots(1, 3, figsize=[24, 8], subplot_kw=dict(projection=\"3d\"))\n",
    "scale_factor = conf.data.digs.scale_factor\n",
    "ax_lim = 15.\n",
    "\n",
    "curr_step_ca = all_steps[0]\n",
    "plotting.plt_3d(curr_step_ca, axes[0], color='r', s=100, mode='scatter')\n",
    "plotting.plt_3d(curr_step_ca, axes[0], color='r', mode='line')\n",
    "\n",
    "curr_step_ca = all_steps[-50]\n",
    "plotting.plt_3d(curr_step_ca, axes[1], color='r', s=100, mode='scatter')\n",
    "plotting.plt_3d(curr_step_ca, axes[1], color='r', mode='line')\n",
    "\n",
    "curr_step_ca = all_steps[-1]\n",
    "plotting.plt_3d(curr_step_ca, axes[2], color='r', s=100, mode='scatter')\n",
    "plotting.plt_3d(curr_step_ca, axes[2], color='r', mode='line')\n"
   ]
  },
  {
   "cell_type": "code",
   "execution_count": null,
   "metadata": {},
   "outputs": [],
   "source": []
  },
  {
   "cell_type": "markdown",
   "metadata": {},
   "source": [
    "## Simulating forward marginals"
   ]
  },
  {
   "cell_type": "code",
   "execution_count": 33,
   "metadata": {},
   "outputs": [],
   "source": [
    "min_b = 0.1\n",
    "max_b = 20\n",
    "num_t = 100\n",
    "dt = torch.tensor(1 / num_t)\n",
    "r3_diffuser = Diffuser(min_b = min_b, max_b = max_b)"
   ]
  },
  {
   "cell_type": "code",
   "execution_count": 34,
   "metadata": {},
   "outputs": [],
   "source": [
    "x0 = torch.clone(ca_pos[2])\n",
    "\n",
    "marginal_samples = {}\n",
    "for i,t in enumerate(torch.linspace(0, 1, num_t)):\n",
    "    marginal_samples[i] = []\n",
    "    for _ in range(500):\n",
    "        marginal_samples[i].append(\n",
    "            r3_diffuser.forward_diffusion_marginal(t, x0)\n",
    "        )\n"
   ]
  },
  {
   "cell_type": "code",
   "execution_count": 35,
   "metadata": {},
   "outputs": [
    {
     "name": "stderr",
     "output_type": "stream",
     "text": [
      "/scratch/jyim/52212185/ipykernel_2224476/2553580008.py:20: UserWarning: To copy construct from a tensor, it is recommended to use sourceTensor.clone().detach() or sourceTensor.clone().detach().requires_grad_(True), rather than torch.tensor(sourceTensor).\n",
      "  return torch.tensor(self.min_b + t*(self.max_b - self.min_b))\n"
     ]
    }
   ],
   "source": [
    "# Compute reverse samples.\n",
    "reverse_samples = {}\n",
    "for _ in range(500):\n",
    "    curr_step = torch.normal(mean=0, std=1.0, size=x0.shape)\n",
    "    for i, t in reversed(list(enumerate(torch.linspace(0, 1, num_t)))):\n",
    "        if i not in reverse_samples:\n",
    "            reverse_samples[i] = []\n",
    "        score_t = r3_diffuser.score(curr_step, x0, t)\n",
    "        curr_step = r3_diffuser.reverse_diffusion(t, dt, curr_step, score_t)\n",
    "        reverse_samples[i].append(torch.clone(curr_step))"
   ]
  },
  {
   "cell_type": "code",
   "execution_count": null,
   "metadata": {},
   "outputs": [],
   "source": [
    "ts = [2, 10, 20, 50, 98]\n",
    "f, axes = plt.subplots(len(ts), 2, figsize=[20, 4*len(ts)])\n",
    "for i,t in enumerate(ts):\n",
    "    for j in range(2):\n",
    "        reverse_i = torch.stack(reverse_samples[t])[:, j]\n",
    "        forward_i = torch.stack(marginal_samples[t])[:, j]\n",
    "        axes[i, j].hist(reverse_i.numpy(), bins=10, density=True, label='reverse')\n",
    "        axes[i, j].hist(forward_i.numpy(), bins=10, density=True, label='forrward')\n",
    "        axes[i, j].set_xlim(-8, 8)\n",
    "        axes[i, j].set_title(f't={t},coord={j}')\n",
    "        axes[i, j].legend(loc=\"upper left\")\n"
   ]
  },
  {
   "cell_type": "code",
   "execution_count": null,
   "metadata": {},
   "outputs": [],
   "source": []
  },
  {
   "cell_type": "code",
   "execution_count": null,
   "metadata": {},
   "outputs": [],
   "source": []
  },
  {
   "cell_type": "markdown",
   "metadata": {},
   "source": [
    "# Rotations"
   ]
  },
  {
   "cell_type": "code",
   "execution_count": 125,
   "metadata": {},
   "outputs": [],
   "source": [
    "diff_conf = conf.diffuser\n",
    "num_sigma = 1000\n",
    "num_omega = 1000\n",
    "min_sigma = 0.1\n",
    "max_sigma = 1.5"
   ]
  },
  {
   "cell_type": "code",
   "execution_count": 126,
   "metadata": {},
   "outputs": [
    {
     "name": "stderr",
     "output_type": "stream",
     "text": [
      "INFO: Using cached IGSO3.\n"
     ]
    }
   ],
   "source": [
    "rot_diff = so3_diffuser.SO3Diffuser(\n",
    "    cache_dir=diff_conf.igso3_cache_dir,\n",
    "    num_sigma=num_sigma,\n",
    "    num_omega=num_omega,\n",
    "    min_sigma=min_sigma,\n",
    "    max_sigma=max_sigma,\n",
    ")"
   ]
  },
  {
   "cell_type": "markdown",
   "metadata": {
    "tags": []
   },
   "source": [
    "## Simulating diffusion"
   ]
  },
  {
   "cell_type": "code",
   "execution_count": 127,
   "metadata": {},
   "outputs": [],
   "source": [
    "num_t = 100\n",
    "forward_t = np.linspace(1e-5, 1, num_t)\n",
    "reverse_t = forward_t[::-1]\n",
    "dt = 1 / num_t"
   ]
  },
  {
   "cell_type": "code",
   "execution_count": 129,
   "metadata": {},
   "outputs": [],
   "source": [
    "# Forward diffusion\n",
    "rot_0 = np.zeros_like(rot_1)\n",
    "marginal_samples = {}\n",
    "for i,t in enumerate(forward_t):\n",
    "    marginal_samples[i] = []\n",
    "    for _ in range(500):\n",
    "        marginal_samples[i].append(\n",
    "            rot_diff.forward_marginal(rot_0, t)[0])"
   ]
  },
  {
   "cell_type": "code",
   "execution_count": 136,
   "metadata": {},
   "outputs": [],
   "source": [
    "# Reverse diffusion\n",
    "reverse_samples = {}\n",
    "for _ in range(500):\n",
    "    curr_step = rot_diff.sample(1, n_samples=1)\n",
    "    for i, t in reversed(list(enumerate(forward_t))):\n",
    "        if i not in reverse_samples:\n",
    "            reverse_samples[i] = []\n",
    "        score_t = rot_diff.score(curr_step, t)\n",
    "        curr_step = rot_diff.reverse(\n",
    "            rot_t=curr_step,\n",
    "            score_t=score_t,\n",
    "            t=t,\n",
    "            dt=dt)\n",
    "        reverse_samples[i].append(copy.deepcopy(curr_step))"
   ]
  },
  {
   "cell_type": "code",
   "execution_count": 137,
   "metadata": {},
   "outputs": [
    {
     "data": {
      "image/png": "[encoded data removed]",
      "text/plain": [
       "<Figure size 1440x1440 with 15 Axes>"
      ]
     },
     "metadata": {
      "needs_background": "light"
     },
     "output_type": "display_data"
    }
   ],
   "source": [
    "ts = [2, 10, 20, 50, 98]\n",
    "f, axes = plt.subplots(len(ts), 3, figsize=[20, 4*len(ts)])\n",
    "for i,t in enumerate(ts):\n",
    "    for j in range(3):\n",
    "        reverse_i = np.stack(reverse_samples[t])[:, 0, j]\n",
    "        axes[i, j].hist(reverse_i, bins=10, density=True, label='reverse')\n",
    "\n",
    "        forward_i = np.stack(marginal_samples[t])[:, 0, j]\n",
    "        axes[i, j].hist(forward_i, bins=10, density=True, label='forward')\n",
    "\n",
    "        axes[i, j].set_xlim(-5, 5)\n",
    "        axes[i, j].set_title(f't={t},coord={j}')\n",
    "        axes[i, j].legend(loc=\"upper left\")\n"
   ]
  },
  {
   "cell_type": "code",
   "execution_count": null,
   "metadata": {},
   "outputs": [],
   "source": []
  },
  {
   "cell_type": "code",
   "execution_count": null,
   "metadata": {},
   "outputs": [],
   "source": []
  },
  {
   "cell_type": "code",
   "execution_count": null,
   "metadata": {},
   "outputs": [],
   "source": []
  },
  {
   "cell_type": "code",
   "execution_count": null,
   "metadata": {},
   "outputs": [],
   "source": []
  },
  {
   "cell_type": "code",
   "execution_count": null,
   "metadata": {},
   "outputs": [],
   "source": []
  },
  {
   "cell_type": "code",
   "execution_count": null,
   "metadata": {},
   "outputs": [],
   "source": []
  },
  {
   "cell_type": "code",
   "execution_count": null,
   "metadata": {},
   "outputs": [],
   "source": []
  },
  {
   "cell_type": "code",
   "execution_count": null,
   "metadata": {},
   "outputs": [],
   "source": []
  },
  {
   "cell_type": "code",
   "execution_count": null,
   "metadata": {},
   "outputs": [],
   "source": []
  },
  {
   "cell_type": "code",
   "execution_count": null,
   "metadata": {},
   "outputs": [],
   "source": [
    "all_steps = [rot_1]\n",
    "for t in reverse_t:\n",
    "    rot_t = copy.deepcopy(all_steps[-1])\n",
    "    score_t = rot_diff.score(rot_t, t)\n",
    "    rot_t_1 = rot_diff.reverse(\n",
    "        rot_t=rot_t,\n",
    "        score_t=score_t,\n",
    "        t=t,\n",
    "        dt=dt)\n",
    "    all_steps.append(rot_t_1)"
   ]
  },
  {
   "cell_type": "code",
   "execution_count": null,
   "metadata": {},
   "outputs": [],
   "source": []
  },
  {
   "cell_type": "code",
   "execution_count": null,
   "metadata": {},
   "outputs": [],
   "source": []
  },
  {
   "cell_type": "code",
   "execution_count": 57,
   "metadata": {},
   "outputs": [],
   "source": [
    "# Reverse diffusion\n",
    "reverse_samples = {}\n",
    "for _ in range(500):\n",
    "    curr_step = rot_diff.sample(1, n_samples=1)\n",
    "    for i, t in enumerate(reverse_t):\n",
    "        if i not in reverse_samples:\n",
    "            reverse_samples[i] = []\n",
    "        score_t = rot_diff.score(curr_step, t)\n",
    "        curr_step = rot_diff.reverse(\n",
    "            rot_t=du.compose_rotvec(rot_0, curr_step),\n",
    "            score_t=score_t,\n",
    "            t=t,\n",
    "            dt=dt)\n",
    "        reverse_samples[i].append(copy.deepcopy(curr_step))"
   ]
  },
  {
   "cell_type": "code",
   "execution_count": null,
   "metadata": {},
   "outputs": [],
   "source": [
    "all_steps[-1]"
   ]
  },
  {
   "cell_type": "code",
   "execution_count": null,
   "metadata": {},
   "outputs": [],
   "source": [
    "rot_0"
   ]
  },
  {
   "cell_type": "code",
   "execution_count": null,
   "metadata": {},
   "outputs": [],
   "source": []
  },
  {
   "cell_type": "code",
   "execution_count": null,
   "metadata": {},
   "outputs": [],
   "source": []
  },
  {
   "cell_type": "code",
   "execution_count": null,
   "metadata": {},
   "outputs": [],
   "source": [
    "all_steps = [rot_1]\n",
    "for t in reverse_t:\n",
    "    rot_t = copy.deepcopy(all_steps[-1])\n",
    "    score_t = rot_diff.score(rot_t, t)\n",
    "    rot_t_1 = rot_diff.reverse(\n",
    "        rot_t=rot_t,\n",
    "        score_t=score_t,\n",
    "        t=t,\n",
    "        dt=dt)\n",
    "    all_steps.append(rot_t_1)"
   ]
  },
  {
   "cell_type": "code",
   "execution_count": null,
   "metadata": {},
   "outputs": [],
   "source": [
    "reverse_t = np.linspace(0, 1, num_sigma)[::-1]\n",
    "all_steps = [x1]\n",
    "for i in range(num_t-1):\n",
    "    t = torch.tensor(reverse_t[i])\n",
    "    xt = all_steps[-1]\n",
    "    x_t_1 = rot_diffuser.reverse_diffusion(t, dt, x_t, score_t)\n",
    "    all_steps.append(x_t_1)"
   ]
  },
  {
   "cell_type": "code",
   "execution_count": null,
   "metadata": {},
   "outputs": [],
   "source": []
  },
  {
   "cell_type": "code",
   "execution_count": null,
   "metadata": {},
   "outputs": [],
   "source": []
  },
  {
   "cell_type": "code",
   "execution_count": 100,
   "metadata": {},
   "outputs": [],
   "source": [
    "x0 = torch.normal(mean=0, std=1.0, size=(1, 3))\n",
    "x0 = (x0 / torch.linalg.norm(x0)) * np.random.uniform(0, np.pi)\n",
    "x1 = rot_diffuser.sample_vec(1.5)"
   ]
  },
  {
   "cell_type": "code",
   "execution_count": 106,
   "metadata": {},
   "outputs": [
    {
     "data": {
      "text/plain": [
       "6"
      ]
     },
     "execution_count": 106,
     "metadata": {},
     "output_type": "execute_result"
    }
   ],
   "source": [
    "np.cumprod([1, 2, 3])[-1]"
   ]
  },
  {
   "cell_type": "code",
   "execution_count": null,
   "metadata": {},
   "outputs": [],
   "source": [
    "reverse_t = np.linspace(0, 1, num_sigma)[::-1]\n",
    "all_steps = [x1]\n",
    "for i in range(num_t-1):\n",
    "    t = torch.tensor(reverse_t[i])\n",
    "    xt = all_steps[-1]\n",
    "    x_t_1 = rot_diffuser.reverse_diffusion(t, dt, x_t, score_t)\n",
    "    all_steps.append(x_t_1)"
   ]
  },
  {
   "cell_type": "code",
   "execution_count": 69,
   "metadata": {},
   "outputs": [],
   "source": [
    "ts = np.linspace(0, 1, num_sigma)[1:]\n",
    "sigmas = rot_diffuser.sigma(ts)"
   ]
  },
  {
   "cell_type": "code",
   "execution_count": 80,
   "metadata": {},
   "outputs": [],
   "source": [
    "t = ts\n",
    "sigma = 10 ** (t * (np.log10(rot_diffuser.max_sigma) - np.log10(rot_diffuser.min_sigma)) + np.log10(rot_diffuser.min_sigma))\n",
    "sigma_idx = (np.log10(sigma) - np.log10(rot_diffuser.min_sigma)) / (np.log10(rot_diffuser.max_sigma) - np.log10(rot_diffuser.min_sigma)) * rot_diffuser.num_sigma\n",
    "sigma_idx = np.clip(\n",
    "    np.around(sigma_idx).astype(int), a_min=0, a_max=rot_diffuser.num_sigma)"
   ]
  },
  {
   "cell_type": "code",
   "execution_count": null,
   "metadata": {},
   "outputs": [],
   "source": [
    "sigma_idx"
   ]
  },
  {
   "cell_type": "code",
   "execution_count": 78,
   "metadata": {},
   "outputs": [
    {
     "name": "stdout",
     "output_type": "stream",
     "text": [
      "1.0010010010010004\n"
     ]
    }
   ],
   "source": [
    "sigma_idx = (np.log10(sigma) - np.log10(rot_diffuser.min_sigma)) / (np.log10(rot_diffuser.max_sigma) - np.log10(rot_diffuser.min_sigma)) * rot_diffuser.num_sigma\n",
    "print(sigma_idx)"
   ]
  },
  {
   "cell_type": "code",
   "execution_count": 75,
   "metadata": {},
   "outputs": [
    {
     "name": "stdout",
     "output_type": "stream",
     "text": [
      "5.13902053753119\n"
     ]
    }
   ],
   "source": [
    "sigma = sigmas[0]\n",
    "sigma_idx = (np.log10(sigma) - np.log10(rot_diffuser.min_sigma)) / (np.log10(rot_diffuser.max_sigma) - np.log10(rot_diffuser.min_sigma)) * rot_diffuser.num_sigma\n",
    "print(sigma_idx)"
   ]
  },
  {
   "cell_type": "code",
   "execution_count": null,
   "metadata": {},
   "outputs": [],
   "source": [
    "sigma_idx = (np.log10(sigma) - np.log10(rot_diffuser.min_sigma)) / (np.log10(rot_diffuser.max_sigma) - np.log10(rot_diffuser.min_sigma)) * rot_diffuser.num_sigma\n",
    "sigma_idx = np.clip(\n",
    "    np.around(sigma_idx).astype(int), a_min=0, a_max=self.num_sigma)"
   ]
  },
  {
   "cell_type": "code",
   "execution_count": 70,
   "metadata": {},
   "outputs": [],
   "source": [
    "sigma_idx = rot_diffuser.sigma_idx(sigmas)"
   ]
  },
  {
   "cell_type": "code",
   "execution_count": null,
   "metadata": {},
   "outputs": [],
   "source": [
    "sigma_idx"
   ]
  },
  {
   "cell_type": "code",
   "execution_count": null,
   "metadata": {},
   "outputs": [],
   "source": []
  },
  {
   "cell_type": "code",
   "execution_count": null,
   "metadata": {},
   "outputs": [],
   "source": [
    "# Plot out SE(3)\n",
    "f, axes = plt.subplots(1, 3, figsize=[24, 8], subplot_kw=dict(projection=\"3d\"))\n",
    "scale_factor = conf.data.digs.scale_factor\n",
    "ax_lim = 15.\n",
    "\n",
    "curr_step_ca = all_steps[0]\n",
    "plotting.plt_3d(curr_step_ca, axes[0], color='r', s=100, mode='scatter')\n",
    "plotting.plt_3d(curr_step_ca, axes[0], color='r', mode='line')\n",
    "\n",
    "curr_step_ca = all_steps[-50]\n",
    "plotting.plt_3d(curr_step_ca, axes[1], color='r', s=100, mode='scatter')\n",
    "plotting.plt_3d(curr_step_ca, axes[1], color='r', mode='line')\n",
    "\n",
    "curr_step_ca = all_steps[-10]\n",
    "plotting.plt_3d(curr_step_ca, axes[2], color='r', s=100, mode='scatter')\n",
    "plotting.plt_3d(curr_step_ca, axes[2], color='r', mode='line')\n"
   ]
  },
  {
   "cell_type": "code",
   "execution_count": null,
   "metadata": {},
   "outputs": [],
   "source": []
  },
  {
   "cell_type": "code",
   "execution_count": null,
   "metadata": {},
   "outputs": [],
   "source": []
  },
  {
   "cell_type": "code",
   "execution_count": null,
   "metadata": {},
   "outputs": [],
   "source": [
    "min_b = 0.1\n",
    "max_b = 20\n",
    "r3_diffuser = Diffuser(min_b = min_b, max_b = max_b)"
   ]
  },
  {
   "cell_type": "code",
   "execution_count": null,
   "metadata": {},
   "outputs": [],
   "source": [
    "num_t = 100\n",
    "x0 = ca_pos\n",
    "dt = torch.tensor(1/num_t)\n",
    "\n",
    "all_steps = [torch.clone(x0)]\n",
    "all_scores = []\n",
    "for t in np.linspace(0, 1, num_t):\n",
    "    next_step = r3_diffuser.forward_diffusion(t, dt, all_steps[-1])\n",
    "    score_t = r3_diffuser.score(t, dt, all_steps[-1])\n",
    "    all_scores\n",
    "    all_steps.append(next_step)"
   ]
  },
  {
   "cell_type": "code",
   "execution_count": null,
   "metadata": {},
   "outputs": [],
   "source": [
    "N = 1000\n",
    "K = 5\n",
    "x_1 = torch.normal(mean=0, std=1, size=[N])\n",
    "xts = [\n",
    "    \n",
    "]\n"
   ]
  },
  {
   "cell_type": "code",
   "execution_count": null,
   "metadata": {},
   "outputs": [],
   "source": []
  },
  {
   "cell_type": "code",
   "execution_count": null,
   "metadata": {},
   "outputs": [],
   "source": []
  },
  {
   "cell_type": "code",
   "execution_count": null,
   "metadata": {},
   "outputs": [],
   "source": []
  },
  {
   "cell_type": "code",
   "execution_count": null,
   "metadata": {},
   "outputs": [],
   "source": []
  },
  {
   "cell_type": "code",
   "execution_count": 61,
   "metadata": {},
   "outputs": [],
   "source": [
    "class normal_mixture:\n",
    "    \n",
    "    def __init__(self, K=3):\n",
    "        self.K = K\n",
    "        self.mu = torch.normal(mean=0, std=1, size=[K])\n",
    "        self.std = 0.1\n",
    "        \n",
    "    def sample(self, N):\n",
    "        idcs = torch.multinomial(torch.ones([self.K])/self.K, num_samples=N, replacement=True)\n",
    "        mu = self.mu[idcs]\n",
    "        return mu + torch.normal(mean=0, std=self.std, size=[N])\n",
    "    \n",
    "    \n",
    "    def density(self, x):\n",
    "        \"\"\"up to proportionality\"\"\"\n",
    "        ps = [torch.exp(-0.5*(x-self.mu[k])**2/(self.std**2)) for k in range(self.K)]\n",
    "        ps = torch.stack(ps).sum(axis=0)\n",
    "        return ps\n",
    "    \n",
    "    def score(self, x):\n",
    "        x = torch.tensor(x, requires_grad=True)\n",
    "        log_p = torch.log(self.density(x)).sum()\n",
    "        return torch.autograd.grad(log_p, x)[0]"
   ]
  },
  {
   "cell_type": "code",
   "execution_count": 63,
   "metadata": {},
   "outputs": [],
   "source": [
    "k = 5\n",
    "mix = normal_mixture(k)"
   ]
  },
  {
   "cell_type": "code",
   "execution_count": 64,
   "metadata": {},
   "outputs": [
    {
     "ename": "TypeError",
     "evalue": "multinomial(): argument 'num_samples' must be int, not Tensor",
     "output_type": "error",
     "traceback": [
      "\u001b[0;31m---------------------------------------------------------------------------\u001b[0m",
      "\u001b[0;31mTypeError\u001b[0m                                 Traceback (most recent call last)",
      "\u001b[0;32m/scratch/jyim/52212185/ipykernel_2182761/2037459242.py\u001b[0m in \u001b[0;36m<module>\u001b[0;34m\u001b[0m\n\u001b[1;32m      1\u001b[0m \u001b[0mN\u001b[0m \u001b[0;34m=\u001b[0m \u001b[0;36m1000\u001b[0m\u001b[0;34m\u001b[0m\u001b[0;34m\u001b[0m\u001b[0m\n\u001b[1;32m      2\u001b[0m \u001b[0mmix_samples\u001b[0m \u001b[0;34m=\u001b[0m \u001b[0mmix\u001b[0m\u001b[0;34m.\u001b[0m\u001b[0msample\u001b[0m\u001b[0;34m(\u001b[0m\u001b[0mN\u001b[0m\u001b[0;34m)\u001b[0m\u001b[0;34m\u001b[0m\u001b[0;34m\u001b[0m\u001b[0m\n\u001b[0;32m----> 3\u001b[0;31m \u001b[0mmix_scores\u001b[0m \u001b[0;34m=\u001b[0m \u001b[0mmix\u001b[0m\u001b[0;34m.\u001b[0m\u001b[0msample\u001b[0m\u001b[0;34m(\u001b[0m\u001b[0mmix_samples\u001b[0m\u001b[0;34m)\u001b[0m\u001b[0;34m\u001b[0m\u001b[0;34m\u001b[0m\u001b[0m\n\u001b[0m",
      "\u001b[0;32m/scratch/jyim/52212185/ipykernel_2182761/3468057842.py\u001b[0m in \u001b[0;36msample\u001b[0;34m(self, N)\u001b[0m\n\u001b[1;32m      7\u001b[0m \u001b[0;34m\u001b[0m\u001b[0m\n\u001b[1;32m      8\u001b[0m     \u001b[0;32mdef\u001b[0m \u001b[0msample\u001b[0m\u001b[0;34m(\u001b[0m\u001b[0mself\u001b[0m\u001b[0;34m,\u001b[0m \u001b[0mN\u001b[0m\u001b[0;34m)\u001b[0m\u001b[0;34m:\u001b[0m\u001b[0;34m\u001b[0m\u001b[0;34m\u001b[0m\u001b[0m\n\u001b[0;32m----> 9\u001b[0;31m         \u001b[0midcs\u001b[0m \u001b[0;34m=\u001b[0m \u001b[0mtorch\u001b[0m\u001b[0;34m.\u001b[0m\u001b[0mmultinomial\u001b[0m\u001b[0;34m(\u001b[0m\u001b[0mtorch\u001b[0m\u001b[0;34m.\u001b[0m\u001b[0mones\u001b[0m\u001b[0;34m(\u001b[0m\u001b[0;34m[\u001b[0m\u001b[0mself\u001b[0m\u001b[0;34m.\u001b[0m\u001b[0mK\u001b[0m\u001b[0;34m]\u001b[0m\u001b[0;34m)\u001b[0m\u001b[0;34m/\u001b[0m\u001b[0mself\u001b[0m\u001b[0;34m.\u001b[0m\u001b[0mK\u001b[0m\u001b[0;34m,\u001b[0m \u001b[0mnum_samples\u001b[0m\u001b[0;34m=\u001b[0m\u001b[0mN\u001b[0m\u001b[0;34m,\u001b[0m \u001b[0mreplacement\u001b[0m\u001b[0;34m=\u001b[0m\u001b[0;32mTrue\u001b[0m\u001b[0;34m)\u001b[0m\u001b[0;34m\u001b[0m\u001b[0;34m\u001b[0m\u001b[0m\n\u001b[0m\u001b[1;32m     10\u001b[0m         \u001b[0mmu\u001b[0m \u001b[0;34m=\u001b[0m \u001b[0mself\u001b[0m\u001b[0;34m.\u001b[0m\u001b[0mmu\u001b[0m\u001b[0;34m[\u001b[0m\u001b[0midcs\u001b[0m\u001b[0;34m]\u001b[0m\u001b[0;34m\u001b[0m\u001b[0;34m\u001b[0m\u001b[0m\n\u001b[1;32m     11\u001b[0m         \u001b[0;32mreturn\u001b[0m \u001b[0mmu\u001b[0m \u001b[0;34m+\u001b[0m \u001b[0mtorch\u001b[0m\u001b[0;34m.\u001b[0m\u001b[0mnormal\u001b[0m\u001b[0;34m(\u001b[0m\u001b[0mmean\u001b[0m\u001b[0;34m=\u001b[0m\u001b[0;36m0\u001b[0m\u001b[0;34m,\u001b[0m \u001b[0mstd\u001b[0m\u001b[0;34m=\u001b[0m\u001b[0mself\u001b[0m\u001b[0;34m.\u001b[0m\u001b[0mstd\u001b[0m\u001b[0;34m,\u001b[0m \u001b[0msize\u001b[0m\u001b[0;34m=\u001b[0m\u001b[0;34m[\u001b[0m\u001b[0mN\u001b[0m\u001b[0;34m]\u001b[0m\u001b[0;34m)\u001b[0m\u001b[0;34m\u001b[0m\u001b[0;34m\u001b[0m\u001b[0m\n",
      "\u001b[0;31mTypeError\u001b[0m: multinomial(): argument 'num_samples' must be int, not Tensor"
     ]
    }
   ],
   "source": [
    "N = 1000\n",
    "mix_samples = mix.sample(N)\n",
    "mix_scores = mix.density(mix_samples)\n"
   ]
  },
  {
   "cell_type": "code",
   "execution_count": null,
   "metadata": {},
   "outputs": [],
   "source": []
  }
 ],
 "metadata": {
  "kernelspec": {
   "display_name": "protdiff",
   "language": "python",
   "name": "protdiff"
  },
  "language_info": {
   "codemirror_mode": {
    "name": "ipython",
    "version": 3
   },
   "file_extension": ".py",
   "mimetype": "text/x-python",
   "name": "python",
   "nbconvert_exporter": "python",
   "pygments_lexer": "ipython3",
   "version": "3.9.6"
  }
 },
 "nbformat": 4,
 "nbformat_minor": 4
}
