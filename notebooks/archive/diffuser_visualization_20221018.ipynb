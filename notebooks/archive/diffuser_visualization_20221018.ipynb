{
 "cells": [
  {
   "cell_type": "code",
   "execution_count": 1,
   "metadata": {
    "tags": []
   },
   "outputs": [
    {
     "name": "stderr",
     "output_type": "stream",
     "text": [
      "INFO: Using numpy backend\n",
      "INFO: Note: detected 80 virtual cores but NumExpr set to maximum of 64, check \"NUMEXPR_MAX_THREADS\" environment variable.\n",
      "INFO: Note: NumExpr detected 80 cores but \"NUMEXPR_MAX_THREADS\" not set, so enforcing safe limit of 8.\n",
      "INFO: NumExpr defaulting to 8 threads.\n",
      "WARNING: Warning: importing 'simtk.openmm' is deprecated.  Import 'openmm' instead.\n"
     ]
    }
   ],
   "source": [
    "import torch\n",
    "import os\n",
    "import numpy as np\n",
    "import matplotlib.pyplot as plt\n",
    "import copy\n",
    "import GPUtil\n",
    "import tree\n",
    "from openfold.utils import rigid_utils as ru\n",
    "from scipy.spatial.transform import Rotation\n",
    "from omegaconf import OmegaConf\n",
    "import importlib\n",
    "import logging\n",
    "import sys\n",
    "from collections import defaultdict\n",
    "import matplotlib.cm as cm\n",
    "\n",
    "\n",
    "from analysis import utils as au\n",
    "from analysis import plotting\n",
    "from data import utils as du\n",
    "from data import se3_diffuser\n",
    "from data import so3_diffuser\n",
    "from data import r3_diffuser\n",
    "from data import digs_data_loader\n",
    "from model import loss\n",
    "from experiments import train_se3_diffusion\n",
    "\n",
    "# Enable logging\n",
    "date_strftime_format = \"%Y-%m-%y %H:%M:%S\"\n",
    "logging.basicConfig(stream=sys.stdout, level=logging.INFO, format=\"%(asctime)s %(message)s\", datefmt=date_strftime_format)"
   ]
  },
  {
   "cell_type": "code",
   "execution_count": 2,
   "metadata": {},
   "outputs": [
    {
     "data": {
      "text/plain": [
       "<module 'experiments.train_se3_diffusion' from '/data/rsg/chemistry/jyim/projects/protein_diffusion/experiments/train_se3_diffusion.py'>"
      ]
     },
     "execution_count": 2,
     "metadata": {},
     "output_type": "execute_result"
    }
   ],
   "source": [
    "# Reloads any code changes in the source file.\n",
    "importlib.reload(digs_data_loader)\n",
    "importlib.reload(se3_diffuser)\n",
    "importlib.reload(so3_diffuser)\n",
    "importlib.reload(r3_diffuser)\n",
    "importlib.reload(du)\n",
    "importlib.reload(plotting)\n",
    "importlib.reload(train_se3_diffusion)"
   ]
  },
  {
   "cell_type": "code",
   "execution_count": 8,
   "metadata": {},
   "outputs": [
    {
     "name": "stderr",
     "output_type": "stream",
     "text": [
      "INFO: Using cached IGSO3.\n",
      "INFO: Number of model parameters 15402858\n",
      "INFO: Checkpoint not being saved.\n",
      "INFO: Evaluation saved to: ./results/baseline/27D_10M_2022Y_08h_30m_00s\n",
      "INFO: Training: 10172 examples\n",
      "INFO: Validation: 40 examples with lengths [ 60  82 104 126 148 171 193 215 237 260]\n"
     ]
    }
   ],
   "source": [
    "# Load config.\n",
    "conf = OmegaConf.load('../config/base.yaml')\n",
    "\n",
    "# Redirect cache from notebook directory.\n",
    "exp_conf = conf.experiment\n",
    "exp_conf.data_location = 'rosetta'\n",
    "exp_conf.ckpt_dir = None\n",
    "exp_conf.num_loader_workers = 0\n",
    "exp_conf.dist_mode = 'single'\n",
    "exp_conf.use_wandb = False\n",
    "\n",
    "# Data settings\n",
    "data_conf = conf.data\n",
    "# data_conf.rosetta.filtering.subset = 1\n",
    "\n",
    "diff_conf = conf.diffuser\n",
    "diff_conf.se3.r3.min_b = 0.1\n",
    "diff_conf.se3.so3.min_sigma = 0.02\n",
    "\n",
    "# Figure out data loading for PDB on rosetta\n",
    "exp = train_se3_diffusion.Experiment(conf=conf)\n",
    "train_loader, valid_loader = exp.create_rosetta_dataset(0, 1)\n",
    "device = 'cuda' if torch.cuda.is_available() else 'cpu'\n",
    "exp._model = exp._model.to(device)"
   ]
  },
  {
   "cell_type": "code",
   "execution_count": 9,
   "metadata": {},
   "outputs": [
    {
     "data": {
      "text/plain": [
       "{'seq': {'diffuse_seq': True, 'min_b': 15.0, 'max_b': 20.0, 'schedule': 'linear'}, 'se3': {'diffuse_trans': True, 'diffuse_rot': True, 'r3': {'min_b': 0.1, 'max_b': 20.0, 'schedule': 'linear', 'score_scaling': 'std', 'coordinate_scaling': 0.1}, 'so3': {'num_omega': 1000, 'num_sigma': 1000, 'min_sigma': 0.02, 'max_sigma': 1.5, 'schedule': 'logarithmic', 'equivariant_score': False, 'cache_dir': './pkl_jar/', 'score_scaling': 'std'}}}"
      ]
     },
     "execution_count": 9,
     "metadata": {},
     "output_type": "execute_result"
    }
   ],
   "source": [
    "diff_conf"
   ]
  },
  {
   "cell_type": "code",
   "execution_count": 10,
   "metadata": {},
   "outputs": [],
   "source": [
    "so3_diff = exp.diffuser.se3_diffuser._so3_diffuser\n",
    "r3_diff = exp.diffuser.se3_diffuser._r3_diffuser"
   ]
  },
  {
   "cell_type": "code",
   "execution_count": 11,
   "metadata": {},
   "outputs": [
    {
     "data": {
      "text/plain": [
       "2.09"
      ]
     },
     "execution_count": 11,
     "metadata": {},
     "output_type": "execute_result"
    }
   ],
   "source": [
    "r3_diff.b_t(0.1)"
   ]
  },
  {
   "cell_type": "code",
   "execution_count": 12,
   "metadata": {},
   "outputs": [
    {
     "data": {
      "text/plain": [
       "0.31214303362124357"
      ]
     },
     "execution_count": 12,
     "metadata": {},
     "output_type": "execute_result"
    }
   ],
   "source": [
    "so3_diff.sigma(0.1)"
   ]
  },
  {
   "cell_type": "code",
   "execution_count": 25,
   "metadata": {},
   "outputs": [
    {
     "data": {
      "text/plain": [
       "0.3220525355247045"
      ]
     },
     "execution_count": 25,
     "metadata": {},
     "output_type": "execute_result"
    }
   ],
   "source": [
    "np.sqrt(1 - np.exp(-r3_diff.marginal_b_t(0.1)))"
   ]
  },
  {
   "cell_type": "code",
   "execution_count": 28,
   "metadata": {},
   "outputs": [
    {
     "data": {
      "text/plain": [
       "0.8113952356434114"
      ]
     },
     "execution_count": 28,
     "metadata": {},
     "output_type": "execute_result"
    }
   ],
   "source": [
    "np.exp(-1/2*r3_diff.marginal_b_t(0.))"
   ]
  },
  {
   "cell_type": "markdown",
   "metadata": {
    "tags": []
   },
   "source": [
    "### Visualize std"
   ]
  },
  {
   "cell_type": "code",
   "execution_count": 57,
   "metadata": {},
   "outputs": [],
   "source": [
    "r3_diff = exp.diffuser.se3_diffuser._r3_diffuser"
   ]
  },
  {
   "cell_type": "code",
   "execution_count": 92,
   "metadata": {},
   "outputs": [],
   "source": [
    "r3_conf = conf.diffuser.se3.r3\n",
    "r3_conf.min_b = 4.0\n",
    "r3_conf.max_b = 20.0\n",
    "r3_diff = r3_diffuser.R3Diffuser(r3_conf)"
   ]
  },
  {
   "cell_type": "code",
   "execution_count": 93,
   "metadata": {},
   "outputs": [],
   "source": [
    "ts = np.linspace(1e-3, 1, 100)\n",
    "std_ts = np.sqrt(1 - np.exp(-r3_diff.marginal_b_t(ts)))\n",
    "mu_ts = np.exp(-1/2*r3_diff.marginal_b_t(ts))"
   ]
  },
  {
   "cell_type": "code",
   "execution_count": 94,
   "metadata": {},
   "outputs": [
    {
     "data": {
      "text/plain": [
       "Text(0, 0.5, 'std')"
      ]
     },
     "execution_count": 94,
     "metadata": {},
     "output_type": "execute_result"
    },
    {
     "data": {
      "image/png": "[encoded data removed]",
      "text/plain": [
       "<Figure size 640x480 with 1 Axes>"
      ]
     },
     "metadata": {},
     "output_type": "display_data"
    }
   ],
   "source": [
    "plt.plot(ts, std_ts, label='std')\n",
    "plt.plot(ts, mu_ts, label='mu')\n",
    "plt.legend()\n",
    "plt.title(f'Forward diffusion gaussians with min_b={r3_conf.min_b}, max_b={r3_conf.max_b}')\n",
    "plt.xlabel('t')\n",
    "plt.ylabel('std')"
   ]
  },
  {
   "cell_type": "code",
   "execution_count": 13,
   "metadata": {},
   "outputs": [
    {
     "data": {
      "text/plain": [
       "[<matplotlib.lines.Line2D at 0x7fa0ce36df70>]"
      ]
     },
     "execution_count": 13,
     "metadata": {},
     "output_type": "execute_result"
    },
    {
     "data": {
      "image/png": "[encoded data removed]",
      "text/plain": [
       "<Figure size 640x480 with 1 Axes>"
      ]
     },
     "metadata": {},
     "output_type": "display_data"
    }
   ],
   "source": [
    "scale_factor = std_ts + 10 * (1 - std_ts)\n",
    "plt.plot(ts, scale_factor)"
   ]
  },
  {
   "cell_type": "code",
   "execution_count": null,
   "metadata": {},
   "outputs": [],
   "source": []
  },
  {
   "cell_type": "markdown",
   "metadata": {},
   "source": [
    "### Data investigation"
   ]
  },
  {
   "cell_type": "code",
   "execution_count": 4,
   "metadata": {},
   "outputs": [
    {
     "name": "stderr",
     "output_type": "stream",
     "text": [
      "INFO: Training: 10172 examples\n",
      "INFO: Validation: 40 examples with lengths [ 60  82 104 126 148 171 193 215 237 260]\n"
     ]
    }
   ],
   "source": [
    "train_loader, valid_loader = exp.create_rosetta_dataset(0, 1)"
   ]
  },
  {
   "cell_type": "code",
   "execution_count": 5,
   "metadata": {},
   "outputs": [],
   "source": [
    "train_csv = train_loader.dataset.csv"
   ]
  },
  {
   "cell_type": "code",
   "execution_count": 6,
   "metadata": {},
   "outputs": [
    {
     "data": {
      "text/html": [
       "<div>\n",
       "<style scoped>\n",
       "    .dataframe tbody tr th:only-of-type {\n",
       "        vertical-align: middle;\n",
       "    }\n",
       "\n",
       "    .dataframe tbody tr th {\n",
       "        vertical-align: top;\n",
       "    }\n",
       "\n",
       "    .dataframe thead th {\n",
       "        text-align: right;\n",
       "    }\n",
       "</style>\n",
       "<table border=\"1\" class=\"dataframe\">\n",
       "  <thead>\n",
       "    <tr style=\"text-align: right;\">\n",
       "      <th></th>\n",
       "      <th>pdb_name</th>\n",
       "      <th>processed_path</th>\n",
       "      <th>raw_path</th>\n",
       "      <th>oligomeric_count</th>\n",
       "      <th>oligomeric_detail</th>\n",
       "      <th>resolution</th>\n",
       "      <th>structure_method</th>\n",
       "      <th>num_chains</th>\n",
       "      <th>quaternary_category</th>\n",
       "      <th>seq_len</th>\n",
       "      <th>modeled_seq_len</th>\n",
       "      <th>coil_percent</th>\n",
       "      <th>helix_percent</th>\n",
       "      <th>strand_percent</th>\n",
       "      <th>radius_gyration</th>\n",
       "    </tr>\n",
       "  </thead>\n",
       "  <tbody>\n",
       "    <tr>\n",
       "      <th>11805</th>\n",
       "      <td>5n9s</td>\n",
       "      <td>/data/rsg/chemistry/jyim/large_data/processed_...</td>\n",
       "      <td>/data/rsg/chemistry/jyim/large_data/pdb/30_08_...</td>\n",
       "      <td>1</td>\n",
       "      <td>monomeric</td>\n",
       "      <td>2.30</td>\n",
       "      <td>x-ray diffraction</td>\n",
       "      <td>1</td>\n",
       "      <td>homomer</td>\n",
       "      <td>327</td>\n",
       "      <td>260</td>\n",
       "      <td>0.430769</td>\n",
       "      <td>0.365385</td>\n",
       "      <td>0.203846</td>\n",
       "      <td>1.928871</td>\n",
       "    </tr>\n",
       "    <tr>\n",
       "      <th>37571</th>\n",
       "      <td>6ah9</td>\n",
       "      <td>/data/rsg/chemistry/jyim/large_data/processed_...</td>\n",
       "      <td>/data/rsg/chemistry/jyim/large_data/pdb/30_08_...</td>\n",
       "      <td>1</td>\n",
       "      <td>monomeric</td>\n",
       "      <td>1.74</td>\n",
       "      <td>x-ray diffraction</td>\n",
       "      <td>1</td>\n",
       "      <td>homomer</td>\n",
       "      <td>406</td>\n",
       "      <td>260</td>\n",
       "      <td>0.373077</td>\n",
       "      <td>0.496154</td>\n",
       "      <td>0.130769</td>\n",
       "      <td>1.791267</td>\n",
       "    </tr>\n",
       "    <tr>\n",
       "      <th>1735</th>\n",
       "      <td>4awn</td>\n",
       "      <td>/data/rsg/chemistry/jyim/large_data/processed_...</td>\n",
       "      <td>/data/rsg/chemistry/jyim/large_data/pdb/30_08_...</td>\n",
       "      <td>1</td>\n",
       "      <td>monomeric</td>\n",
       "      <td>1.95</td>\n",
       "      <td>x-ray diffraction</td>\n",
       "      <td>2</td>\n",
       "      <td>heteromer</td>\n",
       "      <td>476</td>\n",
       "      <td>260</td>\n",
       "      <td>0.434615</td>\n",
       "      <td>0.284615</td>\n",
       "      <td>0.280769</td>\n",
       "      <td>1.779229</td>\n",
       "    </tr>\n",
       "    <tr>\n",
       "      <th>11806</th>\n",
       "      <td>5n93</td>\n",
       "      <td>/data/rsg/chemistry/jyim/large_data/processed_...</td>\n",
       "      <td>/data/rsg/chemistry/jyim/large_data/pdb/30_08_...</td>\n",
       "      <td>1</td>\n",
       "      <td>monomeric</td>\n",
       "      <td>2.10</td>\n",
       "      <td>x-ray diffraction</td>\n",
       "      <td>1</td>\n",
       "      <td>homomer</td>\n",
       "      <td>319</td>\n",
       "      <td>260</td>\n",
       "      <td>0.423077</td>\n",
       "      <td>0.361538</td>\n",
       "      <td>0.215385</td>\n",
       "      <td>1.914636</td>\n",
       "    </tr>\n",
       "    <tr>\n",
       "      <th>15794</th>\n",
       "      <td>6yg4</td>\n",
       "      <td>/data/rsg/chemistry/jyim/large_data/processed_...</td>\n",
       "      <td>/data/rsg/chemistry/jyim/large_data/pdb/30_08_...</td>\n",
       "      <td>1</td>\n",
       "      <td>monomeric</td>\n",
       "      <td>2.30</td>\n",
       "      <td>x-ray diffraction</td>\n",
       "      <td>1</td>\n",
       "      <td>homomer</td>\n",
       "      <td>301</td>\n",
       "      <td>260</td>\n",
       "      <td>0.403846</td>\n",
       "      <td>0.407692</td>\n",
       "      <td>0.188462</td>\n",
       "      <td>1.951594</td>\n",
       "    </tr>\n",
       "  </tbody>\n",
       "</table>\n",
       "</div>"
      ],
      "text/plain": [
       "      pdb_name                                     processed_path  \\\n",
       "11805     5n9s  /data/rsg/chemistry/jyim/large_data/processed_...   \n",
       "37571     6ah9  /data/rsg/chemistry/jyim/large_data/processed_...   \n",
       "1735      4awn  /data/rsg/chemistry/jyim/large_data/processed_...   \n",
       "11806     5n93  /data/rsg/chemistry/jyim/large_data/processed_...   \n",
       "15794     6yg4  /data/rsg/chemistry/jyim/large_data/processed_...   \n",
       "\n",
       "                                                raw_path oligomeric_count  \\\n",
       "11805  /data/rsg/chemistry/jyim/large_data/pdb/30_08_...                1   \n",
       "37571  /data/rsg/chemistry/jyim/large_data/pdb/30_08_...                1   \n",
       "1735   /data/rsg/chemistry/jyim/large_data/pdb/30_08_...                1   \n",
       "11806  /data/rsg/chemistry/jyim/large_data/pdb/30_08_...                1   \n",
       "15794  /data/rsg/chemistry/jyim/large_data/pdb/30_08_...                1   \n",
       "\n",
       "      oligomeric_detail  resolution   structure_method  num_chains  \\\n",
       "11805         monomeric        2.30  x-ray diffraction           1   \n",
       "37571         monomeric        1.74  x-ray diffraction           1   \n",
       "1735          monomeric        1.95  x-ray diffraction           2   \n",
       "11806         monomeric        2.10  x-ray diffraction           1   \n",
       "15794         monomeric        2.30  x-ray diffraction           1   \n",
       "\n",
       "      quaternary_category  seq_len  modeled_seq_len  coil_percent  \\\n",
       "11805             homomer      327              260      0.430769   \n",
       "37571             homomer      406              260      0.373077   \n",
       "1735            heteromer      476              260      0.434615   \n",
       "11806             homomer      319              260      0.423077   \n",
       "15794             homomer      301              260      0.403846   \n",
       "\n",
       "       helix_percent  strand_percent  radius_gyration  \n",
       "11805       0.365385        0.203846         1.928871  \n",
       "37571       0.496154        0.130769         1.791267  \n",
       "1735        0.284615        0.280769         1.779229  \n",
       "11806       0.361538        0.215385         1.914636  \n",
       "15794       0.407692        0.188462         1.951594  "
      ]
     },
     "execution_count": 6,
     "metadata": {},
     "output_type": "execute_result"
    }
   ],
   "source": [
    "train_csv.head()"
   ]
  },
  {
   "cell_type": "code",
   "execution_count": 20,
   "metadata": {},
   "outputs": [
    {
     "data": {
      "text/html": [
       "<div>\n",
       "<style scoped>\n",
       "    .dataframe tbody tr th:only-of-type {\n",
       "        vertical-align: middle;\n",
       "    }\n",
       "\n",
       "    .dataframe tbody tr th {\n",
       "        vertical-align: top;\n",
       "    }\n",
       "\n",
       "    .dataframe thead th {\n",
       "        text-align: right;\n",
       "    }\n",
       "</style>\n",
       "<table border=\"1\" class=\"dataframe\">\n",
       "  <thead>\n",
       "    <tr style=\"text-align: right;\">\n",
       "      <th></th>\n",
       "      <th>pdb_name</th>\n",
       "      <th>processed_path</th>\n",
       "      <th>raw_path</th>\n",
       "      <th>oligomeric_count</th>\n",
       "      <th>oligomeric_detail</th>\n",
       "      <th>resolution</th>\n",
       "      <th>structure_method</th>\n",
       "      <th>num_chains</th>\n",
       "      <th>quaternary_category</th>\n",
       "      <th>seq_len</th>\n",
       "      <th>modeled_seq_len</th>\n",
       "      <th>coil_percent</th>\n",
       "      <th>helix_percent</th>\n",
       "      <th>strand_percent</th>\n",
       "      <th>radius_gyration</th>\n",
       "    </tr>\n",
       "  </thead>\n",
       "  <tbody>\n",
       "    <tr>\n",
       "      <th>12143</th>\n",
       "      <td>2q3w</td>\n",
       "      <td>/data/rsg/chemistry/jyim/large_data/processed_...</td>\n",
       "      <td>/data/rsg/chemistry/jyim/large_data/pdb/30_08_...</td>\n",
       "      <td>1</td>\n",
       "      <td>monomeric</td>\n",
       "      <td>1.48</td>\n",
       "      <td>x-ray diffraction</td>\n",
       "      <td>1</td>\n",
       "      <td>homomer</td>\n",
       "      <td>248</td>\n",
       "      <td>109</td>\n",
       "      <td>4.321101</td>\n",
       "      <td>0.302752</td>\n",
       "      <td>3.376147</td>\n",
       "      <td>1.355368</td>\n",
       "    </tr>\n",
       "  </tbody>\n",
       "</table>\n",
       "</div>"
      ],
      "text/plain": [
       "      pdb_name                                     processed_path  \\\n",
       "12143     2q3w  /data/rsg/chemistry/jyim/large_data/processed_...   \n",
       "\n",
       "                                                raw_path oligomeric_count  \\\n",
       "12143  /data/rsg/chemistry/jyim/large_data/pdb/30_08_...                1   \n",
       "\n",
       "      oligomeric_detail  resolution   structure_method  num_chains  \\\n",
       "12143         monomeric        1.48  x-ray diffraction           1   \n",
       "\n",
       "      quaternary_category  seq_len  modeled_seq_len  coil_percent  \\\n",
       "12143             homomer      248              109      4.321101   \n",
       "\n",
       "       helix_percent  strand_percent  radius_gyration  \n",
       "12143       0.302752        3.376147         1.355368  "
      ]
     },
     "execution_count": 20,
     "metadata": {},
     "output_type": "execute_result"
    }
   ],
   "source": [
    "train_csv[train_csv['coil_percent'] == train_csv['coil_percent'].max()]"
   ]
  },
  {
   "cell_type": "code",
   "execution_count": 21,
   "metadata": {},
   "outputs": [
    {
     "data": {
      "text/plain": [
       "(12597, 15)"
      ]
     },
     "execution_count": 21,
     "metadata": {},
     "output_type": "execute_result"
    }
   ],
   "source": [
    "train_csv[train_csv['coil_percent'] < 0.5]"
   ]
  },
  {
   "cell_type": "code",
   "execution_count": null,
   "metadata": {},
   "outputs": [],
   "source": [
    "train_csv"
   ]
  },
  {
   "cell_type": "code",
   "execution_count": 14,
   "metadata": {},
   "outputs": [
    {
     "name": "stdout",
     "output_type": "stream",
     "text": [
      "      pdb_name  coil_percent  modeled_seq_len\n",
      "11805     5n9s      0.430769              260\n",
      "37571     6ah9      0.373077              260\n",
      "1735      4awn      0.434615              260\n",
      "11806     5n93      0.423077              260\n",
      "15794     6yg4      0.403846              260\n",
      "...        ...           ...              ...\n",
      "24751     5yj8      0.366667               60\n",
      "11343     5n35      0.283333               60\n",
      "12511     5fwb      0.483333               60\n",
      "6661      2xmf      0.466667               60\n",
      "2138      5n41      0.266667               60\n",
      "\n",
      "[10172 rows x 3 columns]\n"
     ]
    }
   ],
   "source": [
    "print(train_csv[['pdb_name', 'coil_percent', 'modeled_seq_len']])"
   ]
  },
  {
   "cell_type": "code",
   "execution_count": null,
   "metadata": {},
   "outputs": [],
   "source": []
  },
  {
   "cell_type": "code",
   "execution_count": 16,
   "metadata": {},
   "outputs": [
    {
     "data": {
      "text/html": [
       "<div>\n",
       "<style scoped>\n",
       "    .dataframe tbody tr th:only-of-type {\n",
       "        vertical-align: middle;\n",
       "    }\n",
       "\n",
       "    .dataframe tbody tr th {\n",
       "        vertical-align: top;\n",
       "    }\n",
       "\n",
       "    .dataframe thead th {\n",
       "        text-align: right;\n",
       "    }\n",
       "</style>\n",
       "<table border=\"1\" class=\"dataframe\">\n",
       "  <thead>\n",
       "    <tr style=\"text-align: right;\">\n",
       "      <th></th>\n",
       "      <th>pdb_name</th>\n",
       "      <th>processed_path</th>\n",
       "      <th>raw_path</th>\n",
       "      <th>oligomeric_count</th>\n",
       "      <th>oligomeric_detail</th>\n",
       "      <th>resolution</th>\n",
       "      <th>structure_method</th>\n",
       "      <th>num_chains</th>\n",
       "      <th>quaternary_category</th>\n",
       "      <th>seq_len</th>\n",
       "      <th>modeled_seq_len</th>\n",
       "      <th>coil_percent</th>\n",
       "      <th>helix_percent</th>\n",
       "      <th>strand_percent</th>\n",
       "      <th>radius_gyration</th>\n",
       "    </tr>\n",
       "  </thead>\n",
       "  <tbody>\n",
       "    <tr>\n",
       "      <th>13854</th>\n",
       "      <td>2zoi</td>\n",
       "      <td>/data/rsg/chemistry/jyim/large_data/processed_...</td>\n",
       "      <td>/data/rsg/chemistry/jyim/large_data/pdb/30_08_...</td>\n",
       "      <td>1</td>\n",
       "      <td>monomeric</td>\n",
       "      <td>1.500</td>\n",
       "      <td>neutron diffraction</td>\n",
       "      <td>1</td>\n",
       "      <td>homomer</td>\n",
       "      <td>199</td>\n",
       "      <td>125</td>\n",
       "      <td>0.400</td>\n",
       "      <td>0.304</td>\n",
       "      <td>0.296</td>\n",
       "      <td>1.318660</td>\n",
       "    </tr>\n",
       "    <tr>\n",
       "      <th>32851</th>\n",
       "      <td>6p1f</td>\n",
       "      <td>/data/rsg/chemistry/jyim/large_data/processed_...</td>\n",
       "      <td>/data/rsg/chemistry/jyim/large_data/pdb/30_08_...</td>\n",
       "      <td>1</td>\n",
       "      <td>monomeric</td>\n",
       "      <td>1.650</td>\n",
       "      <td>x-ray diffraction</td>\n",
       "      <td>1</td>\n",
       "      <td>homomer</td>\n",
       "      <td>231</td>\n",
       "      <td>125</td>\n",
       "      <td>0.448</td>\n",
       "      <td>0.000</td>\n",
       "      <td>0.552</td>\n",
       "      <td>1.419922</td>\n",
       "    </tr>\n",
       "    <tr>\n",
       "      <th>2703</th>\n",
       "      <td>3pyp</td>\n",
       "      <td>/data/rsg/chemistry/jyim/large_data/processed_...</td>\n",
       "      <td>/data/rsg/chemistry/jyim/large_data/pdb/30_08_...</td>\n",
       "      <td>1</td>\n",
       "      <td>monomeric</td>\n",
       "      <td>0.850</td>\n",
       "      <td>x-ray diffraction</td>\n",
       "      <td>1</td>\n",
       "      <td>homomer</td>\n",
       "      <td>263</td>\n",
       "      <td>125</td>\n",
       "      <td>0.384</td>\n",
       "      <td>0.320</td>\n",
       "      <td>0.296</td>\n",
       "      <td>1.348096</td>\n",
       "    </tr>\n",
       "    <tr>\n",
       "      <th>6818</th>\n",
       "      <td>1jug</td>\n",
       "      <td>/data/rsg/chemistry/jyim/large_data/processed_...</td>\n",
       "      <td>/data/rsg/chemistry/jyim/large_data/pdb/30_08_...</td>\n",
       "      <td>1</td>\n",
       "      <td>monomeric</td>\n",
       "      <td>1.900</td>\n",
       "      <td>x-ray diffraction</td>\n",
       "      <td>1</td>\n",
       "      <td>homomer</td>\n",
       "      <td>191</td>\n",
       "      <td>125</td>\n",
       "      <td>0.496</td>\n",
       "      <td>0.392</td>\n",
       "      <td>0.112</td>\n",
       "      <td>1.387343</td>\n",
       "    </tr>\n",
       "    <tr>\n",
       "      <th>6593</th>\n",
       "      <td>2qdb</td>\n",
       "      <td>/data/rsg/chemistry/jyim/large_data/processed_...</td>\n",
       "      <td>/data/rsg/chemistry/jyim/large_data/pdb/30_08_...</td>\n",
       "      <td>1</td>\n",
       "      <td>monomeric</td>\n",
       "      <td>2.200</td>\n",
       "      <td>x-ray diffraction</td>\n",
       "      <td>1</td>\n",
       "      <td>homomer</td>\n",
       "      <td>162</td>\n",
       "      <td>125</td>\n",
       "      <td>0.368</td>\n",
       "      <td>0.288</td>\n",
       "      <td>0.344</td>\n",
       "      <td>1.398385</td>\n",
       "    </tr>\n",
       "    <tr>\n",
       "      <th>...</th>\n",
       "      <td>...</td>\n",
       "      <td>...</td>\n",
       "      <td>...</td>\n",
       "      <td>...</td>\n",
       "      <td>...</td>\n",
       "      <td>...</td>\n",
       "      <td>...</td>\n",
       "      <td>...</td>\n",
       "      <td>...</td>\n",
       "      <td>...</td>\n",
       "      <td>...</td>\n",
       "      <td>...</td>\n",
       "      <td>...</td>\n",
       "      <td>...</td>\n",
       "      <td>...</td>\n",
       "    </tr>\n",
       "    <tr>\n",
       "      <th>39982</th>\n",
       "      <td>1prq</td>\n",
       "      <td>/data/rsg/chemistry/jyim/large_data/processed_...</td>\n",
       "      <td>/data/rsg/chemistry/jyim/large_data/pdb/30_08_...</td>\n",
       "      <td>1</td>\n",
       "      <td>monomeric</td>\n",
       "      <td>2.500</td>\n",
       "      <td>x-ray diffraction</td>\n",
       "      <td>1</td>\n",
       "      <td>homomer</td>\n",
       "      <td>181</td>\n",
       "      <td>125</td>\n",
       "      <td>0.328</td>\n",
       "      <td>0.344</td>\n",
       "      <td>0.328</td>\n",
       "      <td>1.313932</td>\n",
       "    </tr>\n",
       "    <tr>\n",
       "      <th>48314</th>\n",
       "      <td>3rdq</td>\n",
       "      <td>/data/rsg/chemistry/jyim/large_data/processed_...</td>\n",
       "      <td>/data/rsg/chemistry/jyim/large_data/pdb/30_08_...</td>\n",
       "      <td>1</td>\n",
       "      <td>monomeric</td>\n",
       "      <td>1.600</td>\n",
       "      <td>x-ray diffraction</td>\n",
       "      <td>1</td>\n",
       "      <td>homomer</td>\n",
       "      <td>269</td>\n",
       "      <td>125</td>\n",
       "      <td>0.400</td>\n",
       "      <td>0.064</td>\n",
       "      <td>0.536</td>\n",
       "      <td>1.562761</td>\n",
       "    </tr>\n",
       "    <tr>\n",
       "      <th>8734</th>\n",
       "      <td>1f98</td>\n",
       "      <td>/data/rsg/chemistry/jyim/large_data/processed_...</td>\n",
       "      <td>/data/rsg/chemistry/jyim/large_data/pdb/30_08_...</td>\n",
       "      <td>1</td>\n",
       "      <td>monomeric</td>\n",
       "      <td>1.150</td>\n",
       "      <td>x-ray diffraction</td>\n",
       "      <td>1</td>\n",
       "      <td>homomer</td>\n",
       "      <td>235</td>\n",
       "      <td>125</td>\n",
       "      <td>0.400</td>\n",
       "      <td>0.304</td>\n",
       "      <td>0.296</td>\n",
       "      <td>1.368348</td>\n",
       "    </tr>\n",
       "    <tr>\n",
       "      <th>34951</th>\n",
       "      <td>5gx9</td>\n",
       "      <td>/data/rsg/chemistry/jyim/large_data/processed_...</td>\n",
       "      <td>/data/rsg/chemistry/jyim/large_data/pdb/30_08_...</td>\n",
       "      <td>1</td>\n",
       "      <td>monomeric</td>\n",
       "      <td>1.493</td>\n",
       "      <td>neutron diffraction</td>\n",
       "      <td>1</td>\n",
       "      <td>homomer</td>\n",
       "      <td>206</td>\n",
       "      <td>125</td>\n",
       "      <td>0.400</td>\n",
       "      <td>0.304</td>\n",
       "      <td>0.296</td>\n",
       "      <td>1.349581</td>\n",
       "    </tr>\n",
       "    <tr>\n",
       "      <th>25319</th>\n",
       "      <td>3lua</td>\n",
       "      <td>/data/rsg/chemistry/jyim/large_data/processed_...</td>\n",
       "      <td>/data/rsg/chemistry/jyim/large_data/pdb/30_08_...</td>\n",
       "      <td>1</td>\n",
       "      <td>monomeric</td>\n",
       "      <td>2.400</td>\n",
       "      <td>x-ray diffraction</td>\n",
       "      <td>1</td>\n",
       "      <td>homomer</td>\n",
       "      <td>178</td>\n",
       "      <td>125</td>\n",
       "      <td>0.384</td>\n",
       "      <td>0.432</td>\n",
       "      <td>0.184</td>\n",
       "      <td>1.372090</td>\n",
       "    </tr>\n",
       "  </tbody>\n",
       "</table>\n",
       "<p>97 rows × 15 columns</p>\n",
       "</div>"
      ],
      "text/plain": [
       "      pdb_name                                     processed_path  \\\n",
       "13854     2zoi  /data/rsg/chemistry/jyim/large_data/processed_...   \n",
       "32851     6p1f  /data/rsg/chemistry/jyim/large_data/processed_...   \n",
       "2703      3pyp  /data/rsg/chemistry/jyim/large_data/processed_...   \n",
       "6818      1jug  /data/rsg/chemistry/jyim/large_data/processed_...   \n",
       "6593      2qdb  /data/rsg/chemistry/jyim/large_data/processed_...   \n",
       "...        ...                                                ...   \n",
       "39982     1prq  /data/rsg/chemistry/jyim/large_data/processed_...   \n",
       "48314     3rdq  /data/rsg/chemistry/jyim/large_data/processed_...   \n",
       "8734      1f98  /data/rsg/chemistry/jyim/large_data/processed_...   \n",
       "34951     5gx9  /data/rsg/chemistry/jyim/large_data/processed_...   \n",
       "25319     3lua  /data/rsg/chemistry/jyim/large_data/processed_...   \n",
       "\n",
       "                                                raw_path oligomeric_count  \\\n",
       "13854  /data/rsg/chemistry/jyim/large_data/pdb/30_08_...                1   \n",
       "32851  /data/rsg/chemistry/jyim/large_data/pdb/30_08_...                1   \n",
       "2703   /data/rsg/chemistry/jyim/large_data/pdb/30_08_...                1   \n",
       "6818   /data/rsg/chemistry/jyim/large_data/pdb/30_08_...                1   \n",
       "6593   /data/rsg/chemistry/jyim/large_data/pdb/30_08_...                1   \n",
       "...                                                  ...              ...   \n",
       "39982  /data/rsg/chemistry/jyim/large_data/pdb/30_08_...                1   \n",
       "48314  /data/rsg/chemistry/jyim/large_data/pdb/30_08_...                1   \n",
       "8734   /data/rsg/chemistry/jyim/large_data/pdb/30_08_...                1   \n",
       "34951  /data/rsg/chemistry/jyim/large_data/pdb/30_08_...                1   \n",
       "25319  /data/rsg/chemistry/jyim/large_data/pdb/30_08_...                1   \n",
       "\n",
       "      oligomeric_detail  resolution     structure_method  num_chains  \\\n",
       "13854         monomeric       1.500  neutron diffraction           1   \n",
       "32851         monomeric       1.650    x-ray diffraction           1   \n",
       "2703          monomeric       0.850    x-ray diffraction           1   \n",
       "6818          monomeric       1.900    x-ray diffraction           1   \n",
       "6593          monomeric       2.200    x-ray diffraction           1   \n",
       "...                 ...         ...                  ...         ...   \n",
       "39982         monomeric       2.500    x-ray diffraction           1   \n",
       "48314         monomeric       1.600    x-ray diffraction           1   \n",
       "8734          monomeric       1.150    x-ray diffraction           1   \n",
       "34951         monomeric       1.493  neutron diffraction           1   \n",
       "25319         monomeric       2.400    x-ray diffraction           1   \n",
       "\n",
       "      quaternary_category  seq_len  modeled_seq_len  coil_percent  \\\n",
       "13854             homomer      199              125         0.400   \n",
       "32851             homomer      231              125         0.448   \n",
       "2703              homomer      263              125         0.384   \n",
       "6818              homomer      191              125         0.496   \n",
       "6593              homomer      162              125         0.368   \n",
       "...                   ...      ...              ...           ...   \n",
       "39982             homomer      181              125         0.328   \n",
       "48314             homomer      269              125         0.400   \n",
       "8734              homomer      235              125         0.400   \n",
       "34951             homomer      206              125         0.400   \n",
       "25319             homomer      178              125         0.384   \n",
       "\n",
       "       helix_percent  strand_percent  radius_gyration  \n",
       "13854          0.304           0.296         1.318660  \n",
       "32851          0.000           0.552         1.419922  \n",
       "2703           0.320           0.296         1.348096  \n",
       "6818           0.392           0.112         1.387343  \n",
       "6593           0.288           0.344         1.398385  \n",
       "...              ...             ...              ...  \n",
       "39982          0.344           0.328         1.313932  \n",
       "48314          0.064           0.536         1.562761  \n",
       "8734           0.304           0.296         1.368348  \n",
       "34951          0.304           0.296         1.349581  \n",
       "25319          0.432           0.184         1.372090  \n",
       "\n",
       "[97 rows x 15 columns]"
      ]
     },
     "execution_count": 16,
     "metadata": {},
     "output_type": "execute_result"
    }
   ],
   "source": [
    "train_csv[train_csv.modeled_seq_len == 125]"
   ]
  },
  {
   "cell_type": "code",
   "execution_count": 15,
   "metadata": {},
   "outputs": [
    {
     "data": {
      "text/plain": [
       "Text(0.5, 1.0, 'Sequence length histogram after filtering')"
      ]
     },
     "execution_count": 15,
     "metadata": {},
     "output_type": "execute_result"
    },
    {
     "data": {
      "image/png": "[encoded data removed]",
      "text/plain": [
       "<Figure size 640x480 with 1 Axes>"
      ]
     },
     "metadata": {},
     "output_type": "display_data"
    }
   ],
   "source": [
    "ax = train_csv.modeled_seq_len.hist()\n",
    "ax.set_title('Sequence length histogram after filtering')"
   ]
  },
  {
   "cell_type": "code",
   "execution_count": 10,
   "metadata": {},
   "outputs": [
    {
     "data": {
      "text/plain": [
       "Text(0.5, 1.0, 'Coil percent histogram after filtering')"
      ]
     },
     "execution_count": 10,
     "metadata": {},
     "output_type": "execute_result"
    },
    {
     "data": {
      "image/png": "[encoded data removed]",
      "text/plain": [
       "<Figure size 640x480 with 1 Axes>"
      ]
     },
     "metadata": {},
     "output_type": "display_data"
    }
   ],
   "source": [
    "ax = train_csv.coil_percent.hist()\n",
    "ax.set_title('Coil percent histogram after filtering')"
   ]
  },
  {
   "cell_type": "code",
   "execution_count": 11,
   "metadata": {},
   "outputs": [
    {
     "data": {
      "text/plain": [
       "Text(0.5, 1.0, 'Strand percent histogram after filtering')"
      ]
     },
     "execution_count": 11,
     "metadata": {},
     "output_type": "execute_result"
    },
    {
     "data": {
      "image/png": "[encoded data removed]",
      "text/plain": [
       "<Figure size 640x480 with 1 Axes>"
      ]
     },
     "metadata": {},
     "output_type": "display_data"
    }
   ],
   "source": [
    "ax = train_csv.strand_percent.hist()\n",
    "ax.set_title('Strand percent histogram after filtering')"
   ]
  },
  {
   "cell_type": "code",
   "execution_count": 12,
   "metadata": {},
   "outputs": [
    {
     "data": {
      "text/plain": [
       "Text(0.5, 1.0, 'Helix percent histogram after filtering')"
      ]
     },
     "execution_count": 12,
     "metadata": {},
     "output_type": "execute_result"
    },
    {
     "data": {
      "image/png": "[encoded data removed]",
      "text/plain": [
       "<Figure size 640x480 with 1 Axes>"
      ]
     },
     "metadata": {},
     "output_type": "display_data"
    }
   ],
   "source": [
    "ax = train_csv.helix_percent.hist()\n",
    "ax.set_title('Helix percent histogram after filtering')"
   ]
  },
  {
   "cell_type": "code",
   "execution_count": null,
   "metadata": {},
   "outputs": [],
   "source": []
  },
  {
   "cell_type": "code",
   "execution_count": null,
   "metadata": {},
   "outputs": [],
   "source": []
  },
  {
   "cell_type": "code",
   "execution_count": null,
   "metadata": {},
   "outputs": [],
   "source": []
  },
  {
   "cell_type": "code",
   "execution_count": null,
   "metadata": {},
   "outputs": [],
   "source": []
  },
  {
   "cell_type": "code",
   "execution_count": null,
   "metadata": {},
   "outputs": [],
   "source": []
  },
  {
   "cell_type": "code",
   "execution_count": null,
   "metadata": {},
   "outputs": [],
   "source": []
  },
  {
   "cell_type": "code",
   "execution_count": null,
   "metadata": {},
   "outputs": [],
   "source": []
  }
 ],
 "metadata": {
  "kernelspec": {
   "display_name": "Python 3 (ipykernel)",
   "language": "python",
   "name": "python3"
  },
  "language_info": {
   "codemirror_mode": {
    "name": "ipython",
    "version": 3
   },
   "file_extension": ".py",
   "mimetype": "text/x-python",
   "name": "python",
   "nbconvert_exporter": "python",
   "pygments_lexer": "ipython3",
   "version": "3.8.12"
  }
 },
 "nbformat": 4,
 "nbformat_minor": 4
}
