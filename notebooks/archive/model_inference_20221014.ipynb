{
 "cells": [
  {
   "cell_type": "code",
   "execution_count": 248,
   "metadata": {
    "tags": []
   },
   "outputs": [],
   "source": [
    "import torch\n",
    "import os\n",
    "import numpy as np\n",
    "import matplotlib.pyplot as plt\n",
    "import copy\n",
    "import GPUtil\n",
    "from collections import defaultdict\n",
    "from analysis import utils as au\n",
    "from analysis import plotting\n",
    "from data import utils as du\n",
    "from data import se3_diffuser\n",
    "from data import r3_diffuser\n",
    "from data import so3_diffuser\n",
    "import seaborn as sns\n",
    "from model import loss\n",
    "from model import reverse_se3_diffusion\n",
    "import tree\n",
    "from data import rosetta_data_loader\n",
    "from data import digs_data_loader\n",
    "from data import all_atom\n",
    "from experiments import train_se3_diffusion\n",
    "from experiments import inference_se3_diffusion\n",
    "from openfold.utils import rigid_utils as ru\n",
    "from openfold.np import residue_constants\n",
    "from scipy.spatial.transform import Rotation\n",
    "\n",
    "from omegaconf import DictConfig, OmegaConf\n",
    "import importlib\n",
    "\n",
    "# Enable logging\n",
    "import logging\n",
    "import sys\n",
    "date_strftime_format = \"%Y-%m-%y %H:%M:%S\"\n",
    "logging.basicConfig(stream=sys.stdout, level=logging.INFO, format=\"%(asctime)s %(message)s\", datefmt=date_strftime_format)"
   ]
  },
  {
   "cell_type": "code",
   "execution_count": 249,
   "metadata": {
    "tags": []
   },
   "outputs": [
    {
     "data": {
      "text/plain": [
       "<module 'experiments.train_se3_diffusion' from '/data/rsg/chemistry/jyim/projects/protein_diffusion/experiments/train_se3_diffusion.py'>"
      ]
     },
     "execution_count": 249,
     "metadata": {},
     "output_type": "execute_result"
    }
   ],
   "source": [
    "importlib.reload(rosetta_data_loader)\n",
    "importlib.reload(digs_data_loader)\n",
    "importlib.reload(se3_diffuser)\n",
    "importlib.reload(so3_diffuser)\n",
    "importlib.reload(r3_diffuser)\n",
    "importlib.reload(du)\n",
    "importlib.reload(au)\n",
    "importlib.reload(all_atom)\n",
    "importlib.reload(plotting)\n",
    "importlib.reload(loss)\n",
    "importlib.reload(reverse_se3_diffusion)\n",
    "importlib.reload(inference_se3_diffusion)\n",
    "importlib.reload(train_se3_diffusion)"
   ]
  },
  {
   "cell_type": "code",
   "execution_count": 250,
   "metadata": {
    "tags": []
   },
   "outputs": [
    {
     "name": "stderr",
     "output_type": "stream",
     "text": [
      "INFO: Loading checkpoint from ../pkl_jar/ckpt/inpainting_0/14D_10M_2022Y_00h_00m_47s/step_210000.pth\n",
      "INFO: Saving results to ../results/14D_10M_2022Y_00h_00m_47s\n",
      "INFO: Number of model parameters 10005987\n",
      "INFO: Using cached IGSO3.\n",
      "INFO: Checkpoints saved to: ./pkl_jar/ckpt/inpainting_0/14D_10M_2022Y_00h_00m_47s/inpainting_0/14D_10M_2022Y_14h_56m_20s\n",
      "INFO: Evaluation saved to: ./results/inpainting_0/14D_10M_2022Y_00h_00m_47s/inpainting_0/14D_10M_2022Y_14h_56m_20s\n",
      "INFO: Training: 3798 examples\n",
      "INFO: Validation: 40 examples with lengths [ 60  67  75  82  90  97 105 112 120 128]\n"
     ]
    }
   ],
   "source": [
    "# Load model\n",
    "inference_conf_path = '../config/inference.yaml'\n",
    "inference_conf = OmegaConf.load(inference_conf_path)\n",
    "# inference_conf.ckpt_dir = '../pkl_jar/ckpt/fixed_scaling/28D_09M_2022Y_12h_03m_45s'\n",
    "inference_conf.ckpt_dir = '../pkl_jar/ckpt/inpainting_0/14D_10M_2022Y_00h_00m_47s'\n",
    "\n",
    "inference_conf.default_conf_path = '../config/base.yaml'\n",
    "inference_conf.output_dir = '../results'\n",
    "\n",
    "# print(OmegaConf.to_yaml(inference_conf))\n",
    "\n",
    "# Set up sampler\n",
    "sampler = inference_se3_diffusion.Sampler(inference_conf)\n",
    "train_loader, valid_loader = sampler.exp.create_rosetta_dataset(0, 1)\n",
    "train_csv = train_loader.dataset.csv"
   ]
  },
  {
   "cell_type": "markdown",
   "metadata": {},
   "source": [
    "### Sample using data"
   ]
  },
  {
   "cell_type": "code",
   "execution_count": 251,
   "metadata": {
    "tags": []
   },
   "outputs": [],
   "source": [
    "# Sample an example\n",
    "\n",
    "# data_iter = iter(train_loader)\n",
    "# next_item = next(data_iter)\n",
    "\n",
    "data_iter = iter(valid_loader)\n",
    "next_item, pdb_names = next(data_iter)"
   ]
  },
  {
   "cell_type": "code",
   "execution_count": 252,
   "metadata": {},
   "outputs": [
    {
     "name": "stdout",
     "output_type": "stream",
     "text": [
      "5n35\n"
     ]
    },
    {
     "name": "stderr",
     "output_type": "stream",
     "text": [
      "/data/rsg/chemistry/jyim/projects/protein_diffusion/data/se3_diffuser.py:28: UserWarning: To copy construct from a tensor, it is recommended to use sourceTensor.clone().detach() or sourceTensor.clone().detach().requires_grad_(True), rather than torch.tensor(sourceTensor).\n",
      "  trans=torch.tensor(trans))\n",
      "INFO: Saved sample to ./samples/len_60_diffuse_083_1.pdb\n",
      "INFO: Saved trajectory to ./samples/len_60_diffuse_083_traj_1.pdb\n",
      "INFO: Saved sequence to ./samples/len_60_diffuse_083_of.fasta\n"
     ]
    }
   ],
   "source": [
    "# Run sampler\n",
    "save = True\n",
    "add_noise = True\n",
    "b_idx = 0\n",
    "pdb_name = pdb_names[b_idx]\n",
    "print(pdb_name)\n",
    "res_mask = next_item['res_mask'][b_idx]\n",
    "fixed_mask = next_item['fixed_mask'][b_idx]\n",
    "aatype_impute = next_item['aatype_0'][b_idx]\n",
    "psi_impute = next_item['torsion_angles_sin_cos'][b_idx]\n",
    "rigid_impute = ru.Rigid.from_tensor_7(next_item['rigids_0'][b_idx])\n",
    "\n",
    "rigids_traj, aatype_traj, pdb_path, traj_path, fasta_path = sampler.sample(\n",
    "    res_mask=res_mask,\n",
    "    fixed_mask=fixed_mask,\n",
    "    aatype_impute=aatype_impute,\n",
    "    rigid_impute=rigid_impute,\n",
    "    psi_impute=psi_impute,\n",
    "    save=save,\n",
    "    add_noise=add_noise,\n",
    "    file_prefix='./samples/'\n",
    ")"
   ]
  },
  {
   "cell_type": "code",
   "execution_count": 254,
   "metadata": {},
   "outputs": [
    {
     "name": "stdout",
     "output_type": "stream",
     "text": [
      "INFO:root:Loading weights from /data/rsg/chemistry/jyim/third_party/omegafold/release1.pt\n",
      "INFO:root:Constructing OmegaFold\n",
      "INFO:root:Reading ./samples/len_60_diffuse_083_of.fasta\n",
      "INFO:root:Predicting 1th chain in ./samples/len_60_diffuse_083_of.fasta\n",
      "INFO:root:60 residues in this chain.\n",
      "INFO:root:Finished prediction in 3.49 seconds.\n",
      "INFO:root:Saving prediction to ./samples/len_60_diffuse_083_of.pdb\n",
      "INFO:root:Saved\n",
      "INFO:root:Done!\n"
     ]
    }
   ],
   "source": [
    "sc, plddt = sampler.run_self_consistency(pdb_path, fasta_path)"
   ]
  },
  {
   "cell_type": "code",
   "execution_count": 258,
   "metadata": {},
   "outputs": [
    {
     "data": {
      "text/plain": [
       "array([45.06, 45.06, 45.06, 45.06, 45.06,  0.  , 45.06, 45.06,  0.  ,\n",
       "        0.  ,  0.  ,  0.  ,  0.  ,  0.  ,  0.  ,  0.  ,  0.  ,  0.  ,\n",
       "        0.  ,  0.  ,  0.  ,  0.  ,  0.  ,  0.  ,  0.  ,  0.  ,  0.  ,\n",
       "        0.  ,  0.  ,  0.  ,  0.  ,  0.  ,  0.  ,  0.  ,  0.  ,  0.  ,\n",
       "        0.  ])"
      ]
     },
     "execution_count": 258,
     "metadata": {},
     "output_type": "execute_result"
    }
   ],
   "source": [
    "plddt[:, "
   ]
  },
  {
   "cell_type": "code",
   "execution_count": 256,
   "metadata": {},
   "outputs": [
    {
     "data": {
      "text/plain": [
       "0.3981160816368821"
      ]
     },
     "execution_count": 256,
     "metadata": {},
     "output_type": "execute_result"
    }
   ],
   "source": [
    "sc"
   ]
  },
  {
   "cell_type": "code",
   "execution_count": null,
   "metadata": {},
   "outputs": [],
   "source": []
  },
  {
   "cell_type": "code",
   "execution_count": 226,
   "metadata": {},
   "outputs": [],
   "source": [
    "unpad_gt_aatype = aatype_impute[res_mask.bool()]\n",
    "pred_aatype_prob = aatype_traj[0][res_mask.bool()]\n",
    "pred_aatype = np.argmax(pred_aatype_prob[:, :-1], axis=-1)\n",
    "diffuse_mask = du.move_to_np(1 - fixed_mask[res_mask.bool()]).astype(bool)\n",
    "\n",
    "gt_seq = du.aatype_to_seq(du.move_to_np(torch.argmax(unpad_gt_aatype, dim=-1)))\n",
    "pred_seq = du.aatype_to_seq(pred_aatype)\n"
   ]
  },
  {
   "cell_type": "code",
   "execution_count": 227,
   "metadata": {},
   "outputs": [
    {
     "name": "stdout",
     "output_type": "stream",
     "text": [
      "0.44660194174757284\n"
     ]
    }
   ],
   "source": [
    "match = 0\n",
    "for i,(pred, gt) in enumerate(zip(pred_seq, gt_seq)):\n",
    "    if diffuse_mask[i]:\n",
    "        # print(i, pred, gt)\n",
    "        match += int(pred == gt)\n",
    "print(match / np.sum(diffuse_mask))"
   ]
  },
  {
   "cell_type": "code",
   "execution_count": 228,
   "metadata": {},
   "outputs": [
    {
     "name": "stdout",
     "output_type": "stream",
     "text": [
      "INFO:root:Loading weights from /data/rsg/chemistry/jyim/third_party/omegafold/release1.pt\n",
      "INFO:root:Constructing OmegaFold\n",
      "INFO:root:Reading ./samples/len_112_diffuse_092_of.fasta\n",
      "INFO:root:Predicting 1th chain in ./samples/len_112_diffuse_092_of.fasta\n",
      "INFO:root:112 residues in this chain.\n",
      "INFO:root:Finished prediction in 5.82 seconds.\n",
      "INFO:root:Saving prediction to ./samples/len_112_diffuse_092_of.pdb\n",
      "INFO:root:Saved\n",
      "INFO:root:Done!\n"
     ]
    }
   ],
   "source": [
    "import subprocess\n",
    "output_dir = os.path.dirname(fasta_path)\n",
    "process = subprocess.Popen([\n",
    "    'omegafold',\n",
    "    fasta_path,\n",
    "    output_dir,\n",
    "])"
   ]
  },
  {
   "cell_type": "code",
   "execution_count": null,
   "metadata": {},
   "outputs": [],
   "source": []
  },
  {
   "cell_type": "code",
   "execution_count": 217,
   "metadata": {},
   "outputs": [],
   "source": [
    "from tmtools import tm_align"
   ]
  },
  {
   "cell_type": "code",
   "execution_count": 229,
   "metadata": {},
   "outputs": [],
   "source": [
    "def calc_tm_score(pos_1, pos_2, seq_1, seq_2):\n",
    "    tm_results = tm_align(pos_1, pos_2, seq_1, seq_2)\n",
    "    return tm_results.tm_norm_chain1, tm_results.tm_norm_chain2 "
   ]
  },
  {
   "cell_type": "code",
   "execution_count": 233,
   "metadata": {},
   "outputs": [],
   "source": [
    "sample_feats = du.parse_pdb_feats('sample', pdb_path)\n",
    "of_feats = du.parse_pdb_feats('sample', fasta_path.replace('.fasta', '.pdb'))"
   ]
  },
  {
   "cell_type": "code",
   "execution_count": 241,
   "metadata": {},
   "outputs": [
    {
     "data": {
      "text/plain": [
       "dict_keys(['atom_positions', 'aatype', 'atom_mask', 'residue_index', 'bb_mask', 'bb_positions'])"
      ]
     },
     "execution_count": 241,
     "metadata": {},
     "output_type": "execute_result"
    }
   ],
   "source": [
    "of_feats"
   ]
  },
  {
   "cell_type": "code",
   "execution_count": 237,
   "metadata": {},
   "outputs": [],
   "source": [
    "sample_seq = du.aatype_to_seq(sample_feats['aatype'])"
   ]
  },
  {
   "cell_type": "code",
   "execution_count": 238,
   "metadata": {},
   "outputs": [
    {
     "data": {
      "text/plain": [
       "'AAELGHLKECLGNLKENLYASHWSAYYQFYEPVDAAGVGLHDIHDIYKHPMDLEKMKRKMENRDYTAAAFAAFVRLMFFNCYAKYNPPDHPVYAMAQKVRLVFAAYLADYDE'"
      ]
     },
     "execution_count": 238,
     "metadata": {},
     "output_type": "execute_result"
    }
   ],
   "source": [
    "sample_seq"
   ]
  },
  {
   "cell_type": "code",
   "execution_count": 239,
   "metadata": {},
   "outputs": [],
   "source": [
    "_, tm_score = calc_tm_score(\n",
    "    sample_feats['bb_positions'], of_feats['bb_positions'], sample_seq, sample_seq)"
   ]
  },
  {
   "cell_type": "code",
   "execution_count": 240,
   "metadata": {},
   "outputs": [
    {
     "data": {
      "text/plain": [
       "0.5041145979696957"
      ]
     },
     "execution_count": 240,
     "metadata": {},
     "output_type": "execute_result"
    }
   ],
   "source": [
    "tm_score"
   ]
  },
  {
   "cell_type": "markdown",
   "metadata": {
    "jp-MarkdownHeadingCollapsed": true,
    "tags": []
   },
   "source": [
    "### Sample without data"
   ]
  },
  {
   "cell_type": "code",
   "execution_count": null,
   "metadata": {
    "tags": []
   },
   "outputs": [],
   "source": [
    "# Run sampler\n",
    "batch_size = 4\n",
    "num_res = 150\n",
    "res_mask = torch.ones((batch_size, num_res))\n",
    "save = True\n",
    "samples_traj = sampler.sample(\n",
    "    res_mask=res_mask,\n",
    "    save=save,\n",
    "    file_prefix='./samples/'\n",
    ")"
   ]
  },
  {
   "cell_type": "code",
   "execution_count": null,
   "metadata": {},
   "outputs": [],
   "source": []
  },
  {
   "cell_type": "code",
   "execution_count": null,
   "metadata": {},
   "outputs": [],
   "source": []
  }
 ],
 "metadata": {
  "kernelspec": {
   "display_name": "Python 3 (ipykernel)",
   "language": "python",
   "name": "python3"
  },
  "language_info": {
   "codemirror_mode": {
    "name": "ipython",
    "version": 3
   },
   "file_extension": ".py",
   "mimetype": "text/x-python",
   "name": "python",
   "nbconvert_exporter": "python",
   "pygments_lexer": "ipython3",
   "version": "3.8.12"
  }
 },
 "nbformat": 4,
 "nbformat_minor": 4
}
