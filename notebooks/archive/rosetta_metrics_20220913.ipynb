{
 "cells": [
  {
   "cell_type": "code",
   "execution_count": 4,
   "metadata": {
    "tags": []
   },
   "outputs": [],
   "source": [
    "import torch\n",
    "import os\n",
    "import numpy as np\n",
    "import matplotlib.pyplot as plt\n",
    "import copy\n",
    "import GPUtil\n",
    "from collections import defaultdict\n",
    "from analysis import utils as au\n",
    "from analysis import plotting\n",
    "from data import utils as du\n",
    "from data import se3_diffuser\n",
    "from data import r3_diffuser\n",
    "from data import so3_diffuser\n",
    "import seaborn as sns\n",
    "from model import loss\n",
    "from model import reverse_se3_diffusion\n",
    "import tree\n",
    "from data import rosetta_data_loader\n",
    "from data import digs_data_loader\n",
    "from data import all_atom\n",
    "from experiments import train_se3_diffusion\n",
    "from experiments import inference_se3_diffusion\n",
    "from openfold.utils import rigid_utils as ru\n",
    "from openfold.np import residue_constants\n",
    "from scipy.spatial.transform import Rotation\n",
    "from analysis import metrics\n",
    "\n",
    "import mdtraj as md\n",
    "from openfold.np.relax import amber_minimize\n",
    "\n",
    "from omegaconf import DictConfig, OmegaConf\n",
    "import importlib\n",
    "\n",
    "# Enable logging\n",
    "import logging\n",
    "import sys\n",
    "date_strftime_format = \"%Y-%m-%y %H:%M:%S\"\n",
    "logging.basicConfig(stream=sys.stdout, level=logging.INFO, format=\"%(asctime)s %(message)s\", datefmt=date_strftime_format)"
   ]
  },
  {
   "cell_type": "code",
   "execution_count": 5,
   "metadata": {
    "tags": []
   },
   "outputs": [
    {
     "data": {
      "text/plain": [
       "<module 'experiments.train_se3_diffusion' from '/data/rsg/chemistry/jyim/projects/protein_diffusion/experiments/train_se3_diffusion.py'>"
      ]
     },
     "execution_count": 5,
     "metadata": {},
     "output_type": "execute_result"
    }
   ],
   "source": [
    "importlib.reload(rosetta_data_loader)\n",
    "importlib.reload(digs_data_loader)\n",
    "importlib.reload(se3_diffuser)\n",
    "importlib.reload(so3_diffuser)\n",
    "importlib.reload(r3_diffuser)\n",
    "importlib.reload(du)\n",
    "importlib.reload(au)\n",
    "importlib.reload(all_atom)\n",
    "importlib.reload(plotting)\n",
    "importlib.reload(loss)\n",
    "importlib.reload(reverse_se3_diffusion)\n",
    "importlib.reload(inference_se3_diffusion)\n",
    "importlib.reload(train_se3_diffusion)"
   ]
  },
  {
   "cell_type": "code",
   "execution_count": 19,
   "metadata": {},
   "outputs": [
    {
     "name": "stderr",
     "output_type": "stream",
     "text": [
      "INFO: Loading checkpoint from ../pkl_jar/ckpt/exp_lin_with_aatype_0/11D_09M_2022Y_13h_12m_28s/step_650000.pth\n",
      "INFO: Saving results to ../results/11D_09M_2022Y_13h_12m_28s\n",
      "INFO: Number of model parameters 3703648\n",
      "INFO: Using cached IGSO3.\n",
      "INFO: Checkpoints saved to: ./pkl_jar/ckpt/baseline/15D_09M_2022Y_13h_57m_54s\n",
      "INFO: Evaluation saved to: ./results/baseline/15D_09M_2022Y_13h_57m_54s\n",
      "INFO: Training: 1000 examples\n",
      "INFO: Validation: 40 examples with lengths [ 60  90 113 134 156 177 198 218 239 260]\n"
     ]
    }
   ],
   "source": [
    "# Load model\n",
    "inference_conf_path = '../config/inference.yaml'\n",
    "inference_conf = OmegaConf.load(inference_conf_path)\n",
    "\n",
    "# inference_conf.ckpt_dir = '../pkl_jar/ckpt/exp_lin_with_aatype_0/11D_09M_2022Y_13h_12m_28s'\n",
    "inference_conf.ckpt_dir = '../pkl_jar/ckpt/with_aatype_0/11D_09M_2022Y_11h_44m_55s'\n",
    "# inference_conf.ckpt_dir = '../pkl_jar/ckpt/exp_lin_with_aatype_0/11D_09M_2022Y_13h_12m_28s'\n",
    "# inference_conf.ckpt_dir = '../pkl_jar/ckpt/baseline_0/11D_09M_2022Y_13h_06m_45s'\n",
    "\n",
    "inference_conf.default_conf_path = '../config/base.yaml'\n",
    "# inference_conf.default_conf_path = '../config/exp_lin_schedule.yaml'\n",
    "\n",
    "inference_conf.output_dir = '../results'\n",
    "# print(OmegaConf.to_yaml(inference_conf))\n",
    "\n",
    "\n",
    "\n",
    "# Old models will need manual setting of the config\n",
    "conf_overrides = OmegaConf.create(\n",
    "    {\n",
    "        \"model\":{\n",
    "            \"embed_aatype\": True\n",
    "        },\n",
    "        'diffuser': {\n",
    "            \"trans_schedule\": 'exponential',\n",
    "            'trans_max_b': 20.0,\n",
    "            'rot_schedule': 'linear'\n",
    "        }\n",
    "    }\n",
    ")\n",
    "\n",
    "\n",
    "\n",
    "# Set up sampler\n",
    "sampler = inference_se3_diffusion.Sampler(\n",
    "    inference_conf,\n",
    "    use_ckpt_conf=False,\n",
    "    conf_overrides=conf_overrides\n",
    ")\n",
    "train_loader, valid_loader = sampler.exp.create_rosetta_dataset(0, 1)\n",
    "train_csv = train_loader.dataset.csv"
   ]
  },
  {
   "cell_type": "code",
   "execution_count": null,
   "metadata": {},
   "outputs": [],
   "source": []
  },
  {
   "cell_type": "code",
   "execution_count": null,
   "metadata": {},
   "outputs": [],
   "source": []
  },
  {
   "cell_type": "markdown",
   "metadata": {},
   "source": [
    "### Sample using data"
   ]
  },
  {
   "cell_type": "code",
   "execution_count": 20,
   "metadata": {
    "tags": []
   },
   "outputs": [],
   "source": [
    "# Sample an example\n",
    "\n",
    "# data_iter = iter(train_loader)\n",
    "# next_item = next(data_iter)\n",
    "\n",
    "data_iter = iter(valid_loader)\n",
    "next_item, _ = next(data_iter)"
   ]
  },
  {
   "cell_type": "code",
   "execution_count": 22,
   "metadata": {},
   "outputs": [
    {
     "name": "stderr",
     "output_type": "stream",
     "text": [
      "INFO: Saved sample to ./samples/len_177_4.pdb\n",
      "INFO: Saved trajectory to ./samples/len_177_traj_4.pdb\n",
      "INFO: Saved sample to ./samples/len_260_2.pdb\n",
      "INFO: Saved trajectory to ./samples/len_260_traj_2.pdb\n",
      "INFO: Saved sample to ./samples/len_239_2.pdb\n",
      "INFO: Saved trajectory to ./samples/len_239_traj_2.pdb\n",
      "INFO: Saved sample to ./samples/len_177_5.pdb\n",
      "INFO: Saved trajectory to ./samples/len_177_traj_5.pdb\n"
     ]
    }
   ],
   "source": [
    "# Run sampler\n",
    "save = True\n",
    "add_noise = True\n",
    "batch_size = 4\n",
    "res_mask = next_item['res_mask'][:batch_size]\n",
    "aatype = next_item['aatype'][:batch_size]\n",
    "res_idx = next_item['res_idx'][:batch_size]\n",
    "samples_traj = sampler.sample(\n",
    "    res_mask=res_mask,\n",
    "    aatype=aatype,\n",
    "    save=save,\n",
    "    res_idx=res_idx,\n",
    "    file_prefix='./samples/',\n",
    "    add_noise=add_noise\n",
    ")\n",
    "rigid_samples, prot_samples = samples_traj"
   ]
  },
  {
   "cell_type": "code",
   "execution_count": 12,
   "metadata": {},
   "outputs": [],
   "source": [
    "rigid_samples, prot_samples = samples_traj"
   ]
  },
  {
   "cell_type": "code",
   "execution_count": 13,
   "metadata": {},
   "outputs": [],
   "source": [
    "b_idx = 0\n",
    "pred_prot = prot_samples[b_idx]"
   ]
  },
  {
   "cell_type": "code",
   "execution_count": null,
   "metadata": {},
   "outputs": [],
   "source": []
  },
  {
   "cell_type": "code",
   "execution_count": null,
   "metadata": {},
   "outputs": [],
   "source": []
  },
  {
   "cell_type": "code",
   "execution_count": null,
   "metadata": {},
   "outputs": [],
   "source": []
  },
  {
   "cell_type": "code",
   "execution_count": null,
   "metadata": {},
   "outputs": [],
   "source": []
  },
  {
   "cell_type": "code",
   "execution_count": null,
   "metadata": {},
   "outputs": [],
   "source": []
  },
  {
   "cell_type": "code",
   "execution_count": 74,
   "metadata": {},
   "outputs": [],
   "source": [
    "from Bio import PDB"
   ]
  },
  {
   "cell_type": "code",
   "execution_count": 76,
   "metadata": {},
   "outputs": [],
   "source": [
    "parser = PDB.PDBParser(QUIET=True)\n",
    "\n",
    "pdb_path = './samples/len_90_1.pdb'\n",
    "pdb_name = 'test'\n",
    "structure = parser.get_structure(pdb_name, pdb_path)\n",
    "\n",
    "struct_chains = {\n",
    "    chain.id: chain\n",
    "    for chain in structure.get_chains() if chain.id == 'A'}\n",
    "# TODO: Add logic for handling multiple chains.\n",
    "assert len(struct_chains) == 1\n",
    "\n",
    "chain_prot = du.process_chain(struct_chains['A'], 'A')"
   ]
  },
  {
   "cell_type": "code",
   "execution_count": null,
   "metadata": {},
   "outputs": [],
   "source": [
    "chain_prot.atom_positions"
   ]
  },
  {
   "cell_type": "code",
   "execution_count": 86,
   "metadata": {},
   "outputs": [],
   "source": [
    "traj = md.load(pdb_path)\n",
    "\n",
    "# SS percentage\n",
    "pdb_ss = md.compute_dssp(traj, simplified=True)\n",
    "pdb_coil_percent = np.mean(pdb_ss == 'C')\n",
    "pdb_helix_percent = np.mean(pdb_ss == 'H')\n",
    "pdb_strand_percent = np.mean(pdb_ss == 'E')\n",
    "pdb_ss_percent = pdb_helix_percent + pdb_strand_percent \n",
    "\n",
    "# Radius of gyration\n",
    "pdb_rg = md.compute_rg(traj)[0]\n",
    "# atom37_mask = np.any(atom37_pos, axis=-1)\n",
    "# prot = au.create_full_prot(atom37_pos, atom37_mask)\n",
    "\n",
    "violation_metrics = amber_minimize.get_violation_metrics(chain_prot)\n",
    "struct_violations = violation_metrics['structural_violations']\n",
    "inter_violations = struct_violations['between_residues']\n",
    "\n",
    "# Geometry\n",
    "bb_mask = np.any(chain_prot.atom_mask, axis=-1)\n",
    "ca_pos = chain_prot.atom_positions[..., residue_constants.atom_order['CA'], :][bb_mask]\n",
    "ca_ca_bond_dev, ca_ca_valid_percent = metrics.ca_ca_distance(ca_pos)\n",
    "num_ca_steric_clashes, ca_steric_clash_percent = metrics.ca_ca_clashes(ca_pos) "
   ]
  },
  {
   "cell_type": "code",
   "execution_count": null,
   "metadata": {},
   "outputs": [],
   "source": [
    "struct_violations"
   ]
  },
  {
   "cell_type": "code",
   "execution_count": 89,
   "metadata": {},
   "outputs": [
    {
     "data": {
      "text/plain": [
       "0.5393258426966292"
      ]
     },
     "execution_count": 89,
     "metadata": {},
     "output_type": "execute_result"
    }
   ],
   "source": [
    "ca_ca_valid_percent"
   ]
  },
  {
   "cell_type": "code",
   "execution_count": null,
   "metadata": {},
   "outputs": [],
   "source": [
    "ca_pos"
   ]
  },
  {
   "cell_type": "code",
   "execution_count": 97,
   "metadata": {},
   "outputs": [],
   "source": [
    "ca_bond_dists = np.linalg.norm(\n",
    "    ca_pos - np.roll(ca_pos, 1, axis=0), axis=-1)[1:]\n",
    "# ca_ca_dev = np.mean(np.abs(ca_bond_dists - residue_constants.ca_ca))\n",
    "# ca_ca_valid = np.mean(ca_bond_dists < (residue_constants.ca_ca + tol))"
   ]
  },
  {
   "cell_type": "code",
   "execution_count": 98,
   "metadata": {},
   "outputs": [
    {
     "data": {
      "text/plain": [
       "(array([ 1.,  2.,  4., 13., 14., 15., 22.,  9.,  5.,  4.]),\n",
       " array([3.16954357, 3.29310473, 3.41666589, 3.54022705, 3.66378822,\n",
       "        3.78734938, 3.91091054, 4.03447171, 4.15803287, 4.28159403,\n",
       "        4.40515519]),\n",
       " <BarContainer object of 10 artists>)"
      ]
     },
     "execution_count": 98,
     "metadata": {},
     "output_type": "execute_result"
    },
    {
     "data": {
      "image/png": "[encoded data removed]",
      "text/plain": [
       "<Figure size 640x480 with 1 Axes>"
      ]
     },
     "metadata": {},
     "output_type": "display_data"
    }
   ],
   "source": [
    "plt.hist(ca_bond_dists)"
   ]
  },
  {
   "cell_type": "code",
   "execution_count": null,
   "metadata": {},
   "outputs": [],
   "source": []
  },
  {
   "cell_type": "code",
   "execution_count": null,
   "metadata": {},
   "outputs": [],
   "source": []
  },
  {
   "cell_type": "code",
   "execution_count": null,
   "metadata": {},
   "outputs": [],
   "source": []
  },
  {
   "cell_type": "code",
   "execution_count": null,
   "metadata": {},
   "outputs": [],
   "source": []
  },
  {
   "cell_type": "code",
   "execution_count": null,
   "metadata": {},
   "outputs": [],
   "source": []
  },
  {
   "cell_type": "code",
   "execution_count": 63,
   "metadata": {
    "tags": []
   },
   "outputs": [
    {
     "name": "stderr",
     "output_type": "stream",
     "text": [
      "INFO: Saved sample to ./samples/len_150_1.pdb\n",
      "INFO: Saved trajectory to ./samples/len_150_traj_1.pdb\n",
      "INFO: Saved sample to ./samples/len_150_2.pdb\n",
      "INFO: Saved trajectory to ./samples/len_150_traj_2.pdb\n",
      "INFO: Saved sample to ./samples/len_150_3.pdb\n",
      "INFO: Saved trajectory to ./samples/len_150_traj_3.pdb\n",
      "INFO: Saved sample to ./samples/len_150_4.pdb\n",
      "INFO: Saved trajectory to ./samples/len_150_traj_4.pdb\n"
     ]
    }
   ],
   "source": [
    "# Run sampler\n",
    "batch_size = 4\n",
    "num_res = 150\n",
    "res_mask = torch.ones((batch_size, num_res))\n",
    "save = True\n",
    "samples_traj = sampler.sample(\n",
    "    res_mask=res_mask,\n",
    "    save=save,\n",
    "    file_prefix='./samples/'\n",
    ")"
   ]
  },
  {
   "cell_type": "code",
   "execution_count": null,
   "metadata": {},
   "outputs": [],
   "source": []
  },
  {
   "cell_type": "code",
   "execution_count": null,
   "metadata": {},
   "outputs": [],
   "source": []
  }
 ],
 "metadata": {
  "kernelspec": {
   "display_name": "Python 3 (ipykernel)",
   "language": "python",
   "name": "python3"
  },
  "language_info": {
   "codemirror_mode": {
    "name": "ipython",
    "version": 3
   },
   "file_extension": ".py",
   "mimetype": "text/x-python",
   "name": "python",
   "nbconvert_exporter": "python",
   "pygments_lexer": "ipython3",
   "version": "3.8.12"
  }
 },
 "nbformat": 4,
 "nbformat_minor": 4
}
