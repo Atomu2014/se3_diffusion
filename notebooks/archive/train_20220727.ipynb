{
 "cells": [
  {
   "cell_type": "code",
   "execution_count": null,
   "metadata": {},
   "outputs": [],
   "source": [
    "import torch\n",
    "import os\n",
    "\n",
    "from data import data_loader\n",
    "from data import utils as du\n",
    "from data import se3_diffuser\n",
    "from data import so3_diffuser\n",
    "from experiments import train_se3_diffusion\n",
    "\n",
    "from omegaconf import OmegaConf\n",
    "import importlib\n",
    "\n",
    "# Enable logging\n",
    "import logging\n",
    "import sys\n",
    "date_strftime_format = \"%Y-%m-%y %H:%M:%S\"\n",
    "logging.basicConfig(stream=sys.stdout, level=logging.INFO, format=\"%(asctime)s %(message)s\", datefmt=date_strftime_format)"
   ]
  },
  {
   "cell_type": "code",
   "execution_count": null,
   "metadata": {},
   "outputs": [],
   "source": [
    "importlib.reload(data_loader)\n",
    "importlib.reload(se3_diffuser)\n",
    "importlib.reload(so3_diffuser)\n",
    "importlib.reload(du)\n",
    "importlib.reload(train_se3_diffusion)"
   ]
  },
  {
   "cell_type": "code",
   "execution_count": null,
   "metadata": {},
   "outputs": [],
   "source": [
    "# Load config.\n",
    "conf = OmegaConf.load('../config/default.yaml')\n",
    "# debug_conf = OmegaConf.load('../config/debug.yaml')\n",
    "# conf = OmegaConf.merge(conf, debug_conf)\n",
    "\n",
    "# Redirect cache from notebook directory.\n",
    "data_conf = conf.data\n",
    "data_conf.cache_path = '../pkl_jar/debug_dataset.pkl'\n",
    "data_conf.fraction_fb = 0.0\n",
    "data_conf.filtering.subset = 1\n",
    "data_conf.filtering.crop_len = 40\n",
    "\n",
    "diff_conf = conf.diffuser\n",
    "diff_conf.igso3_cache_dir = '.../pkl_jar'\n",
    "\n",
    "exp_conf = conf.experiment\n",
    "exp_conf.ckpt_dir = None\n",
    "exp_conf.num_loader_workers = 1\n",
    "exp_conf.num_epoch = 10000\n",
    "exp_conf.dist_mode = 'single'\n",
    "exp_conf.use_wandb = False\n",
    "\n",
    "\n",
    "print(OmegaConf.to_yaml(conf))"
   ]
  },
  {
   "cell_type": "code",
   "execution_count": null,
   "metadata": {},
   "outputs": [],
   "source": [
    "exp = train_se3_diffusion.Experiment(conf=conf)\n",
    "logs = exp.start_training(return_logs = True)"
   ]
  },
  {
   "cell_type": "code",
   "execution_count": null,
   "metadata": {},
   "outputs": [],
   "source": []
  }
 ],
 "metadata": {
  "kernelspec": {
   "display_name": "Python 3 (ipykernel)",
   "language": "python",
   "name": "python3"
  },
  "language_info": {
   "codemirror_mode": {
    "name": "ipython",
    "version": 3
   },
   "file_extension": ".py",
   "mimetype": "text/x-python",
   "name": "python",
   "nbconvert_exporter": "python",
   "pygments_lexer": "ipython3",
   "version": "3.8.12"
  }
 },
 "nbformat": 4,
 "nbformat_minor": 4
}
