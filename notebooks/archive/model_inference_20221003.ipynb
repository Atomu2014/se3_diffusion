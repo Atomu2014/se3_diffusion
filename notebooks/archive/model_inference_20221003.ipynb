{
 "cells": [
  {
   "cell_type": "code",
   "execution_count": 13,
   "metadata": {
    "tags": []
   },
   "outputs": [],
   "source": [
    "import torch\n",
    "import os\n",
    "import numpy as np\n",
    "import matplotlib.pyplot as plt\n",
    "import copy\n",
    "import GPUtil\n",
    "from collections import defaultdict\n",
    "from analysis import utils as au\n",
    "from analysis import plotting\n",
    "from data import utils as du\n",
    "from data import se3_diffuser\n",
    "from data import r3_diffuser\n",
    "from data import so3_diffuser\n",
    "import seaborn as sns\n",
    "from model import loss\n",
    "from model import reverse_se3_diffusion\n",
    "import tree\n",
    "from data import rosetta_data_loader\n",
    "from data import digs_data_loader\n",
    "from data import all_atom\n",
    "from experiments import train_se3_diffusion\n",
    "from experiments import inference_se3_diffusion\n",
    "from openfold.utils import rigid_utils as ru\n",
    "from openfold.np import residue_constants\n",
    "from scipy.spatial.transform import Rotation\n",
    "\n",
    "from omegaconf import DictConfig, OmegaConf\n",
    "import importlib\n",
    "\n",
    "# Enable logging\n",
    "import logging\n",
    "import sys\n",
    "date_strftime_format = \"%Y-%m-%y %H:%M:%S\"\n",
    "logging.basicConfig(stream=sys.stdout, level=logging.INFO, format=\"%(asctime)s %(message)s\", datefmt=date_strftime_format)"
   ]
  },
  {
   "cell_type": "code",
   "execution_count": 14,
   "metadata": {
    "tags": []
   },
   "outputs": [
    {
     "data": {
      "text/plain": [
       "<module 'experiments.train_se3_diffusion' from '/data/rsg/chemistry/jyim/projects/protein_diffusion/experiments/train_se3_diffusion.py'>"
      ]
     },
     "execution_count": 14,
     "metadata": {},
     "output_type": "execute_result"
    }
   ],
   "source": [
    "importlib.reload(rosetta_data_loader)\n",
    "importlib.reload(digs_data_loader)\n",
    "importlib.reload(se3_diffuser)\n",
    "importlib.reload(so3_diffuser)\n",
    "importlib.reload(r3_diffuser)\n",
    "importlib.reload(du)\n",
    "importlib.reload(au)\n",
    "importlib.reload(all_atom)\n",
    "importlib.reload(plotting)\n",
    "importlib.reload(loss)\n",
    "importlib.reload(reverse_se3_diffusion)\n",
    "importlib.reload(inference_se3_diffusion)\n",
    "importlib.reload(train_se3_diffusion)"
   ]
  },
  {
   "cell_type": "code",
   "execution_count": 15,
   "metadata": {},
   "outputs": [
    {
     "name": "stderr",
     "output_type": "stream",
     "text": [
      "INFO: Loading checkpoint from ../pkl_jar/ckpt/no_aatype_0/02D_10M_2022Y_08h_35m_44s/step_550000.pth\n",
      "INFO: Saving results to ../results/02D_10M_2022Y_08h_35m_44s\n",
      "INFO: Number of model parameters 17486935\n",
      "INFO: Using cached IGSO3.\n",
      "INFO: Checkpoints saved to: ./pkl_jar/ckpt/no_aatype_0/02D_10M_2022Y_08h_35m_44s/no_aatype_0/03D_10M_2022Y_09h_56m_56s\n",
      "INFO: Evaluation saved to: ./results/no_aatype_0/02D_10M_2022Y_08h_35m_44s/no_aatype_0/03D_10M_2022Y_09h_56m_56s\n",
      "INFO: Training: 3798 examples\n",
      "INFO: Validation: 40 examples with lengths [ 60  67  75  82  90  97 105 112 120 128]\n"
     ]
    }
   ],
   "source": [
    "# Load model\n",
    "inference_conf_path = '../config/inference.yaml'\n",
    "inference_conf = OmegaConf.load(inference_conf_path)\n",
    "# inference_conf.ckpt_dir = '../pkl_jar/ckpt/fixed_scaling/28D_09M_2022Y_12h_03m_45s'\n",
    "inference_conf.ckpt_dir = '../pkl_jar/ckpt/no_aatype_0/02D_10M_2022Y_08h_35m_44s'\n",
    "\n",
    "inference_conf.default_conf_path = '../config/base.yaml'\n",
    "inference_conf.output_dir = '../results'\n",
    "\n",
    "# print(OmegaConf.to_yaml(inference_conf))\n",
    "\n",
    "# Set up sampler\n",
    "sampler = inference_se3_diffusion.Sampler(inference_conf)\n",
    "train_loader, valid_loader = sampler.exp.create_rosetta_dataset(0, 1)\n",
    "train_csv = train_loader.dataset.csv"
   ]
  },
  {
   "cell_type": "markdown",
   "metadata": {},
   "source": [
    "### Sample using data"
   ]
  },
  {
   "cell_type": "code",
   "execution_count": 16,
   "metadata": {
    "tags": []
   },
   "outputs": [],
   "source": [
    "# Sample an example\n",
    "\n",
    "# data_iter = iter(train_loader)\n",
    "# next_item = next(data_iter)\n",
    "\n",
    "data_iter = iter(valid_loader)\n",
    "next_item, _ = next(data_iter)"
   ]
  },
  {
   "cell_type": "code",
   "execution_count": 36,
   "metadata": {},
   "outputs": [
    {
     "data": {
      "text/plain": [
       "tensor([[  3,   4,   5,   6,   7,   8,   9,  10,  11,  12,  13,  14,  15,  16,\n",
       "          17,  18,  19,  20,  21,  22,  23,  24,  25,  26,  27,  28,  29,  30,\n",
       "          31,  32,  33,  34,  35,  36,  37,  38,  39,  40,  41,  42,  43,  44,\n",
       "          45,  46,  47,  48,  49,  50,  51,  52,  53,  54,  55,  56,  57,  58,\n",
       "          59,  60,  61,  62,  63,  64,  65,  66,  67,  68,  69,  70,  71,  72,\n",
       "          73,  74,  75,  76,  77,  78,  79,  80,  81,  82,  83,  84,   0,   0,\n",
       "           0,   0,   0,   0,   0,   0,   0,   0,   0,   0,   0,   0,   0,   0,\n",
       "           0,   0,   0,   0,   0,   0,   0,   0,   0,   0,   0,   0,   0,   0,\n",
       "           0,   0,   0,   0,   0,   0,   0,   0,   0,   0,   0,   0,   0,   0,\n",
       "           0,   0],\n",
       "        [344, 345, 346, 347, 348, 349, 350, 351, 352, 353, 354, 355, 356, 357,\n",
       "         358, 359, 360, 361, 362, 363, 364, 365, 366, 367, 368, 369, 370, 371,\n",
       "         372, 373, 374, 375, 376, 377, 378, 379, 380, 381, 382, 383, 384, 385,\n",
       "         386, 387, 388, 389, 390, 391, 392, 393, 394, 395, 396, 397, 398, 399,\n",
       "         400, 401, 402, 403, 404, 405, 406, 407, 408, 409, 410, 411, 412, 413,\n",
       "         414, 415, 416, 417, 418, 419, 420, 421, 422, 423, 424, 425, 426, 427,\n",
       "         428, 429, 430, 431, 432, 433, 434, 435, 436, 437, 438, 439, 440, 441,\n",
       "         442, 443, 444, 445, 446, 447, 448, 449, 450, 451, 452, 453, 454, 455,\n",
       "           0,   0,   0,   0,   0,   0,   0,   0,   0,   0,   0,   0,   0,   0,\n",
       "           0,   0],\n",
       "        [ 26,  27,  28,  29,  30,  31,  32,  33,  34,  35,  36,  37,  38,  39,\n",
       "          40,  41,  42,  43,  44,  45,  46,  47,  48,  49,  50,  51,  52,  53,\n",
       "          54,  55,  56,  57,  58,  59,  60,  61,  62,  63,  64,  65,  66,  67,\n",
       "          68,  69,  70,  71,  72,  73,  74,  75,  76,  77,  78,  79,  80,  81,\n",
       "          82,  83,  84,  85,  86,  87,  88,  89,  90,  91,  92,  93,  94,  95,\n",
       "          96,  97,  98,  99, 100, 101, 102, 103, 104, 105, 106, 107, 108, 109,\n",
       "         110, 111, 112, 113, 114, 115, 116, 117, 118, 119, 120, 121, 122, 123,\n",
       "         124, 125, 126, 127, 128, 129, 130,   0,   0,   0,   0,   0,   0,   0,\n",
       "           0,   0,   0,   0,   0,   0,   0,   0,   0,   0,   0,   0,   0,   0,\n",
       "           0,   0],\n",
       "        [549, 550, 551, 552, 553, 554, 555, 556, 557, 558, 559, 560, 561, 562,\n",
       "         563, 564, 565, 566, 567, 568, 569, 570, 571, 572, 573, 574, 575, 576,\n",
       "         577, 578, 579, 580, 581, 582, 583, 584, 585, 586, 587, 588, 589, 590,\n",
       "         591, 592, 593, 594, 595, 596, 597, 598, 599, 600, 601, 602, 603, 604,\n",
       "         605, 606, 607, 608,   0,   0,   0,   0,   0,   0,   0,   0,   0,   0,\n",
       "           0,   0,   0,   0,   0,   0,   0,   0,   0,   0,   0,   0,   0,   0,\n",
       "           0,   0,   0,   0,   0,   0,   0,   0,   0,   0,   0,   0,   0,   0,\n",
       "           0,   0,   0,   0,   0,   0,   0,   0,   0,   0,   0,   0,   0,   0,\n",
       "           0,   0,   0,   0,   0,   0,   0,   0,   0,   0,   0,   0,   0,   0,\n",
       "           0,   0]])"
      ]
     },
     "execution_count": 36,
     "metadata": {},
     "output_type": "execute_result"
    }
   ],
   "source": [
    "next_item['res_idx'][:batch_size]"
   ]
  },
  {
   "cell_type": "code",
   "execution_count": 35,
   "metadata": {},
   "outputs": [
    {
     "name": "stderr",
     "output_type": "stream",
     "text": [
      "INFO: Saved sample to ./samples/len_82_2.pdb\n",
      "INFO: Saved trajectory to ./samples/len_82_traj_2.pdb\n",
      "INFO: Saved sample to ./samples/len_112_2.pdb\n",
      "INFO: Saved trajectory to ./samples/len_112_traj_2.pdb\n",
      "INFO: Saved sample to ./samples/len_105_2.pdb\n",
      "INFO: Saved trajectory to ./samples/len_105_traj_2.pdb\n",
      "INFO: Saved sample to ./samples/len_60_2.pdb\n",
      "INFO: Saved trajectory to ./samples/len_60_traj_2.pdb\n"
     ]
    }
   ],
   "source": [
    "# Run sampler\n",
    "save = True\n",
    "add_noise = False\n",
    "batch_size = 4\n",
    "res_mask = next_item['res_mask'][:batch_size]\n",
    "aatype = next_item['aatype'][:batch_size] * 0\n",
    "# res_idx = next_item['res_idx'][:batch_size]\n",
    "res_idx = res_idx - torch.min(res_idx + (res_idx == 0).long() * 1000, dim=-1).values[..., None]\n",
    "samples_traj = sampler.sample(\n",
    "    res_mask=res_mask,\n",
    "    aatype=aatype,\n",
    "    save=save,\n",
    "    res_idx=res_idx,\n",
    "    add_noise=add_noise,\n",
    "    file_prefix='./samples/'\n",
    ")"
   ]
  },
  {
   "cell_type": "code",
   "execution_count": null,
   "metadata": {},
   "outputs": [],
   "source": []
  },
  {
   "cell_type": "code",
   "execution_count": null,
   "metadata": {},
   "outputs": [],
   "source": []
  },
  {
   "cell_type": "markdown",
   "metadata": {
    "tags": []
   },
   "source": [
    "### Sample without data"
   ]
  },
  {
   "cell_type": "code",
   "execution_count": null,
   "metadata": {
    "tags": []
   },
   "outputs": [],
   "source": [
    "# Run sampler\n",
    "batch_size = 4\n",
    "num_res = 150\n",
    "res_mask = torch.ones((batch_size, num_res))\n",
    "save = True\n",
    "samples_traj = sampler.sample(\n",
    "    res_mask=res_mask,\n",
    "    save=save,\n",
    "    file_prefix='./samples/'\n",
    ")"
   ]
  },
  {
   "cell_type": "code",
   "execution_count": null,
   "metadata": {},
   "outputs": [],
   "source": []
  },
  {
   "cell_type": "code",
   "execution_count": null,
   "metadata": {},
   "outputs": [],
   "source": []
  }
 ],
 "metadata": {
  "kernelspec": {
   "display_name": "Python 3 (ipykernel)",
   "language": "python",
   "name": "python3"
  },
  "language_info": {
   "codemirror_mode": {
    "name": "ipython",
    "version": 3
   },
   "file_extension": ".py",
   "mimetype": "text/x-python",
   "name": "python",
   "nbconvert_exporter": "python",
   "pygments_lexer": "ipython3",
   "version": "3.8.12"
  }
 },
 "nbformat": 4,
 "nbformat_minor": 4
}
