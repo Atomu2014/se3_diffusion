{
 "cells": [
  {
   "cell_type": "code",
   "execution_count": 1,
   "metadata": {
    "tags": []
   },
   "outputs": [
    {
     "name": "stderr",
     "output_type": "stream",
     "text": [
      "INFO: Using numpy backend\n"
     ]
    }
   ],
   "source": [
    "import torch\n",
    "import os\n",
    "import numpy as np\n",
    "import shutil\n",
    "import matplotlib.pyplot as plt\n",
    "import plotnine as gg\n",
    "from collections import defaultdict\n",
    "from analysis import utils as au\n",
    "from analysis import plotting\n",
    "from data import utils as du\n",
    "import seaborn as sns\n",
    "import tree\n",
    "from data import rosetta_data_loader\n",
    "\n",
    "import sys\n",
    "import argparse\n",
    "import re\n",
    "import logging\n",
    "\n",
    "import pandas as pd\n",
    "pd.set_option('display.max_colwidth', None)\n",
    "\n",
    "from omegaconf import DictConfig, OmegaConf\n",
    "import importlib\n",
    "\n",
    "# Enable logging\n",
    "import logging\n",
    "import sys\n",
    "date_strftime_format = \"%Y-%m-%y %H:%M:%S\"\n",
    "logging.basicConfig(stream=sys.stdout, level=logging.INFO, format=\"%(asctime)s %(message)s\", datefmt=date_strftime_format)\n",
    "\n",
    "torch.hub.set_dir('/data/rsg/chemistry/jyim/.cache/torch')\n",
    "plt.rcParams.update({'font.size': 14})"
   ]
  },
  {
   "cell_type": "code",
   "execution_count": null,
   "metadata": {},
   "outputs": [],
   "source": []
  },
  {
   "cell_type": "code",
   "execution_count": 3,
   "metadata": {},
   "outputs": [],
   "source": [
    "from data import utils as du"
   ]
  },
  {
   "cell_type": "code",
   "execution_count": 6,
   "metadata": {},
   "outputs": [],
   "source": [
    "model_weights = '../weights/paper_weights.pth'\n",
    "ckpt_pkl = du.read_pkl(\n",
    "    model_weights,\n",
    "    use_torch=True,\n",
    "    map_location='cpu'\n",
    ")"
   ]
  },
  {
   "cell_type": "code",
   "execution_count": 8,
   "metadata": {},
   "outputs": [
    {
     "data": {
      "text/plain": [
       "{'data': {'digs': {'server_dir': '/projects/ml/TrRosetta', 'base_pdb_dir': '${data.digs.server_dir}/PDB-2021AUG02', 'base_fb_dir': '${data.digs.server_dir}/fb_af', 'pdb_csv': '${data.digs.base_pdb_dir}/list_v02.csv', 'pdb_dir': '${data.digs.base_pdb_dir}/torch/pdb', 'fb_dir': '${data.digs.base_fb_dir}/pdb', 'fb_msa_dir': '${data.digs.base_fb_dir}/a3m', 'valid_clusters': '${data.digs.base_pdb_dir}/val/xaa', 'fb_csv': '${data.digs.base_fb_dir}/list_b1-3.csv', 'filtering': {'resolution_cutoff': 5.0, 'max_len': 260, 'min_len': 60, 'min_plddt': 80.0, 'min_fb_len': 100, 'date_cutoff': '2020-Apr-30', 'subset': None}, 'cache_dir': './pkl_jar/', 'epoch_size': 1000, 'fraction_fb': 0.0, 'crop_len': None, 'scale_factor': 10.0, 't_sampler': 'scheduled', 'num_t': 500}, 'rosetta': {'csv_path': '/data/rsg/chemistry/jyim/large_data/processed_pdb_protdiff/metadata.csv', 'filtering': {'max_len': 512, 'min_len': 60, 'subset': None, 'allowed_oligomer': ['monomeric'], 'max_helix_percent': 1.0, 'max_loop_percent': 0.5, 'min_beta_percent': -1.0, 'rog_quantile': 0.96}, 'hallucination_percent': 1.0, 'aatype_masking': False, 'mixed_t': False, 'motif_size_min': 10, 'scaffold_size_min': 10, 'scaffold_size_max': 200, 'min_t': 0.01, 'has_splits': False, 'samples_per_cath': 1, 'samples_per_eval_length': 4, 'num_eval_lengths': 10, 'num_t': 250}}, 'diffuser': {'seq': {'diffuse_seq': False, 'min_b': 15.0, 'max_b': 20.0, 'schedule': 'linear'}, 'se3': {'diffuse_trans': True, 'diffuse_rot': True, 'r3': {'min_b': 0.1, 'max_b': 20.0, 'schedule': 'linear', 'score_scaling': 'std', 'coordinate_scaling': 0.1}, 'so3': {'num_omega': 1000, 'num_sigma': 1000, 'min_sigma': 0.1, 'max_sigma': 1.5, 'schedule': 'logarithmic', 'equivariant_score': False, 'cache_dir': './pkl_jar/', 'score_scaling': 'std'}}}, 'model': {'node_embed_size': 256, 'edge_embed_size': 128, 'dropout': 0.0, 'network_type': 'ipa', 'equivariant_rot_score': '${diffuser.se3.so3.equivariant_score}', 'rigid_prediction': True, 'aatype_prediction': False, 'embed': {'index_embed_size': 32, 'aatype_embed_size': 64, 'embed_aatype': False, 'embed_self_conditioning': True, 'embed_distogram': False, 'mixed_t': '${data.rosetta.mixed_t}', 'num_bins': 22, 'min_bin': 1e-05, 'max_bin': 20.0}, 'ipa': {'c_s': '${model.node_embed_size}', 'c_z': '${model.edge_embed_size}', 'c_hidden': 256, 'c_skip': 64, 'no_heads': 8, 'no_qk_points': 8, 'no_v_points': 12, 'seq_tfmr_num_heads': 4, 'seq_tfmr_num_layers': 2, 'num_blocks': 4, 'aatype_head_layers': 2, 'coordinate_scaling': '${diffuser.se3.r3.coordinate_scaling}', 'tfmr_skip_residual': True, 'pred_rot_score': False, 'embed_distogram': False}, 'se3_tfmr': {'num_channels': 32, 'num_degrees': 2, 'n_heads': 4, 'div': 4, 'l0_in_features': '${model.node_embed_size}', 'l0_out_features': '${model.node_embed_size}', 'l1_in_features': 2, 'l1_out_features': 2, 'num_edge_features': '${model.edge_embed_size}', 'num_layers': 2}}, 'experiment': {'name': 'unconditional_512_0', 'data_location': 'rosetta', 'wandb_dir': './wandb/run-20221127_095816-11oal6hq/files', 'run_id': 'eib9poqx', 'log_freq': 1000, 'batch_size': 128, 'eval_batch_size': '${data.rosetta.samples_per_eval_length}', 'num_loader_workers': 10, 'num_epoch': 1000000, 'learning_rate': 0.0001, 'use_scheduler': False, 'ckpt_dir': './pkl_jar/ckpt/unconditional_512_0/27D_11M_2022Y_09h_58m_16s', 'max_squared_res': 300000.0, 'use_gpu': True, 'sample_mode': 'time_batch', 'ckpt_freq': 10000, 'early_ckpt': True, 'warm_start': 'pkl_jar/ckpt/unconditional_len_512_0/20D_11M_2022Y_15h_50m_01s', 'use_warm_start_conf': False, 'port': 12319, 'dist_mode': 'multi', 'multi_gpu_size': 2, 'use_wandb': True, 'prefetch_factor': 100, 'trans_loss_weight': 1.0, 'rot_loss_weight': 1.0, 'psi_loss_weight': 0.0, 'psi_loss_t_filter': 0.4, 'trans_x0_threshold': 1.0, 'coord_loss_scaling': '${diffuser.se3.r3.coordinate_scaling}', 'bb_atom_loss_weight': 1.0, 'bb_atom_loss_t_filter': 0.25, 'bb_atom_scaling': 0.5, 'aatype_loss_weight': 1.0, 'dist_mat_loss_weight': 1.0, 'dist_mat_loss_t_filter': 0.25, 'dist_mat_scaling': '${experiment.bb_atom_scaling}', 'violation_loss_weight': 0.0, 'violation_loss_filter': 0.4, 'likelihood_metric': False, 'eval_dir': './results/unconditional_512_0/27D_11M_2022Y_09h_58m_16s', 'num_parameters': 17446190}}"
      ]
     },
     "execution_count": 8,
     "metadata": {},
     "output_type": "execute_result"
    }
   ],
   "source": [
    "ckpt_pkl['conf']"
   ]
  },
  {
   "cell_type": "code",
   "execution_count": null,
   "metadata": {},
   "outputs": [],
   "source": []
  },
  {
   "cell_type": "code",
   "execution_count": null,
   "metadata": {},
   "outputs": [],
   "source": []
  },
  {
   "cell_type": "code",
   "execution_count": null,
   "metadata": {},
   "outputs": [],
   "source": []
  },
  {
   "cell_type": "code",
   "execution_count": null,
   "metadata": {},
   "outputs": [],
   "source": []
  },
  {
   "cell_type": "code",
   "execution_count": null,
   "metadata": {},
   "outputs": [],
   "source": []
  }
 ],
 "metadata": {
  "kernelspec": {
   "display_name": "Python 3 (ipykernel)",
   "language": "python",
   "name": "python3"
  },
  "language_info": {
   "codemirror_mode": {
    "name": "ipython",
    "version": 3
   },
   "file_extension": ".py",
   "mimetype": "text/x-python",
   "name": "python",
   "nbconvert_exporter": "python",
   "pygments_lexer": "ipython3",
   "version": "3.8.12"
  }
 },
 "nbformat": 4,
 "nbformat_minor": 4
}
