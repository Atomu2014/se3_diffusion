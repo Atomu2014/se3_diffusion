{
 "cells": [
  {
   "cell_type": "code",
   "execution_count": null,
   "metadata": {},
   "outputs": [],
   "source": [
    "import torch\n",
    "import esm\n",
    "import numpy as np\n",
    "import os\n",
    "from biotite.sequence.io import fasta"
   ]
  },
  {
   "cell_type": "code",
   "execution_count": null,
   "metadata": {},
   "outputs": [],
   "source": [
    "esm_dir = '/data/rsg/chemistry/jyim/.cache/torch'\n",
    "torch.hub.set_dir(esm_dir)"
   ]
  },
  {
   "cell_type": "code",
   "execution_count": null,
   "metadata": {},
   "outputs": [],
   "source": [
    "folding_model = esm.pretrained.esmfold_v1().eval()#.cuda()"
   ]
  },
  {
   "cell_type": "code",
   "execution_count": null,
   "metadata": {},
   "outputs": [],
   "source": [
    "device = 'cuda:7'\n",
    "folding_model = folding_model.to(device)"
   ]
  },
  {
   "cell_type": "code",
   "execution_count": 6,
   "metadata": {},
   "outputs": [],
   "source": [
    "fasta_path = '/data/rsg/chemistry/jyim/projects/protein_diffusion/notebooks/unconditional_sequences.fa'\n",
    "fasta_seqs = fasta.FastaFile.read(fasta_path)"
   ]
  },
  {
   "cell_type": "code",
   "execution_count": null,
   "metadata": {},
   "outputs": [
    {
     "name": "stdout",
     "output_type": "stream",
     "text": [
      "Done with 0\n",
      "Done with 100\n",
      "Done with 200\n",
      "Done with 300\n",
      "Done with 400\n",
      "Done with 500\n",
      "Done with 600\n",
      "Done with 700\n",
      "Done with 800\n",
      "Done with 900\n",
      "Done with 1000\n",
      "Done with 1100\n",
      "Done with 1200\n",
      "Done with 1300\n",
      "Done with 1400\n",
      "Done with 1500\n",
      "Done with 1600\n",
      "Done with 1700\n",
      "Done with 1800\n",
      "Done with 1900\n",
      "Done with 2000\n",
      "Done with 2100\n",
      "Done with 2200\n",
      "Done with 2300\n",
      "Done with 2400\n",
      "Done with 2500\n",
      "Done with 2600\n",
      "Done with 2700\n",
      "Done with 2800\n",
      "Done with 2900\n",
      "Done with 3000\n",
      "Done with 3100\n",
      "Done with 3200\n"
     ]
    }
   ],
   "source": [
    "output_dir = '/data/scratch/jyim/esmfold_outputs'\n",
    "all_lengths = []\n",
    "for i, (header, string) in enumerate(fasta_seqs.items()):\n",
    "    if i % 100 == 0:\n",
    "        print(f'Done with {i}')\n",
    "    output_path = os.path.join(output_dir, header+'.pdb')\n",
    "    if os.path.exists(output_path):\n",
    "        continue\n",
    "    with torch.no_grad():\n",
    "        output = folding_model.infer_pdb(string)\n",
    "    with open(output_path, \"w\") as f:\n",
    "        f.write(output)"
   ]
  },
  {
   "cell_type": "code",
   "execution_count": null,
   "metadata": {},
   "outputs": [],
   "source": []
  },
  {
   "cell_type": "code",
   "execution_count": null,
   "metadata": {},
   "outputs": [],
   "source": []
  },
  {
   "cell_type": "code",
   "execution_count": null,
   "metadata": {},
   "outputs": [],
   "source": []
  },
  {
   "cell_type": "code",
   "execution_count": null,
   "metadata": {},
   "outputs": [],
   "source": []
  },
  {
   "cell_type": "code",
   "execution_count": null,
   "metadata": {},
   "outputs": [],
   "source": []
  }
 ],
 "metadata": {
  "kernelspec": {
   "display_name": "Python 3 (ipykernel)",
   "language": "python",
   "name": "python3"
  },
  "language_info": {
   "codemirror_mode": {
    "name": "ipython",
    "version": 3
   },
   "file_extension": ".py",
   "mimetype": "text/x-python",
   "name": "python",
   "nbconvert_exporter": "python",
   "pygments_lexer": "ipython3",
   "version": "3.8.12"
  }
 },
 "nbformat": 4,
 "nbformat_minor": 4
}
