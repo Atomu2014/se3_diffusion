{
 "cells": [
  {
   "cell_type": "code",
   "execution_count": 24,
   "metadata": {},
   "outputs": [],
   "source": [
    "import torch\n",
    "import esm\n",
    "import numpy as np\n",
    "import os\n",
    "from biotite.sequence.io import fasta\n",
    "from data import utils as du"
   ]
  },
  {
   "cell_type": "code",
   "execution_count": 2,
   "metadata": {},
   "outputs": [],
   "source": [
    "esm_dir = '/data/rsg/chemistry/jyim/.cache/torch'\n",
    "torch.hub.set_dir(esm_dir)"
   ]
  },
  {
   "cell_type": "code",
   "execution_count": 3,
   "metadata": {},
   "outputs": [],
   "source": [
    "folding_model = esm.pretrained.esmfold_v1().eval()#.cuda()"
   ]
  },
  {
   "cell_type": "code",
   "execution_count": 4,
   "metadata": {},
   "outputs": [],
   "source": [
    "device = 'cuda:2'\n",
    "folding_model = folding_model.to(device)"
   ]
  },
  {
   "cell_type": "code",
   "execution_count": null,
   "metadata": {},
   "outputs": [],
   "source": []
  },
  {
   "cell_type": "code",
   "execution_count": 40,
   "metadata": {},
   "outputs": [],
   "source": [
    "save_dir = '/Mounts/rbg-storage1/users/jyim/for/john'\n",
    "seqs_dir = '/Mounts/rbg-storage1/users/johnyang/data/pmpnn/test_designed_seqs'"
   ]
  },
  {
   "cell_type": "code",
   "execution_count": 44,
   "metadata": {},
   "outputs": [],
   "source": [
    "prefix = 'vanilla_1.3.23_test'\n",
    "# prefix = 'vq_ft_jsonl_1.3.23_test_designed'\n",
    "seqs_pt_path = os.path.join(seqs_dir, f'{prefix}_designed_seqs.pt')\n",
    "# seqs_pt_path = os.path.join(seqs_dir, 'vq_ft_jsonl_1.3.23_test_designed_seqs.pt')\n",
    "seqs_pt = torch.load(seqs_pt_path)\n",
    "\n",
    "mask_pt_path = os.path.join(seqs_dir, f'{prefix}_masks.pt')\n",
    "# mask_pt_path = os.path.join(seqs_dir, 'vq_ft_jsonl_1.3.23_test_masks.pt')\n",
    "mask_pt = torch.load(mask_pt_path)\n",
    "\n",
    "mask_pt = du.move_to_np(mask_pt)\n",
    "seqs_pt = du.move_to_np(seqs_pt)\n",
    "\n",
    "num_seqs = seqs_pt.shape[0]\n",
    "all_seqs = []\n",
    "for i in range(num_seqs):\n",
    "    seq = seqs_pt[i][mask_pt[i].astype(bool)].astype(int)\n",
    "    all_seqs.append(du.aatype_to_seq(seq))"
   ]
  },
  {
   "cell_type": "code",
   "execution_count": 49,
   "metadata": {},
   "outputs": [],
   "source": [
    "save_dir = '/Mounts/rbg-storage1/users/jyim/for/john'\n",
    "save_path = os.path.join(save_dir, f'{prefix}.fasta')\n",
    "du.save_fasta(all_seqs, [str(i) for i in range(num_seqs)], save_path)\n",
    "print(save_path)"
   ]
  },
  {
   "cell_type": "code",
   "execution_count": 50,
   "metadata": {},
   "outputs": [
    {
     "name": "stdout",
     "output_type": "stream",
     "text": [
      "/Mounts/rbg-storage1/users/jyim/for/john/vanilla_1.3.23_test.fasta\n"
     ]
    }
   ],
   "source": []
  },
  {
   "cell_type": "code",
   "execution_count": null,
   "metadata": {},
   "outputs": [],
   "source": [
    "python scripts/run_esmfold.py \\\n",
    "    --fasta_path /Mounts/rbg-storage1/users/jyim/for/john/vanilla_1.3.23_test.fasta \\\n",
    "    --output_dir /Mounts/rbg-storage1/users/jyim/for/john/vq_ft_jsonl_1/esmf"
   ]
  },
  {
   "cell_type": "code",
   "execution_count": null,
   "metadata": {},
   "outputs": [],
   "source": []
  },
  {
   "cell_type": "code",
   "execution_count": null,
   "metadata": {},
   "outputs": [],
   "source": []
  },
  {
   "cell_type": "code",
   "execution_count": null,
   "metadata": {},
   "outputs": [],
   "source": []
  },
  {
   "cell_type": "code",
   "execution_count": null,
   "metadata": {},
   "outputs": [],
   "source": []
  },
  {
   "cell_type": "code",
   "execution_count": null,
   "metadata": {},
   "outputs": [],
   "source": []
  }
 ],
 "metadata": {
  "kernelspec": {
   "display_name": "Python 3 (ipykernel)",
   "language": "python",
   "name": "python3"
  },
  "language_info": {
   "codemirror_mode": {
    "name": "ipython",
    "version": 3
   },
   "file_extension": ".py",
   "mimetype": "text/x-python",
   "name": "python",
   "nbconvert_exporter": "python",
   "pygments_lexer": "ipython3",
   "version": "3.8.12"
  }
 },
 "nbformat": 4,
 "nbformat_minor": 4
}
