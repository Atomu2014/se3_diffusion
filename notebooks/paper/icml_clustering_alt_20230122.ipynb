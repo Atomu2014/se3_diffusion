{
 "cells": [
  {
   "cell_type": "code",
   "execution_count": 2,
   "metadata": {},
   "outputs": [],
   "source": [
    "import os\n",
    "import shutil\n",
    "import pandas as pd"
   ]
  },
  {
   "cell_type": "code",
   "execution_count": 3,
   "metadata": {},
   "outputs": [],
   "source": [
    "def read_clusters(path):\n",
    "    # with open('/data/rsg/chemistry/jyim/paper/protdiff_icml/unconditional_results_3/sample_clustering/maxcluster_results.txt', 'r') as f:\n",
    "    with open(path, 'r') as f:\n",
    "        capture = False\n",
    "        centroid_lines = []\n",
    "        for line in f.read().splitlines():\n",
    "            if capture:\n",
    "                centroid_lines.append(line)\n",
    "            if 'INFO  : Cluster  Centroid  Size        Spread' in line:\n",
    "                capture = True\n",
    "\n",
    "    centroid_lines = centroid_lines[:-1]\n",
    "\n",
    "    data = {'Cluster size': [], 'path': [], 'length': [], 'sample_id': []} #, 'tm_v_pdb100': []}\n",
    "    for line in centroid_lines:\n",
    "        line = line.split()\n",
    "        cluster_size = line[5]\n",
    "        path = line[7]\n",
    "        filename = os.path.basename(path).replace('.pdb', '')\n",
    "        data['Cluster size'].append(int(cluster_size))\n",
    "        data['path'].append(path)\n",
    "        data['length'].append(int(filename.split('_')[1]))\n",
    "        data['sample_id'].append(int(filename.split('_')[3]))\n",
    "\n",
    "    clusters_df = pd.DataFrame(data)\n",
    "    print(f'Number of clusters {clusters_df.shape[0]}')\n",
    "    return clusters_df\n"
   ]
  },
  {
   "cell_type": "code",
   "execution_count": 6,
   "metadata": {},
   "outputs": [],
   "source": [
    "def save_benchmark_examples(src_dir, dest_dir, cutoff=0.5):\n",
    "    for length in [70, 100, 200, 300]:\n",
    "        length_src_dir = os.path.join(src_dir, f'length_{str(length)}')\n",
    "        length_dest_dir = os.path.join(dest_dir, f'length_{str(length)}_subset')\n",
    "        os.makedirs(length_dest_dir, exist_ok=True)\n",
    "        fname = os.path.join(length_dest_dir, 'sc_pdbs.txt')\n",
    "        with open(fname, 'w') as f:\n",
    "            for sample_name in os.listdir(length_src_dir):\n",
    "                if '.' in sample_name:\n",
    "                    continue\n",
    "                sample_path = os.path.join(length_src_dir, sample_name, 'sde_1.pdb')\n",
    "                sample_id = sample_name.split('_')[1]\n",
    "                save_path = os.path.join(length_dest_dir, f'length_{length}_id_{sample_id}.pdb')\n",
    "                shutil.copy(sample_path, save_path)\n",
    "                f.write(save_path+'\\n')\n",
    "        print(\n",
    "            f'./maxcluster64bit -l {length_dest_dir}/sc_pdbs.txt -C 2 -in -Rl {length_dest_dir}/all_by_all_lite \\-TM -Tm {str(cutoff)} > {length_dest_dir}/maxcluster_results.txt'\n",
    "        )\n"
   ]
  },
  {
   "cell_type": "code",
   "execution_count": 7,
   "metadata": {},
   "outputs": [],
   "source": [
    "def save_clustering_examples(src_dir, dest_dir, cutoff=0.5):\n",
    "    for sample_length in os.listdir(src_dir):\n",
    "        if '.' in sample_length:\n",
    "            continue\n",
    "        length_dir = os.path.join(src_dir, sample_length)\n",
    "        length = sample_length.split('_')[1]\n",
    "        length_src_dir = os.path.join(src_dir, f'length_{str(length)}')\n",
    "        length_dest_dir = os.path.join(dest_dir, f'length_{str(length)}_subset')\n",
    "        os.makedirs(length_dest_dir, exist_ok=True)\n",
    "        fname = os.path.join(length_dest_dir, 'sc_pdbs.txt')\n",
    "        with open(fname, 'w') as f:\n",
    "            for sample_name in os.listdir(length_src_dir):\n",
    "                if '.' in sample_name:\n",
    "                    continue\n",
    "                sample_path = os.path.join(length_src_dir, sample_name, 'sde_1.pdb')\n",
    "                sample_id = sample_name.split('_')[1]\n",
    "                save_path = os.path.join(length_dest_dir, f'length_{length}_id_{sample_id}.pdb')\n",
    "                shutil.copy(sample_path, save_path)\n",
    "                f.write(save_path+'\\n')\n",
    "        print(\n",
    "            f'./maxcluster64bit -l {length_dest_dir}/sc_pdbs.txt -C 2 -in -Rl {length_dest_dir}/all_by_all_lite \\-TM -Tm {str(cutoff)} > {length_dest_dir}/maxcluster_results.txt'\n",
    "        )\n"
   ]
  },
  {
   "cell_type": "code",
   "execution_count": null,
   "metadata": {},
   "outputs": [],
   "source": [
    "        for sample_length in os.listdir(sample_dir):\n",
    "            if '.' in sample_length:\n",
    "                continue\n",
    "            length_dir = os.path.join(sample_dir, sample_length)\n",
    "            length = sample_length.split('_')[1]"
   ]
  },
  {
   "cell_type": "code",
   "execution_count": 5,
   "metadata": {},
   "outputs": [],
   "source": [
    "def write_samples(src_dir, dest_dir):\n",
    "    designed_samples_dir = os.path.join(dest_dir, 'designed_samples')\n",
    "    designed_samples_cluster_dir = os.path.join(dest_dir, 'designed_samples_clustering')\n",
    "\n",
    "    # shutil.rmtree(designed_samples_dir)\n",
    "    # shutil.rmtree(designed_samples_cluster_dir)\n",
    "\n",
    "    os.makedirs(designed_samples_dir, exist_ok=True)\n",
    "    os.makedirs(designed_samples_cluster_dir, exist_ok=True)\n",
    "    fname = os.path.join(designed_samples_dir, 'sc_pdbs.txt')\n",
    "\n",
    "    with open(fname, 'w') as f:\n",
    "        for sample_length in os.listdir(src_dir):\n",
    "            if '.' in sample_length:\n",
    "                continue\n",
    "            length_dir = os.path.join(src_dir, sample_length)\n",
    "            length = sample_length.split('_')[1]\n",
    "            for sample_name in os.listdir(length_dir):\n",
    "                if '.' in sample_name:\n",
    "                    continue\n",
    "                sample_path = os.path.join(length_dir, sample_name, 'sde_1.pdb')\n",
    "                sample_id = sample_name.split('_')[1]\n",
    "                save_path = os.path.join(designed_samples_dir, f'length_{length}_id_{sample_id}.pdb')\n",
    "                shutil.copy(sample_path, save_path)\n",
    "                f.write(save_path+'\\n')\n",
    "    print(\n",
    "        f'./maxcluster64bit -l {fname} -C 2 -in -Rl {designed_samples_cluster_dir}/all_by_all_lite \\-TM -Tm 0.6 > {designed_samples_cluster_dir}/maxcluster_results.txt'\n",
    "    )"
   ]
  },
  {
   "cell_type": "markdown",
   "metadata": {
    "tags": []
   },
   "source": [
    "# Benchmark clustering"
   ]
  },
  {
   "cell_type": "code",
   "execution_count": 8,
   "metadata": {},
   "outputs": [
    {
     "name": "stdout",
     "output_type": "stream",
     "text": [
      "./maxcluster64bit -l /data/rsg/chemistry/jyim/paper/protdiff_icml/noise_level_01_benchmark_alt/length_70_subset/sc_pdbs.txt -C 2 -in -Rl /data/rsg/chemistry/jyim/paper/protdiff_icml/noise_level_01_benchmark_alt/length_70_subset/all_by_all_lite \\-TM -Tm 0.4 > /data/rsg/chemistry/jyim/paper/protdiff_icml/noise_level_01_benchmark_alt/length_70_subset/maxcluster_results.txt\n",
      "./maxcluster64bit -l /data/rsg/chemistry/jyim/paper/protdiff_icml/noise_level_01_benchmark_alt/length_100_subset/sc_pdbs.txt -C 2 -in -Rl /data/rsg/chemistry/jyim/paper/protdiff_icml/noise_level_01_benchmark_alt/length_100_subset/all_by_all_lite \\-TM -Tm 0.4 > /data/rsg/chemistry/jyim/paper/protdiff_icml/noise_level_01_benchmark_alt/length_100_subset/maxcluster_results.txt\n",
      "./maxcluster64bit -l /data/rsg/chemistry/jyim/paper/protdiff_icml/noise_level_01_benchmark_alt/length_200_subset/sc_pdbs.txt -C 2 -in -Rl /data/rsg/chemistry/jyim/paper/protdiff_icml/noise_level_01_benchmark_alt/length_200_subset/all_by_all_lite \\-TM -Tm 0.4 > /data/rsg/chemistry/jyim/paper/protdiff_icml/noise_level_01_benchmark_alt/length_200_subset/maxcluster_results.txt\n",
      "./maxcluster64bit -l /data/rsg/chemistry/jyim/paper/protdiff_icml/noise_level_01_benchmark_alt/length_300_subset/sc_pdbs.txt -C 2 -in -Rl /data/rsg/chemistry/jyim/paper/protdiff_icml/noise_level_01_benchmark_alt/length_300_subset/all_by_all_lite \\-TM -Tm 0.4 > /data/rsg/chemistry/jyim/paper/protdiff_icml/noise_level_01_benchmark_alt/length_300_subset/maxcluster_results.txt\n"
     ]
    }
   ],
   "source": [
    "# Noise 0.1\n",
    "save_benchmark_examples(\n",
    "    '/data/rsg/chemistry/jyim/projects/protein_diffusion/samples/continue_0/05D_01M_2023Y_21h_15m_16s/unconditional/noise_level_01_rf_benchmark_3',\n",
    "    '/data/rsg/chemistry/jyim/paper/protdiff_icml/noise_level_01_benchmark_alt',\n",
    "    cutoff=0.4\n",
    ")"
   ]
  },
  {
   "cell_type": "code",
   "execution_count": 9,
   "metadata": {},
   "outputs": [
    {
     "name": "stdout",
     "output_type": "stream",
     "text": [
      "./maxcluster64bit -l /data/rsg/chemistry/jyim/paper/protdiff_icml/noise_level_05_benchmark_alt/length_70_subset/sc_pdbs.txt -C 2 -in -Rl /data/rsg/chemistry/jyim/paper/protdiff_icml/noise_level_05_benchmark_alt/length_70_subset/all_by_all_lite \\-TM -Tm 0.4 > /data/rsg/chemistry/jyim/paper/protdiff_icml/noise_level_05_benchmark_alt/length_70_subset/maxcluster_results.txt\n",
      "./maxcluster64bit -l /data/rsg/chemistry/jyim/paper/protdiff_icml/noise_level_05_benchmark_alt/length_100_subset/sc_pdbs.txt -C 2 -in -Rl /data/rsg/chemistry/jyim/paper/protdiff_icml/noise_level_05_benchmark_alt/length_100_subset/all_by_all_lite \\-TM -Tm 0.4 > /data/rsg/chemistry/jyim/paper/protdiff_icml/noise_level_05_benchmark_alt/length_100_subset/maxcluster_results.txt\n",
      "./maxcluster64bit -l /data/rsg/chemistry/jyim/paper/protdiff_icml/noise_level_05_benchmark_alt/length_200_subset/sc_pdbs.txt -C 2 -in -Rl /data/rsg/chemistry/jyim/paper/protdiff_icml/noise_level_05_benchmark_alt/length_200_subset/all_by_all_lite \\-TM -Tm 0.4 > /data/rsg/chemistry/jyim/paper/protdiff_icml/noise_level_05_benchmark_alt/length_200_subset/maxcluster_results.txt\n",
      "./maxcluster64bit -l /data/rsg/chemistry/jyim/paper/protdiff_icml/noise_level_05_benchmark_alt/length_300_subset/sc_pdbs.txt -C 2 -in -Rl /data/rsg/chemistry/jyim/paper/protdiff_icml/noise_level_05_benchmark_alt/length_300_subset/all_by_all_lite \\-TM -Tm 0.4 > /data/rsg/chemistry/jyim/paper/protdiff_icml/noise_level_05_benchmark_alt/length_300_subset/maxcluster_results.txt\n"
     ]
    }
   ],
   "source": [
    "# Noise 0.5\n",
    "save_benchmark_examples(\n",
    "    '/data/rsg/chemistry/jyim/projects/protein_diffusion/samples/continue_0/05D_01M_2023Y_21h_15m_16s/unconditional/noise_level_05_rf_benchmark',\n",
    "    '/data/rsg/chemistry/jyim/paper/protdiff_icml/noise_level_05_benchmark_alt',\n",
    "    cutoff=0.4,\n",
    ")\n"
   ]
  },
  {
   "cell_type": "code",
   "execution_count": 17,
   "metadata": {},
   "outputs": [
    {
     "name": "stdout",
     "output_type": "stream",
     "text": [
      "./maxcluster64bit -l /data/rsg/chemistry/jyim/paper/protdiff_icml/noise_level_10_benchmark_alt/length_70_subset/sc_pdbs.txt -C 2 -in -Rl /data/rsg/chemistry/jyim/paper/protdiff_icml/noise_level_10_benchmark_alt/length_70_subset/all_by_all_lite \\-TM -Tm 0.4 > /data/rsg/chemistry/jyim/paper/protdiff_icml/noise_level_10_benchmark_alt/length_70_subset/maxcluster_results.txt\n",
      "./maxcluster64bit -l /data/rsg/chemistry/jyim/paper/protdiff_icml/noise_level_10_benchmark_alt/length_100_subset/sc_pdbs.txt -C 2 -in -Rl /data/rsg/chemistry/jyim/paper/protdiff_icml/noise_level_10_benchmark_alt/length_100_subset/all_by_all_lite \\-TM -Tm 0.4 > /data/rsg/chemistry/jyim/paper/protdiff_icml/noise_level_10_benchmark_alt/length_100_subset/maxcluster_results.txt\n",
      "./maxcluster64bit -l /data/rsg/chemistry/jyim/paper/protdiff_icml/noise_level_10_benchmark_alt/length_200_subset/sc_pdbs.txt -C 2 -in -Rl /data/rsg/chemistry/jyim/paper/protdiff_icml/noise_level_10_benchmark_alt/length_200_subset/all_by_all_lite \\-TM -Tm 0.4 > /data/rsg/chemistry/jyim/paper/protdiff_icml/noise_level_10_benchmark_alt/length_200_subset/maxcluster_results.txt\n",
      "./maxcluster64bit -l /data/rsg/chemistry/jyim/paper/protdiff_icml/noise_level_10_benchmark_alt/length_300_subset/sc_pdbs.txt -C 2 -in -Rl /data/rsg/chemistry/jyim/paper/protdiff_icml/noise_level_10_benchmark_alt/length_300_subset/all_by_all_lite \\-TM -Tm 0.4 > /data/rsg/chemistry/jyim/paper/protdiff_icml/noise_level_10_benchmark_alt/length_300_subset/maxcluster_results.txt\n"
     ]
    }
   ],
   "source": [
    "# Noise 1.0\n",
    "save_benchmark_examples(\n",
    "    '/data/rsg/chemistry/jyim/projects/protein_diffusion/samples/continue_0/05D_01M_2023Y_21h_15m_16s/unconditional/noise_level_10_rf_benchmark',\n",
    "    '/data/rsg/chemistry/jyim/paper/protdiff_icml/noise_level_10_benchmark_alt',\n",
    "    cutoff=0.4,\n",
    ")\n"
   ]
  },
  {
   "cell_type": "code",
   "execution_count": null,
   "metadata": {},
   "outputs": [],
   "source": []
  },
  {
   "cell_type": "markdown",
   "metadata": {},
   "source": [
    "# Sample clustering"
   ]
  },
  {
   "cell_type": "code",
   "execution_count": null,
   "metadata": {},
   "outputs": [],
   "source": [
    "for noise_scale in ['01', '05', '10']:\n",
    "    print(f'On {noise_scale}')\n",
    "    sample_dir = f'/data/rsg/chemistry/jyim/projects/protein_diffusion/samples/continue_0/05D_01M_2023Y_21h_15m_16s/unconditional/noise_level_{}'\n",
    "    base_dir = f'/data/rsg/chemistry/jyim/paper/protdiff_icml/noise_scale_{noise_scale}_results_alt'\n",
    "    designed_samples_dir = os.path.join(base_dir, 'designed_samples')\n",
    "    designed_samples_cluster_dir = os.path.join(base_dir, 'designed_samples_clustering')\n",
    "\n",
    "    shutil.rmtree(designed_samples_dir)\n",
    "    shutil.rmtree(designed_samples_cluster_dir)\n",
    "\n",
    "    os.makedirs(designed_samples_dir, exist_ok=False)\n",
    "    os.makedirs(designed_samples_cluster_dir, exist_ok=False)\n",
    "    fname = os.path.join(designed_samples_dir, 'sc_pdbs.txt')\n",
    "    \n",
    "    with open(fname, 'w') as f:\n",
    "        for sample_length in os.listdir(sample_dir):\n",
    "            if '.' in sample_length:\n",
    "                continue\n",
    "            length_dir = os.path.join(sample_dir, sample_length)\n",
    "            length = sample_length.split('_')[1]\n",
    "            for sample_name in os.listdir(length_dir):\n",
    "                if '.' in sample_name:\n",
    "                    continue\n",
    "                sample_path = os.path.join(length_dir, sample_name, 'sde_1.pdb')\n",
    "                sample_id = sample_name.split('_')[1]\n",
    "                save_path = os.path.join(designed_samples_dir, f'length_{length}_id_{sample_id}.pdb')\n",
    "                shutil.copy(sample_path, save_path)\n",
    "                f.write(save_path+'\\n')\n",
    "    print(\n",
    "        f'./maxcluster64bit -l {fname} -C 2 -in -Rl {designed_samples_cluster_dir}/all_by_all_lite \\-TM -Tm 0.5 > {designed_samples_cluster_dir}/maxcluster_results.txt'\n",
    "    )"
   ]
  },
  {
   "cell_type": "code",
   "execution_count": null,
   "metadata": {},
   "outputs": [],
   "source": []
  },
  {
   "cell_type": "markdown",
   "metadata": {
    "tags": []
   },
   "source": [
    "# Read clusters"
   ]
  },
  {
   "cell_type": "code",
   "execution_count": null,
   "metadata": {},
   "outputs": [],
   "source": []
  },
  {
   "cell_type": "code",
   "execution_count": 20,
   "metadata": {},
   "outputs": [
    {
     "name": "stdout",
     "output_type": "stream",
     "text": [
      "Reading noise_01_length_70\n",
      "Number of clusters 45\n",
      "Reading noise_01_length_100\n",
      "Number of clusters 23\n",
      "Reading noise_01_length_200\n",
      "Number of clusters 50\n",
      "Reading noise_01_length_300\n",
      "Number of clusters 46\n",
      "\n",
      "Reading noise_05_length_70\n",
      "Number of clusters 42\n",
      "Reading noise_05_length_100\n",
      "Number of clusters 12\n",
      "Reading noise_05_length_200\n",
      "Number of clusters 54\n",
      "Reading noise_05_length_300\n",
      "Number of clusters 42\n",
      "\n",
      "Reading noise_10_length_70\n",
      "Number of clusters 55\n",
      "Reading noise_10_length_100\n",
      "Number of clusters 19\n",
      "Reading noise_10_length_200\n",
      "Number of clusters 64\n",
      "Reading noise_10_length_300\n",
      "Number of clusters 49\n",
      "\n"
     ]
    }
   ],
   "source": [
    "lengths = [70, 100, 200, 300]\n",
    "noise_scales = ['01', '05', '10']\n",
    "all_clusters = {}\n",
    "for noise in noise_scales:\n",
    "    for length in lengths:\n",
    "        cluster_name = f'noise_{noise}_length_{str(length)}'\n",
    "        cluster_dir = f'/data/rsg/chemistry/jyim/paper/protdiff_icml/noise_level_{noise}_benchmark_alt/length_{str(length)}_subset/maxcluster_results.txt'\n",
    "        if not os.path.exists(cluster_dir):\n",
    "            continue\n",
    "        print(f'Reading {cluster_name}')\n",
    "        all_clusters[cluster_name] = read_clusters(cluster_dir)\n",
    "    print()\n"
   ]
  },
  {
   "cell_type": "code",
   "execution_count": null,
   "metadata": {},
   "outputs": [],
   "source": []
  },
  {
   "cell_type": "code",
   "execution_count": 57,
   "metadata": {},
   "outputs": [
    {
     "name": "stdout",
     "output_type": "stream",
     "text": [
      "Number of clusters 484\n",
      "Number of clusters 503\n",
      "Number of clusters 485\n"
     ]
    }
   ],
   "source": [
    "# Noise levels \n",
    "# noise_scale_01_cluster = read_clusters('/data/rsg/chemistry/jyim/paper/protdiff_icml/noise_scale_01_results/designed_samples_clustering/maxcluster_results.txt')\n",
    "noise_scale_01_seq_100_cluster = read_clusters('/data/rsg/chemistry/jyim/paper/protdiff_icml/noise_level_01_seqs_100_results/designed_samples_clustering/maxcluster_results.txt')\n",
    "noise_scale_05_cluster = read_clusters('/data/rsg/chemistry/jyim/paper/protdiff_icml/noise_scale_05_results/designed_samples_clustering/maxcluster_results.txt')\n",
    "noise_scale_10_cluster = read_clusters('/data/rsg/chemistry/jyim/paper/protdiff_icml/noise_scale_10_results/designed_samples_clustering/maxcluster_results.txt')\n"
   ]
  },
  {
   "cell_type": "code",
   "execution_count": null,
   "metadata": {},
   "outputs": [],
   "source": []
  },
  {
   "cell_type": "code",
   "execution_count": 7,
   "metadata": {},
   "outputs": [
    {
     "name": "stdout",
     "output_type": "stream",
     "text": [
      "Number of clusters 90\n",
      "Number of clusters 81\n",
      "Number of clusters 86\n",
      "Number of clusters 80\n",
      "\n",
      "Number of clusters 67\n",
      "Number of clusters 52\n",
      "Number of clusters 67\n",
      "Number of clusters 52\n",
      "\n",
      "Number of clusters 72\n",
      "Number of clusters 59\n",
      "Number of clusters 49\n",
      "Number of clusters 62\n"
     ]
    }
   ],
   "source": [
    "# Subsets\n",
    "noise_10_length_70_cluster = read_clusters('/data/rsg/chemistry/jyim/paper/protdiff_icml/noise_level_10_subset_samples/length_70_subset/maxcluster_results.txt')\n",
    "noise_10_length_100_cluster = read_clusters('/data/rsg/chemistry/jyim/paper/protdiff_icml/noise_level_10_subset_samples/length_100_subset/maxcluster_results.txt')\n",
    "noise_10_length_200_cluster = read_clusters('/data/rsg/chemistry/jyim/paper/protdiff_icml/noise_level_10_subset_samples/length_200_subset/maxcluster_results.txt')\n",
    "noise_10_length_300_cluster = read_clusters('/data/rsg/chemistry/jyim/paper/protdiff_icml/noise_level_10_subset_samples/length_300_subset/maxcluster_results.txt')\n",
    "print()\n",
    "noise_05_length_70_cluster = read_clusters('/data/rsg/chemistry/jyim/paper/protdiff_icml/noise_level_05_subset_samples/length_70_subset/maxcluster_results.txt')\n",
    "noise_05_length_100_cluster = read_clusters('/data/rsg/chemistry/jyim/paper/protdiff_icml/noise_level_05_subset_samples/length_100_subset/maxcluster_results.txt')\n",
    "noise_05_length_200_cluster = read_clusters('/data/rsg/chemistry/jyim/paper/protdiff_icml/noise_level_05_subset_samples/length_200_subset/maxcluster_results.txt')\n",
    "noise_05_length_300_cluster = read_clusters('/data/rsg/chemistry/jyim/paper/protdiff_icml/noise_level_05_subset_samples/length_300_subset/maxcluster_results.txt')\n",
    "print()\n",
    "noise_01_length_70_cluster = read_clusters('/data/rsg/chemistry/jyim/paper/protdiff_icml/noise_level_01_subset_samples/length_70_subset/maxcluster_results.txt')\n",
    "noise_01_length_100_cluster = read_clusters('/data/rsg/chemistry/jyim/paper/protdiff_icml/noise_level_01_subset_samples/length_100_subset/maxcluster_results.txt')\n",
    "noise_01_length_200_cluster = read_clusters('/data/rsg/chemistry/jyim/paper/protdiff_icml/noise_level_01_subset_samples/length_200_subset/maxcluster_results.txt')\n",
    "noise_01_length_300_cluster = read_clusters('/data/rsg/chemistry/jyim/paper/protdiff_icml/noise_level_01_subset_samples/length_300_subset/maxcluster_results.txt')\n"
   ]
  },
  {
   "cell_type": "code",
   "execution_count": null,
   "metadata": {},
   "outputs": [],
   "source": []
  },
  {
   "cell_type": "markdown",
   "metadata": {
    "jp-MarkdownHeadingCollapsed": true,
    "tags": []
   },
   "source": [
    "# Process samples for clustering"
   ]
  },
  {
   "cell_type": "code",
   "execution_count": 12,
   "metadata": {},
   "outputs": [
    {
     "name": "stdout",
     "output_type": "stream",
     "text": [
      "./maxcluster64bit -l /data/rsg/chemistry/jyim/paper/protdiff_icml/noise_level_05_rf_diversity/designed_samples/sc_pdbs.txt -C 2 -in -Rl /data/rsg/chemistry/jyim/paper/protdiff_icml/noise_level_05_rf_diversity/designed_samples_clustering/all_by_all_lite \\-TM -Tm 0.6 > /data/rsg/chemistry/jyim/paper/protdiff_icml/noise_level_05_rf_diversity/designed_samples_clustering/maxcluster_results.txt\n"
     ]
    }
   ],
   "source": [
    "src_dir = '/data/rsg/chemistry/jyim/projects/protein_diffusion/samples/unconditional_512_0/27D_11M_2022Y_09h_58m_16s/unconditional/noise_level_05_rf_diversity'\n",
    "dest_dir = '/data/rsg/chemistry/jyim/paper/protdiff_icml/noise_level_05_rf_diversity'\n",
    "write_samples(src_dir, dest_dir)"
   ]
  },
  {
   "cell_type": "code",
   "execution_count": null,
   "metadata": {},
   "outputs": [],
   "source": []
  },
  {
   "cell_type": "markdown",
   "metadata": {},
   "source": [
    "# Read number of clusters in RF2diffusion"
   ]
  },
  {
   "cell_type": "code",
   "execution_count": 31,
   "metadata": {},
   "outputs": [],
   "source": [
    "s2i_df = pd.read_csv('../S2I_analysis.csv')"
   ]
  },
  {
   "cell_type": "code",
   "execution_count": 54,
   "metadata": {},
   "outputs": [],
   "source": [
    "uncond_df = s2i_df[s2i_df.problem.isin(['uncond_70','uncond_100','uncond_200','uncond_300'])]\n",
    "subset_df = uncond_df"
   ]
  },
  {
   "cell_type": "code",
   "execution_count": 56,
   "metadata": {},
   "outputs": [
    {
     "name": "stdout",
     "output_type": "stream",
     "text": [
      "(70.0, 0.0) 16\n",
      "(70.0, 0.5) 26\n",
      "(70.0, 1.0) 34\n",
      "(100.0, 0.0) 26\n",
      "(100.0, 0.5) 35\n",
      "(100.0, 1.0) 65\n",
      "(200.0, 0.0) 29\n",
      "(200.0, 0.5) 65\n",
      "(200.0, 1.0) 83\n",
      "(300.0, 0.0) 17\n",
      "(300.0, 0.5) 67\n",
      "(300.0, 1.0) 91\n"
     ]
    }
   ],
   "source": [
    "for len_group, len_df in subset_df.groupby(['len', 'noise']):\n",
    "    print(len_group, len(len_df['cluster_06'].unique()))"
   ]
  },
  {
   "cell_type": "code",
   "execution_count": null,
   "metadata": {},
   "outputs": [],
   "source": []
  },
  {
   "cell_type": "code",
   "execution_count": 10,
   "metadata": {},
   "outputs": [],
   "source": [
    "centroid_df = {\n",
    "    'Number of clusters': [],\n",
    "    'Noise scale': [],\n",
    "    'Noise scale': [],0\n",
    "    'Method': [],\n",
    "}"
   ]
  },
  {
   "cell_type": "code",
   "execution_count": null,
   "metadata": {},
   "outputs": [],
   "source": [
    "centroid_df['Number of clusters'].append(noise_10_length_70_cluster.shape[0])\n",
    "centroid_df['Noise scale'].append(1.0)\n",
    "centroid_df['Length'].append(1.0)\n",
    "centroid_df['Method'].append('FrameDiff')\n",
    "\n",
    "centroid_df['Number of clusters'].append(noise_10_length_100_cluster.shape[0])\n",
    "centroid_df['Noise scale'].append(1.0)\n",
    "centroid_df['Method'].append('FrameDiff')\n",
    "\n",
    "centroid_df['Number of clusters'].append(noise_10_length_70_cluster.shape[0])\n",
    "centroid_df['Noise scale'].append(1.0)\n",
    "centroid_df['Method'].append('FrameDiff')"
   ]
  },
  {
   "cell_type": "code",
   "execution_count": null,
   "metadata": {},
   "outputs": [],
   "source": []
  },
  {
   "cell_type": "code",
   "execution_count": 22,
   "metadata": {},
   "outputs": [
    {
     "data": {
      "text/plain": [
       "1    21600\n",
       "Name: denoiser.noise_scale_frame, dtype: int64"
      ]
     },
     "execution_count": 22,
     "metadata": {},
     "output_type": "execute_result"
    }
   ],
   "source": [
    "s2i_df['denoiser.noise_scale_frame'].value_counts()"
   ]
  },
  {
   "cell_type": "code",
   "execution_count": 23,
   "metadata": {},
   "outputs": [
    {
     "data": {
      "text/plain": [
       "1    21600\n",
       "Name: denoiser.noise_scale_ca, dtype: int64"
      ]
     },
     "execution_count": 23,
     "metadata": {},
     "output_type": "execute_result"
    }
   ],
   "source": [
    "s2f_df['denoiser.noise_scale_ca'].value_counts()"
   ]
  },
  {
   "cell_type": "code",
   "execution_count": 6,
   "metadata": {},
   "outputs": [],
   "source": [
    "relevant_lengths_df = s2f_df[s2f_df.len.isin([70,100,200,300])]"
   ]
  },
  {
   "cell_type": "code",
   "execution_count": 7,
   "metadata": {},
   "outputs": [],
   "source": [
    "subset_df = relevant_lengths_df.groupby('len').sample(100)"
   ]
  },
  {
   "cell_type": "code",
   "execution_count": null,
   "metadata": {},
   "outputs": [],
   "source": [
    "subset_df.model"
   ]
  },
  {
   "cell_type": "code",
   "execution_count": 20,
   "metadata": {},
   "outputs": [
    {
     "data": {
      "text/plain": [
       "1    21600\n",
       "Name: denoiser.noise_scale_frame, dtype: int64"
      ]
     },
     "execution_count": 20,
     "metadata": {},
     "output_type": "execute_result"
    }
   ],
   "source": []
  },
  {
   "cell_type": "code",
   "execution_count": 19,
   "metadata": {},
   "outputs": [
    {
     "data": {
      "text/plain": [
       "1    21600\n",
       "Name: denoiser.noise_scale_ca, dtype: int64"
      ]
     },
     "execution_count": 19,
     "metadata": {},
     "output_type": "execute_result"
    }
   ],
   "source": []
  },
  {
   "cell_type": "code",
   "execution_count": 13,
   "metadata": {},
   "outputs": [
    {
     "name": "stdout",
     "output_type": "stream",
     "text": [
      "70 52\n",
      "100 55\n",
      "200 59\n",
      "300 61\n"
     ]
    }
   ],
   "source": [
    "for len_group, len_df in subset_df.groupby('len'):\n",
    "    print(len_group, len(len_df['tm_cluster_0.60'].unique()))"
   ]
  },
  {
   "cell_type": "code",
   "execution_count": null,
   "metadata": {},
   "outputs": [],
   "source": []
  },
  {
   "cell_type": "code",
   "execution_count": null,
   "metadata": {},
   "outputs": [],
   "source": []
  },
  {
   "cell_type": "code",
   "execution_count": null,
   "metadata": {},
   "outputs": [],
   "source": []
  },
  {
   "cell_type": "code",
   "execution_count": null,
   "metadata": {},
   "outputs": [],
   "source": []
  },
  {
   "cell_type": "code",
   "execution_count": null,
   "metadata": {},
   "outputs": [],
   "source": []
  },
  {
   "cell_type": "code",
   "execution_count": null,
   "metadata": {},
   "outputs": [],
   "source": []
  },
  {
   "cell_type": "code",
   "execution_count": null,
   "metadata": {},
   "outputs": [],
   "source": []
  },
  {
   "cell_type": "code",
   "execution_count": null,
   "metadata": {},
   "outputs": [],
   "source": []
  },
  {
   "cell_type": "code",
   "execution_count": 29,
   "metadata": {},
   "outputs": [],
   "source": [
    "cath_csv = pd.read_csv('/data/rsg/chemistry/jyim/large_data/cath/metadata.csv')\n",
    "monomer_csv = cath_csv[cath_csv.oligomeric_detail.isin(['monomeric'])]\n",
    "test_csv = monomer_csv[monomer_csv.cath_split == 'test']"
   ]
  },
  {
   "cell_type": "code",
   "execution_count": 31,
   "metadata": {},
   "outputs": [],
   "source": [
    "test_csv.to_csv('monomer_test_cath.csv', index=False)"
   ]
  },
  {
   "cell_type": "code",
   "execution_count": 33,
   "metadata": {},
   "outputs": [
    {
     "data": {
      "text/html": [
       "<div>\n",
       "<style scoped>\n",
       "    .dataframe tbody tr th:only-of-type {\n",
       "        vertical-align: middle;\n",
       "    }\n",
       "\n",
       "    .dataframe tbody tr th {\n",
       "        vertical-align: top;\n",
       "    }\n",
       "\n",
       "    .dataframe thead th {\n",
       "        text-align: right;\n",
       "    }\n",
       "</style>\n",
       "<table border=\"1\" class=\"dataframe\">\n",
       "  <thead>\n",
       "    <tr style=\"text-align: right;\">\n",
       "      <th></th>\n",
       "      <th>Unnamed: 0</th>\n",
       "      <th>chain_name</th>\n",
       "      <th>cath_code</th>\n",
       "      <th>cath_split</th>\n",
       "      <th>processed_path</th>\n",
       "      <th>raw_path</th>\n",
       "      <th>oligomeric_count</th>\n",
       "      <th>oligomeric_detail</th>\n",
       "      <th>resolution</th>\n",
       "      <th>structure_method</th>\n",
       "      <th>num_chains</th>\n",
       "      <th>seq_len</th>\n",
       "      <th>modeled_seq_len</th>\n",
       "      <th>coil_percent</th>\n",
       "      <th>helix_percent</th>\n",
       "      <th>strand_percent</th>\n",
       "      <th>radius_gyration</th>\n",
       "      <th>split</th>\n",
       "    </tr>\n",
       "  </thead>\n",
       "  <tbody>\n",
       "    <tr>\n",
       "      <th>44</th>\n",
       "      <td>44</td>\n",
       "      <td>1waz.A</td>\n",
       "      <td>['1.10.287']</td>\n",
       "      <td>test</td>\n",
       "      <td>/data/rsg/chemistry/jyim/large_data/cath/wa/1w...</td>\n",
       "      <td>/data/rsg/chemistry/jyim/large_data/pdb/30_08_...</td>\n",
       "      <td>1</td>\n",
       "      <td>monomeric</td>\n",
       "      <td>0.00</td>\n",
       "      <td>solution nmr</td>\n",
       "      <td>1</td>\n",
       "      <td>46</td>\n",
       "      <td>46</td>\n",
       "      <td>0.326087</td>\n",
       "      <td>0.673913</td>\n",
       "      <td>0.000000</td>\n",
       "      <td>1.286347</td>\n",
       "      <td>test</td>\n",
       "    </tr>\n",
       "    <tr>\n",
       "      <th>161</th>\n",
       "      <td>161</td>\n",
       "      <td>2uux.A</td>\n",
       "      <td>['4.10.410']</td>\n",
       "      <td>test</td>\n",
       "      <td>/data/rsg/chemistry/jyim/large_data/cath/uu/2u...</td>\n",
       "      <td>/data/rsg/chemistry/jyim/large_data/pdb/30_08_...</td>\n",
       "      <td>1</td>\n",
       "      <td>monomeric</td>\n",
       "      <td>1.40</td>\n",
       "      <td>x-ray diffraction</td>\n",
       "      <td>1</td>\n",
       "      <td>135</td>\n",
       "      <td>55</td>\n",
       "      <td>0.672727</td>\n",
       "      <td>0.090909</td>\n",
       "      <td>0.236364</td>\n",
       "      <td>1.153543</td>\n",
       "      <td>test</td>\n",
       "    </tr>\n",
       "    <tr>\n",
       "      <th>329</th>\n",
       "      <td>329</td>\n",
       "      <td>1vib.A</td>\n",
       "      <td>['1.10.287']</td>\n",
       "      <td>test</td>\n",
       "      <td>/data/rsg/chemistry/jyim/large_data/cath/vi/1v...</td>\n",
       "      <td>/data/rsg/chemistry/jyim/large_data/pdb/30_08_...</td>\n",
       "      <td>1</td>\n",
       "      <td>monomeric</td>\n",
       "      <td>0.00</td>\n",
       "      <td>solution nmr</td>\n",
       "      <td>1</td>\n",
       "      <td>55</td>\n",
       "      <td>55</td>\n",
       "      <td>0.436364</td>\n",
       "      <td>0.563636</td>\n",
       "      <td>0.000000</td>\n",
       "      <td>1.333609</td>\n",
       "      <td>test</td>\n",
       "    </tr>\n",
       "    <tr>\n",
       "      <th>274</th>\n",
       "      <td>274</td>\n",
       "      <td>1gyz.A</td>\n",
       "      <td>['1.10.1900']</td>\n",
       "      <td>test</td>\n",
       "      <td>/data/rsg/chemistry/jyim/large_data/cath/gy/1g...</td>\n",
       "      <td>/data/rsg/chemistry/jyim/large_data/pdb/30_08_...</td>\n",
       "      <td>1</td>\n",
       "      <td>monomeric</td>\n",
       "      <td>0.00</td>\n",
       "      <td>solution nmr</td>\n",
       "      <td>1</td>\n",
       "      <td>60</td>\n",
       "      <td>60</td>\n",
       "      <td>0.350000</td>\n",
       "      <td>0.650000</td>\n",
       "      <td>0.000000</td>\n",
       "      <td>1.064580</td>\n",
       "      <td>test</td>\n",
       "    </tr>\n",
       "    <tr>\n",
       "      <th>388</th>\n",
       "      <td>388</td>\n",
       "      <td>1i2t.A</td>\n",
       "      <td>['1.10.1900']</td>\n",
       "      <td>test</td>\n",
       "      <td>/data/rsg/chemistry/jyim/large_data/cath/i2/1i...</td>\n",
       "      <td>/data/rsg/chemistry/jyim/large_data/pdb/30_08_...</td>\n",
       "      <td>1</td>\n",
       "      <td>monomeric</td>\n",
       "      <td>1.04</td>\n",
       "      <td>x-ray diffraction</td>\n",
       "      <td>1</td>\n",
       "      <td>191</td>\n",
       "      <td>61</td>\n",
       "      <td>0.131148</td>\n",
       "      <td>0.868852</td>\n",
       "      <td>0.000000</td>\n",
       "      <td>1.188198</td>\n",
       "      <td>test</td>\n",
       "    </tr>\n",
       "    <tr>\n",
       "      <th>...</th>\n",
       "      <td>...</td>\n",
       "      <td>...</td>\n",
       "      <td>...</td>\n",
       "      <td>...</td>\n",
       "      <td>...</td>\n",
       "      <td>...</td>\n",
       "      <td>...</td>\n",
       "      <td>...</td>\n",
       "      <td>...</td>\n",
       "      <td>...</td>\n",
       "      <td>...</td>\n",
       "      <td>...</td>\n",
       "      <td>...</td>\n",
       "      <td>...</td>\n",
       "      <td>...</td>\n",
       "      <td>...</td>\n",
       "      <td>...</td>\n",
       "      <td>...</td>\n",
       "    </tr>\n",
       "    <tr>\n",
       "      <th>343</th>\n",
       "      <td>343</td>\n",
       "      <td>4amm.A</td>\n",
       "      <td>['3.40.366']</td>\n",
       "      <td>test</td>\n",
       "      <td>/data/rsg/chemistry/jyim/large_data/cath/am/4a...</td>\n",
       "      <td>/data/rsg/chemistry/jyim/large_data/pdb/30_08_...</td>\n",
       "      <td>1</td>\n",
       "      <td>monomeric</td>\n",
       "      <td>1.40</td>\n",
       "      <td>x-ray diffraction</td>\n",
       "      <td>1</td>\n",
       "      <td>715</td>\n",
       "      <td>384</td>\n",
       "      <td>0.375000</td>\n",
       "      <td>0.447917</td>\n",
       "      <td>0.177083</td>\n",
       "      <td>2.256468</td>\n",
       "      <td>test</td>\n",
       "    </tr>\n",
       "    <tr>\n",
       "      <th>642</th>\n",
       "      <td>642</td>\n",
       "      <td>3oc9.A</td>\n",
       "      <td>['3.90.550']</td>\n",
       "      <td>test</td>\n",
       "      <td>/data/rsg/chemistry/jyim/large_data/cath/oc/3o...</td>\n",
       "      <td>/data/rsg/chemistry/jyim/large_data/pdb/30_08_...</td>\n",
       "      <td>1</td>\n",
       "      <td>monomeric</td>\n",
       "      <td>1.80</td>\n",
       "      <td>x-ray diffraction</td>\n",
       "      <td>1</td>\n",
       "      <td>782</td>\n",
       "      <td>400</td>\n",
       "      <td>0.430000</td>\n",
       "      <td>0.310000</td>\n",
       "      <td>0.260000</td>\n",
       "      <td>2.239021</td>\n",
       "      <td>test</td>\n",
       "    </tr>\n",
       "    <tr>\n",
       "      <th>585</th>\n",
       "      <td>585</td>\n",
       "      <td>3qcp.A</td>\n",
       "      <td>['3.40.30']</td>\n",
       "      <td>test</td>\n",
       "      <td>/data/rsg/chemistry/jyim/large_data/cath/qc/3q...</td>\n",
       "      <td>/data/rsg/chemistry/jyim/large_data/pdb/30_08_...</td>\n",
       "      <td>1</td>\n",
       "      <td>monomeric</td>\n",
       "      <td>2.30</td>\n",
       "      <td>x-ray diffraction</td>\n",
       "      <td>1</td>\n",
       "      <td>596</td>\n",
       "      <td>410</td>\n",
       "      <td>0.458537</td>\n",
       "      <td>0.465854</td>\n",
       "      <td>0.075610</td>\n",
       "      <td>2.341498</td>\n",
       "      <td>test</td>\n",
       "    </tr>\n",
       "    <tr>\n",
       "      <th>768</th>\n",
       "      <td>768</td>\n",
       "      <td>4cit.A</td>\n",
       "      <td>['1.10.606']</td>\n",
       "      <td>test</td>\n",
       "      <td>/data/rsg/chemistry/jyim/large_data/cath/ci/4c...</td>\n",
       "      <td>/data/rsg/chemistry/jyim/large_data/pdb/30_08_...</td>\n",
       "      <td>1</td>\n",
       "      <td>monomeric</td>\n",
       "      <td>1.80</td>\n",
       "      <td>x-ray diffraction</td>\n",
       "      <td>1</td>\n",
       "      <td>723</td>\n",
       "      <td>410</td>\n",
       "      <td>0.397561</td>\n",
       "      <td>0.578049</td>\n",
       "      <td>0.024390</td>\n",
       "      <td>2.243544</td>\n",
       "      <td>test</td>\n",
       "    </tr>\n",
       "    <tr>\n",
       "      <th>395</th>\n",
       "      <td>395</td>\n",
       "      <td>1aop.A</td>\n",
       "      <td>['3.30.413', '3.90.480']</td>\n",
       "      <td>test</td>\n",
       "      <td>/data/rsg/chemistry/jyim/large_data/cath/ao/1a...</td>\n",
       "      <td>/data/rsg/chemistry/jyim/large_data/pdb/30_08_...</td>\n",
       "      <td>1</td>\n",
       "      <td>monomeric</td>\n",
       "      <td>1.60</td>\n",
       "      <td>x-ray diffraction</td>\n",
       "      <td>1</td>\n",
       "      <td>946</td>\n",
       "      <td>456</td>\n",
       "      <td>0.425439</td>\n",
       "      <td>0.344298</td>\n",
       "      <td>0.230263</td>\n",
       "      <td>2.212974</td>\n",
       "      <td>test</td>\n",
       "    </tr>\n",
       "  </tbody>\n",
       "</table>\n",
       "<p>251 rows × 18 columns</p>\n",
       "</div>"
      ],
      "text/plain": [
       "     Unnamed: 0 chain_name                 cath_code cath_split  \\\n",
       "44           44     1waz.A              ['1.10.287']       test   \n",
       "161         161     2uux.A              ['4.10.410']       test   \n",
       "329         329     1vib.A              ['1.10.287']       test   \n",
       "274         274     1gyz.A             ['1.10.1900']       test   \n",
       "388         388     1i2t.A             ['1.10.1900']       test   \n",
       "..          ...        ...                       ...        ...   \n",
       "343         343     4amm.A              ['3.40.366']       test   \n",
       "642         642     3oc9.A              ['3.90.550']       test   \n",
       "585         585     3qcp.A               ['3.40.30']       test   \n",
       "768         768     4cit.A              ['1.10.606']       test   \n",
       "395         395     1aop.A  ['3.30.413', '3.90.480']       test   \n",
       "\n",
       "                                        processed_path  \\\n",
       "44   /data/rsg/chemistry/jyim/large_data/cath/wa/1w...   \n",
       "161  /data/rsg/chemistry/jyim/large_data/cath/uu/2u...   \n",
       "329  /data/rsg/chemistry/jyim/large_data/cath/vi/1v...   \n",
       "274  /data/rsg/chemistry/jyim/large_data/cath/gy/1g...   \n",
       "388  /data/rsg/chemistry/jyim/large_data/cath/i2/1i...   \n",
       "..                                                 ...   \n",
       "343  /data/rsg/chemistry/jyim/large_data/cath/am/4a...   \n",
       "642  /data/rsg/chemistry/jyim/large_data/cath/oc/3o...   \n",
       "585  /data/rsg/chemistry/jyim/large_data/cath/qc/3q...   \n",
       "768  /data/rsg/chemistry/jyim/large_data/cath/ci/4c...   \n",
       "395  /data/rsg/chemistry/jyim/large_data/cath/ao/1a...   \n",
       "\n",
       "                                              raw_path oligomeric_count  \\\n",
       "44   /data/rsg/chemistry/jyim/large_data/pdb/30_08_...                1   \n",
       "161  /data/rsg/chemistry/jyim/large_data/pdb/30_08_...                1   \n",
       "329  /data/rsg/chemistry/jyim/large_data/pdb/30_08_...                1   \n",
       "274  /data/rsg/chemistry/jyim/large_data/pdb/30_08_...                1   \n",
       "388  /data/rsg/chemistry/jyim/large_data/pdb/30_08_...                1   \n",
       "..                                                 ...              ...   \n",
       "343  /data/rsg/chemistry/jyim/large_data/pdb/30_08_...                1   \n",
       "642  /data/rsg/chemistry/jyim/large_data/pdb/30_08_...                1   \n",
       "585  /data/rsg/chemistry/jyim/large_data/pdb/30_08_...                1   \n",
       "768  /data/rsg/chemistry/jyim/large_data/pdb/30_08_...                1   \n",
       "395  /data/rsg/chemistry/jyim/large_data/pdb/30_08_...                1   \n",
       "\n",
       "    oligomeric_detail  resolution   structure_method  num_chains  seq_len  \\\n",
       "44          monomeric        0.00       solution nmr           1       46   \n",
       "161         monomeric        1.40  x-ray diffraction           1      135   \n",
       "329         monomeric        0.00       solution nmr           1       55   \n",
       "274         monomeric        0.00       solution nmr           1       60   \n",
       "388         monomeric        1.04  x-ray diffraction           1      191   \n",
       "..                ...         ...                ...         ...      ...   \n",
       "343         monomeric        1.40  x-ray diffraction           1      715   \n",
       "642         monomeric        1.80  x-ray diffraction           1      782   \n",
       "585         monomeric        2.30  x-ray diffraction           1      596   \n",
       "768         monomeric        1.80  x-ray diffraction           1      723   \n",
       "395         monomeric        1.60  x-ray diffraction           1      946   \n",
       "\n",
       "     modeled_seq_len  coil_percent  helix_percent  strand_percent  \\\n",
       "44                46      0.326087       0.673913        0.000000   \n",
       "161               55      0.672727       0.090909        0.236364   \n",
       "329               55      0.436364       0.563636        0.000000   \n",
       "274               60      0.350000       0.650000        0.000000   \n",
       "388               61      0.131148       0.868852        0.000000   \n",
       "..               ...           ...            ...             ...   \n",
       "343              384      0.375000       0.447917        0.177083   \n",
       "642              400      0.430000       0.310000        0.260000   \n",
       "585              410      0.458537       0.465854        0.075610   \n",
       "768              410      0.397561       0.578049        0.024390   \n",
       "395              456      0.425439       0.344298        0.230263   \n",
       "\n",
       "     radius_gyration split  \n",
       "44          1.286347  test  \n",
       "161         1.153543  test  \n",
       "329         1.333609  test  \n",
       "274         1.064580  test  \n",
       "388         1.188198  test  \n",
       "..               ...   ...  \n",
       "343         2.256468  test  \n",
       "642         2.239021  test  \n",
       "585         2.341498  test  \n",
       "768         2.243544  test  \n",
       "395         2.212974  test  \n",
       "\n",
       "[251 rows x 18 columns]"
      ]
     },
     "execution_count": 33,
     "metadata": {},
     "output_type": "execute_result"
    }
   ],
   "source": [
    "test_csv.sort_values('modeled_seq_len')"
   ]
  },
  {
   "cell_type": "code",
   "execution_count": null,
   "metadata": {},
   "outputs": [],
   "source": []
  }
 ],
 "metadata": {
  "kernelspec": {
   "display_name": "Python 3 (ipykernel)",
   "language": "python",
   "name": "python3"
  },
  "language_info": {
   "codemirror_mode": {
    "name": "ipython",
    "version": 3
   },
   "file_extension": ".py",
   "mimetype": "text/x-python",
   "name": "python",
   "nbconvert_exporter": "python",
   "pygments_lexer": "ipython3",
   "version": "3.8.12"
  }
 },
 "nbformat": 4,
 "nbformat_minor": 4
}
