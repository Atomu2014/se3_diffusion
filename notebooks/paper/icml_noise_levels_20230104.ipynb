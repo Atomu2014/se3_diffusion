{
 "cells": [
  {
   "cell_type": "code",
   "execution_count": 13,
   "metadata": {
    "tags": []
   },
   "outputs": [],
   "source": [
    "import torch\n",
    "import os\n",
    "import numpy as np\n",
    "import shutil\n",
    "import matplotlib.pyplot as plt\n",
    "import plotnine as gg\n",
    "from collections import defaultdict\n",
    "from analysis import utils as au\n",
    "from analysis import plotting\n",
    "from data import utils as du\n",
    "import seaborn as sns\n",
    "import tree\n",
    "from data import rosetta_data_loader\n",
    "\n",
    "import sys\n",
    "import argparse\n",
    "import re\n",
    "import logging\n",
    "\n",
    "import pandas as pd\n",
    "pd.set_option('display.max_colwidth', None)\n",
    "\n",
    "from omegaconf import DictConfig, OmegaConf\n",
    "import importlib\n",
    "\n",
    "# Enable logging\n",
    "import logging\n",
    "import sys\n",
    "date_strftime_format = \"%Y-%m-%y %H:%M:%S\"\n",
    "logging.basicConfig(stream=sys.stdout, level=logging.INFO, format=\"%(asctime)s %(message)s\", datefmt=date_strftime_format)\n",
    "\n",
    "torch.hub.set_dir('/data/rsg/chemistry/jyim/.cache/torch')\n",
    "plt.rcParams.update({'font.size': 14})"
   ]
  },
  {
   "cell_type": "code",
   "execution_count": 14,
   "metadata": {},
   "outputs": [
    {
     "name": "stdout",
     "output_type": "stream",
     "text": [
      "WARNING: overwriting results!\n"
     ]
    }
   ],
   "source": [
    "# Paths\n",
    "base_dir = '/data/rsg/chemistry/jyim/paper/protdiff_icml/noise_levels'\n",
    "samples_dir = os.path.join(base_dir, 'samples')\n",
    "sample_cluster_dir = os.path.join(base_dir, 'sample_clustering')\n",
    "figure_dir = os.path.join(base_dir, 'figures')\n",
    "train_align_dir = os.path.join(base_dir, 'train_align')\n",
    "train_pdbs_dir = os.path.join(base_dir, 'training_pdbs')\n",
    "\n",
    "\n",
    "base_protdiff_dir = '/data/rsg/chemistry/jyim/projects/protein_diffusion/'\n",
    "\n",
    "os.makedirs(base_dir, exist_ok=True)\n",
    "os.makedirs(train_align_dir, exist_ok=True)\n",
    "os.makedirs(figure_dir, exist_ok=True)\n",
    "os.makedirs(train_pdbs_dir, exist_ok=True)\n",
    "os.makedirs(samples_dir, exist_ok=True)\n",
    "os.makedirs(sample_cluster_dir, exist_ok=True)\n",
    "\n",
    "\n",
    "\n",
    "if len(os.listdir(base_dir)):\n",
    "    print('WARNING: overwriting results!')"
   ]
  },
  {
   "cell_type": "code",
   "execution_count": 15,
   "metadata": {},
   "outputs": [],
   "source": [
    "def read_samples(path):\n",
    "    \n",
    "    def process_path(x):\n",
    "        length_path = os.path.join(*x.split('/')[-5:])\n",
    "        return os.path.join(path, length_path)\n",
    "    \n",
    "    all_csvs = []\n",
    "    # results_dir = '/data/rsg/chemistry/jyim/projects/protein_diffusion/samples/unconditional_512_0/27D_11M_2022Y_09h_58m_16s/unconditional/saved_run_2'\n",
    "    print(f'Reading samples from {path}')\n",
    "    for sample_length in os.listdir(path):\n",
    "        if '.' in sample_length:\n",
    "            continue\n",
    "        length_dir = os.path.join(path, sample_length)\n",
    "        for i,sample_name in enumerate(os.listdir(length_dir)):\n",
    "            if '.' in sample_name:\n",
    "                continue\n",
    "            csv_path = os.path.join(length_dir, sample_name, 'mpnn', 'sc_results.csv')\n",
    "            sample_id = int(sample_name.split('_')[1])\n",
    "            if os.path.exists(csv_path):\n",
    "                design_csv = pd.read_csv(csv_path, index_col=0)\n",
    "                length = int(sample_length.split('_')[1])\n",
    "                design_csv['length'] = length\n",
    "                design_csv['sequence_id'] = design_csv['sample_path'].apply(lambda x: int(os.path.basename(x).replace('.pdb', '').split('_')[1]))\n",
    "                design_csv['esmf_path'] = design_csv['sample_path'].apply(process_path)\n",
    "                del design_csv['sample_path']\n",
    "                design_csv['sample_id'] = sample_id\n",
    "                design_csv['backbone_path'] = os.path.join(path, f'length_{length}', f'sample_{sample_id}', 'sde_1.pdb')\n",
    "                all_csvs.append(design_csv)\n",
    "    return pd.concat(all_csvs)\n"
   ]
  },
  {
   "cell_type": "code",
   "execution_count": 35,
   "metadata": {},
   "outputs": [
    {
     "name": "stdout",
     "output_type": "stream",
     "text": [
      "Reading samples from /data/rsg/chemistry/jyim/projects/protein_diffusion/samples/unconditional_512_0/27D_11M_2022Y_09h_58m_16s/unconditional/noise_level_00\n",
      "Reading samples from /data/rsg/chemistry/jyim/projects/protein_diffusion/samples/unconditional_512_0/27D_11M_2022Y_09h_58m_16s/unconditional/noise_level_01\n",
      "Reading samples from /data/rsg/chemistry/jyim/projects/protein_diffusion/samples/unconditional_512_0/27D_11M_2022Y_09h_58m_16s/unconditional/noise_level_05\n",
      "Reading samples from /data/rsg/chemistry/jyim/projects/protein_diffusion/samples/unconditional_512_0/27D_11M_2022Y_09h_58m_16s/unconditional/noise_level_10\n"
     ]
    }
   ],
   "source": [
    "# noise_dir = lambda x: f'/data/rsg/chemistry/jyim/projects/protein_diffusion/samples/continue_0/05D_01M_2023Y_21h_15m_16s/unconditional/noise_level_{x}'\n",
    "noise_dir = lambda x: f'/data/rsg/chemistry/jyim/projects/protein_diffusion/samples/unconditional_512_0/27D_11M_2022Y_09h_58m_16s/unconditional/noise_level_{x}'\n",
    "samples_noise_00 = read_samples(noise_dir('00'))\n",
    "samples_noise_01 = read_samples(noise_dir('01'))\n",
    "samples_noise_05 = read_samples(noise_dir('05'))\n",
    "samples_noise_10 = read_samples(noise_dir('10'))\n"
   ]
  },
  {
   "cell_type": "code",
   "execution_count": 36,
   "metadata": {},
   "outputs": [],
   "source": [
    "samples_noise_00['Noise scale'] = '0.0'\n",
    "samples_noise_01['Noise scale'] = '0.1'\n",
    "samples_noise_05['Noise scale'] = '0.5'\n",
    "samples_noise_10['Noise scale'] = '1.0'\n",
    "\n",
    "samples_all_noise = pd.concat([\n",
    "    samples_noise_00,\n",
    "    samples_noise_01,\n",
    "    samples_noise_05,\n",
    "    samples_noise_10\n",
    "])\n",
    "samples_all_noise['Noise scale'] = pd.Categorical(\n",
    "    samples_all_noise['Noise scale'], ordered=True, categories=['0.0', '0.1', '0.5', '1.0'])"
   ]
  },
  {
   "cell_type": "code",
   "execution_count": null,
   "metadata": {},
   "outputs": [],
   "source": []
  },
  {
   "cell_type": "markdown",
   "metadata": {
    "tags": []
   },
   "source": [
    "# Process results"
   ]
  },
  {
   "cell_type": "code",
   "execution_count": 24,
   "metadata": {},
   "outputs": [],
   "source": [
    "length_categories = [\n",
    "    '100-200', '200-300', '300-400', '400-500'\n",
    "]\n",
    "buckets = np.arange(200, 501, 100)\n",
    "buckets[-1] += 1\n",
    "\n",
    "def df_process(raw_df):\n",
    "    # Process sample path\n",
    "    df = raw_df.copy()\n",
    "    \n",
    "    # Separate based on whether MPNNed\n",
    "    df['header'] = df['header'].fillna('')\n",
    "    df = df[df['header'].map(lambda x: 'sde_1' not in x)]\n",
    "    return df\n",
    "\n",
    "def sc_filter(raw_df, metric):\n",
    "    # Pick best self-consistency sample\n",
    "    if metric == 'rmsd':\n",
    "        df = raw_df.sort_values('rmsd', ascending=True)\n",
    "    elif metric == 'tm':\n",
    "        df = raw_df.sort_values('tm_score', ascending=False)\n",
    "    else:\n",
    "        raise ValueError(f'Unrecognized metric: {metric}')\n",
    "    df = df.groupby(['length', 'sample_id']).first().reset_index()\n",
    "\n",
    "    # Separate into different length groups\n",
    "    df['length_group'] = df.length.map(lambda x: length_categories[np.sum(x > buckets).item()])\n",
    "    df['length_group'] = pd.Categorical(df['length_group'], ordered=True, categories=length_categories)\n",
    "\n",
    "    # Calculate how designable\n",
    "    cutoff = 0.5\n",
    "    if metric == 'rmsd':\n",
    "        df['designable'] = df.rmsd.map(lambda x: x < 2.0)\n",
    "    elif metric == 'tm':\n",
    "        df['designable'] = df.tm_score.map(lambda x: x > 0.5)\n",
    "    designable_df = pd.pivot_table(df, values='designable', index='length_group', aggfunc=np.mean).reset_index()\n",
    "    percent_designable = df['designable'].mean()\n",
    "    print(f'Percent designable: {percent_designable}')\n",
    "    print(f'Average scRMSD: {df.rmsd.mean()}')\n",
    "    return df, designable_df\n",
    "\n",
    "\n",
    "def process_pipeline(raw_df, metric):\n",
    "    processed_df = df_process(raw_df)\n",
    "    seq_8_df = processed_df[(processed_df.sequence_id < 8) & (processed_df.length >= 100) & (processed_df.length <= 500)]\n",
    "    df, designable = sc_filter(seq_8_df, metric=metric)\n",
    "    return df, designable\n"
   ]
  },
  {
   "cell_type": "code",
   "execution_count": 25,
   "metadata": {},
   "outputs": [],
   "source": [
    "plt.rcParams.update({'font.size': 14})\n",
    "\n",
    "def plot_sc_rmsd(df, save_path=None):\n",
    "    rmsd_samples, _ = process_pipeline(df, metric='rmsd')\n",
    "    \n",
    "    p = sns.boxplot(\n",
    "        data=rmsd_samples,\n",
    "        x='length_group',\n",
    "        y='rmsd',\n",
    "        hue='Noise scale',\n",
    "        showfliers = False\n",
    "    )\n",
    "\n",
    "    plt.xlabel('Length group')\n",
    "    plt.ylabel('scRMSD')\n",
    "    legend = plt.legend(bbox_to_anchor=(1.03, 1), loc='upper left', borderaxespad=0)\n",
    "    p.legend_.set_title('Noise \\nscale')\n",
    "    plt.ylim(0.0, 25)\n",
    "    if save_path is None:\n",
    "        plt.show()\n",
    "    else:\n",
    "        # fig_path = os.path.join(figure_dir, 'unconditional_scrmsd_plt.png')\n",
    "        plt.savefig(save_path, dpi=300, bbox_inches='tight')\n",
    "        \n",
    "def plot_sc_tm(df, save_path=None):\n",
    "    tm_samples, tm_designable = process_pipeline(df, metric='tm')\n",
    "\n",
    "    p = sns.boxplot(\n",
    "        data=tm_samples,\n",
    "        x='length_group',\n",
    "        y='tm_score',\n",
    "        hue='Noise scale',\n",
    "        showfliers = False\n",
    "    )\n",
    "\n",
    "    designable_numbers = tm_designable[tm_designable.Sequences == 8].designable.tolist()\n",
    "    for i,xtick in enumerate(p.get_xticks()):\n",
    "        p.text(\n",
    "            xtick,\n",
    "            1.0,\n",
    "            f\"{designable_numbers[i]*100:2.1f}%\\n\",\n",
    "            horizontalalignment='center',\n",
    "            size='small',\n",
    "            color='blue',\n",
    "            weight='semibold'\n",
    "        )\n",
    "\n",
    "    designable_numbers = tm_designable[tm_designable.Sequences == 100].designable.tolist()\n",
    "    for i,xtick in enumerate(p.get_xticks()):\n",
    "        p.text(\n",
    "            xtick,\n",
    "            0.95,\n",
    "            f\"{designable_numbers[i]*100:2.1f}%\\n\",\n",
    "            horizontalalignment='center',\n",
    "            size='small',\n",
    "            color='orange',\n",
    "            weight='semibold'\n",
    "        )\n",
    "\n",
    "    plt.axhline(y = 0.5, color = 'r', linestyle = '--', linewidth=2, alpha=0.5)\n",
    "    plt.ylim(0.0, 1.1)\n",
    "    plt.xlabel('Length group')\n",
    "    plt.ylabel('scTM')\n",
    "\n",
    "    legend = plt.legend(bbox_to_anchor=(1.03, 1), loc='upper left', borderaxespad=0)\n",
    "    p.legend_.set_title('Noise \\nscale')\n",
    "\n",
    "    if save_path is None:\n",
    "        plt.show()\n",
    "    else:\n",
    "        # fig_path = os.path.join(figure_dir, 'unconditional_scrmsd_plt.png')\n",
    "        plt.savefig(save_path, dpi=300, bbox_inches='tight')\n"
   ]
  },
  {
   "cell_type": "code",
   "execution_count": null,
   "metadata": {},
   "outputs": [],
   "source": []
  },
  {
   "cell_type": "markdown",
   "metadata": {
    "tags": []
   },
   "source": [
    "# Plot designable results"
   ]
  },
  {
   "cell_type": "code",
   "execution_count": null,
   "metadata": {},
   "outputs": [],
   "source": []
  },
  {
   "cell_type": "code",
   "execution_count": null,
   "metadata": {},
   "outputs": [],
   "source": []
  },
  {
   "cell_type": "code",
   "execution_count": 31,
   "metadata": {},
   "outputs": [
    {
     "name": "stdout",
     "output_type": "stream",
     "text": [
      "Reading samples from /data/rsg/chemistry/jyim/projects/protein_diffusion/samples/unconditional_512_0/27D_11M_2022Y_09h_58m_16s/unconditional/noise_level_01_steps_100\n"
     ]
    }
   ],
   "source": [
    "sampels_100_steps = read_samples('/data/rsg/chemistry/jyim/projects/protein_diffusion/samples/unconditional_512_0/27D_11M_2022Y_09h_58m_16s/unconditional/noise_level_01_steps_100')\n"
   ]
  },
  {
   "cell_type": "code",
   "execution_count": 34,
   "metadata": {},
   "outputs": [
    {
     "name": "stdout",
     "output_type": "stream",
     "text": [
      "Percent designable: 0.7434944237918215\n",
      "Average scRMSD: 7.6601894204740715\n",
      "Percent designable: 0.2503097893432466\n",
      "Average scRMSD: 7.162854626677831\n"
     ]
    }
   ],
   "source": [
    "_ = process_pipeline(sampels_100_steps, metric='tm')\n",
    "_ = process_pipeline(sampels_100_steps, metric='rmsd')"
   ]
  },
  {
   "cell_type": "code",
   "execution_count": 38,
   "metadata": {},
   "outputs": [
    {
     "name": "stdout",
     "output_type": "stream",
     "text": [
      "Percent designable: 0.48641975308641977\n",
      "Average scRMSD: 11.174208670282999\n",
      "Percent designable: 0.7419753086419754\n",
      "Average scRMSD: 7.775677000246971\n",
      "Percent designable: 0.7493827160493827\n",
      "Average scRMSD: 7.481608175750787\n",
      "Percent designable: 0.7444444444444445\n",
      "Average scRMSD: 7.388139974678661\n"
     ]
    }
   ],
   "source": [
    "noise_10_df, _ = process_pipeline(samples_noise_10, metric='tm')\n",
    "noise_05_df, _ = process_pipeline(samples_noise_05, metric='tm')\n",
    "noise_01_df, _ = process_pipeline(samples_noise_01, metric='tm')\n",
    "noise_00_df, _ = process_pipeline(samples_noise_00, metric='tm')"
   ]
  },
  {
   "cell_type": "code",
   "execution_count": null,
   "metadata": {},
   "outputs": [],
   "source": []
  },
  {
   "cell_type": "code",
   "execution_count": null,
   "metadata": {},
   "outputs": [],
   "source": []
  },
  {
   "cell_type": "code",
   "execution_count": 37,
   "metadata": {},
   "outputs": [
    {
     "name": "stdout",
     "output_type": "stream",
     "text": [
      "Percent designable: 0.11358024691358025\n",
      "Average scRMSD: 10.352043927092334\n",
      "Percent designable: 0.23209876543209876\n",
      "Average scRMSD: 7.156512998707662\n",
      "Percent designable: 0.27901234567901234\n",
      "Average scRMSD: 6.926751980001301\n",
      "Percent designable: 0.3074074074074074\n",
      "Average scRMSD: 6.939163342096009\n"
     ]
    }
   ],
   "source": [
    "noise_10_df, _ = process_pipeline(samples_noise_10, metric='rmsd')\n",
    "noise_05_df, _ = process_pipeline(samples_noise_05, metric='rmsd')\n",
    "noise_01_df, _ = process_pipeline(samples_noise_01, metric='rmsd')\n",
    "noise_00_df, _ = process_pipeline(samples_noise_00, metric='rmsd')"
   ]
  },
  {
   "cell_type": "code",
   "execution_count": null,
   "metadata": {},
   "outputs": [],
   "source": []
  },
  {
   "cell_type": "code",
   "execution_count": null,
   "metadata": {},
   "outputs": [],
   "source": []
  },
  {
   "cell_type": "code",
   "execution_count": 22,
   "metadata": {},
   "outputs": [
    {
     "name": "stdout",
     "output_type": "stream",
     "text": [
      "Percent designable: 0.9179292929292929\n",
      "Average scRMSD: 3.8851308359718275\n"
     ]
    },
    {
     "data": {
      "image/png": "[encoded data removed]",
      "text/plain": [
       "<Figure size 640x480 with 1 Axes>"
      ]
     },
     "metadata": {},
     "output_type": "display_data"
    }
   ],
   "source": [
    "plot_sc_rmsd(samples_all_noise, save_path='scrmsd_noise.png')"
   ]
  },
  {
   "cell_type": "code",
   "execution_count": 23,
   "metadata": {},
   "outputs": [
    {
     "name": "stdout",
     "output_type": "stream",
     "text": [
      "Percent designable: 0.9381313131313131\n",
      "Average scRMSD: 4.151296951706286\n"
     ]
    },
    {
     "ename": "AttributeError",
     "evalue": "'DataFrame' object has no attribute 'Sequences'",
     "output_type": "error",
     "traceback": [
      "\u001b[0;31m---------------------------------------------------------------------------\u001b[0m",
      "\u001b[0;31mAttributeError\u001b[0m                            Traceback (most recent call last)",
      "Input \u001b[0;32mIn [23]\u001b[0m, in \u001b[0;36m<module>\u001b[0;34m\u001b[0m\n\u001b[0;32m----> 1\u001b[0m \u001b[43mplot_sc_tm\u001b[49m\u001b[43m(\u001b[49m\u001b[43msamples_all_noise\u001b[49m\u001b[43m,\u001b[49m\u001b[43m \u001b[49m\u001b[43msave_path\u001b[49m\u001b[38;5;241;43m=\u001b[39;49m\u001b[38;5;124;43m'\u001b[39;49m\u001b[38;5;124;43msctm_noise.png\u001b[39;49m\u001b[38;5;124;43m'\u001b[39;49m\u001b[43m)\u001b[49m\n",
      "Input \u001b[0;32mIn [19]\u001b[0m, in \u001b[0;36mplot_sc_tm\u001b[0;34m(df, save_path)\u001b[0m\n\u001b[1;32m     26\u001b[0m tm_samples, tm_designable \u001b[38;5;241m=\u001b[39m process_pipeline(df, metric\u001b[38;5;241m=\u001b[39m\u001b[38;5;124m'\u001b[39m\u001b[38;5;124mtm\u001b[39m\u001b[38;5;124m'\u001b[39m)\n\u001b[1;32m     28\u001b[0m p \u001b[38;5;241m=\u001b[39m sns\u001b[38;5;241m.\u001b[39mboxplot(\n\u001b[1;32m     29\u001b[0m     data\u001b[38;5;241m=\u001b[39mtm_samples,\n\u001b[1;32m     30\u001b[0m     x\u001b[38;5;241m=\u001b[39m\u001b[38;5;124m'\u001b[39m\u001b[38;5;124mlength_group\u001b[39m\u001b[38;5;124m'\u001b[39m,\n\u001b[0;32m   (...)\u001b[0m\n\u001b[1;32m     33\u001b[0m     showfliers \u001b[38;5;241m=\u001b[39m \u001b[38;5;28;01mFalse\u001b[39;00m\n\u001b[1;32m     34\u001b[0m )\n\u001b[0;32m---> 36\u001b[0m designable_numbers \u001b[38;5;241m=\u001b[39m tm_designable[\u001b[43mtm_designable\u001b[49m\u001b[38;5;241;43m.\u001b[39;49m\u001b[43mSequences\u001b[49m \u001b[38;5;241m==\u001b[39m \u001b[38;5;241m8\u001b[39m]\u001b[38;5;241m.\u001b[39mdesignable\u001b[38;5;241m.\u001b[39mtolist()\n\u001b[1;32m     37\u001b[0m \u001b[38;5;28;01mfor\u001b[39;00m i,xtick \u001b[38;5;129;01min\u001b[39;00m \u001b[38;5;28menumerate\u001b[39m(p\u001b[38;5;241m.\u001b[39mget_xticks()):\n\u001b[1;32m     38\u001b[0m     p\u001b[38;5;241m.\u001b[39mtext(\n\u001b[1;32m     39\u001b[0m         xtick,\n\u001b[1;32m     40\u001b[0m         \u001b[38;5;241m1.0\u001b[39m,\n\u001b[0;32m   (...)\u001b[0m\n\u001b[1;32m     45\u001b[0m         weight\u001b[38;5;241m=\u001b[39m\u001b[38;5;124m'\u001b[39m\u001b[38;5;124msemibold\u001b[39m\u001b[38;5;124m'\u001b[39m\n\u001b[1;32m     46\u001b[0m     )\n",
      "File \u001b[0;32m/data/rsg/chemistry/jyim/miniconda3/envs/dev/lib/python3.8/site-packages/pandas/core/generic.py:5583\u001b[0m, in \u001b[0;36mNDFrame.__getattr__\u001b[0;34m(self, name)\u001b[0m\n\u001b[1;32m   5576\u001b[0m \u001b[38;5;28;01mif\u001b[39;00m (\n\u001b[1;32m   5577\u001b[0m     name \u001b[38;5;129;01mnot\u001b[39;00m \u001b[38;5;129;01min\u001b[39;00m \u001b[38;5;28mself\u001b[39m\u001b[38;5;241m.\u001b[39m_internal_names_set\n\u001b[1;32m   5578\u001b[0m     \u001b[38;5;129;01mand\u001b[39;00m name \u001b[38;5;129;01mnot\u001b[39;00m \u001b[38;5;129;01min\u001b[39;00m \u001b[38;5;28mself\u001b[39m\u001b[38;5;241m.\u001b[39m_metadata\n\u001b[1;32m   5579\u001b[0m     \u001b[38;5;129;01mand\u001b[39;00m name \u001b[38;5;129;01mnot\u001b[39;00m \u001b[38;5;129;01min\u001b[39;00m \u001b[38;5;28mself\u001b[39m\u001b[38;5;241m.\u001b[39m_accessors\n\u001b[1;32m   5580\u001b[0m     \u001b[38;5;129;01mand\u001b[39;00m \u001b[38;5;28mself\u001b[39m\u001b[38;5;241m.\u001b[39m_info_axis\u001b[38;5;241m.\u001b[39m_can_hold_identifiers_and_holds_name(name)\n\u001b[1;32m   5581\u001b[0m ):\n\u001b[1;32m   5582\u001b[0m     \u001b[38;5;28;01mreturn\u001b[39;00m \u001b[38;5;28mself\u001b[39m[name]\n\u001b[0;32m-> 5583\u001b[0m \u001b[38;5;28;01mreturn\u001b[39;00m \u001b[38;5;28;43mobject\u001b[39;49m\u001b[38;5;241;43m.\u001b[39;49m\u001b[38;5;21;43m__getattribute__\u001b[39;49m\u001b[43m(\u001b[49m\u001b[38;5;28;43mself\u001b[39;49m\u001b[43m,\u001b[49m\u001b[43m \u001b[49m\u001b[43mname\u001b[49m\u001b[43m)\u001b[49m\n",
      "\u001b[0;31mAttributeError\u001b[0m: 'DataFrame' object has no attribute 'Sequences'"
     ]
    },
    {
     "data": {
      "image/png": "[encoded data removed]",
      "text/plain": [
       "<Figure size 640x480 with 1 Axes>"
      ]
     },
     "metadata": {},
     "output_type": "display_data"
    }
   ],
   "source": [
    "plot_sc_tm(samples_all_noise, save_path='sctm_noise.png')"
   ]
  },
  {
   "cell_type": "code",
   "execution_count": null,
   "metadata": {},
   "outputs": [],
   "source": [
    "rmsd_samples, _ = process_pipeline(samples_all_noise, metric='rmsd')\n",
    "\n",
    "p = sns.boxplot(\n",
    "    data=rmsd_samples,\n",
    "    # x='length_group',\n",
    "    x='Noise scale',\n",
    "    y='rmsd',\n",
    "    # hue='Noise scale',\n",
    "    showfliers = False\n",
    ")"
   ]
  },
  {
   "cell_type": "code",
   "execution_count": null,
   "metadata": {},
   "outputs": [],
   "source": []
  },
  {
   "cell_type": "code",
   "execution_count": null,
   "metadata": {},
   "outputs": [],
   "source": []
  },
  {
   "cell_type": "markdown",
   "metadata": {
    "tags": []
   },
   "source": [
    "# Save samples"
   ]
  },
  {
   "cell_type": "code",
   "execution_count": 30,
   "metadata": {},
   "outputs": [
    {
     "name": "stdout",
     "output_type": "stream",
     "text": [
      "On 00\n",
      "./maxcluster64bit -l /data/rsg/chemistry/jyim/paper/protdiff_icml/noise_scale_00_results/designed_samples/sc_pdbs.txt -C 2 -in -Rl /data/rsg/chemistry/jyim/paper/protdiff_icml/noise_scale_00_results/designed_samples_clustering/all_by_all_lite \\-TM -Tm 0.5 > /data/rsg/chemistry/jyim/paper/protdiff_icml/noise_scale_00_results/designed_samples_clustering/maxcluster_results.txt\n",
      "On 01\n",
      "./maxcluster64bit -l /data/rsg/chemistry/jyim/paper/protdiff_icml/noise_scale_01_results/designed_samples/sc_pdbs.txt -C 2 -in -Rl /data/rsg/chemistry/jyim/paper/protdiff_icml/noise_scale_01_results/designed_samples_clustering/all_by_all_lite \\-TM -Tm 0.5 > /data/rsg/chemistry/jyim/paper/protdiff_icml/noise_scale_01_results/designed_samples_clustering/maxcluster_results.txt\n",
      "On 05\n",
      "./maxcluster64bit -l /data/rsg/chemistry/jyim/paper/protdiff_icml/noise_scale_05_results/designed_samples/sc_pdbs.txt -C 2 -in -Rl /data/rsg/chemistry/jyim/paper/protdiff_icml/noise_scale_05_results/designed_samples_clustering/all_by_all_lite \\-TM -Tm 0.5 > /data/rsg/chemistry/jyim/paper/protdiff_icml/noise_scale_05_results/designed_samples_clustering/maxcluster_results.txt\n",
      "On 10\n",
      "./maxcluster64bit -l /data/rsg/chemistry/jyim/paper/protdiff_icml/noise_scale_10_results/designed_samples/sc_pdbs.txt -C 2 -in -Rl /data/rsg/chemistry/jyim/paper/protdiff_icml/noise_scale_10_results/designed_samples_clustering/all_by_all_lite \\-TM -Tm 0.5 > /data/rsg/chemistry/jyim/paper/protdiff_icml/noise_scale_10_results/designed_samples_clustering/maxcluster_results.txt\n"
     ]
    }
   ],
   "source": [
    "for noise_scale in ['00', '01', '05', '10']:\n",
    "    print(f'On {noise_scale}')\n",
    "    sample_dir = f'/data/rsg/chemistry/jyim/projects/protein_diffusion/samples/unconditional_512_0/27D_11M_2022Y_09h_58m_16s/unconditional/noise_level_{noise_scale}'\n",
    "    base_dir = f'/data/rsg/chemistry/jyim/paper/protdiff_icml/noise_scale_{noise_scale}_results'\n",
    "    designed_samples_dir = os.path.join(base_dir, 'designed_samples')\n",
    "    designed_samples_cluster_dir = os.path.join(base_dir, 'designed_samples_clustering')\n",
    "\n",
    "    if os.path.exists(designed_samples_dir):\n",
    "        shutil.rmtree(designed_samples_dir)\n",
    "    if os.path.exists(designed_samples_cluster_dir):\n",
    "        shutil.rmtree(designed_samples_cluster_dir)\n",
    "\n",
    "    os.makedirs(designed_samples_dir, exist_ok=False)\n",
    "    os.makedirs(designed_samples_cluster_dir, exist_ok=False)\n",
    "    fname = os.path.join(designed_samples_dir, 'sc_pdbs.txt')\n",
    "    \n",
    "    with open(fname, 'w') as f:\n",
    "        for sample_length in os.listdir(sample_dir):\n",
    "            if '.' in sample_length:\n",
    "                continue\n",
    "            length_dir = os.path.join(sample_dir, sample_length)\n",
    "            length = sample_length.split('_')[1]\n",
    "            for sample_name in os.listdir(length_dir):\n",
    "                if '.' in sample_name:\n",
    "                    continue\n",
    "                sample_path = os.path.join(length_dir, sample_name, 'sde_1.pdb')\n",
    "                sample_id = sample_name.split('_')[1]\n",
    "                save_path = os.path.join(designed_samples_dir, f'length_{length}_id_{sample_id}.pdb')\n",
    "                shutil.copy(sample_path, save_path)\n",
    "                f.write(save_path+'\\n')\n",
    "    print(\n",
    "        f'./maxcluster64bit -l {fname} -C 2 -in -Rl {designed_samples_cluster_dir}/all_by_all_lite \\-TM -Tm 0.5 > {designed_samples_cluster_dir}/maxcluster_results.txt'\n",
    "    )"
   ]
  },
  {
   "cell_type": "code",
   "execution_count": null,
   "metadata": {},
   "outputs": [],
   "source": []
  },
  {
   "cell_type": "code",
   "execution_count": null,
   "metadata": {},
   "outputs": [],
   "source": []
  },
  {
   "cell_type": "markdown",
   "metadata": {},
   "source": [
    "# Read cluster outputs"
   ]
  },
  {
   "cell_type": "code",
   "execution_count": 5,
   "metadata": {},
   "outputs": [],
   "source": [
    "import os\n",
    "import pandas as pd"
   ]
  },
  {
   "cell_type": "code",
   "execution_count": 13,
   "metadata": {},
   "outputs": [],
   "source": [
    "with open('/data/rsg/chemistry/jyim/paper/protdiff_icml/noise_level_01_steps_100_results/designed_samples_clustering/maxcluster_results.txt', 'r') as f:\n",
    "    capture = False\n",
    "    centroid_lines = []\n",
    "    for line in f.read().splitlines():\n",
    "        if capture:\n",
    "            centroid_lines.append(line)\n",
    "        if 'INFO  : Cluster  Centroid  Size        Spread' in line:\n",
    "            capture = True\n",
    "            \n",
    "centroid_lines = centroid_lines[:-1]\n",
    "\n",
    "data = {'Cluster size': [], 'path': [], 'length': [], 'sample_id': []} #, 'tm_v_pdb100': []}\n",
    "for line in centroid_lines:\n",
    "    line = line.split()\n",
    "    cluster_size = line[5]\n",
    "    path = line[7]\n",
    "    filename = os.path.basename(path).replace('.pdb', '')\n",
    "    data['Cluster size'].append(int(cluster_size))\n",
    "    data['path'].append(path)\n",
    "    data['length'].append(int(filename.split('_')[1]))\n",
    "    data['sample_id'].append(int(filename.split('_')[3]))\n",
    "\n",
    "clusters_df = pd.DataFrame(data)"
   ]
  },
  {
   "cell_type": "code",
   "execution_count": 14,
   "metadata": {},
   "outputs": [
    {
     "data": {
      "text/plain": [
       "(487, 4)"
      ]
     },
     "execution_count": 14,
     "metadata": {},
     "output_type": "execute_result"
    }
   ],
   "source": [
    "clusters_df.shape"
   ]
  },
  {
   "cell_type": "code",
   "execution_count": 16,
   "metadata": {},
   "outputs": [
    {
     "data": {
      "text/plain": [
       "0.547191011235955"
      ]
     },
     "execution_count": 16,
     "metadata": {},
     "output_type": "execute_result"
    }
   ],
   "source": [
    "487/890"
   ]
  },
  {
   "cell_type": "code",
   "execution_count": 11,
   "metadata": {},
   "outputs": [],
   "source": [
    "with open('/data/rsg/chemistry/jyim/paper/protdiff_icml/noise_level_01_seqs_100_results/designed_samples_clustering/maxcluster_results.txt', 'r') as f:\n",
    "    capture = False\n",
    "    centroid_lines = []\n",
    "    for line in f.read().splitlines():\n",
    "        if capture:\n",
    "            centroid_lines.append(line)\n",
    "        if 'INFO  : Cluster  Centroid  Size        Spread' in line:\n",
    "            capture = True\n",
    "            \n",
    "centroid_lines = centroid_lines[:-1]\n",
    "\n",
    "data = {'Cluster size': [], 'path': [], 'length': [], 'sample_id': []} #, 'tm_v_pdb100': []}\n",
    "for line in centroid_lines:\n",
    "    line = line.split()\n",
    "    cluster_size = line[5]\n",
    "    path = line[7]\n",
    "    filename = os.path.basename(path).replace('.pdb', '')\n",
    "    data['Cluster size'].append(int(cluster_size))\n",
    "    data['path'].append(path)\n",
    "    data['length'].append(int(filename.split('_')[1]))\n",
    "    data['sample_id'].append(int(filename.split('_')[3]))\n",
    "\n",
    "clusters_df = pd.DataFrame(data)"
   ]
  },
  {
   "cell_type": "code",
   "execution_count": 12,
   "metadata": {},
   "outputs": [
    {
     "data": {
      "text/plain": [
       "(484, 4)"
      ]
     },
     "execution_count": 12,
     "metadata": {},
     "output_type": "execute_result"
    }
   ],
   "source": [
    "clusters_df.shape"
   ]
  },
  {
   "cell_type": "code",
   "execution_count": null,
   "metadata": {},
   "outputs": [],
   "source": []
  }
 ],
 "metadata": {
  "kernelspec": {
   "display_name": "Python 3 (ipykernel)",
   "language": "python",
   "name": "python3"
  },
  "language_info": {
   "codemirror_mode": {
    "name": "ipython",
    "version": 3
   },
   "file_extension": ".py",
   "mimetype": "text/x-python",
   "name": "python",
   "nbconvert_exporter": "python",
   "pygments_lexer": "ipython3",
   "version": "3.8.12"
  }
 },
 "nbformat": 4,
 "nbformat_minor": 4
}
