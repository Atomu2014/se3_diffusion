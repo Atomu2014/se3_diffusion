{
 "cells": [
  {
   "cell_type": "code",
   "execution_count": 1,
   "metadata": {
    "tags": []
   },
   "outputs": [
    {
     "name": "stderr",
     "output_type": "stream",
     "text": [
      "INFO: Using numpy backend\n"
     ]
    }
   ],
   "source": [
    "import torch\n",
    "import os\n",
    "import numpy as np\n",
    "import shutil\n",
    "import matplotlib.pyplot as plt\n",
    "import plotnine as gg\n",
    "from collections import defaultdict\n",
    "from analysis import utils as au\n",
    "from analysis import plotting\n",
    "from data import utils as du\n",
    "import seaborn as sns\n",
    "import tree\n",
    "from data import rosetta_data_loader\n",
    "\n",
    "import sys\n",
    "import argparse\n",
    "import re\n",
    "import logging\n",
    "\n",
    "import pandas as pd\n",
    "pd.set_option('display.max_colwidth', None)\n",
    "\n",
    "from omegaconf import DictConfig, OmegaConf\n",
    "import importlib\n",
    "\n",
    "# Enable logging\n",
    "import logging\n",
    "import sys\n",
    "date_strftime_format = \"%Y-%m-%y %H:%M:%S\"\n",
    "logging.basicConfig(stream=sys.stdout, level=logging.INFO, format=\"%(asctime)s %(message)s\", datefmt=date_strftime_format)\n",
    "\n",
    "torch.hub.set_dir('/data/rsg/chemistry/jyim/.cache/torch')\n",
    "plt.rcParams.update({'font.size': 14})\n",
    "base_protdiff_dir = '/data/rsg/chemistry/jyim/projects/protein_diffusion/'"
   ]
  },
  {
   "cell_type": "code",
   "execution_count": 2,
   "metadata": {},
   "outputs": [],
   "source": [
    "def read_samples(path):\n",
    "    \n",
    "    def process_path(x):\n",
    "        length_path = os.path.join(*x.split('/')[-5:])\n",
    "        return os.path.join(path, length_path)\n",
    "    \n",
    "    all_csvs = []\n",
    "    # results_dir = '/data/rsg/chemistry/jyim/projects/protein_diffusion/samples/unconditional_512_0/27D_11M_2022Y_09h_58m_16s/unconditional/saved_run_2'\n",
    "    print(f'Reading samples from {path}')\n",
    "    for sample_length in os.listdir(path):\n",
    "        if '.' in sample_length:\n",
    "            continue\n",
    "        length_dir = os.path.join(path, sample_length)\n",
    "        for i,sample_name in enumerate(os.listdir(length_dir)):\n",
    "            if '.' in sample_name:\n",
    "                continue\n",
    "            csv_path = os.path.join(length_dir, sample_name, 'mpnn', 'sc_results.csv')\n",
    "            sample_id = int(sample_name.split('_')[1])\n",
    "            if os.path.exists(csv_path):\n",
    "                design_csv = pd.read_csv(csv_path, index_col=0)\n",
    "                length = int(sample_length.split('_')[1])\n",
    "                design_csv['length'] = length\n",
    "                design_csv['sequence_id'] = design_csv['sample_path'].apply(lambda x: int(os.path.basename(x).replace('.pdb', '').split('_')[1]))\n",
    "                design_csv['esmf_path'] = design_csv['sample_path'].apply(process_path)\n",
    "                del design_csv['sample_path']\n",
    "                design_csv['sample_id'] = sample_id\n",
    "                design_csv['backbone_path'] = os.path.join(path, f'length_{length}', f'sample_{sample_id}', 'sde_1.pdb')\n",
    "                all_csvs.append(design_csv)\n",
    "    return pd.concat(all_csvs)\n"
   ]
  },
  {
   "cell_type": "code",
   "execution_count": 9,
   "metadata": {},
   "outputs": [
    {
     "name": "stdout",
     "output_type": "stream",
     "text": [
      "Reading samples from /data/rsg/chemistry/jyim/projects/protein_diffusion/samples/unconditional_512_0/27D_11M_2022Y_09h_58m_16s/unconditional/noise_level_01_seqs_100\n"
     ]
    }
   ],
   "source": [
    "samples_noise_01 = read_samples('/data/rsg/chemistry/jyim/projects/protein_diffusion/samples/unconditional_512_0/27D_11M_2022Y_09h_58m_16s/unconditional/noise_level_01_seqs_100')\n"
   ]
  },
  {
   "cell_type": "code",
   "execution_count": null,
   "metadata": {},
   "outputs": [],
   "source": []
  },
  {
   "cell_type": "markdown",
   "metadata": {
    "tags": []
   },
   "source": [
    "# Process results"
   ]
  },
  {
   "cell_type": "code",
   "execution_count": 14,
   "metadata": {},
   "outputs": [],
   "source": [
    "def pick_path(x):\n",
    "    if x.sample_path is None or x.sample_path == '':\n",
    "        return x.of_path\n",
    "    return x.sample_path\n",
    "\n",
    "length_categories = [\n",
    "    '100-200', '200-300', '300-400', '400-500'\n",
    "]\n",
    "buckets = np.arange(200, 501, 100)\n",
    "buckets[-1] += 1\n",
    "\n",
    "def df_process(raw_df, length_cutoff=True):\n",
    "    # Process sample path\n",
    "    df = raw_df.copy()\n",
    "    if length_cutoff:\n",
    "        df = df[df.length >= 100]\n",
    "    \n",
    "    # Separate based on whether MPNNed\n",
    "    df['header'] = df['header'].fillna('')\n",
    "    df = df[df['header'].map(lambda x: 'sde_1' not in x)]\n",
    "    return df\n",
    "\n",
    "def sc_filter(raw_df, metric):\n",
    "    # Pick best self-consistency sample\n",
    "    if metric == 'rmsd':\n",
    "        df = raw_df.sort_values('rmsd', ascending=True)\n",
    "    elif metric == 'tm':\n",
    "        df = raw_df.sort_values('tm_score', ascending=False)\n",
    "    else:\n",
    "        raise ValueError(f'Unrecognized metric: {metric}')\n",
    "    df = df.groupby(['length', 'sample_id']).first().reset_index()\n",
    "\n",
    "    # Separate into different length groups\n",
    "    df['length_group'] = df.length.map(lambda x: length_categories[np.sum(x > buckets).item()])\n",
    "    df['length_group'] = pd.Categorical(df['length_group'], ordered=True, categories=length_categories)\n",
    "\n",
    "    # Calculate how designable\n",
    "    cutoff = 0.5\n",
    "    df['designable'] = df.tm_score.map(lambda x: x > cutoff)\n",
    "    designable_df = pd.pivot_table(df, values='designable', index='length_group', aggfunc=np.mean).reset_index()\n",
    "    percent_designable = df['designable'].mean()\n",
    "    print(f'Percent designable: {percent_designable}')\n",
    "    print(f'Average scRMSD: {df.rmsd.mean()}')\n",
    "    return df, designable_df\n",
    "\n",
    "\n",
    "def process_pipeline(raw_df, metric, length_cutoff=True):\n",
    "    processed_df = df_process(raw_df, length_cutoff=length_cutoff)\n",
    "    seq_8_df = processed_df[(processed_df.sequence_id < 8)]\n",
    "    \n",
    "    df, designable = sc_filter(processed_df, metric=metric)\n",
    "    designable['Sequences'] = 100\n",
    "    df['Sequences'] = 100\n",
    "    df_8, designable_8 = sc_filter(seq_8_df, metric=metric)\n",
    "    df_8['Sequences'] = 8\n",
    "    designable_8['Sequences'] = 8\n",
    "    samples_df = pd.concat([df, df_8], axis=0)\n",
    "    designable_df = pd.concat([designable, designable_8], axis=0)\n",
    "    return samples_df, designable_df\n"
   ]
  },
  {
   "cell_type": "code",
   "execution_count": 15,
   "metadata": {},
   "outputs": [],
   "source": [
    "plt.rcParams.update({'font.size': 14})\n",
    "\n",
    "def plot_sc_rmsd(df, save_path=None):\n",
    "    rmsd_samples, _ = process_pipeline(df, metric='rmsd')\n",
    "    \n",
    "    p = sns.boxplot(\n",
    "        data=rmsd_samples,\n",
    "        x='length_group',\n",
    "        y='rmsd',\n",
    "        hue='Sequences',\n",
    "        showfliers = False\n",
    "    )\n",
    "\n",
    "    plt.xlabel('Length group')\n",
    "    plt.ylabel('scRMSD')\n",
    "    legend = plt.legend(bbox_to_anchor=(1.03, 1), loc='upper left', borderaxespad=0)\n",
    "    p.legend_.set_title('ProteinMPNN \\nsequences')\n",
    "    plt.ylim(0.0, 25)\n",
    "    if save_path is None:\n",
    "        plt.show()\n",
    "    else:\n",
    "        # fig_path = os.path.join(figure_dir, 'unconditional_scrmsd_plt.png')\n",
    "        plt.savefig(save_path, dpi=300, bbox_inches='tight')\n",
    "        \n",
    "def plot_sc_tm(df, save_path=None):\n",
    "    tm_samples, tm_designable = process_pipeline(df, metric='tm')\n",
    "\n",
    "    p = sns.boxplot(\n",
    "        data=tm_samples,\n",
    "        x='length_group',\n",
    "        y='tm_score',\n",
    "        hue='Sequences',\n",
    "        showfliers = False\n",
    "    )\n",
    "\n",
    "    designable_numbers = tm_designable[tm_designable.Sequences == 8].designable.tolist()\n",
    "    for i,xtick in enumerate(p.get_xticks()):\n",
    "        p.text(\n",
    "            xtick,\n",
    "            1.0,\n",
    "            f\"{designable_numbers[i]*100:2.1f}%\\n\",\n",
    "            horizontalalignment='center',\n",
    "            size='small',\n",
    "            color='blue',\n",
    "            weight='semibold'\n",
    "        )\n",
    "\n",
    "    designable_numbers = tm_designable[tm_designable.Sequences == 100].designable.tolist()\n",
    "    for i,xtick in enumerate(p.get_xticks()):\n",
    "        p.text(\n",
    "            xtick,\n",
    "            0.95,\n",
    "            f\"{designable_numbers[i]*100:2.1f}%\\n\",\n",
    "            horizontalalignment='center',\n",
    "            size='small',\n",
    "            color='orange',\n",
    "            weight='semibold'\n",
    "        )\n",
    "\n",
    "    plt.axhline(y = 0.5, color = 'r', linestyle = '--', linewidth=2, alpha=0.5)\n",
    "    plt.ylim(0.0, 1.1)\n",
    "    plt.xlabel('Length group')\n",
    "    plt.ylabel('scTM')\n",
    "\n",
    "    legend = plt.legend(bbox_to_anchor=(1.03, 1), loc='upper left', borderaxespad=0)\n",
    "    p.legend_.set_title('ProteinMPNN \\nsequences')\n",
    "\n",
    "    if save_path is None:\n",
    "        plt.show()\n",
    "    else:\n",
    "        # fig_path = os.path.join(figure_dir, 'unconditional_scrmsd_plt.png')\n",
    "        plt.savefig(save_path, dpi=300, bbox_inches='tight')\n"
   ]
  },
  {
   "cell_type": "code",
   "execution_count": null,
   "metadata": {},
   "outputs": [],
   "source": []
  },
  {
   "cell_type": "markdown",
   "metadata": {
    "tags": []
   },
   "source": [
    "# Plot designable results"
   ]
  },
  {
   "cell_type": "code",
   "execution_count": 16,
   "metadata": {},
   "outputs": [
    {
     "name": "stdout",
     "output_type": "stream",
     "text": [
      "Percent designable: 0.8777777777777778\n",
      "Average scRMSD: 5.605950988103823\n",
      "Percent designable: 0.7358024691358025\n",
      "Average scRMSD: 7.555791918342231\n",
      "Percent designable: 0.8358024691358025\n",
      "Average scRMSD: 5.121687426797226\n",
      "Percent designable: 0.7111111111111111\n",
      "Average scRMSD: 7.100770718482301\n"
     ]
    }
   ],
   "source": [
    "_ = process_pipeline(samples_noise_01, metric='tm')\n",
    "_ = process_pipeline(samples_noise_01, metric='rmsd')"
   ]
  },
  {
   "cell_type": "code",
   "execution_count": 18,
   "metadata": {},
   "outputs": [
    {
     "name": "stdout",
     "output_type": "stream",
     "text": [
      "Percent designable: 0.8358024691358025\n",
      "Average scRMSD: 5.121687426797226\n",
      "Percent designable: 0.7111111111111111\n",
      "Average scRMSD: 7.100770718482301\n"
     ]
    },
    {
     "data": {
      "image/png": "[encoded data removed]",
      "text/plain": [
       "<Figure size 640x480 with 1 Axes>"
      ]
     },
     "metadata": {},
     "output_type": "display_data"
    }
   ],
   "source": [
    "plot_sc_rmsd(samples_noise_01, save_path='scrmsd_noise.png')"
   ]
  },
  {
   "cell_type": "code",
   "execution_count": 148,
   "metadata": {},
   "outputs": [
    {
     "name": "stdout",
     "output_type": "stream",
     "text": [
      "Percent designable: 0.9061728395061729\n",
      "Average scRMSD: 4.128329713826856\n"
     ]
    },
    {
     "data": {
      "image/png": "[encoded data removed]",
      "text/plain": [
       "<Figure size 640x480 with 1 Axes>"
      ]
     },
     "metadata": {},
     "output_type": "display_data"
    }
   ],
   "source": [
    "plot_sc_rmsd(samples_all_noise, save_path='scrmsd_noise.png')"
   ]
  },
  {
   "cell_type": "code",
   "execution_count": 106,
   "metadata": {},
   "outputs": [
    {
     "name": "stdout",
     "output_type": "stream",
     "text": [
      "Percent designable: 0.9061728395061729\n",
      "Average scRMSD: 4.128329713826856\n"
     ]
    },
    {
     "data": {
      "image/png": "[encoded data removed]",
      "text/plain": [
       "<Figure size 640x480 with 1 Axes>"
      ]
     },
     "metadata": {},
     "output_type": "display_data"
    }
   ],
   "source": [
    "rmsd_samples, _ = process_pipeline(samples_all_noise, metric='rmsd')\n",
    "\n",
    "p = sns.boxplot(\n",
    "    data=rmsd_samples,\n",
    "    # x='length_group',\n",
    "    x='Noise scale',\n",
    "    y='rmsd',\n",
    "    # hue='Noise scale',\n",
    "    showfliers = False\n",
    ")"
   ]
  },
  {
   "cell_type": "code",
   "execution_count": null,
   "metadata": {},
   "outputs": [],
   "source": []
  },
  {
   "cell_type": "code",
   "execution_count": null,
   "metadata": {},
   "outputs": [],
   "source": []
  },
  {
   "cell_type": "markdown",
   "metadata": {
    "tags": []
   },
   "source": [
    "# Save samples"
   ]
  },
  {
   "cell_type": "code",
   "execution_count": 11,
   "metadata": {},
   "outputs": [
    {
     "name": "stdout",
     "output_type": "stream",
     "text": [
      "On 00\n",
      "./maxcluster64bit -l /data/rsg/chemistry/jyim/paper/protdiff_icml/noise_scale_00_results/designed_samples/sc_pdbs.txt -C 2 -in -Rl /data/rsg/chemistry/jyim/paper/protdiff_icml/noise_scale_00_results/designed_samples_clustering/all_by_all_lite \\-TM -Tm 0.6 > /data/rsg/chemistry/jyim/paper/protdiff_icml/noise_scale_00_results/designed_samples_clustering/maxcluster_results.txt\n",
      "On 01\n",
      "./maxcluster64bit -l /data/rsg/chemistry/jyim/paper/protdiff_icml/noise_scale_01_results/designed_samples/sc_pdbs.txt -C 2 -in -Rl /data/rsg/chemistry/jyim/paper/protdiff_icml/noise_scale_01_results/designed_samples_clustering/all_by_all_lite \\-TM -Tm 0.6 > /data/rsg/chemistry/jyim/paper/protdiff_icml/noise_scale_01_results/designed_samples_clustering/maxcluster_results.txt\n",
      "On 05\n",
      "./maxcluster64bit -l /data/rsg/chemistry/jyim/paper/protdiff_icml/noise_scale_05_results/designed_samples/sc_pdbs.txt -C 2 -in -Rl /data/rsg/chemistry/jyim/paper/protdiff_icml/noise_scale_05_results/designed_samples_clustering/all_by_all_lite \\-TM -Tm 0.6 > /data/rsg/chemistry/jyim/paper/protdiff_icml/noise_scale_05_results/designed_samples_clustering/maxcluster_results.txt\n",
      "On 10\n",
      "./maxcluster64bit -l /data/rsg/chemistry/jyim/paper/protdiff_icml/noise_scale_10_results/designed_samples/sc_pdbs.txt -C 2 -in -Rl /data/rsg/chemistry/jyim/paper/protdiff_icml/noise_scale_10_results/designed_samples_clustering/all_by_all_lite \\-TM -Tm 0.6 > /data/rsg/chemistry/jyim/paper/protdiff_icml/noise_scale_10_results/designed_samples_clustering/maxcluster_results.txt\n"
     ]
    }
   ],
   "source": [
    "for noise_scale in ['00', '01', '05', '10']:\n",
    "    print(f'On {noise_scale}')\n",
    "    sample_dir = f'/data/rsg/chemistry/jyim/projects/protein_diffusion/samples/unconditional_512_0/27D_11M_2022Y_09h_58m_16s/unconditional/noise_level_{noise_scale}'\n",
    "    base_dir = f'/data/rsg/chemistry/jyim/paper/protdiff_icml/noise_scale_{noise_scale}_results'\n",
    "    designed_samples_dir = os.path.join(base_dir, 'designed_samples')\n",
    "    designed_samples_cluster_dir = os.path.join(base_dir, 'designed_samples_clustering')\n",
    "\n",
    "    shutil.rmtree(designed_samples_dir)\n",
    "    shutil.rmtree(designed_samples_cluster_dir)\n",
    "\n",
    "    os.makedirs(designed_samples_dir, exist_ok=False)\n",
    "    os.makedirs(designed_samples_cluster_dir, exist_ok=False)\n",
    "    fname = os.path.join(designed_samples_dir, 'sc_pdbs.txt')\n",
    "    \n",
    "    with open(fname, 'w') as f:\n",
    "        for sample_length in os.listdir(sample_dir):\n",
    "            if '.' in sample_length:\n",
    "                continue\n",
    "            length_dir = os.path.join(sample_dir, sample_length)\n",
    "            length = sample_length.split('_')[1]\n",
    "            for sample_name in os.listdir(length_dir):\n",
    "                if '.' in sample_name:\n",
    "                    continue\n",
    "                sample_path = os.path.join(length_dir, sample_name, 'sde_1.pdb')\n",
    "                sample_id = sample_name.split('_')[1]\n",
    "                save_path = os.path.join(designed_samples_dir, f'length_{length}_id_{sample_id}.pdb')\n",
    "                shutil.copy(sample_path, save_path)\n",
    "                f.write(save_path+'\\n')\n",
    "    print(\n",
    "        f'./maxcluster64bit -l {fname} -C 2 -in -Rl {designed_samples_cluster_dir}/all_by_all_lite \\-TM -Tm 0.6 > {designed_samples_cluster_dir}/maxcluster_results.txt'\n",
    "    )"
   ]
  },
  {
   "cell_type": "code",
   "execution_count": null,
   "metadata": {},
   "outputs": [],
   "source": []
  },
  {
   "cell_type": "code",
   "execution_count": null,
   "metadata": {},
   "outputs": [],
   "source": []
  },
  {
   "cell_type": "markdown",
   "metadata": {},
   "source": [
    "# Read cluster outputs"
   ]
  },
  {
   "cell_type": "code",
   "execution_count": 5,
   "metadata": {},
   "outputs": [],
   "source": [
    "import os\n",
    "import pandas as pd"
   ]
  },
  {
   "cell_type": "code",
   "execution_count": 13,
   "metadata": {},
   "outputs": [],
   "source": [
    "with open('/data/rsg/chemistry/jyim/paper/protdiff_icml/noise_level_01_steps_100_results/designed_samples_clustering/maxcluster_results.txt', 'r') as f:\n",
    "    capture = False\n",
    "    centroid_lines = []\n",
    "    for line in f.read().splitlines():\n",
    "        if capture:\n",
    "            centroid_lines.append(line)\n",
    "        if 'INFO  : Cluster  Centroid  Size        Spread' in line:\n",
    "            capture = True\n",
    "            \n",
    "centroid_lines = centroid_lines[:-1]\n",
    "\n",
    "data = {'Cluster size': [], 'path': [], 'length': [], 'sample_id': []} #, 'tm_v_pdb100': []}\n",
    "for line in centroid_lines:\n",
    "    line = line.split()\n",
    "    cluster_size = line[5]\n",
    "    path = line[7]\n",
    "    filename = os.path.basename(path).replace('.pdb', '')\n",
    "    data['Cluster size'].append(int(cluster_size))\n",
    "    data['path'].append(path)\n",
    "    data['length'].append(int(filename.split('_')[1]))\n",
    "    data['sample_id'].append(int(filename.split('_')[3]))\n",
    "\n",
    "clusters_df = pd.DataFrame(data)"
   ]
  },
  {
   "cell_type": "code",
   "execution_count": 14,
   "metadata": {},
   "outputs": [
    {
     "data": {
      "text/plain": [
       "(487, 4)"
      ]
     },
     "execution_count": 14,
     "metadata": {},
     "output_type": "execute_result"
    }
   ],
   "source": [
    "clusters_df.shape"
   ]
  },
  {
   "cell_type": "code",
   "execution_count": 16,
   "metadata": {},
   "outputs": [
    {
     "data": {
      "text/plain": [
       "0.547191011235955"
      ]
     },
     "execution_count": 16,
     "metadata": {},
     "output_type": "execute_result"
    }
   ],
   "source": [
    "487/890"
   ]
  },
  {
   "cell_type": "code",
   "execution_count": 11,
   "metadata": {},
   "outputs": [],
   "source": [
    "with open('/data/rsg/chemistry/jyim/paper/protdiff_icml/noise_level_01_seqs_100_results/designed_samples_clustering/maxcluster_results.txt', 'r') as f:\n",
    "    capture = False\n",
    "    centroid_lines = []\n",
    "    for line in f.read().splitlines():\n",
    "        if capture:\n",
    "            centroid_lines.append(line)\n",
    "        if 'INFO  : Cluster  Centroid  Size        Spread' in line:\n",
    "            capture = True\n",
    "            \n",
    "centroid_lines = centroid_lines[:-1]\n",
    "\n",
    "data = {'Cluster size': [], 'path': [], 'length': [], 'sample_id': []} #, 'tm_v_pdb100': []}\n",
    "for line in centroid_lines:\n",
    "    line = line.split()\n",
    "    cluster_size = line[5]\n",
    "    path = line[7]\n",
    "    filename = os.path.basename(path).replace('.pdb', '')\n",
    "    data['Cluster size'].append(int(cluster_size))\n",
    "    data['path'].append(path)\n",
    "    data['length'].append(int(filename.split('_')[1]))\n",
    "    data['sample_id'].append(int(filename.split('_')[3]))\n",
    "\n",
    "clusters_df = pd.DataFrame(data)"
   ]
  },
  {
   "cell_type": "code",
   "execution_count": 12,
   "metadata": {},
   "outputs": [
    {
     "data": {
      "text/plain": [
       "(484, 4)"
      ]
     },
     "execution_count": 12,
     "metadata": {},
     "output_type": "execute_result"
    }
   ],
   "source": [
    "clusters_df.shape"
   ]
  },
  {
   "cell_type": "code",
   "execution_count": null,
   "metadata": {},
   "outputs": [],
   "source": []
  }
 ],
 "metadata": {
  "kernelspec": {
   "display_name": "Python 3 (ipykernel)",
   "language": "python",
   "name": "python3"
  },
  "language_info": {
   "codemirror_mode": {
    "name": "ipython",
    "version": 3
   },
   "file_extension": ".py",
   "mimetype": "text/x-python",
   "name": "python",
   "nbconvert_exporter": "python",
   "pygments_lexer": "ipython3",
   "version": "3.8.12"
  }
 },
 "nbformat": 4,
 "nbformat_minor": 4
}
