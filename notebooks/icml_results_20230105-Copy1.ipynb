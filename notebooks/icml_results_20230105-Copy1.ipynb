{
 "cells": [
  {
   "cell_type": "code",
   "execution_count": 1,
   "metadata": {
    "tags": []
   },
   "outputs": [
    {
     "name": "stderr",
     "output_type": "stream",
     "text": [
      "INFO: Using numpy backend\n"
     ]
    }
   ],
   "source": [
    "import torch\n",
    "import os\n",
    "import numpy as np\n",
    "import shutil\n",
    "import matplotlib.pyplot as plt\n",
    "import plotnine as gg\n",
    "from collections import defaultdict\n",
    "from analysis import utils as au\n",
    "from analysis import plotting\n",
    "from data import utils as du\n",
    "import seaborn as sns\n",
    "import tree\n",
    "from data import rosetta_data_loader\n",
    "\n",
    "import sys\n",
    "import argparse\n",
    "import re\n",
    "import logging\n",
    "\n",
    "import pandas as pd\n",
    "pd.set_option('display.max_colwidth', None)\n",
    "\n",
    "from omegaconf import DictConfig, OmegaConf\n",
    "import importlib\n",
    "\n",
    "# Enable logging\n",
    "import logging\n",
    "import sys\n",
    "date_strftime_format = \"%Y-%m-%y %H:%M:%S\"\n",
    "logging.basicConfig(stream=sys.stdout, level=logging.INFO, format=\"%(asctime)s %(message)s\", datefmt=date_strftime_format)\n",
    "\n",
    "torch.hub.set_dir('/data/rsg/chemistry/jyim/.cache/torch')\n",
    "plt.rcParams.update({'font.size': 14})"
   ]
  },
  {
   "cell_type": "markdown",
   "metadata": {
    "tags": []
   },
   "source": [
    "# Compare with RFdiffusion"
   ]
  },
  {
   "cell_type": "code",
   "execution_count": 80,
   "metadata": {},
   "outputs": [
    {
     "name": "stdout",
     "output_type": "stream",
     "text": [
      "Reading samples from /data/rsg/chemistry/jyim/projects/protein_diffusion/samples/unconditional_512_0/27D_11M_2022Y_09h_58m_16s/unconditional/saved_rfdiff_benchmark\n"
     ]
    }
   ],
   "source": [
    "all_csvs = []\n",
    "results_dir = '/data/rsg/chemistry/jyim/projects/protein_diffusion/samples/unconditional_512_0/27D_11M_2022Y_09h_58m_16s/unconditional/saved_rfdiff_benchmark'\n",
    "print(f'Reading samples from {results_dir}')\n",
    "for sample_length in os.listdir(results_dir):\n",
    "    if '.' in sample_length:\n",
    "        continue\n",
    "    length_dir = os.path.join(results_dir, sample_length)\n",
    "    for i,sample_name in enumerate(os.listdir(length_dir)):\n",
    "        if '.' in sample_name:\n",
    "            continue\n",
    "        csv_path = os.path.join(length_dir, sample_name, 'mpnn', 'sc_results.csv')\n",
    "        if os.path.exists(csv_path):\n",
    "            design_csv = pd.read_csv(csv_path, index_col=0)\n",
    "            design_csv['length'] = int(sample_length.split('_')[1])\n",
    "            design_csv['sample_id'] = i\n",
    "            all_csvs.append(design_csv)\n",
    "benchmark_df = pd.concat(all_csvs)\n"
   ]
  },
  {
   "cell_type": "code",
   "execution_count": 90,
   "metadata": {},
   "outputs": [
    {
     "name": "stderr",
     "output_type": "stream",
     "text": [
      "/tmp/ipykernel_1855323/3899596801.py:2: DtypeWarning: Columns (98,118,119,121,122,127,133,134,135,139,140) have mixed types. Specify dtype option on import or set low_memory=False.\n"
     ]
    }
   ],
   "source": [
    "# Format RF diffusion samples\n",
    "s2f_df = pd.read_csv('S2F_data.csv')\n",
    "s2f_df['Unconditional'] = s2f_df.problem.apply(lambda x: 'uncond' in x)\n",
    "rfdiff_samples_df = s2f_df[s2f_df['Unconditional']]\n",
    "metric = 'rmsd_af2_des'\n",
    "df_temp = rfdiff_samples_df.sort_values(metric)\n",
    "df_temp = df_temp.drop_duplicates('name')\n",
    "\n",
    "cols = [\n",
    "    'rmsd_af2_des',\n",
    "    'problem',\n",
    "    'random',\n",
    "]\n",
    "formatted_rf_diff = {\n",
    "    'length': rfdiff_samples_df.problem.apply(lambda x: int(x.split('_')[1])),\n",
    "    'rmsd': rfdiff_samples_df.rmsd_af2_des,\n",
    "    'model': rfdiff_samples_df.random.map({\n",
    "        'Outputs without Pre-Training': 'RFDiffusion \\nw/o pretraining',\n",
    "        'Outputs with Pre-Training': 'RFDiffusion',\n",
    "    }),\n",
    "}\n",
    "formatted_rf_diff = pd.DataFrame(formatted_rf_diff)\n"
   ]
  },
  {
   "cell_type": "code",
   "execution_count": 91,
   "metadata": {},
   "outputs": [
    {
     "name": "stdout",
     "output_type": "stream",
     "text": [
      "Percent designable: 0.6802083333333333\n",
      "Percent designable: 0.6703125\n"
     ]
    }
   ],
   "source": [
    "# Format FrameDiff samples\n",
    "# rmsd_samples, _ = process_pipeline(refolded_df, metric='rmsd')\n",
    "rmsd_samples, _ = process_pipeline(benchmark_df, metric='rmsd')\n",
    "rmsd_seq_8_samples = rmsd_samples[rmsd_samples.Sequences == 8]\n",
    "formatted_framediff = rmsd_seq_8_samples[['length', 'rmsd']]\n",
    "formatted_framediff = formatted_framediff[formatted_framediff.length.isin([70, 100, 200, 300])]\n",
    "formatted_framediff['model'] = 'FrameDiff'"
   ]
  },
  {
   "cell_type": "code",
   "execution_count": 92,
   "metadata": {},
   "outputs": [],
   "source": [
    "formatted_df = pd.concat([formatted_rf_diff, formatted_framediff], axis=0)"
   ]
  },
  {
   "cell_type": "code",
   "execution_count": 95,
   "metadata": {},
   "outputs": [],
   "source": [
    "order = ['RFDiffusion \\nw/o pretraining', 'FrameDiff', 'RFDiffusion']\n",
    "ax = sns.boxplot(\n",
    "    x = 'length',\n",
    "    y = 'rmsd',\n",
    "    data = formatted_df,\n",
    "    hue = 'model',\n",
    "    hue_order=order,\n",
    "    showfliers = False\n",
    ")\n",
    "\n",
    "# plt.ylim(0.0, 1.1)\n",
    "# plt.show()\n",
    "plt.xlabel('Length')\n",
    "plt.ylabel('scRMSD')\n",
    "legend = plt.legend(bbox_to_anchor=(1.03, 1), loc='upper left', borderaxespad=0)\n",
    "ax.legend_.set_title('Method')\n",
    "# plt.show()\n",
    "plt.savefig('rfdiffusion_benchmark.png', bbox_inches='tight')"
   ]
  },
  {
   "cell_type": "code",
   "execution_count": 17,
   "metadata": {},
   "outputs": [
    {
     "data": {
      "image/png": "[encoded data removed]",
      "text/plain": [
       "<Figure size 640x480 with 1 Axes>"
      ]
     },
     "metadata": {},
     "output_type": "display_data"
    }
   ],
   "source": [
    "zoomed_df = formatted_df[formatted_df.model.isin(['FrameDiff', 'RFDiffusion'])]\n",
    "order = ['FrameDiff', 'RFDiffusion']\n",
    "ax = sns.boxplot(\n",
    "    x = 'length',\n",
    "    y = 'rmsd',\n",
    "    data = zoomed_df,\n",
    "    hue = 'model',\n",
    "    hue_order=order,\n",
    "    showfliers = False,\n",
    "    palette = ['#ff7f0e', '#2ca02c']\n",
    ")\n",
    "ax.set(xlabel=None)\n",
    "ax.set(ylabel=None)\n",
    "plt.ylim(0.0, 10)\n",
    "legend = plt.legend(bbox_to_anchor=(1.03, 1), loc='upper left', borderaxespad=0)\n",
    "legend.remove()\n",
    "plt.savefig('rfdiffusion_benchmark.png')\n"
   ]
  },
  {
   "cell_type": "code",
   "execution_count": null,
   "metadata": {},
   "outputs": [],
   "source": []
  },
  {
   "cell_type": "code",
   "execution_count": null,
   "metadata": {},
   "outputs": [],
   "source": []
  }
 ],
 "metadata": {
  "kernelspec": {
   "display_name": "Python 3 (ipykernel)",
   "language": "python",
   "name": "python3"
  },
  "language_info": {
   "codemirror_mode": {
    "name": "ipython",
    "version": 3
   },
   "file_extension": ".py",
   "mimetype": "text/x-python",
   "name": "python",
   "nbconvert_exporter": "python",
   "pygments_lexer": "ipython3",
   "version": "3.8.12"
  }
 },
 "nbformat": 4,
 "nbformat_minor": 4
}
